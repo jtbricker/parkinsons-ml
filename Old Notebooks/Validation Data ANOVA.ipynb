{
 "cells": [
  {
   "cell_type": "code",
   "execution_count": 22,
   "metadata": {},
   "outputs": [],
   "source": [
    "import ml_utils as mu\n",
    "import scipy.stats as stats"
   ]
  },
  {
   "cell_type": "code",
   "execution_count": 44,
   "metadata": {},
   "outputs": [],
   "source": [
    "data = mu.get_training_data()\n",
    "vdata = mu.get_validation_data(data.columns, use_mean_adjusted_data=False)"
   ]
  },
  {
   "cell_type": "code",
   "execution_count": 52,
   "metadata": {},
   "outputs": [
    {
     "name": "stdout",
     "output_type": "stream",
     "text": [
      "ANOVA Test p-value for feature (GP_FA) below 0.05 threshold:  0.000008\n",
      "ANOVA Test p-value for feature (LobuleVI_FA) below 0.05 threshold:  0.000003\n",
      "ANOVA Test p-value for feature (LobuleV_FA) below 0.05 threshold:  0.000232\n",
      "ANOVA Test p-value for feature (MCP_FA) below 0.05 threshold:  0.003686\n",
      "ANOVA Test p-value for feature (pSN_FA) below 0.05 threshold:  0.003648\n",
      "ANOVA Test p-value for feature (Putamen_FA) below 0.05 threshold:  0.000022\n",
      "ANOVA Test p-value for feature (SCP_FA) below 0.05 threshold:  0.036893\n",
      "ANOVA Test p-value for feature (STN_FA) below 0.05 threshold:  0.000085\n",
      "ANOVA Test p-value for feature (Thalamus_FA) below 0.05 threshold:  0.001906\n",
      "ANOVA Test p-value for feature (RN_FA) below 0.05 threshold:  0.000034\n",
      "ANOVA Test p-value for feature (PPN_FA) below 0.05 threshold:  0.007968\n",
      "ANOVA Test p-value for feature (Dentate_FA) below 0.05 threshold:  0.000406\n",
      "ANOVA Test p-value for feature (Caudate_FW) below 0.05 threshold:  0.004817\n",
      "ANOVA Test p-value for feature (LobuleVI_FW) below 0.05 threshold:  0.000210\n",
      "ANOVA Test p-value for feature (LobuleV_FW) below 0.05 threshold:  0.002355\n",
      "ANOVA Test p-value for feature (MCP_FW) below 0.05 threshold:  0.011771\n",
      "16 ANOVA tests failed for control\n"
     ]
    }
   ],
   "source": [
    "control = data.loc[data['GroupID'] == 0]\n",
    "vcontrol = vdata.loc[vdata['GroupID'] == 0]\n",
    "columns = data.columns\n",
    "\n",
    "count = 0\n",
    "for i in range(len(columns)-1):\n",
    "    p_val =stats.f_oneway(control.iloc[:,i], vcontrol.iloc[:,i]).pvalue\n",
    "    if p_val < 0.05:\n",
    "        print(\"ANOVA Test p-value for feature (%s) below 0.05 threshold:  %f\" %(columns[i], p_val))\n",
    "        count +=1\n",
    "        \n",
    "print(\"%d ANOVA tests failed for control\" %count)"
   ]
  },
  {
   "cell_type": "code",
   "execution_count": 51,
   "metadata": {},
   "outputs": [
    {
     "name": "stdout",
     "output_type": "stream",
     "text": [
      "ANOVA Test p-value for feature (aSN_FA) below 0.05 threshold:  0.000000\n",
      "ANOVA Test p-value for feature (GP_FA) below 0.05 threshold:  0.000000\n",
      "ANOVA Test p-value for feature (LobuleVI_FA) below 0.05 threshold:  0.000000\n",
      "ANOVA Test p-value for feature (LobuleV_FA) below 0.05 threshold:  0.000000\n",
      "ANOVA Test p-value for feature (MCP_FA) below 0.05 threshold:  0.000000\n",
      "ANOVA Test p-value for feature (pSN_FA) below 0.05 threshold:  0.000000\n",
      "ANOVA Test p-value for feature (Putamen_FA) below 0.05 threshold:  0.000000\n",
      "ANOVA Test p-value for feature (SCP_FA) below 0.05 threshold:  0.001927\n",
      "ANOVA Test p-value for feature (STN_FA) below 0.05 threshold:  0.000000\n",
      "ANOVA Test p-value for feature (Thalamus_FA) below 0.05 threshold:  0.000002\n",
      "ANOVA Test p-value for feature (Vermis_FA) below 0.05 threshold:  0.000000\n",
      "ANOVA Test p-value for feature (RN_FA) below 0.05 threshold:  0.000000\n",
      "ANOVA Test p-value for feature (PPN_FA) below 0.05 threshold:  0.000000\n",
      "ANOVA Test p-value for feature (Dentate_FA) below 0.05 threshold:  0.000000\n",
      "ANOVA Test p-value for feature (Caudate_FW) below 0.05 threshold:  0.000000\n",
      "ANOVA Test p-value for feature (GP_FW) below 0.05 threshold:  0.000083\n",
      "ANOVA Test p-value for feature (LobuleVI_FW) below 0.05 threshold:  0.000000\n",
      "ANOVA Test p-value for feature (LobuleV_FW) below 0.05 threshold:  0.000000\n",
      "ANOVA Test p-value for feature (MCP_FW) below 0.05 threshold:  0.000000\n",
      "ANOVA Test p-value for feature (pSN_FW) below 0.05 threshold:  0.000106\n",
      "ANOVA Test p-value for feature (Putamen_FW) below 0.05 threshold:  0.000000\n",
      "ANOVA Test p-value for feature (SCP_FW) below 0.05 threshold:  0.010780\n",
      "ANOVA Test p-value for feature (STN_FW) below 0.05 threshold:  0.000185\n",
      "ANOVA Test p-value for feature (Vermis_FW) below 0.05 threshold:  0.000397\n",
      "ANOVA Test p-value for feature (PPN_FW) below 0.05 threshold:  0.000783\n",
      "ANOVA Test p-value for feature (Dentate_FW) below 0.05 threshold:  0.000031\n",
      "ANOVA Test p-value for feature (CC1_FW) below 0.05 threshold:  0.003269\n",
      "27 ANOVA tests failed for control\n"
     ]
    }
   ],
   "source": [
    "control = data.loc[data['GroupID'] == 1]\n",
    "vcontrol = vdata.loc[vdata['GroupID'] == 1]\n",
    "columns = data.columns\n",
    "\n",
    "count = 0\n",
    "for i in range(len(columns)-1):\n",
    "    p_val =stats.f_oneway(control.iloc[:,i], vcontrol.iloc[:,i]).pvalue\n",
    "    if p_val < 0.05:\n",
    "        print(\"ANOVA Test p-value for feature (%s) below 0.05 threshold:  %f\" %(columns[i], p_val))\n",
    "        count +=1\n",
    "        \n",
    "print(\"%d ANOVA tests failed for control\" %count)"
   ]
  },
  {
   "cell_type": "code",
   "execution_count": 50,
   "metadata": {},
   "outputs": [
    {
     "name": "stdout",
     "output_type": "stream",
     "text": [
      "ANOVA Test p-value for feature (UPDRS) below 0.05 threshold:  0.000601\n",
      "ANOVA Test p-value for feature (LobuleVI_FA) below 0.05 threshold:  0.016598\n",
      "ANOVA Test p-value for feature (LobuleV_FA) below 0.05 threshold:  0.013280\n",
      "ANOVA Test p-value for feature (RN_FA) below 0.05 threshold:  0.002147\n",
      "ANOVA Test p-value for feature (Caudate_FW) below 0.05 threshold:  0.000990\n",
      "ANOVA Test p-value for feature (GP_FW) below 0.05 threshold:  0.033117\n",
      "ANOVA Test p-value for feature (CC1_FW) below 0.05 threshold:  0.030590\n",
      "7 ANOVA tests failed for control\n"
     ]
    }
   ],
   "source": [
    "control = data.loc[data['GroupID'] == 2]\n",
    "vcontrol = vdata.loc[vdata['GroupID'] == 2]\n",
    "columns = data.columns\n",
    "\n",
    "count = 0\n",
    "for i in range(len(columns)-1):\n",
    "    p_val =stats.f_oneway(control.iloc[:,i], vcontrol.iloc[:,i]).pvalue\n",
    "    if p_val < 0.05:\n",
    "        print(\"ANOVA Test p-value for feature (%s) below 0.05 threshold:  %f\" %(columns[i], p_val))\n",
    "        count +=1\n",
    "        \n",
    "print(\"%d ANOVA tests failed for control\" %count)"
   ]
  },
  {
   "cell_type": "code",
   "execution_count": 49,
   "metadata": {},
   "outputs": [
    {
     "name": "stdout",
     "output_type": "stream",
     "text": [
      "ANOVA Test p-value for feature (UPDRS) below 0.05 threshold:  0.025853\n",
      "ANOVA Test p-value for feature (aSN_FA) below 0.05 threshold:  0.010473\n",
      "ANOVA Test p-value for feature (Caudate_FA) below 0.05 threshold:  0.023317\n",
      "ANOVA Test p-value for feature (GP_FA) below 0.05 threshold:  0.000355\n",
      "ANOVA Test p-value for feature (LobuleVI_FA) below 0.05 threshold:  0.000043\n",
      "ANOVA Test p-value for feature (LobuleV_FA) below 0.05 threshold:  0.000000\n",
      "ANOVA Test p-value for feature (pSN_FA) below 0.05 threshold:  0.000109\n",
      "ANOVA Test p-value for feature (Putamen_FA) below 0.05 threshold:  0.000192\n",
      "ANOVA Test p-value for feature (SCP_FA) below 0.05 threshold:  0.032697\n",
      "ANOVA Test p-value for feature (STN_FA) below 0.05 threshold:  0.000313\n",
      "ANOVA Test p-value for feature (Thalamus_FA) below 0.05 threshold:  0.004574\n",
      "ANOVA Test p-value for feature (RN_FA) below 0.05 threshold:  0.000000\n",
      "ANOVA Test p-value for feature (Dentate_FA) below 0.05 threshold:  0.002124\n",
      "ANOVA Test p-value for feature (Caudate_FW) below 0.05 threshold:  0.010158\n",
      "ANOVA Test p-value for feature (GP_FW) below 0.05 threshold:  0.013551\n",
      "ANOVA Test p-value for feature (LobuleVI_FW) below 0.05 threshold:  0.006745\n",
      "ANOVA Test p-value for feature (LobuleV_FW) below 0.05 threshold:  0.000510\n",
      "ANOVA Test p-value for feature (pSN_FW) below 0.05 threshold:  0.013974\n",
      "ANOVA Test p-value for feature (Putamen_FW) below 0.05 threshold:  0.001011\n",
      "ANOVA Test p-value for feature (Vermis_FW) below 0.05 threshold:  0.019640\n",
      "ANOVA Test p-value for feature (Dentate_FW) below 0.05 threshold:  0.005477\n",
      "ANOVA Test p-value for feature (CC1_FW) below 0.05 threshold:  0.014406\n",
      "22 ANOVA tests failed for control\n"
     ]
    }
   ],
   "source": [
    "control = data.loc[data['GroupID'] == 3]\n",
    "vcontrol = vdata.loc[vdata['GroupID'] == 3]\n",
    "columns = data.columns\n",
    "\n",
    "count = 0\n",
    "for i in range(len(columns)-1):\n",
    "    p_val =stats.f_oneway(control.iloc[:,i], vcontrol.iloc[:,i]).pvalue\n",
    "    if p_val < 0.05:\n",
    "        print(\"ANOVA Test p-value for feature (%s) below 0.05 threshold:  %f\" %(columns[i], p_val))\n",
    "        count +=1\n",
    "        \n",
    "print(\"%d ANOVA tests failed for control\" %count)"
   ]
  },
  {
   "cell_type": "code",
   "execution_count": null,
   "metadata": {},
   "outputs": [],
   "source": []
  },
  {
   "cell_type": "code",
   "execution_count": null,
   "metadata": {},
   "outputs": [],
   "source": []
  }
 ],
 "metadata": {
  "kernelspec": {
   "display_name": "Python 3",
   "language": "python",
   "name": "python3"
  },
  "language_info": {
   "codemirror_mode": {
    "name": "ipython",
    "version": 3
   },
   "file_extension": ".py",
   "mimetype": "text/x-python",
   "name": "python",
   "nbconvert_exporter": "python",
   "pygments_lexer": "ipython3",
   "version": "3.6.3"
  }
 },
 "nbformat": 4,
 "nbformat_minor": 2
}
