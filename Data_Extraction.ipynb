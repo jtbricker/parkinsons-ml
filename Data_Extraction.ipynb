{
 "cells": [
  {
   "cell_type": "markdown",
   "metadata": {},
   "source": [
    "# Data Extraction\n",
    "## Extracting and Saving the Holdout Data\n",
    "\n",
    "I want to keep 20% of the data as a holdout set that we can use to compare the models that we train with the remaining 80% of the data.  The data will be randomly sampled and removed from the original data set.  We will use stratified sampling to maintain the class ratios seen in the original data set.\n",
    "\n",
    "We will also save these two new datasets (80% training, 20% holdout) to files so we can easily reference them in the future."
   ]
  },
  {
   "cell_type": "code",
   "execution_count": 10,
   "metadata": {},
   "outputs": [],
   "source": [
    "# Prepare the data\n",
    "import ml_utils as mu\n",
    "from sklearn.model_selection import train_test_split\n",
    "\n",
    "data = mu.get_training_data(get_full_set=True)\n",
    "\n",
    "X, y = mu.split_x_and_y(data)\n",
    "\n",
    "X_train, X_holdout, y_train, y_holdout = train_test_split(X, y, test_size = 0.2, random_state = 43, stratify=y)\n",
    "\n",
    "training_data = X_train.copy()\n",
    "training_data['GroupID'] = y_train\n",
    "\n",
    "holdout_data = X_holdout.copy()\n",
    "holdout_data['GroupID'] = y_holdout\n",
    "\n",
    "training_data.to_excel(\"data/training_data.xlsx\", index=False)\n",
    "holdout_data.to_excel(\"data/holdout_data.xlsx\", index=False)"
   ]
  },
  {
   "cell_type": "code",
   "execution_count": 11,
   "metadata": {},
   "outputs": [
    {
     "name": "stdout",
     "output_type": "stream",
     "text": [
      "Percentage of each group in training_data\n",
      "1    0.535235\n",
      "0    0.322148\n",
      "3    0.073826\n",
      "2    0.068792\n",
      "Name: GroupID, dtype: float64\n",
      "Percentage of each group in holdout_data\n",
      "1    0.533333\n",
      "0    0.320000\n",
      "3    0.073333\n",
      "2    0.073333\n",
      "Name: GroupID, dtype: float64\n"
     ]
    }
   ],
   "source": [
    "print(\"Percentage of each group in training_data\")\n",
    "t = training_data.GroupID.value_counts()\n",
    "print(t.apply(lambda x: x/sum(t)))\n",
    "\n",
    "print(\"Percentage of each group in holdout_data\")\n",
    "h = holdout_data.GroupID.value_counts()\n",
    "print(h.apply(lambda x: x/sum(h)))"
   ]
  },
  {
   "cell_type": "code",
   "execution_count": null,
   "metadata": {},
   "outputs": [],
   "source": []
  }
 ],
 "metadata": {
  "kernelspec": {
   "display_name": "Python 3",
   "language": "python",
   "name": "python3"
  },
  "language_info": {
   "codemirror_mode": {
    "name": "ipython",
    "version": 3
   },
   "file_extension": ".py",
   "mimetype": "text/x-python",
   "name": "python",
   "nbconvert_exporter": "python",
   "pygments_lexer": "ipython3",
   "version": "3.6.3"
  }
 },
 "nbformat": 4,
 "nbformat_minor": 2
}
