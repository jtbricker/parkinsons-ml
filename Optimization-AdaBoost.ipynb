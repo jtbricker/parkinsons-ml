{
 "cells": [
  {
   "cell_type": "markdown",
   "metadata": {},
   "source": [
    "# Model Optimization- Ada Boost"
   ]
  },
  {
   "cell_type": "markdown",
   "metadata": {},
   "source": [
    "Lets first see what parameters could possibly be tuned"
   ]
  },
  {
   "cell_type": "code",
   "execution_count": 1,
   "metadata": {},
   "outputs": [
    {
     "name": "stdout",
     "output_type": "stream",
     "text": [
      "There are 5 parameters for the Logistic Model.  The Default values are:\n",
      "                algorithm:   SAMME.R\n",
      "           base_estimator:   None\n",
      "            learning_rate:   1.0\n",
      "             n_estimators:   50\n",
      "             random_state:   None\n"
     ]
    }
   ],
   "source": [
    "from sklearn.ensemble import AdaBoostClassifier\n",
    "\n",
    "clf = AdaBoostClassifier()\n",
    "params = clf.get_params()\n",
    "print(\"There are %d parameters for the Logistic Model.  The Default values are:\" %len(params.keys()))\n",
    "for key in params.keys():\n",
    "    print(\"%25s:   %s\" %(key,params[key]))"
   ]
  },
  {
   "cell_type": "code",
   "execution_count": 2,
   "metadata": {},
   "outputs": [],
   "source": [
    "# get the data \n",
    "import ml_utils as mu\n",
    "\n",
    "with mu.HiddenPrints():\n",
    "    X, y , Xh, yh, Xv, yv = mu.get_training_holdout_validation_data()"
   ]
  },
  {
   "cell_type": "code",
   "execution_count": 7,
   "metadata": {},
   "outputs": [
    {
     "name": "stdout",
     "output_type": "stream",
     "text": [
      "[2018-07-12 01:50:25.487816] Starting tuning classifier__n_estimators\n",
      "# Tuning hyper-parameters for accuracy\n",
      "\n",
      "Fitting 5 folds for each of 10 candidates, totalling 50 fits\n"
     ]
    },
    {
     "name": "stderr",
     "output_type": "stream",
     "text": [
      "[Parallel(n_jobs=-1)]: Done  34 tasks      | elapsed:   14.5s\n",
      "[Parallel(n_jobs=-1)]: Done  50 out of  50 | elapsed:   16.8s finished\n"
     ]
    },
    {
     "name": "stdout",
     "output_type": "stream",
     "text": [
      "Best parameters set found on development set:\n",
      "\n",
      "{'classifier__n_estimators': 141}\n"
     ]
    },
    {
     "data": {
      "image/png": "[encoded data removed]",
      "text/plain": [
       "<matplotlib.figure.Figure at 0x1864befa7b8>"
      ]
     },
     "metadata": {},
     "output_type": "display_data"
    },
    {
     "name": "stdout",
     "output_type": "stream",
     "text": [
      "[2018-07-12 01:50:44.004628] Done with tuning classifier__n_estimators (Took 0.300 minutes)\n"
     ]
    }
   ],
   "source": [
    "from imblearn.pipeline import Pipeline\n",
    "from sklearn.preprocessing import StandardScaler\n",
    "from imblearn.over_sampling import RandomOverSampler\n",
    "from sklearn.ensemble import AdaBoostClassifier\n",
    "\n",
    "import numpy as np\n",
    "\n",
    "# parameters and ranges to plot\n",
    "param_grid = {\n",
    "    \"classifier__n_estimators\": range(1,201,20),\n",
    "    \"classifier__learning_rate\": np.logspace(-4, -1, 30)\n",
    "}\n",
    "\n",
    "clf = Pipeline([\n",
    "    ('standardization', StandardScaler()),\n",
    "    ('oversampler', RandomOverSampler()),\n",
    "    ('classifier', AdaBoostClassifier(random_state = 84))\n",
    "])\n",
    "\n",
    "for parameter, param_range in dict.items(param_grid):\n",
    "    with mu.Timer(\"tuning %s\" %parameter) as timer:\n",
    "        mu.unidirectional_grid_search_optimization(clf, parameter, param_range, X, y)"
   ]
  },
  {
   "cell_type": "code",
   "execution_count": null,
   "metadata": {},
   "outputs": [],
   "source": []
  }
 ],
 "metadata": {
  "kernelspec": {
   "display_name": "Python 3",
   "language": "python",
   "name": "python3"
  },
  "language_info": {
   "codemirror_mode": {
    "name": "ipython",
    "version": 3
   },
   "file_extension": ".py",
   "mimetype": "text/x-python",
   "name": "python",
   "nbconvert_exporter": "python",
   "pygments_lexer": "ipython3",
   "version": "3.6.3"
  }
 },
 "nbformat": 4,
 "nbformat_minor": 2
}
