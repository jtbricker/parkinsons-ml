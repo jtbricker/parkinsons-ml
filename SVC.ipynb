{
 "cells": [
  {
   "cell_type": "markdown",
   "metadata": {},
   "source": [
    "# Classifying Idiopathic Parkinsons, Atypical Parkinsons (MSA & PSP), and Controls\n",
    "\n",
    "Create a machine learning model to differentiate between 4 groups"
   ]
  },
  {
   "cell_type": "markdown",
   "metadata": {},
   "source": [
    "## The Data\n"
   ]
  },
  {
   "cell_type": "markdown",
   "metadata": {},
   "source": [
    "### Import Libraries and set random seed"
   ]
  },
  {
   "cell_type": "code",
   "execution_count": 2,
   "metadata": {},
   "outputs": [],
   "source": [
    "import pandas as pd\n",
    "import numpy as np\n",
    "from sklearn.utils import resample\n",
    "from sklearn import svm\n",
    "from sklearn.model_selection import train_test_split, GridSearchCV\n",
    "from sklearn.metrics import classification_report\n",
    "from sklearn.preprocessing import StandardScaler\n",
    "\n",
    "### Set Random Number Seed\n",
    "np.random.seed(112)"
   ]
  },
  {
   "cell_type": "markdown",
   "metadata": {},
   "source": [
    "### Define helper methods"
   ]
  },
  {
   "cell_type": "code",
   "execution_count": 3,
   "metadata": {},
   "outputs": [],
   "source": [
    "def load_data(filename):\n",
    "    data = pd.read_excel(filename)\n",
    "    print(\"Loaded data with shape: \", data.shape)\n",
    "    \n",
    "    # Drop the subject column since its not used and contains non-numeric data\n",
    "    return data.drop('Subject', axis=1)"
   ]
  },
  {
   "cell_type": "code",
   "execution_count": 4,
   "metadata": {},
   "outputs": [],
   "source": [
    "def filter_data(data, columns=None, include_control=True, combine_p_groups=False):\n",
    "    df = data.copy()\n",
    "    \n",
    "    if not include_control:\n",
    "        df = df[df.GroupID!=0]\n",
    "        \n",
    "    if columns:\n",
    "        df = df[columns]\n",
    "\n",
    "    if combine_p_groups:\n",
    "        df.loc[df['GroupID'] != 0, 'GroupID'] = 1 \n",
    "\n",
    "    return df"
   ]
  },
  {
   "cell_type": "code",
   "execution_count": 5,
   "metadata": {},
   "outputs": [],
   "source": [
    "def resample_data(df):\n",
    "    df_control =df[df.GroupID==0]  #246\n",
    "    df_park = df[df.GroupID==1] #399\n",
    "    df_msa = df[df.GroupID==2]  #52\n",
    "    df_psp = df[df.GroupID==3]  #55\n",
    "\n",
    "    max_length = max([len(df_park), len(df_msa), len(df_psp), len(df_control)])\n",
    "\n",
    "    if len(df_control) > 0:\n",
    "        df_control = resample(df_control, replace=True, n_samples=max_length, random_state=3)\n",
    "    if len(df_msa) > 0:\n",
    "        df_msa = resample(df_msa, replace=True, n_samples=max_length, random_state=1)\n",
    "    if len(df_psp) > 0:\n",
    "        df_psp = resample(df_psp, replace=True, n_samples=max_length, random_state=2)\n",
    "\n",
    "    return pd.concat([df_control, df_park, df_msa, df_psp])\n"
   ]
  },
  {
   "cell_type": "code",
   "execution_count": 6,
   "metadata": {},
   "outputs": [],
   "source": [
    "def split_x_y_data(df, ylabel=\"GroupID\"):\n",
    "    x_cols = [col for col in df.columns if col != ylabel]\n",
    "    Xd = pd.DataFrame(df, columns= x_cols)\n",
    "    Yd = df[ylabel]\n",
    "    return Xd, Yd"
   ]
  },
  {
   "cell_type": "code",
   "execution_count": 7,
   "metadata": {},
   "outputs": [],
   "source": [
    "def standardize_data(X_train, X_test):\n",
    "    sc = StandardScaler()\n",
    "    sc.fit(X_train)\n",
    "    X_train_std = sc.transform(X_train)\n",
    "    X_test_std = sc.transform(X_test)\n",
    "    return X_train_std, X_test_std"
   ]
  },
  {
   "cell_type": "code",
   "execution_count": 8,
   "metadata": {},
   "outputs": [],
   "source": [
    "def svm_grid_search(X_train, X_test, y_train, y_test, cv=5):\n",
    "\n",
    "    tuned_parameters = [{'kernel': ['rbf'], 'gamma': [1, 1e-1, 1e-2,1e-3, 1e-4],\n",
    "                         'C': [1, 10, 100, 1000]},\n",
    "                        {'kernel': ['linear'], 'C': [1, 10, 100, 1000]}]\n",
    "\n",
    "    print(\"# Tuning hyper-parameters for f1\")\n",
    "    print()\n",
    "\n",
    "    clf = GridSearchCV(svm.SVC(), tuned_parameters, cv=cv,\n",
    "                       scoring='f1_macro',\n",
    "                       n_jobs = -1 )\n",
    "    clf.fit(X_train, y_train)\n",
    "\n",
    "    print(\"Best parameters set found on development set:\")\n",
    "    print()\n",
    "    print(clf.best_params_)\n",
    "    print()\n",
    "    print(\"Grid scores on development set:\")\n",
    "    print()\n",
    "    means = clf.cv_results_['mean_test_score']\n",
    "    stds = clf.cv_results_['std_test_score']\n",
    "    for mean, std, params in zip(means, stds, clf.cv_results_['params']):\n",
    "        print(\"%0.3f (+/-%0.03f) for %r\"\n",
    "              % (mean, std * 2, params))\n",
    "    print()\n",
    "\n",
    "    print(\"Detailed classification report:\")\n",
    "    print()\n",
    "    print(\"The model is trained on the full development set.\")\n",
    "    print(\"The scores are computed on the full evaluation set.\")\n",
    "    print()\n",
    "    y_true, y_pred = y_test, clf.predict(X_test)\n",
    "    print(classification_report(y_true, y_pred))\n",
    "    print()\n",
    "    return clf"
   ]
  },
  {
   "cell_type": "markdown",
   "metadata": {},
   "source": [
    "### Get Best SVM Model using all predictors"
   ]
  },
  {
   "cell_type": "code",
   "execution_count": 10,
   "metadata": {},
   "outputs": [
    {
     "name": "stdout",
     "output_type": "stream",
     "text": [
      "Loaded data with shape:  (746, 39)\n"
     ]
    }
   ],
   "source": [
    "# Load the excel file\n",
    "data = load_data(\"real_data2.xlsx\")\n",
    "\n",
    "# Only grab the columns of interest.  TODO: Replace with list derived from feature selection\n",
    "columns_of_interest = [\"GroupID\",\"SCP_FW\",\"MCP_FW\",\"Putamen_FA\",\"Caudate_FA\",\"STN_FW\", \"RN_FW\", \"Thalamus_FA\", \"UPDRS\"]\n",
    "filtered_data = filter_data(data)\n",
    "\n",
    "# Resample the data so that there are even numbers of each label\n",
    "resampled_data = resample_data(filtered_data)\n",
    "\n",
    "# Split predictor and response data\n",
    "X, y = split_x_y_data(resampled_data)\n",
    "\n",
    "# Shuffle and split training and test sets\n",
    "X_train, X_test, y_train, y_test = train_test_split(X, y, test_size=.2, random_state=0)\n",
    "\n",
    "# standardize the data\n",
    "X_train_std, X_test_std = standardize_data(X_train, X_test)\n",
    "\n",
    "# Perform a grid search to find best SVC model\n",
    "#clf = svm_grid_search(X_train, X_test, y_train, y_test)"
   ]
  },
  {
   "cell_type": "code",
   "execution_count": 11,
   "metadata": {},
   "outputs": [
    {
     "ename": "NameError",
     "evalue": "name 'clf' is not defined",
     "output_type": "error",
     "traceback": [
      "\u001b[1;31m---------------------------------------------------------------------------\u001b[0m",
      "\u001b[1;31mNameError\u001b[0m                                 Traceback (most recent call last)",
      "\u001b[1;32m<ipython-input-11-af8bdcfd4267>\u001b[0m in \u001b[0;36m<module>\u001b[1;34m()\u001b[0m\n\u001b[0;32m      1\u001b[0m \u001b[1;33m\u001b[0m\u001b[0m\n\u001b[0;32m      2\u001b[0m \u001b[0mX_train\u001b[0m\u001b[1;33m.\u001b[0m\u001b[0mcolumns\u001b[0m\u001b[1;33m\u001b[0m\u001b[0m\n\u001b[1;32m----> 3\u001b[1;33m \u001b[0md\u001b[0m \u001b[1;33m=\u001b[0m \u001b[0mpd\u001b[0m\u001b[1;33m.\u001b[0m\u001b[0mDataFrame\u001b[0m\u001b[1;33m(\u001b[0m\u001b[0mclf\u001b[0m\u001b[1;33m.\u001b[0m\u001b[0mbest_estimator_\u001b[0m\u001b[1;33m.\u001b[0m\u001b[0mcoef_\u001b[0m\u001b[1;33m,\u001b[0m \u001b[0mcolumns\u001b[0m\u001b[1;33m=\u001b[0m\u001b[0mX_train\u001b[0m\u001b[1;33m.\u001b[0m\u001b[0mcolumns\u001b[0m\u001b[1;33m)\u001b[0m\u001b[1;33m\u001b[0m\u001b[0m\n\u001b[0m\u001b[0;32m      4\u001b[0m \u001b[0mi\u001b[0m \u001b[1;33m=\u001b[0m \u001b[1;33m{\u001b[0m\u001b[1;33m}\u001b[0m\u001b[1;33m\u001b[0m\u001b[0m\n\u001b[0;32m      5\u001b[0m \u001b[1;32mfor\u001b[0m \u001b[0mc\u001b[0m \u001b[1;32min\u001b[0m \u001b[0md\u001b[0m\u001b[1;33m.\u001b[0m\u001b[0mcolumns\u001b[0m\u001b[1;33m:\u001b[0m\u001b[1;33m\u001b[0m\u001b[0m\n",
      "\u001b[1;31mNameError\u001b[0m: name 'clf' is not defined"
     ]
    }
   ],
   "source": [
    "\n",
    "X_train.columns\n",
    "d = pd.DataFrame(clf.best_estimator_.coef_, columns=X_train.columns)\n",
    "i = {}\n",
    "for c in d.columns:\n",
    "    i[c] = sum(d[c]**2)\n",
    "s = [(k, i[k]) for k in sorted(i, key=i.get, reverse=True)]\n",
    "s"
   ]
  },
  {
   "cell_type": "markdown",
   "metadata": {},
   "source": [
    "## Feature Selection\n",
    "\n",
    "### [Univariate feature selection](http://scikit-learn.org/stable/modules/feature_selection.html#univariate-feature-selection)  "
   ]
  },
  {
   "cell_type": "code",
   "execution_count": 12,
   "metadata": {},
   "outputs": [
    {
     "name": "stdout",
     "output_type": "stream",
     "text": [
      "Loaded data with shape:  (746, 39)\n",
      "(746, 37)\n",
      "(746, 2)\n",
      "['k', 'score_func']\n"
     ]
    }
   ],
   "source": [
    "data = load_data('real_data2.xlsx')\n",
    "\n",
    "from sklearn.feature_selection import SelectKBest, chi2\n",
    "\n",
    "X,y  = split_x_y_data(data)\n",
    "\n",
    "cls = SelectKBest(chi2, k=2)\n",
    "X_new = cls.fit_transform(X, y)\n",
    "\n",
    "print(X.shape)\n",
    "print(X_new.shape)\n",
    "print(cls._get_param_names())"
   ]
  },
  {
   "cell_type": "markdown",
   "metadata": {},
   "source": [
    "### Recursive Feature Elimination with cross-validation\n",
    "\n",
    "From [here](http://scikit-learn.org/stable/auto_examples/feature_selection/plot_rfe_with_cross_validation.html#sphx-glr-auto-examples-feature-selection-plot-rfe-with-cross-validation-py)\n",
    "\n",
    "Needs the `coef_` or  `feature_importances_` attributes which the rbf kernal does not expose"
   ]
  },
  {
   "cell_type": "code",
   "execution_count": 13,
   "metadata": {},
   "outputs": [
    {
     "name": "stdout",
     "output_type": "stream",
     "text": [
      "Automatically created module for IPython interactive environment\n",
      "Optimal number of features : 36\n"
     ]
    },
    {
     "data": {
      "image/png": "[encoded data removed]",
      "text/plain": [
       "<matplotlib.figure.Figure at 0x24fd10c8e10>"
      ]
     },
     "metadata": {},
     "output_type": "display_data"
    }
   ],
   "source": [
    "print(__doc__)\n",
    "\n",
    "import matplotlib.pyplot as plt\n",
    "from sklearn.svm import SVC\n",
    "from sklearn.model_selection import StratifiedKFold\n",
    "from sklearn.feature_selection import RFECV\n",
    "from sklearn.datasets import make_classification\n",
    "\n",
    "# Create the RFE object and compute a cross-validated score.\n",
    "svc = SVC(kernel=\"linear\", C=10)\n",
    "# The \"accuracy\" scoring is proportional to the number of correct\n",
    "# classifications\n",
    "rfecv = RFECV(estimator=svc, step=1, cv=StratifiedKFold(10),\n",
    "              scoring='accuracy')\n",
    "rfecv.fit(X_train, y_train)\n",
    "\n",
    "print(\"Optimal number of features : %d\" % rfecv.n_features_)\n",
    "\n",
    "# Plot number of features VS. cross-validation scores\n",
    "plt.figure()\n",
    "plt.xlabel(\"Number of features selected\")\n",
    "plt.ylabel(\"Cross validation score (nb of correct classifications)\")\n",
    "plt.plot(range(1, len(rfecv.grid_scores_) + 1), rfecv.grid_scores_)\n",
    "plt.show()"
   ]
  },
  {
   "cell_type": "markdown",
   "metadata": {},
   "source": [
    "### Recursive Feature Elimination (without cross-validation)\n",
    "\n",
    "From [here](http://scikit-learn.org/stable/auto_examples/feature_selection/plot_rfe_digits.html#sphx-glr-auto-examples-feature-selection-plot-rfe-digits-py)\n",
    "\n",
    "//Needs the `coef_` or  `feature_importances_` attributes which the rbf kernal does not expose"
   ]
  },
  {
   "cell_type": "code",
   "execution_count": 19,
   "metadata": {},
   "outputs": [
    {
     "name": "stdout",
     "output_type": "stream",
     "text": [
      "Automatically created module for IPython interactive environment\n"
     ]
    },
    {
     "data": {
      "text/plain": [
       "array([37, 30, 36, 12, 15, 35, 21, 28, 31, 13,  5,  8, 33, 18, 26, 17, 22,\n",
       "        9, 27, 34, 24, 29, 19, 10, 16,  3, 25,  2,  4,  1, 11, 20, 32,  7,\n",
       "       23,  6, 14])"
      ]
     },
     "execution_count": 19,
     "metadata": {},
     "output_type": "execute_result"
    }
   ],
   "source": [
    "print(__doc__)\n",
    "\n",
    "from sklearn.svm import SVC\n",
    "from sklearn.feature_selection import RFE\n",
    "import matplotlib.pyplot as plt\n",
    "\n",
    "\n",
    "# Create the RFE object and rank each pixel\n",
    "svc = SVC(kernel=\"linear\", C=1)\n",
    "rfe = RFE(estimator=svc, n_features_to_select=1, step=1)\n",
    "rfe.fit(X_train, y_train)\n",
    "#ranking = rfe.ranking_.reshape(X_train.shape)\n",
    "\n",
    "# Plot pixel ranking\n",
    "rfe.ranking_"
   ]
  }
 ],
 "metadata": {
  "kernelspec": {
   "display_name": "Python 3",
   "language": "python",
   "name": "python3"
  },
  "language_info": {
   "codemirror_mode": {
    "name": "ipython",
    "version": 3
   },
   "file_extension": ".py",
   "mimetype": "text/x-python",
   "name": "python",
   "nbconvert_exporter": "python",
   "pygments_lexer": "ipython3",
   "version": "3.6.3"
  }
 },
 "nbformat": 4,
 "nbformat_minor": 2
}
