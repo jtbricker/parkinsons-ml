{
 "cells": [
  {
   "cell_type": "markdown",
   "metadata": {},
   "source": [
    "# Model Optimization- Naive Bayes"
   ]
  },
  {
   "cell_type": "markdown",
   "metadata": {},
   "source": [
    "Lets first see what parameters could possibly be tuned"
   ]
  },
  {
   "cell_type": "code",
   "execution_count": 1,
   "metadata": {},
   "outputs": [
    {
     "name": "stdout",
     "output_type": "stream",
     "text": [
      "There are 1 parameters for the Logistic Model.  The Default values are:\n",
      "                   priors:   None\n"
     ]
    }
   ],
   "source": [
    "from sklearn.naive_bayes import GaussianNB\n",
    "\n",
    "clf = GaussianNB()\n",
    "params = clf.get_params()\n",
    "print(\"There are %d parameters for the Logistic Model.  The Default values are:\" %len(params.keys()))\n",
    "for key in params.keys():\n",
    "    print(\"%25s:   %s\" %(key,params[key]))"
   ]
  },
  {
   "cell_type": "code",
   "execution_count": 6,
   "metadata": {},
   "outputs": [],
   "source": [
    "# get the data \n",
    "import ml_utils as mu\n",
    "\n",
    "with mu.HiddenPrints():\n",
    "    X, y , Xh, yh, Xv, yv = mu.get_training_holdout_validation_data()"
   ]
  },
  {
   "cell_type": "code",
   "execution_count": 4,
   "metadata": {},
   "outputs": [],
   "source": [
    "from imblearn.pipeline import Pipeline\n",
    "from sklearn.preprocessing import StandardScaler\n",
    "from imblearn.over_sampling import RandomOverSampler\n",
    "from sklearn.naive_bayes import GaussianNB\n",
    "\n",
    "# parameters and ranges to plot\n",
    "param_grid = {\n",
    "}\n",
    "\n",
    "clf = Pipeline([\n",
    "    ('standardization', StandardScaler()),\n",
    "    ('oversampler', RandomOverSampler()),\n",
    "    ('classifier', GaussianNB())\n",
    "])\n",
    "\n",
    "for parameter, param_range in dict.items(param_grid):\n",
    "    with mu.Timer(\"tuning %s\" %parameter) as timer:\n",
    "        mu.unidirectional_grid_search_optimization(clf, parameter, param_range, X, y)"
   ]
  },
  {
   "cell_type": "code",
   "execution_count": 27,
   "metadata": {},
   "outputs": [
    {
     "name": "stdout",
     "output_type": "stream",
     "text": [
      "Cross Val Score 0.785257293234\n",
      "Holdout Score 0.734375\n",
      "Validation Score 0.7734375\n"
     ]
    }
   ],
   "source": [
    "from sklearn.cross_validation import cross_val_score\n",
    "clf.fit(X,y)\n",
    "print(\"Cross Val Score\", cross_val_score(clf,X,y).mean())\n",
    "print(\"Holdout Score\", clf.score(Xh,yh))\n",
    "print(\"Validation Score\", clf.score(Xv,yv))"
   ]
  },
  {
   "cell_type": "code",
   "execution_count": null,
   "metadata": {},
   "outputs": [],
   "source": []
  },
  {
   "cell_type": "code",
   "execution_count": null,
   "metadata": {},
   "outputs": [],
   "source": []
  }
 ],
 "metadata": {
  "kernelspec": {
   "display_name": "Python 3",
   "language": "python",
   "name": "python3"
  },
  "language_info": {
   "codemirror_mode": {
    "name": "ipython",
    "version": 3
   },
   "file_extension": ".py",
   "mimetype": "text/x-python",
   "name": "python",
   "nbconvert_exporter": "python",
   "pygments_lexer": "ipython3",
   "version": "3.6.3"
  }
 },
 "nbformat": 4,
 "nbformat_minor": 2
}
