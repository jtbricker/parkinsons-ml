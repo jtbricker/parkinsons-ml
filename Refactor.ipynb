{
 "cells": [
  {
   "cell_type": "markdown",
   "metadata": {},
   "source": [
    "# Refactor\n",
    "Refactoring the Adaboost Notebook to use the new library"
   ]
  },
  {
   "cell_type": "code",
   "execution_count": 6,
   "metadata": {},
   "outputs": [
    {
     "name": "stdout",
     "output_type": "stream",
     "text": [
      "KEY: \n",
      "DESCRIPTION: \n",
      "===================================================================================\n",
      "====\n",
      "====\n",
      "====                   Starting svc_lin model with Idiopathic vs. PSP grouping\n",
      "====\n",
      "====                   (IVP)- Idio vs PSP. 10 best . All models. oversampling\n",
      "====\n",
      "====\n",
      "===================================================================================\n",
      "[2018-08-15 23:23:09.395890] Starting model: svc_lin with grouping: ivp\n",
      "Fitting 5 folds for each of 6 candidates, totalling 30 fits\n"
     ]
    },
    {
     "name": "stderr",
     "output_type": "stream",
     "text": [
      "[Parallel(n_jobs=-1)]: Done  26 out of  30 | elapsed:    6.5s remaining:    0.9s\n",
      "[Parallel(n_jobs=-1)]: Done  30 out of  30 | elapsed:    6.5s finished\n",
      "C:\\Users\\jtbricker\\AppData\\Local\\Continuum\\anaconda3\\lib\\site-packages\\sklearn\\feature_selection\\univariate_selection.py:113: UserWarning: Features [1] are constant.\n",
      "  UserWarning)\n",
      "C:\\Users\\jtbricker\\AppData\\Local\\Continuum\\anaconda3\\lib\\site-packages\\sklearn\\feature_selection\\univariate_selection.py:114: RuntimeWarning: invalid value encountered in true_divide\n",
      "  f = msb / msw\n",
      "C:\\Users\\jtbricker\\AppData\\Local\\Continuum\\anaconda3\\lib\\site-packages\\sklearn\\feature_selection\\univariate_selection.py:113: UserWarning: Features [1] are constant.\n",
      "  UserWarning)\n",
      "C:\\Users\\jtbricker\\AppData\\Local\\Continuum\\anaconda3\\lib\\site-packages\\sklearn\\feature_selection\\univariate_selection.py:114: RuntimeWarning: invalid value encountered in true_divide\n",
      "  f = msb / msw\n"
     ]
    },
    {
     "name": "stdout",
     "output_type": "stream",
     "text": [
      "[2018-08-15 23:23:16.155910] Done with model: svc_lin with grouping: ivp (Took 0.100 minutes)\n",
      "Saving results of model run (svc_lin) to data/results_test.xlsx\n",
      "==================================================================================="
     ]
    },
    {
     "name": "stderr",
     "output_type": "stream",
     "text": [
      "[Parallel(n_jobs=-1)]: Done  16 tasks      | elapsed:    9.4s\n",
      "[Parallel(n_jobs=-1)]: Done 112 tasks      | elapsed:   26.8s\n",
      "[Parallel(n_jobs=-1)]: Done 272 tasks      | elapsed:   56.1s\n",
      "[Parallel(n_jobs=-1)]: Done 360 out of 360 | elapsed:  1.2min finished\n",
      "C:\\Users\\jtbricker\\AppData\\Local\\Continuum\\anaconda3\\lib\\site-packages\\sklearn\\feature_selection\\univariate_selection.py:113: UserWarning: Features [1] are constant.\n",
      "  UserWarning)\n",
      "C:\\Users\\jtbricker\\AppData\\Local\\Continuum\\anaconda3\\lib\\site-packages\\sklearn\\feature_selection\\univariate_selection.py:114: RuntimeWarning: invalid value encountered in true_divide\n",
      "  f = msb / msw\n"
     ]
    },
    {
     "name": "stdout",
     "output_type": "stream",
     "text": [
      "\n",
      "====\n",
      "====\n",
      "====                   Starting rand_for model with Idiopathic vs. PSP grouping\n",
      "====\n",
      "====                   (IVP)- Idio vs PSP. 10 best . All models. oversampling\n",
      "====\n",
      "====\n",
      "===================================================================================\n",
      "[2018-08-15 23:23:16.365949] Starting model: rand_for with grouping: ivp\n",
      "Fitting 5 folds for each of 72 candidates, totalling 360 fits\n",
      "[2018-08-15 23:24:28.710687] Done with model: rand_for with grouping: ivp (Took 1.200 minutes)\n",
      "Saving results of model run (rand_for) to data/results_test.xlsx\n"
     ]
    },
    {
     "name": "stderr",
     "output_type": "stream",
     "text": [
      "C:\\Users\\jtbricker\\AppData\\Local\\Continuum\\anaconda3\\lib\\site-packages\\sklearn\\feature_selection\\univariate_selection.py:113: UserWarning: Features [1] are constant.\n",
      "  UserWarning)\n",
      "C:\\Users\\jtbricker\\AppData\\Local\\Continuum\\anaconda3\\lib\\site-packages\\sklearn\\feature_selection\\univariate_selection.py:114: RuntimeWarning: invalid value encountered in true_divide\n",
      "  f = msb / msw\n"
     ]
    },
    {
     "name": "stdout",
     "output_type": "stream",
     "text": [
      "===================================================================================\n",
      "====\n",
      "====\n",
      "====                   Starting log model with Idiopathic vs. PSP grouping\n",
      "====\n",
      "====                   (IVP)- Idio vs PSP. 10 best . All models. oversampling\n",
      "====\n",
      "====\n",
      "===================================================================================\n",
      "[2018-08-15 23:24:28.950295] Starting model: log with grouping: ivp\n",
      "Fitting 5 folds for each of 60 candidates, totalling 300 fits\n"
     ]
    },
    {
     "name": "stderr",
     "output_type": "stream",
     "text": [
      "[Parallel(n_jobs=-1)]: Done  16 tasks      | elapsed:    7.1s\n",
      "[Parallel(n_jobs=-1)]: Done 300 out of 300 | elapsed:    7.8s finished\n",
      "C:\\Users\\jtbricker\\AppData\\Local\\Continuum\\anaconda3\\lib\\site-packages\\sklearn\\feature_selection\\univariate_selection.py:113: UserWarning: Features [1] are constant.\n",
      "  UserWarning)\n",
      "C:\\Users\\jtbricker\\AppData\\Local\\Continuum\\anaconda3\\lib\\site-packages\\sklearn\\feature_selection\\univariate_selection.py:114: RuntimeWarning: invalid value encountered in true_divide\n",
      "  f = msb / msw\n",
      "C:\\Users\\jtbricker\\AppData\\Local\\Continuum\\anaconda3\\lib\\site-packages\\sklearn\\feature_selection\\univariate_selection.py:113: UserWarning: Features [1] are constant.\n",
      "  UserWarning)\n",
      "C:\\Users\\jtbricker\\AppData\\Local\\Continuum\\anaconda3\\lib\\site-packages\\sklearn\\feature_selection\\univariate_selection.py:114: RuntimeWarning: invalid value encountered in true_divide\n",
      "  f = msb / msw\n"
     ]
    },
    {
     "name": "stdout",
     "output_type": "stream",
     "text": [
      "[2018-08-15 23:24:37.113895] Done with model: log with grouping: ivp (Took 0.133 minutes)\n",
      "Saving results of model run (log) to data/results_test.xlsx\n",
      "===================================================================================\n",
      "====\n",
      "====\n",
      "====                   Starting ann model with Idiopathic vs. PSP grouping\n",
      "====\n",
      "====                   (IVP)- Idio vs PSP. 10 best . All models. oversampling\n",
      "====\n",
      "====\n",
      "===================================================================================\n",
      "[2018-08-15 23:24:37.452026] Starting model: ann with grouping: ivp\n",
      "Fitting 5 folds for each of 480 candidates, totalling 2400 fits\n"
     ]
    },
    {
     "name": "stderr",
     "output_type": "stream",
     "text": [
      "[Parallel(n_jobs=-1)]: Done  16 tasks      | elapsed:    8.3s\n",
      "[Parallel(n_jobs=-1)]: Done 112 tasks      | elapsed:   16.6s\n",
      "[Parallel(n_jobs=-1)]: Done 272 tasks      | elapsed:   29.3s\n",
      "[Parallel(n_jobs=-1)]: Done 496 tasks      | elapsed:   53.6s\n",
      "[Parallel(n_jobs=-1)]: Done 784 tasks      | elapsed:  1.3min\n",
      "[Parallel(n_jobs=-1)]: Done 1136 tasks      | elapsed:  1.7min\n",
      "[Parallel(n_jobs=-1)]: Done 1552 tasks      | elapsed:  2.5min\n",
      "[Parallel(n_jobs=-1)]: Done 2032 tasks      | elapsed:  3.7min\n",
      "[Parallel(n_jobs=-1)]: Done 2400 out of 2400 | elapsed:  4.8min finished\n",
      "C:\\Users\\jtbricker\\AppData\\Local\\Continuum\\anaconda3\\lib\\site-packages\\sklearn\\feature_selection\\univariate_selection.py:113: UserWarning: Features [1] are constant.\n",
      "  UserWarning)\n",
      "C:\\Users\\jtbricker\\AppData\\Local\\Continuum\\anaconda3\\lib\\site-packages\\sklearn\\feature_selection\\univariate_selection.py:114: RuntimeWarning: invalid value encountered in true_divide\n",
      "  f = msb / msw\n"
     ]
    },
    {
     "name": "stdout",
     "output_type": "stream",
     "text": [
      "[2018-08-15 23:29:24.817699] Done with model: ann with grouping: ivp (Took 4.783 minutes)\n"
     ]
    },
    {
     "name": "stderr",
     "output_type": "stream",
     "text": [
      "C:\\Users\\jtbricker\\AppData\\Local\\Continuum\\anaconda3\\lib\\site-packages\\sklearn\\feature_selection\\univariate_selection.py:113: UserWarning: Features [1] are constant.\n",
      "  UserWarning)\n",
      "C:\\Users\\jtbricker\\AppData\\Local\\Continuum\\anaconda3\\lib\\site-packages\\sklearn\\feature_selection\\univariate_selection.py:114: RuntimeWarning: invalid value encountered in true_divide\n",
      "  f = msb / msw\n",
      "C:\\Users\\jtbricker\\AppData\\Local\\Continuum\\anaconda3\\lib\\site-packages\\sklearn\\neural_network\\multilayer_perceptron.py:564: ConvergenceWarning: Stochastic Optimizer: Maximum iterations (200) reached and the optimization hasn't converged yet.\n",
      "  % self.max_iter, ConvergenceWarning)\n"
     ]
    },
    {
     "name": "stdout",
     "output_type": "stream",
     "text": [
      "Saving results of model run (ann) to data/results_test.xlsx\n"
     ]
    }
   ],
   "source": [
    "import numpy as np\n",
    "from sklearn.ensemble import AdaBoostClassifier\n",
    "from imblearn.pipeline import Pipeline\n",
    "from sklearn.preprocessing import StandardScaler\n",
    "from imblearn.over_sampling import RandomOverSampler\n",
    "from sklearn.feature_selection import SelectKBest, f_classif\n",
    "from sklearn.decomposition import PCA\n",
    "\n",
    "from pml.experiment.experiment import Grouping, Experiment\n",
    "from pml.experiment.model import Model\n",
    "from pml.data.data import DataFile, BrainData\n",
    "from pml.utility.default import get_baseline_models\n",
    "from sklearn.model_selection import LeaveOneOut\n",
    "\n",
    "print('KEY: ')\n",
    "KEY= input()\n",
    "print('DESCRIPTION: ')\n",
    "DESCRIPTION= input()\n",
    "CV=5\n",
    "\n",
    "# DATA_FILE= BrainData(file_url='data/all_data.xlsx', name='All Data')\n",
    "# VALIDATION_FILE= BrainData(file_url='data/Validation_3.0.xlsx', name='Validation Data')\n",
    "\n",
    "DATA_FILE= BrainData(file_url='data/Training_with_Patterns_and_Loads.xlsx', name='All Data with engineered features')\n",
    "VALIDATION_FILE= BrainData(file_url='data/Validation_with_Patterns_and_Loads.xlsx', name='Validation Data with engineered features')\n",
    "\n",
    "RESULTS_FILE= DataFile(file_url='data/results_test.xlsx', name='Test Results')\n",
    "\n",
    "GROUPINGS = [\n",
    "#     Grouping(name='cvp', description='Control vs. All Parkinsons', grouping={0:0, 1:1, 2:1, 3:1}),\n",
    "#     Grouping(name='iva', description='Idiopathic vs. Atypical Parkinsons', grouping={1:0, 2:1, 3:1}),\n",
    "#     Grouping(name='mvp', description='MSA vs. PSP', grouping={2:0, 3:1}),\n",
    "#     Grouping(name='ipvm', description='Idiopathic and PSP vs. MSA', grouping={1:0, 2:1, 3:0},),\n",
    "#     Grouping(name='imvp', description='Idiopathic and MSA vs. PSP', grouping={1:0, 2:0, 3:1}),\n",
    "    Grouping(name='ivp', description='Idiopathic vs. PSP', grouping={1:0, 3:1})\n",
    "]\n",
    "\n",
    "# list = ['UPDRS', 'pSN_FA', 'pSN_FW', 'Putamen_FA', 'GroupID']\n",
    "\n",
    "MODELS = get_baseline_models()\n",
    "\n",
    "for model in MODELS:\n",
    "#     model.parameter_grid['classifier__class_weight'] = ['balanced']\n",
    "    model.parameter_grid['kbest__k'] = [10]\n",
    "\n",
    "# MODELS = [model for model in MODELS if model.name == 'log']\n",
    "\n",
    "PIPELINE = Pipeline([\n",
    "    (\"standardization\", StandardScaler()),\n",
    "#     ('pca', PCA()),\n",
    "    ('oversampler', RandomOverSampler()),\n",
    "    ('kbest', SelectKBest(score_func=f_classif)),\n",
    "])\n",
    "\n",
    "experiment = Experiment(\n",
    "    data_file=DATA_FILE, validation_file=VALIDATION_FILE,\n",
    "    description=DESCRIPTION, cv=CV, groupings=GROUPINGS, key=KEY,\n",
    "    models=MODELS, pipeline=PIPELINE, results_file=RESULTS_FILE\n",
    ")\n",
    "\n",
    "# experiment.data_file = experiment.data_file.df[list]\n",
    "# experiment.validation_file = experiment.validation_file.df[list]\n",
    "\n",
    "_ = experiment.run()"
   ]
  },
  {
   "cell_type": "code",
   "execution_count": null,
   "metadata": {},
   "outputs": [],
   "source": []
  }
 ],
 "metadata": {
  "kernelspec": {
   "display_name": "Python 3",
   "language": "python",
   "name": "python3"
  },
  "language_info": {
   "codemirror_mode": {
    "name": "ipython",
    "version": 3
   },
   "file_extension": ".py",
   "mimetype": "text/x-python",
   "name": "python",
   "nbconvert_exporter": "python",
   "pygments_lexer": "ipython3",
   "version": "3.6.3"
  }
 },
 "nbformat": 4,
 "nbformat_minor": 2
}
