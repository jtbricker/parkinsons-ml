{
 "cells": [
  {
   "cell_type": "markdown",
   "metadata": {},
   "source": [
    "# Refactor\n",
    "Refactoring the Adaboost Notebook to use the new library"
   ]
  },
  {
   "cell_type": "code",
   "execution_count": 15,
   "metadata": {},
   "outputs": [
    {
     "name": "stdout",
     "output_type": "stream",
     "text": [
      "===================================================================================\n",
      "====\n",
      "====\n",
      "====                   Starting log model with Control vs. All Parkinsons grouping\n",
      "====\n",
      "====                   (LOG_K1_30)- Log. k best 1 throug 30\n",
      "====\n",
      "====\n",
      "===================================================================================\n",
      "[2018-08-06 08:15:40.463240] Starting model: log with grouping: cvp\n",
      "Fitting 5 folds for each of 1740 candidates, totalling 8700 fits\n"
     ]
    },
    {
     "name": "stderr",
     "output_type": "stream",
     "text": [
      "[Parallel(n_jobs=-1)]: Done  16 tasks      | elapsed:   24.4s\n",
      "[Parallel(n_jobs=-1)]: Done 1178 tasks      | elapsed:   26.1s\n",
      "[Parallel(n_jobs=-1)]: Done 5338 tasks      | elapsed:   31.1s\n",
      "[Parallel(n_jobs=-1)]: Done 8700 out of 8700 | elapsed:   35.7s finished\n"
     ]
    },
    {
     "name": "stdout",
     "output_type": "stream",
     "text": [
      "[2018-08-06 08:16:16.517499] Done with model: log with grouping: cvp (Took 0.600 minutes)\n",
      "Saving results of model run (log) to data/results_test.xlsx\n",
      "===================================================================================\n",
      "====\n",
      "====\n",
      "====                   Starting log model with Idiopathic vs. Atypical Parkinsons grouping\n",
      "====\n",
      "====                   (LOG_K1_30)- Log. k best 1 throug 30\n",
      "====\n",
      "====\n",
      "===================================================================================\n",
      "[2018-08-06 08:16:16.723556] Starting model: log with grouping: iva\n",
      "Fitting 5 folds for each of 1740 candidates, totalling 8700 fits\n"
     ]
    },
    {
     "name": "stderr",
     "output_type": "stream",
     "text": [
      "[Parallel(n_jobs=-1)]: Done  16 tasks      | elapsed:    6.4s\n",
      "[Parallel(n_jobs=-1)]: Done 1163 tasks      | elapsed:    8.1s\n",
      "[Parallel(n_jobs=-1)]: Done 5003 tasks      | elapsed:   12.4s\n",
      "[Parallel(n_jobs=-1)]: Done 8700 out of 8700 | elapsed:   16.5s finished\n",
      "C:\\Users\\jtbricker\\AppData\\Local\\Continuum\\anaconda3\\lib\\site-packages\\sklearn\\feature_selection\\univariate_selection.py:113: UserWarning: Features [1] are constant.\n",
      "  UserWarning)\n",
      "C:\\Users\\jtbricker\\AppData\\Local\\Continuum\\anaconda3\\lib\\site-packages\\sklearn\\feature_selection\\univariate_selection.py:114: RuntimeWarning: invalid value encountered in true_divide\n",
      "  f = msb / msw\n",
      "C:\\Users\\jtbricker\\AppData\\Local\\Continuum\\anaconda3\\lib\\site-packages\\sklearn\\feature_selection\\univariate_selection.py:113: UserWarning: Features [1] are constant.\n",
      "  UserWarning)\n",
      "C:\\Users\\jtbricker\\AppData\\Local\\Continuum\\anaconda3\\lib\\site-packages\\sklearn\\feature_selection\\univariate_selection.py:114: RuntimeWarning: invalid value encountered in true_divide\n",
      "  f = msb / msw\n"
     ]
    },
    {
     "name": "stdout",
     "output_type": "stream",
     "text": [
      "[2018-08-06 08:16:33.664934] Done with model: log with grouping: iva (Took 0.267 minutes)\n",
      "Saving results of model run (log) to data/results_test.xlsx\n",
      "===================================================================================\n",
      "===="
     ]
    },
    {
     "name": "stderr",
     "output_type": "stream",
     "text": [
      "[Parallel(n_jobs=-1)]: Done  16 tasks      | elapsed:    6.1s\n",
      "[Parallel(n_jobs=-1)]: Done 1163 tasks      | elapsed:    7.6s\n",
      "[Parallel(n_jobs=-1)]: Done 5003 tasks      | elapsed:   11.6s\n",
      "[Parallel(n_jobs=-1)]: Done 8700 out of 8700 | elapsed:   15.2s finished\n"
     ]
    },
    {
     "name": "stdout",
     "output_type": "stream",
     "text": [
      "\n",
      "====\n",
      "====                   Starting log model with MSA vs. PSP grouping\n",
      "====\n",
      "====                   (LOG_K1_30)- Log. k best 1 throug 30\n",
      "====\n",
      "====\n",
      "===================================================================================\n",
      "[2018-08-06 08:16:33.852948] Starting model: log with grouping: mvp\n",
      "Fitting 5 folds for each of 1740 candidates, totalling 8700 fits\n",
      "[2018-08-06 08:16:49.315029] Done with model: log with grouping: mvp (Took 0.250 minutes)\n",
      "Saving results of model run (log) to data/results_test.xlsx\n",
      "==================================================================================="
     ]
    },
    {
     "name": "stderr",
     "output_type": "stream",
     "text": [
      "[Parallel(n_jobs=-1)]: Done  16 tasks      | elapsed:    6.0s\n",
      "[Parallel(n_jobs=-1)]: Done 876 tasks      | elapsed:    7.3s\n",
      "[Parallel(n_jobs=-1)]: Done 3756 tasks      | elapsed:   10.7s\n",
      "[Parallel(n_jobs=-1)]: Done 7788 tasks      | elapsed:   16.5s\n",
      "[Parallel(n_jobs=-1)]: Done 8700 out of 8700 | elapsed:   18.0s finished\n",
      "C:\\Users\\jtbricker\\AppData\\Local\\Continuum\\anaconda3\\lib\\site-packages\\sklearn\\feature_selection\\univariate_selection.py:113: UserWarning: Features [1] are constant.\n",
      "  UserWarning)\n",
      "C:\\Users\\jtbricker\\AppData\\Local\\Continuum\\anaconda3\\lib\\site-packages\\sklearn\\feature_selection\\univariate_selection.py:114: RuntimeWarning: invalid value encountered in true_divide\n",
      "  f = msb / msw\n",
      "C:\\Users\\jtbricker\\AppData\\Local\\Continuum\\anaconda3\\lib\\site-packages\\sklearn\\feature_selection\\univariate_selection.py:113: UserWarning: Features [1] are constant.\n",
      "  UserWarning)\n",
      "C:\\Users\\jtbricker\\AppData\\Local\\Continuum\\anaconda3\\lib\\site-packages\\sklearn\\feature_selection\\univariate_selection.py:114: RuntimeWarning: invalid value encountered in true_divide\n",
      "  f = msb / msw\n"
     ]
    },
    {
     "name": "stdout",
     "output_type": "stream",
     "text": [
      "\n",
      "====\n",
      "====\n",
      "====                   Starting log model with Idiopathic and PSP vs. MSA grouping\n",
      "====\n",
      "====                   (LOG_K1_30)- Log. k best 1 throug 30\n",
      "====\n",
      "====\n",
      "===================================================================================\n",
      "[2018-08-06 08:16:49.506018] Starting model: log with grouping: ipvm\n",
      "Fitting 5 folds for each of 1740 candidates, totalling 8700 fits\n",
      "[2018-08-06 08:17:07.927899] Done with model: log with grouping: ipvm (Took 0.300 minutes)\n",
      "Saving results of model run (log) to data/results_test.xlsx\n",
      "==================================================================================="
     ]
    },
    {
     "name": "stderr",
     "output_type": "stream",
     "text": [
      "[Parallel(n_jobs=-1)]: Done  16 tasks      | elapsed:    6.1s\n",
      "[Parallel(n_jobs=-1)]: Done 1163 tasks      | elapsed:    7.8s\n",
      "[Parallel(n_jobs=-1)]: Done 5003 tasks      | elapsed:   12.3s\n",
      "[Parallel(n_jobs=-1)]: Done 8700 out of 8700 | elapsed:   16.4s finished\n",
      "C:\\Users\\jtbricker\\AppData\\Local\\Continuum\\anaconda3\\lib\\site-packages\\sklearn\\feature_selection\\univariate_selection.py:113: UserWarning: Features [1] are constant.\n",
      "  UserWarning)\n",
      "C:\\Users\\jtbricker\\AppData\\Local\\Continuum\\anaconda3\\lib\\site-packages\\sklearn\\feature_selection\\univariate_selection.py:114: RuntimeWarning: invalid value encountered in true_divide\n",
      "  f = msb / msw\n",
      "C:\\Users\\jtbricker\\AppData\\Local\\Continuum\\anaconda3\\lib\\site-packages\\sklearn\\feature_selection\\univariate_selection.py:113: UserWarning: Features [1] are constant.\n",
      "  UserWarning)\n",
      "C:\\Users\\jtbricker\\AppData\\Local\\Continuum\\anaconda3\\lib\\site-packages\\sklearn\\feature_selection\\univariate_selection.py:114: RuntimeWarning: invalid value encountered in true_divide\n",
      "  f = msb / msw\n"
     ]
    },
    {
     "name": "stdout",
     "output_type": "stream",
     "text": [
      "\n",
      "====\n",
      "====\n",
      "====                   Starting log model with Idiopathic and MSA vs. PSP grouping\n",
      "====\n",
      "====                   (LOG_K1_30)- Log. k best 1 throug 30\n",
      "====\n",
      "====\n",
      "===================================================================================\n",
      "[2018-08-06 08:17:08.118562] Starting model: log with grouping: imvp\n",
      "Fitting 5 folds for each of 1740 candidates, totalling 8700 fits\n",
      "[2018-08-06 08:17:24.757227] Done with model: log with grouping: imvp (Took 0.267 minutes)\n",
      "Saving results of model run (log) to data/results_test.xlsx\n"
     ]
    }
   ],
   "source": [
    "import numpy as np\n",
    "from sklearn.ensemble import AdaBoostClassifier\n",
    "from imblearn.pipeline import Pipeline\n",
    "from sklearn.preprocessing import StandardScaler\n",
    "from imblearn.over_sampling import RandomOverSampler\n",
    "from sklearn.feature_selection import SelectKBest, f_classif\n",
    "from sklearn.decomposition import PCA\n",
    "\n",
    "from pml.experiment.experiment import Grouping, Experiment\n",
    "from pml.experiment.model import Model\n",
    "from pml.data.data import DataFile, BrainData\n",
    "from pml.utility.default import get_baseline_models\n",
    "from sklearn.model_selection import LeaveOneOut\n",
    "\n",
    "print('KEY: ')\n",
    "KEY= input()\n",
    "print('DESCRIPTION: ')\n",
    "DESCRIPTION= input()\n",
    "CV=5\n",
    "\n",
    "# DATA_FILE= BrainData(file_url='data/all_data.xlsx', name='All Data')\n",
    "# VALIDATION_FILE= BrainData(file_url='data/Validation_3.0.xlsx', name='Validation Data')\n",
    "\n",
    "DATA_FILE= BrainData(file_url='data/Training_with_Patterns.xlsx', name='All Data with engineered features')\n",
    "VALIDATION_FILE= BrainData(file_url='data/Validation_with_Patterns.xlsx', name='Validation Data with engineered features')\n",
    "\n",
    "RESULTS_FILE= DataFile(file_url='data/results_test.xlsx', name='Test Results')\n",
    "\n",
    "GROUPINGS = [\n",
    "    Grouping(name='cvp', description='Control vs. All Parkinsons', grouping={0:0, 1:1, 2:1, 3:1}),\n",
    "    Grouping(name='iva', description='Idiopathic vs. Atypical Parkinsons', grouping={1:0, 2:1, 3:1}),\n",
    "    Grouping(name='mvp', description='MSA vs. PSP', grouping={2:0, 3:1}),\n",
    "    Grouping(name='ipvm', description='Idiopathic and PSP vs. MSA', grouping={1:0, 2:1, 3:0},),\n",
    "    Grouping(name='imvp', description='Idiopathic and MSA vs. PSP', grouping={1:0, 2:0, 3:1})\n",
    "]\n",
    "\n",
    "# list = ['UPDRS', 'pSN_FA', 'pSN_FW', 'Putamen_FA', 'GroupID']\n",
    "\n",
    "MODELS = get_baseline_models()\n",
    "\n",
    "for model in MODELS:\n",
    "    model.parameter_grid['classifier__class_weight'] = ['balanced']\n",
    "    model.parameter_grid['kbest__k'] = range(1,30)\n",
    "\n",
    "MODELS = [model for model in MODELS if model.name == 'log']\n",
    "\n",
    "PIPELINE = Pipeline([\n",
    "    (\"standardization\", StandardScaler()),\n",
    "#     ('pca', PCA()),\n",
    "#     ('oversampler', RandomOverSampler()),\n",
    "    ('kbest', SelectKBest(score_func=f_classif)),\n",
    "])\n",
    "\n",
    "experiment = Experiment(\n",
    "    data_file=DATA_FILE, validation_file=VALIDATION_FILE,\n",
    "    description=DESCRIPTION, cv=CV, groupings=GROUPINGS, key=KEY,\n",
    "    models=MODELS, pipeline=PIPELINE, results_file=RESULTS_FILE\n",
    ")\n",
    "\n",
    "# experiment.data_file = experiment.data_file.df[list]\n",
    "# experiment.validation_file = experiment.validation_file.df[list]\n",
    "\n",
    "_ = experiment.run()"
   ]
  },
  {
   "cell_type": "code",
   "execution_count": null,
   "metadata": {},
   "outputs": [],
   "source": []
  }
 ],
 "metadata": {
  "kernelspec": {
   "display_name": "Python 3",
   "language": "python",
   "name": "python3"
  },
  "language_info": {
   "codemirror_mode": {
    "name": "ipython",
    "version": 3
   },
   "file_extension": ".py",
   "mimetype": "text/x-python",
   "name": "python",
   "nbconvert_exporter": "python",
   "pygments_lexer": "ipython3",
   "version": "3.6.3"
  }
 },
 "nbformat": 4,
 "nbformat_minor": 2
}
