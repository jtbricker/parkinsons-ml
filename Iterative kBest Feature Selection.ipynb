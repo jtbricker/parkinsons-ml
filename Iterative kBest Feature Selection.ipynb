{
 "cells": [
  {
   "cell_type": "markdown",
   "metadata": {},
   "source": [
    "In this notebook I want to do KBest Feature Selection using a variable number of selected features (sorted by best ANOVA F-score) and plot the results"
   ]
  },
  {
   "cell_type": "code",
   "execution_count": 1,
   "metadata": {},
   "outputs": [],
   "source": [
    "import ml_utils as mu\n",
    "from sklearn.model_selection import train_test_split\n",
    "from sklearn.feature_selection import SelectKBest, f_classif\n",
    "from matplotlib import pyplot as plt"
   ]
  },
  {
   "cell_type": "code",
   "execution_count": 2,
   "metadata": {},
   "outputs": [],
   "source": [
    "# get training and validation data\n",
    "data = mu.get_training_data()\n",
    "valid_data = mu.get_validation_data(data.columns)"
   ]
  },
  {
   "cell_type": "code",
   "execution_count": null,
   "metadata": {},
   "outputs": [
    {
     "name": "stdout",
     "output_type": "stream",
     "text": [
      "Starting K-Best with 1 features (of 37)\n",
      "Starting K-Best with 2 features (of 37)\n",
      "Starting K-Best with 3 features (of 37)\n",
      "Starting K-Best with 4 features (of 37)\n",
      "Starting K-Best with 5 features (of 37)\n",
      "Starting K-Best with 6 features (of 37)\n",
      "Starting K-Best with 7 features (of 37)\n",
      "Starting K-Best with 8 features (of 37)\n",
      "Starting K-Best with 9 features (of 37)\n",
      "Starting K-Best with 10 features (of 37)\n",
      "Starting K-Best with 11 features (of 37)\n",
      "Starting K-Best with 12 features (of 37)\n",
      "Starting K-Best with 13 features (of 37)\n",
      "Starting K-Best with 14 features (of 37)\n",
      "Starting K-Best with 15 features (of 37)\n",
      "Starting K-Best with 16 features (of 37)\n",
      "Starting K-Best with 17 features (of 37)\n",
      "Starting K-Best with 18 features (of 37)\n",
      "Starting K-Best with 19 features (of 37)\n",
      "Starting K-Best with 20 features (of 37)\n",
      "Starting K-Best with 21 features (of 37)\n",
      "Starting K-Best with 22 features (of 37)\n",
      "Starting K-Best with 23 features (of 37)\n",
      "Starting K-Best with 24 features (of 37)\n",
      "Starting K-Best with 25 features (of 37)\n",
      "Starting K-Best with 26 features (of 37)\n",
      "Starting K-Best with 27 features (of 37)\n",
      "Starting K-Best with 28 features (of 37)\n",
      "Starting K-Best with 29 features (of 37)\n",
      "Starting K-Best with 30 features (of 37)\n",
      "Starting K-Best with 31 features (of 37)\n",
      "Starting K-Best with 32 features (of 37)\n",
      "Starting K-Best with 33 features (of 37)\n",
      "Starting K-Best with 34 features (of 37)\n",
      "Starting K-Best with 35 features (of 37)\n",
      "Starting K-Best with 36 features (of 37)\n",
      "Starting K-Best with 37 features (of 37)\n",
      "Done\n"
     ]
    },
    {
     "data": {
      "image/png": "[encoded data removed]",
      "text/plain": [
       "<Figure size 432x288 with 1 Axes>"
      ]
     },
     "metadata": {},
     "output_type": "display_data"
    },
    {
     "name": "stdout",
     "output_type": "stream",
     "text": [
      "Starting K-Best with 1 features (of 37)\n",
      "Starting K-Best with 2 features (of 37)\n",
      "Starting K-Best with 3 features (of 37)\n",
      "Starting K-Best with 4 features (of 37)\n",
      "Starting K-Best with 5 features (of 37)\n",
      "Starting K-Best with 6 features (of 37)\n",
      "Starting K-Best with 7 features (of 37)\n",
      "Starting K-Best with 8 features (of 37)\n",
      "Starting K-Best with 9 features (of 37)\n",
      "Starting K-Best with 10 features (of 37)\n",
      "Starting K-Best with 11 features (of 37)\n",
      "Starting K-Best with 12 features (of 37)\n",
      "Starting K-Best with 13 features (of 37)\n",
      "Starting K-Best with 14 features (of 37)\n",
      "Starting K-Best with 15 features (of 37)\n",
      "Starting K-Best with 16 features (of 37)\n",
      "Starting K-Best with 17 features (of 37)\n",
      "Starting K-Best with 18 features (of 37)\n",
      "Starting K-Best with 19 features (of 37)\n",
      "Starting K-Best with 20 features (of 37)\n",
      "Starting K-Best with 21 features (of 37)\n",
      "Starting K-Best with 22 features (of 37)\n",
      "Starting K-Best with 23 features (of 37)\n"
     ]
    },
    {
     "name": "stderr",
     "output_type": "stream",
     "text": [
      "c:\\users\\jtbri_000\\appdata\\local\\programs\\python\\python36-32\\lib\\site-packages\\sklearn\\metrics\\classification.py:1135: UndefinedMetricWarning: Precision and F-score are ill-defined and being set to 0.0 in labels with no predicted samples.\n",
      "  'precision', 'predicted', average, warn_for)\n"
     ]
    },
    {
     "name": "stdout",
     "output_type": "stream",
     "text": [
      "Starting K-Best with 24 features (of 37)\n"
     ]
    },
    {
     "name": "stderr",
     "output_type": "stream",
     "text": [
      "c:\\users\\jtbri_000\\appdata\\local\\programs\\python\\python36-32\\lib\\site-packages\\sklearn\\metrics\\classification.py:1135: UndefinedMetricWarning: Precision and F-score are ill-defined and being set to 0.0 in labels with no predicted samples.\n",
      "  'precision', 'predicted', average, warn_for)\n"
     ]
    },
    {
     "name": "stdout",
     "output_type": "stream",
     "text": [
      "Starting K-Best with 25 features (of 37)\n"
     ]
    },
    {
     "name": "stderr",
     "output_type": "stream",
     "text": [
      "c:\\users\\jtbri_000\\appdata\\local\\programs\\python\\python36-32\\lib\\site-packages\\sklearn\\metrics\\classification.py:1135: UndefinedMetricWarning: Precision and F-score are ill-defined and being set to 0.0 in labels with no predicted samples.\n",
      "  'precision', 'predicted', average, warn_for)\n"
     ]
    },
    {
     "name": "stdout",
     "output_type": "stream",
     "text": [
      "Starting K-Best with 26 features (of 37)\n"
     ]
    },
    {
     "name": "stderr",
     "output_type": "stream",
     "text": [
      "c:\\users\\jtbri_000\\appdata\\local\\programs\\python\\python36-32\\lib\\site-packages\\sklearn\\metrics\\classification.py:1135: UndefinedMetricWarning: Precision and F-score are ill-defined and being set to 0.0 in labels with no predicted samples.\n",
      "  'precision', 'predicted', average, warn_for)\n"
     ]
    },
    {
     "name": "stdout",
     "output_type": "stream",
     "text": [
      "Starting K-Best with 27 features (of 37)\n"
     ]
    },
    {
     "name": "stderr",
     "output_type": "stream",
     "text": [
      "c:\\users\\jtbri_000\\appdata\\local\\programs\\python\\python36-32\\lib\\site-packages\\sklearn\\metrics\\classification.py:1135: UndefinedMetricWarning: Precision and F-score are ill-defined and being set to 0.0 in labels with no predicted samples.\n",
      "  'precision', 'predicted', average, warn_for)\n"
     ]
    },
    {
     "name": "stdout",
     "output_type": "stream",
     "text": [
      "Starting K-Best with 28 features (of 37)\n"
     ]
    },
    {
     "name": "stderr",
     "output_type": "stream",
     "text": [
      "c:\\users\\jtbri_000\\appdata\\local\\programs\\python\\python36-32\\lib\\site-packages\\sklearn\\metrics\\classification.py:1135: UndefinedMetricWarning: Precision and F-score are ill-defined and being set to 0.0 in labels with no predicted samples.\n",
      "  'precision', 'predicted', average, warn_for)\n"
     ]
    },
    {
     "name": "stdout",
     "output_type": "stream",
     "text": [
      "Starting K-Best with 29 features (of 37)\n"
     ]
    },
    {
     "name": "stderr",
     "output_type": "stream",
     "text": [
      "c:\\users\\jtbri_000\\appdata\\local\\programs\\python\\python36-32\\lib\\site-packages\\sklearn\\metrics\\classification.py:1135: UndefinedMetricWarning: Precision and F-score are ill-defined and being set to 0.0 in labels with no predicted samples.\n",
      "  'precision', 'predicted', average, warn_for)\n"
     ]
    },
    {
     "name": "stdout",
     "output_type": "stream",
     "text": [
      "Starting K-Best with 30 features (of 37)\n"
     ]
    },
    {
     "name": "stderr",
     "output_type": "stream",
     "text": [
      "c:\\users\\jtbri_000\\appdata\\local\\programs\\python\\python36-32\\lib\\site-packages\\sklearn\\metrics\\classification.py:1135: UndefinedMetricWarning: Precision and F-score are ill-defined and being set to 0.0 in labels with no predicted samples.\n",
      "  'precision', 'predicted', average, warn_for)\n"
     ]
    },
    {
     "name": "stdout",
     "output_type": "stream",
     "text": [
      "Starting K-Best with 31 features (of 37)\n"
     ]
    },
    {
     "name": "stderr",
     "output_type": "stream",
     "text": [
      "c:\\users\\jtbri_000\\appdata\\local\\programs\\python\\python36-32\\lib\\site-packages\\sklearn\\metrics\\classification.py:1135: UndefinedMetricWarning: Precision and F-score are ill-defined and being set to 0.0 in labels with no predicted samples.\n",
      "  'precision', 'predicted', average, warn_for)\n"
     ]
    },
    {
     "name": "stdout",
     "output_type": "stream",
     "text": [
      "Starting K-Best with 32 features (of 37)\n"
     ]
    },
    {
     "name": "stderr",
     "output_type": "stream",
     "text": [
      "c:\\users\\jtbri_000\\appdata\\local\\programs\\python\\python36-32\\lib\\site-packages\\sklearn\\metrics\\classification.py:1135: UndefinedMetricWarning: Precision and F-score are ill-defined and being set to 0.0 in labels with no predicted samples.\n",
      "  'precision', 'predicted', average, warn_for)\n"
     ]
    },
    {
     "name": "stdout",
     "output_type": "stream",
     "text": [
      "Starting K-Best with 33 features (of 37)\n"
     ]
    },
    {
     "name": "stderr",
     "output_type": "stream",
     "text": [
      "c:\\users\\jtbri_000\\appdata\\local\\programs\\python\\python36-32\\lib\\site-packages\\sklearn\\metrics\\classification.py:1135: UndefinedMetricWarning: Precision and F-score are ill-defined and being set to 0.0 in labels with no predicted samples.\n",
      "  'precision', 'predicted', average, warn_for)\n"
     ]
    },
    {
     "name": "stdout",
     "output_type": "stream",
     "text": [
      "Starting K-Best with 34 features (of 37)\n"
     ]
    },
    {
     "name": "stderr",
     "output_type": "stream",
     "text": [
      "c:\\users\\jtbri_000\\appdata\\local\\programs\\python\\python36-32\\lib\\site-packages\\sklearn\\metrics\\classification.py:1135: UndefinedMetricWarning: Precision and F-score are ill-defined and being set to 0.0 in labels with no predicted samples.\n",
      "  'precision', 'predicted', average, warn_for)\n"
     ]
    },
    {
     "name": "stdout",
     "output_type": "stream",
     "text": [
      "Starting K-Best with 35 features (of 37)\n"
     ]
    },
    {
     "name": "stderr",
     "output_type": "stream",
     "text": [
      "c:\\users\\jtbri_000\\appdata\\local\\programs\\python\\python36-32\\lib\\site-packages\\sklearn\\metrics\\classification.py:1135: UndefinedMetricWarning: Precision and F-score are ill-defined and being set to 0.0 in labels with no predicted samples.\n",
      "  'precision', 'predicted', average, warn_for)\n"
     ]
    },
    {
     "name": "stdout",
     "output_type": "stream",
     "text": [
      "Starting K-Best with 36 features (of 37)\n"
     ]
    },
    {
     "name": "stderr",
     "output_type": "stream",
     "text": [
      "c:\\users\\jtbri_000\\appdata\\local\\programs\\python\\python36-32\\lib\\site-packages\\sklearn\\metrics\\classification.py:1135: UndefinedMetricWarning: Precision and F-score are ill-defined and being set to 0.0 in labels with no predicted samples.\n",
      "  'precision', 'predicted', average, warn_for)\n"
     ]
    },
    {
     "name": "stdout",
     "output_type": "stream",
     "text": [
      "Starting K-Best with 37 features (of 37)\n"
     ]
    },
    {
     "name": "stderr",
     "output_type": "stream",
     "text": [
      "c:\\users\\jtbri_000\\appdata\\local\\programs\\python\\python36-32\\lib\\site-packages\\sklearn\\metrics\\classification.py:1135: UndefinedMetricWarning: Precision and F-score are ill-defined and being set to 0.0 in labels with no predicted samples.\n",
      "  'precision', 'predicted', average, warn_for)\n"
     ]
    },
    {
     "name": "stdout",
     "output_type": "stream",
     "text": [
      "Done\n"
     ]
    },
    {
     "data": {
      "image/png": "[encoded data removed]",
      "text/plain": [
       "<Figure size 432x288 with 1 Axes>"
      ]
     },
     "metadata": {},
     "output_type": "display_data"
    },
    {
     "name": "stdout",
     "output_type": "stream",
     "text": [
      "Starting K-Best with 1 features (of 37)\n",
      "Starting K-Best with 2 features (of 37)\n",
      "Starting K-Best with 3 features (of 37)\n",
      "Starting K-Best with 4 features (of 37)\n",
      "Starting K-Best with 5 features (of 37)\n",
      "Starting K-Best with 6 features (of 37)\n",
      "Starting K-Best with 7 features (of 37)\n",
      "Starting K-Best with 8 features (of 37)\n",
      "Starting K-Best with 9 features (of 37)\n",
      "Starting K-Best with 10 features (of 37)\n",
      "Starting K-Best with 11 features (of 37)\n",
      "Starting K-Best with 12 features (of 37)\n",
      "Starting K-Best with 13 features (of 37)\n",
      "Starting K-Best with 14 features (of 37)\n",
      "Starting K-Best with 15 features (of 37)\n",
      "Starting K-Best with 16 features (of 37)\n",
      "Starting K-Best with 17 features (of 37)\n",
      "Starting K-Best with 18 features (of 37)\n",
      "Starting K-Best with 19 features (of 37)\n",
      "Starting K-Best with 20 features (of 37)\n",
      "Starting K-Best with 21 features (of 37)\n",
      "Starting K-Best with 22 features (of 37)\n",
      "Starting K-Best with 23 features (of 37)\n",
      "Starting K-Best with 24 features (of 37)\n",
      "Starting K-Best with 25 features (of 37)\n",
      "Starting K-Best with 26 features (of 37)\n",
      "Starting K-Best with 27 features (of 37)\n",
      "Starting K-Best with 28 features (of 37)\n",
      "Starting K-Best with 29 features (of 37)\n",
      "Starting K-Best with 30 features (of 37)\n",
      "Starting K-Best with 31 features (of 37)\n",
      "Starting K-Best with 32 features (of 37)\n",
      "Starting K-Best with 33 features (of 37)\n",
      "Starting K-Best with 34 features (of 37)\n",
      "Starting K-Best with 35 features (of 37)\n",
      "Starting K-Best with 36 features (of 37)\n",
      "Starting K-Best with 37 features (of 37)\n",
      "Done\n"
     ]
    },
    {
     "data": {
      "image/png": "[encoded data removed]",
      "text/plain": [
       "<Figure size 432x288 with 1 Axes>"
      ]
     },
     "metadata": {},
     "output_type": "display_data"
    },
    {
     "name": "stdout",
     "output_type": "stream",
     "text": [
      "Starting K-Best with 1 features (of 37)\n",
      "Starting K-Best with 2 features (of 37)\n",
      "Starting K-Best with 3 features (of 37)\n",
      "Starting K-Best with 4 features (of 37)\n",
      "Starting K-Best with 5 features (of 37)\n",
      "Starting K-Best with 6 features (of 37)\n",
      "Starting K-Best with 7 features (of 37)\n",
      "Starting K-Best with 8 features (of 37)\n",
      "Starting K-Best with 9 features (of 37)\n",
      "Starting K-Best with 10 features (of 37)\n",
      "Starting K-Best with 11 features (of 37)\n",
      "Starting K-Best with 12 features (of 37)\n",
      "Starting K-Best with 13 features (of 37)\n",
      "Starting K-Best with 14 features (of 37)\n",
      "Starting K-Best with 15 features (of 37)\n",
      "Starting K-Best with 16 features (of 37)\n",
      "Starting K-Best with 17 features (of 37)\n",
      "Starting K-Best with 18 features (of 37)\n",
      "Starting K-Best with 19 features (of 37)\n",
      "Starting K-Best with 20 features (of 37)\n",
      "Starting K-Best with 21 features (of 37)\n",
      "Starting K-Best with 22 features (of 37)\n",
      "Starting K-Best with 23 features (of 37)\n",
      "Starting K-Best with 24 features (of 37)\n",
      "Starting K-Best with 25 features (of 37)\n"
     ]
    }
   ],
   "source": [
    "import sys, os\n",
    "\n",
    "# group classes and leave out unwanted data\n",
    "group_descs = [\"Control vs. All Park\", \"Iso Park vs. Atypical Park\", \"MSA vs. PSP\", \"Control v. Iso Park v. MSA v. PSP\"]\n",
    "class_groups = [{0:0, 1:1, 2:1, 3:1}, {1:1, 2:2, 3:2}, {2:2, 3:3}, {0:0, 1:1, 2:2, 3:3}] \n",
    "\n",
    "group_results = []\n",
    "for i in range(len(class_groups)):\n",
    "    data_grouped = mu.group_classes(data, class_groups[i])\n",
    "    valid_data_grouped = mu.group_classes(valid_data, class_groups[i])\n",
    "\n",
    "    # split the x and y data\n",
    "    X, y = mu.split_x_and_y(data_grouped)\n",
    "    valid_X, valid_y = mu.split_x_and_y(valid_data_grouped)\n",
    "\n",
    "    # split the data into test and train sets\n",
    "    X_train, X_test, y_train, y_test = train_test_split(X, y)\n",
    "\n",
    "    # Run through all possible number of features and save the classifier, test data score and validation data scores\n",
    "    clfs = []\n",
    "    test_data_scores = []\n",
    "    valid_data_scores = []\n",
    "\n",
    "    ks = range(1, X.shape[1]+1)\n",
    "    for k in ks:\n",
    "        print(\"Starting K-Best with %d features (of %d)\" %(k, X.shape[1]))\n",
    "        \n",
    "        # Feature Selection using ANOVA F-score\n",
    "        kbest = SelectKBest(score_func=f_classif, k=k).fit(X_train, y_train)\n",
    "\n",
    "        # transform data using k best feature selector\n",
    "        X_train_k = kbest.transform(X_train)\n",
    "        X_test_k = kbest.transform(X_test)\n",
    "        valid_X_k = kbest.transform(valid_X)\n",
    "\n",
    "        with mu.HiddenPrints():\n",
    "            # resample the training data to get equal class sizes\n",
    "            X_train_k_res, y_train_res = mu.resample_to_equal_class_sizes(X_train_k, y_train)\n",
    "            \n",
    "            # grid search for the best SVC model\n",
    "            clf = mu.svm_grid_search(X_train_k_res, X_test_k, y_train_res, y_test).best_estimator_\n",
    "\n",
    "        clfs.append(clf)\n",
    "        test_data_scores.append(clf.score(X_test_k, y_test))\n",
    "        valid_data_scores.append(clf.score(valid_X_k, valid_y))\n",
    "\n",
    "    print(\"Done\")\n",
    "\n",
    "    plt.figure()\n",
    "    plt.plot(ks, test_data_scores, color='blue', label='Test Data')\n",
    "    plt.plot(ks, valid_data_scores, color='red', label='Validation Data')\n",
    "    plt.legend()\n",
    "    plt.xlabel('Number of Features')\n",
    "    plt.ylabel('Accuracy Score')\n",
    "    plt.title(group_descs[i])\n",
    "    plt.show()\n",
    "    \n",
    "    group_results.append({'clfs': clfs, 'test_data_scores': test_data_scores, 'valid_data_scores': valid_data_scores})\n",
    "    "
   ]
  },
  {
   "cell_type": "code",
   "execution_count": 27,
   "metadata": {},
   "outputs": [],
   "source": [
    "import numpy as np\n",
    "index = np.argmax(valid_data_scores)"
   ]
  },
  {
   "cell_type": "code",
   "execution_count": 6,
   "metadata": {},
   "outputs": [
    {
     "name": "stdout",
     "output_type": "stream",
     "text": [
      "Starting K-Best with 12 features of 12\n"
     ]
    }
   ],
   "source": [
    "print(\"Starting K-Best with %d features of %d\"%(12,12))"
   ]
  },
  {
   "cell_type": "code",
   "execution_count": 28,
   "metadata": {},
   "outputs": [
    {
     "data": {
      "text/plain": [
       "29"
      ]
     },
     "execution_count": 28,
     "metadata": {},
     "output_type": "execute_result"
    }
   ],
   "source": [
    "index"
   ]
  },
  {
   "cell_type": "code",
   "execution_count": 30,
   "metadata": {},
   "outputs": [],
   "source": [
    "best_clf = clfs[index]"
   ]
  },
  {
   "cell_type": "code",
   "execution_count": 33,
   "metadata": {},
   "outputs": [
    {
     "data": {
      "text/plain": [
       "0.9798927613941019"
      ]
     },
     "execution_count": 33,
     "metadata": {},
     "output_type": "execute_result"
    }
   ],
   "source": [
    "kbest_best = SelectKBest(score_func=f_classif, k=ks[index]).fit(X_train, y_train)\n",
    "\n",
    "\n",
    "best_clf.score(kbest_best.transform(X),y)"
   ]
  },
  {
   "cell_type": "code",
   "execution_count": null,
   "metadata": {},
   "outputs": [],
   "source": []
  }
 ],
 "metadata": {
  "kernelspec": {
   "display_name": "Python 3",
   "language": "python",
   "name": "python3"
  },
  "language_info": {
   "codemirror_mode": {
    "name": "ipython",
    "version": 3
   },
   "file_extension": ".py",
   "mimetype": "text/x-python",
   "name": "python",
   "nbconvert_exporter": "python",
   "pygments_lexer": "ipython3",
   "version": "3.6.1"
  }
 },
 "nbformat": 4,
 "nbformat_minor": 2
}
