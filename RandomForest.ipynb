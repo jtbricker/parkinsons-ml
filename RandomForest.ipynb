{
 "cells": [
  {
   "cell_type": "markdown",
   "metadata": {},
   "source": [
    "# RandomForest\n",
    "We want to create a model using Random Forest"
   ]
  },
  {
   "cell_type": "code",
   "execution_count": 2,
   "metadata": {},
   "outputs": [
    {
     "name": "stdout",
     "output_type": "stream",
     "text": [
      "Fitting 2 folds for each of 720 candidates, totalling 1440 fits\n"
     ]
    },
    {
     "name": "stderr",
     "output_type": "stream",
     "text": [
      "[Parallel(n_jobs=-1)]: Done  25 tasks      | elapsed:    8.9s\n",
      "[Parallel(n_jobs=-1)]: Done 146 tasks      | elapsed:   22.9s\n",
      "[Parallel(n_jobs=-1)]: Done 349 tasks      | elapsed:   46.4s\n",
      "[Parallel(n_jobs=-1)]: Done 632 tasks      | elapsed:  1.4min\n",
      "[Parallel(n_jobs=-1)]: Done 997 tasks      | elapsed:  2.1min\n",
      "[Parallel(n_jobs=-1)]: Done 1440 out of 1440 | elapsed:  3.0min finished\n",
      "C:\\Users\\jtbricker\\AppData\\Local\\Continuum\\anaconda3\\lib\\site-packages\\sklearn\\feature_selection\\univariate_selection.py:113: UserWarning: Features [1] are constant.\n",
      "  UserWarning)\n",
      "C:\\Users\\jtbricker\\AppData\\Local\\Continuum\\anaconda3\\lib\\site-packages\\sklearn\\feature_selection\\univariate_selection.py:114: RuntimeWarning: invalid value encountered in true_divide\n",
      "  f = msb / msw\n"
     ]
    },
    {
     "data": {
      "image/png": "[encoded data removed]",
      "text/plain": [
       "<matplotlib.figure.Figure at 0x27f4cc7cd68>"
      ]
     },
     "metadata": {},
     "output_type": "display_data"
    },
    {
     "name": "stdout",
     "output_type": "stream",
     "text": [
      "Fitting 2 folds for each of 720 candidates, totalling 1440 fits\n"
     ]
    },
    {
     "name": "stderr",
     "output_type": "stream",
     "text": [
      "[Parallel(n_jobs=-1)]: Done  25 tasks      | elapsed:    8.7s\n",
      "[Parallel(n_jobs=-1)]: Done 146 tasks      | elapsed:   20.5s\n",
      "[Parallel(n_jobs=-1)]: Done 349 tasks      | elapsed:   40.6s\n",
      "[Parallel(n_jobs=-1)]: Done 632 tasks      | elapsed:  1.2min\n",
      "[Parallel(n_jobs=-1)]: Done 997 tasks      | elapsed:  1.8min\n",
      "[Parallel(n_jobs=-1)]: Done 1440 out of 1440 | elapsed:  2.6min finished\n"
     ]
    },
    {
     "data": {
      "image/png": "[encoded data removed]",
      "text/plain": [
       "<matplotlib.figure.Figure at 0x27f4cd217f0>"
      ]
     },
     "metadata": {},
     "output_type": "display_data"
    }
   ],
   "source": [
    "import pandas as pd\n",
    "import numpy as np\n",
    "\n",
    "from sklearn.model_selection import train_test_split\n",
    "from sklearn.model_selection import GridSearchCV\n",
    "from imblearn.pipeline import Pipeline\n",
    "from sklearn.preprocessing import StandardScaler\n",
    "from imblearn.over_sampling import RandomOverSampler\n",
    "from sklearn.feature_selection import SelectKBest, f_classif\n",
    "from sklearn.ensemble import RandomForestClassifier\n",
    "from sklearn.metrics import matthews_corrcoef, make_scorer, confusion_matrix\n",
    "\n",
    "import ml_utils as mu\n",
    "\n",
    "# groups to model\n",
    "groupings = [\n",
    "#     {'name': 'cvp', 'grouping':{0:0, 1:1, 2:1, 3:1}, 'description':'Control vs. All Parkinsons'},\n",
    "    {'name': 'iva', 'grouping':{1:0, 2:1, 3:1},'description':'Idiopathic vs. Atypical Parkinsons'},\n",
    "    {'name': 'mvp', 'grouping':{2:0, 3:1},'description':'MSA vs. PSP'},\n",
    "#     {'name': 'ipvm', 'grouping':{1:0, 2:1, 3:0},'description':'Idiopathic and PSP vs. MSA'},\n",
    "#     {'name': 'imvp', 'grouping':{1:0, 2:0, 3:1},'description':'Idiopathic and MSA vs. PSP'},\n",
    "]\n",
    "\n",
    "# parameters to optimize on\n",
    "params = {\n",
    "            \"classifier__n_estimators\": [500],\n",
    "            #     \"classifier__max_features\": range(1, 38, 2),\n",
    "            #     \"classifier__max_depth\": range(1, 21, 2),\n",
    "            \"classifier__min_samples_split\": range(2, 20, 2),\n",
    "            \"classifier__min_samples_leaf\": range(1, 25, 3),\n",
    "            \"kbest__k\": range(1, 11),\n",
    "        }\n",
    "\n",
    "# read in the data\n",
    "data = pd.read_excel('data/Training_with_Patterns.xlsx').drop(['Subject'], axis=1)\n",
    "\n",
    "# for each grouping, split into test and holdout sets and train the model\n",
    "for grouping in groupings:\n",
    "    name = grouping['name']\n",
    "    description = grouping['description']\n",
    "    \n",
    "    grouped_data = mu.group_classes(data, grouping['grouping'])\n",
    "        \n",
    "    y = grouped_data['GroupID']\n",
    "    X = grouped_data.drop(['GroupID'], axis=1)\n",
    "    \n",
    "    X_train, X_holdout, y_train, y_holdout = train_test_split(X, y, test_size = 0.2, stratify=y)\n",
    "\n",
    "    pipeline = Pipeline([\n",
    "        (\"standardization\", StandardScaler()),\n",
    "        ('oversampler', RandomOverSampler()),\n",
    "        ('kbest', SelectKBest(score_func=f_classif, k=7)),\n",
    "        (\"classifier\", RandomForestClassifier())\n",
    "    ])\n",
    "    \n",
    "    clf = GridSearchCV(estimator=pipeline, param_grid=params, scoring=make_scorer(matthews_corrcoef), cv=2, n_jobs=-1, verbose=2)\n",
    "    clf.fit(X_train, y_train)\n",
    "    best_clf = clf.best_estimator_\n",
    "    \n",
    "    yh_pred = best_clf.predict(X_holdout)\n",
    "    get_confusion_matrix(y_holdout, yh_pred, classes=description.split(' vs. '), title='Holdout: %s' %description)"
   ]
  },
  {
   "cell_type": "code",
   "execution_count": 1,
   "metadata": {},
   "outputs": [],
   "source": [
    "import matplotlib.pyplot as plt\n",
    "import itertools\n",
    "\n",
    "def get_confusion_matrix(y, y_pred, classes, title=\"Confusion Matrix\"):\n",
    "    cnf_matrix = confusion_matrix(y, y_pred)\n",
    "    plot_confusion_matrix(cnf_matrix, normalize=True, classes=classes, title=title)\n",
    "    \n",
    "def plot_confusion_matrix(cm, classes, normalize=False, title='Confusion matrix', cmap=plt.cm.Blues):\n",
    "    plt.figure()\n",
    "\n",
    "    if normalize:\n",
    "        cm = cm.astype('float') / cm.sum(axis=1)[:, np.newaxis]\n",
    "\n",
    "    plt.imshow(cm, interpolation='nearest', cmap=cmap)\n",
    "    plt.title(title)\n",
    "    plt.colorbar()\n",
    "    tick_marks = np.arange(len(classes))\n",
    "    plt.xticks(tick_marks, classes, rotation=45)\n",
    "    plt.yticks(tick_marks, classes)\n",
    "\n",
    "    fmt = '.2f' if normalize else 'd'\n",
    "    thresh = cm.max() / 2.\n",
    "    for i, j in itertools.product(range(cm.shape[0]), range(cm.shape[1])):\n",
    "        plt.text(j, i, format(cm[i, j], fmt),\n",
    "                 horizontalalignment=\"center\",\n",
    "                 color=\"white\" if cm[i, j] > thresh else \"black\")\n",
    "\n",
    "    plt.tight_layout()\n",
    "    plt.ylabel('True label')\n",
    "    plt.xlabel('Predicted label')\n",
    "    plt.show()"
   ]
  },
  {
   "cell_type": "markdown",
   "metadata": {},
   "source": [
    "### Stats to track:\n",
    "\n",
    "* Model Name\n",
    "* CV\n",
    "* Datetime\n",
    "* best parameters\n",
    "* variant code\n",
    "* description\n",
    "* data file name\n",
    "* validation data file name\n",
    "* time_elapsed\n",
    "*\n",
    "\n",
    "For each cross_validation, holdout, validation:\n",
    "* Sensitivity (Recall, True Positive Rate)\n",
    "* Specificity (True Negative Rate)\n",
    "* Precision  (Positive Predictive Value (PPV))\n",
    "* Negative Predictive Value (NPV)\n",
    "* Accuracy\n",
    "* AUC\n",
    "* MCC \n",
    "\n",
    "and standard deviation for each\n",
    "\n",
    "### TODO:\n",
    "* Setup db to track above stats on every run\n",
    "* Run the full suite again @ 2,5,10,20 fold\n",
    "\n",
    "Hopefully a model for each grouping where precision and recall > 0.75 (ideally > 0.80 )\n",
    "\n",
    "### Variants to Try\n",
    "* Don't run control vs. parkinsonism to save time\n",
    "* Additional groupings for MSA vs. Idiopathic and PSP, PSP vs. Idiopathic and MSA\n",
    "* PCA\n",
    "* Feature Subset Selection\n",
    "* Removing outliers\n",
    "* Normalizing the input data\n",
    "* Correcting for skewdness\n",
    "* For MSA vs. PSP: MCP_FW (FA), SCP_FW, PUTAMEN_FW (FA), LOBULE_VI_FW,  LOBULE_V_FW\n",
    "* ???? MCP/SCP ratio?"
   ]
  },
  {
   "cell_type": "code",
   "execution_count": null,
   "metadata": {},
   "outputs": [],
   "source": []
  }
 ],
 "metadata": {
  "kernelspec": {
   "display_name": "Python 3",
   "language": "python",
   "name": "python3"
  },
  "language_info": {
   "codemirror_mode": {
    "name": "ipython",
    "version": 3
   },
   "file_extension": ".py",
   "mimetype": "text/x-python",
   "name": "python",
   "nbconvert_exporter": "python",
   "pygments_lexer": "ipython3",
   "version": "3.6.3"
  }
 },
 "nbformat": 4,
 "nbformat_minor": 2
}
