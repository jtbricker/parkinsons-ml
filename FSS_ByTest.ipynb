{
 "cells": [
  {
   "cell_type": "markdown",
   "metadata": {},
   "source": [
    "In this notebook I want  to try to recreate the feature subset selection that Derek did using ANOVA to find the most significant features when evaluating differences between certain classes.  Namely Control/Parkinsons,  PD/MSA&PSP,  MSA/PSP"
   ]
  },
  {
   "cell_type": "code",
   "execution_count": 49,
   "metadata": {},
   "outputs": [],
   "source": [
    "from sklearn import svm\n",
    "from sklearn.metrics import classification_report\n",
    "from sklearn.model_selection import GridSearchCV\n",
    "\n",
    "def svm_grid_search(X_train, X_test, y_train, y_test, cv=5):\n",
    "\n",
    "    tuned_parameters = [{'kernel': ['linear'], 'C': [0.001, 0.01, 0.1, 1, 10, 100, 1000]}, {'kernel': ['rbf'], 'C': [1, 10, 100, 1000], 'gamma': [1e-4, 1e-3, 1e-2, 1e-1, 1]}]\n",
    "\n",
    "    print(\"# Tuning hyper-parameters for f1\")\n",
    "    print()\n",
    "\n",
    "    clf = GridSearchCV(svm.SVC(), tuned_parameters, cv=cv,\n",
    "                       n_jobs = -1 )\n",
    "    clf.fit(X_train, y_train)\n",
    "\n",
    "    print(\"Best parameters set found on development set:\")\n",
    "    print()\n",
    "    print(clf.best_params_)\n",
    "    print()\n",
    "    print(\"Grid scores on development set:\")\n",
    "    print()\n",
    "    means = clf.cv_results_['mean_test_score']\n",
    "    stds = clf.cv_results_['std_test_score']\n",
    "    for mean, std, params in zip(means, stds, clf.cv_results_['params']):\n",
    "        print(\"%0.3f (+/-%0.03f) for %r\"\n",
    "              % (mean, std * 2, params))\n",
    "    print()\n",
    "\n",
    "    print(\"Detailed classification report:\")\n",
    "    print()\n",
    "    print(\"The model is trained on the full development set.\")\n",
    "    print(\"The scores are computed on the full evaluation set.\")\n",
    "    print()\n",
    "    y_true, y_pred = y_test, clf.predict(X_test)\n",
    "    print(classification_report(y_true, y_pred))\n",
    "    print()\n",
    "    \n",
    "    return clf"
   ]
  },
  {
   "cell_type": "code",
   "execution_count": 51,
   "metadata": {},
   "outputs": [],
   "source": [
    "from sklearn.utils import resample\n",
    "\n",
    "def resample_to_equal_class_sizes(X,y):\n",
    "    df = pd.DataFrame(X)\n",
    "    df['group'] = [int(i) for i in y]\n",
    "    groups = []\n",
    "    for v in set(df['group']):\n",
    "        groups.append(df[df['group'] == v])\n",
    "           \n",
    "    max_length = max([len(group) for group in groups])\n",
    "    print(\"Maximum class size is %s\" %max_length)\n",
    "    \n",
    "    final_groups = []\n",
    "    for group in groups:\n",
    "        if len(group) < max_length:\n",
    "            print(\"Class %s size is %s. Resampling with replacement to %s\" %(max(group['group']),len(group), max_length))\n",
    "            final_groups.append(resample(group, replace=True, n_samples=max_length))\n",
    "        else:\n",
    "            print(\"Class %s size has max class size (%s).\" %(max(group['group']), max_length))\n",
    "            final_groups.append(group)\n",
    "    df = pd.concat(final_groups)\n",
    "    return df.drop('group', axis=1).values, df['group'].values\n",
    "    \n",
    "\n",
    "#print(X_train_std.shape)\n",
    "#print(y_train_group_park.shape)\n",
    "#xr, yr = resample_to_equal_class_sizes(X_train_std, y_train_group_park)\n",
    "#print(xr.shape, yr.shape)\n"
   ]
  },
  {
   "cell_type": "code",
   "execution_count": 12,
   "metadata": {},
   "outputs": [],
   "source": [
    "# Read in the data\n",
    "import pandas as pd\n",
    "\n",
    "raw_data = pd.read_excel('data/training_data.xlsx')\n",
    "\n",
    "# remove unneeded subject ID column\n",
    "data = raw_data.drop('Subject', axis=1)"
   ]
  },
  {
   "cell_type": "markdown",
   "metadata": {},
   "source": [
    "### Control Vs. All Parkinsons"
   ]
  },
  {
   "cell_type": "code",
   "execution_count": 48,
   "metadata": {},
   "outputs": [],
   "source": [
    "cvp = data.copy()\n",
    "cvp.loc[cvp['GroupID'] != 0,'GroupID'] = 1\n",
    "\n",
    "# Feature Extraction with Univariate Statistical Tests (ANOVA F-value for classification)\n",
    "import pandas as pd\n",
    "import numpy as np\n",
    "from sklearn.feature_selection import SelectKBest, f_classif\n",
    "\n",
    "y_cvp = cvp['GroupID']\n",
    "X_cvp = cvp.drop('GroupID', axis=1)\n",
    "\n",
    "# feature extraction\n",
    "test_cvp = SelectKBest(score_func=f_classif, k=10)\n",
    "fit_cvp = test_cvp.fit(X_cvp, y_cvp)\n",
    "\n",
    "# summarize scores\n",
    "#np.set_printoptions(suppress=True)\n",
    "#for x in pd.DataFrame([cvp.columns, fit.scores_]).transpose().sort_values(by=1, ascending=False).transpose().values[1]:\n",
    "#    print(x)"
   ]
  },
  {
   "cell_type": "code",
   "execution_count": 70,
   "metadata": {},
   "outputs": [
    {
     "name": "stdout",
     "output_type": "stream",
     "text": [
      "Maximum class size is 377\n",
      "Class 0 size is 182. Resampling with replacement to 377\n",
      "Class 1 size has max class size (377).\n",
      "# Tuning hyper-parameters for f1\n",
      "\n",
      "Best parameters set found on development set:\n",
      "\n",
      "{'C': 100, 'gamma': 1, 'kernel': 'rbf'}\n",
      "\n",
      "Grid scores on development set:\n",
      "\n",
      "0.935 (+/-0.043) for {'C': 0.001, 'kernel': 'linear'}\n",
      "0.938 (+/-0.045) for {'C': 0.01, 'kernel': 'linear'}\n",
      "0.935 (+/-0.049) for {'C': 0.1, 'kernel': 'linear'}\n",
      "0.936 (+/-0.045) for {'C': 1, 'kernel': 'linear'}\n",
      "0.944 (+/-0.028) for {'C': 10, 'kernel': 'linear'}\n",
      "0.942 (+/-0.034) for {'C': 100, 'kernel': 'linear'}\n",
      "0.940 (+/-0.035) for {'C': 1000, 'kernel': 'linear'}\n",
      "0.928 (+/-0.056) for {'C': 1, 'gamma': 0.0001, 'kernel': 'rbf'}\n",
      "0.939 (+/-0.047) for {'C': 1, 'gamma': 0.001, 'kernel': 'rbf'}\n",
      "0.935 (+/-0.046) for {'C': 1, 'gamma': 0.01, 'kernel': 'rbf'}\n",
      "0.939 (+/-0.047) for {'C': 1, 'gamma': 0.1, 'kernel': 'rbf'}\n",
      "0.951 (+/-0.037) for {'C': 1, 'gamma': 1, 'kernel': 'rbf'}\n",
      "0.936 (+/-0.044) for {'C': 10, 'gamma': 0.0001, 'kernel': 'rbf'}\n",
      "0.935 (+/-0.046) for {'C': 10, 'gamma': 0.001, 'kernel': 'rbf'}\n",
      "0.934 (+/-0.044) for {'C': 10, 'gamma': 0.01, 'kernel': 'rbf'}\n",
      "0.940 (+/-0.042) for {'C': 10, 'gamma': 0.1, 'kernel': 'rbf'}\n",
      "0.951 (+/-0.030) for {'C': 10, 'gamma': 1, 'kernel': 'rbf'}\n",
      "0.936 (+/-0.044) for {'C': 100, 'gamma': 0.0001, 'kernel': 'rbf'}\n",
      "0.932 (+/-0.043) for {'C': 100, 'gamma': 0.001, 'kernel': 'rbf'}\n",
      "0.938 (+/-0.045) for {'C': 100, 'gamma': 0.01, 'kernel': 'rbf'}\n",
      "0.956 (+/-0.029) for {'C': 100, 'gamma': 0.1, 'kernel': 'rbf'}\n",
      "0.969 (+/-0.018) for {'C': 100, 'gamma': 1, 'kernel': 'rbf'}\n",
      "0.934 (+/-0.044) for {'C': 1000, 'gamma': 0.0001, 'kernel': 'rbf'}\n",
      "0.938 (+/-0.039) for {'C': 1000, 'gamma': 0.001, 'kernel': 'rbf'}\n",
      "0.950 (+/-0.023) for {'C': 1000, 'gamma': 0.01, 'kernel': 'rbf'}\n",
      "0.968 (+/-0.022) for {'C': 1000, 'gamma': 0.1, 'kernel': 'rbf'}\n",
      "0.969 (+/-0.028) for {'C': 1000, 'gamma': 1, 'kernel': 'rbf'}\n",
      "\n",
      "Detailed classification report:\n",
      "\n",
      "The model is trained on the full development set.\n",
      "The scores are computed on the full evaluation set.\n",
      "\n",
      "             precision    recall  f1-score   support\n",
      "\n",
      "          0       0.93      0.90      0.91        58\n",
      "          1       0.95      0.97      0.96       129\n",
      "\n",
      "avg / total       0.95      0.95      0.95       187\n",
      "\n",
      "\n"
     ]
    }
   ],
   "source": [
    "from sklearn.cross_validation import train_test_split\n",
    "\n",
    "X_cvp_fss = fit_cvp.transform(X_cvp)\n",
    "X_cvp_fss_train, X_cvp_fss_test, y_train, y_test = train_test_split(X_cvp_fss, y_cvp)\n",
    "\n",
    "X_cvp_fss_train_res, y_train_res = resample_to_equal_class_sizes(X_cvp_fss_train, y_train)\n",
    "\n",
    "clf_cvp = svm_grid_search(X_cvp_fss_train_res, X_cvp_fss_test, y_train_res, y_test)"
   ]
  },
  {
   "cell_type": "code",
   "execution_count": 99,
   "metadata": {},
   "outputs": [
    {
     "name": "stderr",
     "output_type": "stream",
     "text": [
      "C:\\Users\\jtbricker\\Anaconda3\\lib\\site-packages\\pandas\\core\\indexing.py:537: SettingWithCopyWarning: \n",
      "A value is trying to be set on a copy of a slice from a DataFrame.\n",
      "Try using .loc[row_indexer,col_indexer] = value instead\n",
      "\n",
      "See the caveats in the documentation: http://pandas.pydata.org/pandas-docs/stable/indexing.html#indexing-view-versus-copy\n",
      "  self.obj[item] = s\n"
     ]
    }
   ],
   "source": [
    "# import the validation data\n",
    "import pandas as pd\n",
    "\n",
    "raw_validation_data = pd.read_excel('data/Validation.xlsx')\n",
    "\n",
    "# remove unneeded subject ID column\n",
    "validation_data = raw_validation_data[data.columns]\n",
    "validation_data.loc[validation_data['GroupID'] != 0, 'GroupID'] = 1\n",
    "\n",
    "# split x and y data\n",
    "y_valid = validation_data['GroupID']\n",
    "X_valid = validation_data.drop('GroupID', axis=1)"
   ]
  },
  {
   "cell_type": "code",
   "execution_count": 100,
   "metadata": {},
   "outputs": [
    {
     "data": {
      "text/plain": [
       "0.92"
      ]
     },
     "execution_count": 100,
     "metadata": {},
     "output_type": "execute_result"
    }
   ],
   "source": [
    "#transform the validation data (feature selection)\n",
    "X_valid_fss = fit_cvp.transform(X_valid)\n",
    "\n",
    "clf_cvp.score(X_valid_fss, y_valid)"
   ]
  },
  {
   "cell_type": "markdown",
   "metadata": {},
   "source": [
    "### PD vs. MSA/PSP"
   ]
  },
  {
   "cell_type": "code",
   "execution_count": 86,
   "metadata": {},
   "outputs": [],
   "source": [
    "pva = data.copy()\n",
    "pva = pva.loc[pva['GroupID'] != 0]\n",
    "pva.loc[pva['GroupID'] != 1,'GroupID'] = 2\n",
    "\n",
    "# Feature Extraction with Univariate Statistical Tests (ANOVA F-value for classification)\n",
    "import pandas as pd\n",
    "import numpy as np\n",
    "from sklearn.feature_selection import SelectKBest\n",
    "from sklearn.feature_selection import f_classif\n",
    "\n",
    "y_pva = pva['GroupID']\n",
    "X_pva = pva.drop('GroupID', axis=1)\n",
    "\n",
    "# feature extraction\n",
    "test_pva = SelectKBest(score_func=f_classif, k=10)\n",
    "fit_pva = test_pva.fit(X_pva, y_pva)\n",
    "\n",
    "# summarize scores\n",
    "np.set_printoptions(suppress=True)\n",
    "#for x in pd.DataFrame([pva.columns, fit.scores_]).transpose().sort_values(by=1, ascending=False).transpose().values[1]:\n",
    "#    print(x)"
   ]
  },
  {
   "cell_type": "code",
   "execution_count": 87,
   "metadata": {},
   "outputs": [
    {
     "name": "stdout",
     "output_type": "stream",
     "text": [
      "Maximum class size is 300\n",
      "Class 1 size has max class size (300).\n",
      "Class 2 size is 79. Resampling with replacement to 300\n",
      "# Tuning hyper-parameters for f1\n",
      "\n",
      "Best parameters set found on development set:\n",
      "\n",
      "{'C': 100, 'gamma': 1, 'kernel': 'rbf'}\n",
      "\n",
      "Grid scores on development set:\n",
      "\n",
      "0.663 (+/-0.079) for {'C': 0.001, 'kernel': 'linear'}\n",
      "0.668 (+/-0.064) for {'C': 0.01, 'kernel': 'linear'}\n",
      "0.742 (+/-0.063) for {'C': 0.1, 'kernel': 'linear'}\n",
      "0.812 (+/-0.037) for {'C': 1, 'kernel': 'linear'}\n",
      "0.842 (+/-0.042) for {'C': 10, 'kernel': 'linear'}\n",
      "0.845 (+/-0.043) for {'C': 100, 'kernel': 'linear'}\n",
      "0.840 (+/-0.065) for {'C': 1000, 'kernel': 'linear'}\n",
      "0.655 (+/-0.076) for {'C': 1, 'gamma': 0.0001, 'kernel': 'rbf'}\n",
      "0.660 (+/-0.071) for {'C': 1, 'gamma': 0.001, 'kernel': 'rbf'}\n",
      "0.700 (+/-0.071) for {'C': 1, 'gamma': 0.01, 'kernel': 'rbf'}\n",
      "0.715 (+/-0.027) for {'C': 1, 'gamma': 0.1, 'kernel': 'rbf'}\n",
      "0.795 (+/-0.034) for {'C': 1, 'gamma': 1, 'kernel': 'rbf'}\n",
      "0.663 (+/-0.070) for {'C': 10, 'gamma': 0.0001, 'kernel': 'rbf'}\n",
      "0.692 (+/-0.072) for {'C': 10, 'gamma': 0.001, 'kernel': 'rbf'}\n",
      "0.733 (+/-0.097) for {'C': 10, 'gamma': 0.01, 'kernel': 'rbf'}\n",
      "0.790 (+/-0.045) for {'C': 10, 'gamma': 0.1, 'kernel': 'rbf'}\n",
      "0.898 (+/-0.041) for {'C': 10, 'gamma': 1, 'kernel': 'rbf'}\n",
      "0.685 (+/-0.064) for {'C': 100, 'gamma': 0.0001, 'kernel': 'rbf'}\n",
      "0.770 (+/-0.079) for {'C': 100, 'gamma': 0.001, 'kernel': 'rbf'}\n",
      "0.830 (+/-0.063) for {'C': 100, 'gamma': 0.01, 'kernel': 'rbf'}\n",
      "0.870 (+/-0.080) for {'C': 100, 'gamma': 0.1, 'kernel': 'rbf'}\n",
      "0.933 (+/-0.046) for {'C': 100, 'gamma': 1, 'kernel': 'rbf'}\n",
      "0.763 (+/-0.098) for {'C': 1000, 'gamma': 0.0001, 'kernel': 'rbf'}\n",
      "0.848 (+/-0.088) for {'C': 1000, 'gamma': 0.001, 'kernel': 'rbf'}\n",
      "0.862 (+/-0.087) for {'C': 1000, 'gamma': 0.01, 'kernel': 'rbf'}\n",
      "0.878 (+/-0.054) for {'C': 1000, 'gamma': 0.1, 'kernel': 'rbf'}\n",
      "0.933 (+/-0.043) for {'C': 1000, 'gamma': 1, 'kernel': 'rbf'}\n",
      "\n",
      "Detailed classification report:\n",
      "\n",
      "The model is trained on the full development set.\n",
      "The scores are computed on the full evaluation set.\n",
      "\n",
      "             precision    recall  f1-score   support\n",
      "\n",
      "          1       0.84      0.92      0.88        99\n",
      "          2       0.58      0.39      0.47        28\n",
      "\n",
      "avg / total       0.78      0.80      0.79       127\n",
      "\n",
      "\n"
     ]
    }
   ],
   "source": [
    "from sklearn.cross_validation import train_test_split\n",
    "\n",
    "X_pva_fss = fit_pva.transform(X_pva)\n",
    "X_pva_fss_train, X_pva_fss_test, y_train, y_test = train_test_split(X_pva_fss, y_pva)\n",
    "\n",
    "X_pva_fss_train_res, y_train_res = resample_to_equal_class_sizes(X_pva_fss_train, y_train)\n",
    "\n",
    "clf_pva = svm_grid_search(X_pva_fss_train_res, X_pva_fss_test, y_train_res, y_test)"
   ]
  },
  {
   "cell_type": "code",
   "execution_count": 97,
   "metadata": {},
   "outputs": [],
   "source": [
    "# import the validation data\n",
    "import pandas as pd\n",
    "\n",
    "raw_validation_data = pd.read_excel('data/Validation.xlsx')\n",
    "\n",
    "# remove unneeded subject ID column\n",
    "validation_data = raw_validation_data[data.columns]\n",
    "validation_data = validation_data.loc[validation_data['GroupID'] != 0]\n",
    "validation_data.loc[validation_data['GroupID'] != 1,'GroupID'] = 2\n",
    "\n",
    "# split x and y data\n",
    "y_valid = validation_data['GroupID']\n",
    "X_valid = validation_data.drop('GroupID', axis=1)"
   ]
  },
  {
   "cell_type": "code",
   "execution_count": 98,
   "metadata": {},
   "outputs": [
    {
     "name": "stdout",
     "output_type": "stream",
     "text": [
      "0.75\n",
      "Actual:    [1 1 1 1 1 1 1 1 1 1 1 1 1 1 1 1 1 1 1 1 1 1 1 1 1 1 1 1 1 1 1 1 2 2 2 2 2\n",
      " 2 2 2 2 2 2 2]\n",
      "Predicted: [1 1 1 1 1 1 1 1 1 1 1 1 1 1 1 1 1 1 1 1 1 1 2 1 2 1 1 1 1 1 1 1 1 2 1 1 1\n",
      " 1 1 2 1 1 2 1]\n"
     ]
    }
   ],
   "source": [
    "#transform the validation data (feature selection)\n",
    "X_valid_fss = fit_pva.transform(X_valid)\n",
    "\n",
    "print(clf_pva.score(X_valid_fss, y_valid.values))\n",
    "print(\"Actual:   \", y_valid.values)\n",
    "print(\"Predicted:\",clf_pva.predict(X_valid_fss))"
   ]
  },
  {
   "cell_type": "markdown",
   "metadata": {},
   "source": [
    "### MSA vs PSP"
   ]
  },
  {
   "cell_type": "code",
   "execution_count": 104,
   "metadata": {},
   "outputs": [],
   "source": [
    "mvp = data.copy()\n",
    "mvp = mvp.loc[mvp['GroupID'] != 0]\n",
    "mvp = mvp.loc[mvp['GroupID'] != 1]\n",
    "\n",
    "# Feature Extraction with Univariate Statistical Tests (ANOVA F-value for classification)\n",
    "import pandas as pd\n",
    "import numpy as np\n",
    "from sklearn.feature_selection import SelectKBest\n",
    "from sklearn.feature_selection import f_classif\n",
    "\n",
    "y_mvp = mvp['GroupID']\n",
    "X_mvp = mvp.drop('GroupID', axis=1)\n",
    "\n",
    "# feature extraction\n",
    "test_mvp = SelectKBest(score_func=f_classif, k=10)\n",
    "fit_mvp = test_mvp.fit(X_mvp, y_mvp)\n",
    "\n",
    "# summarize scores\n",
    "#np.set_printoptions(suppress=True)\n",
    "#for x in pd.DataFrame([mvp.columns, fit.scores_]).transpose().sort_values(by=1, ascending=False).transpose().values[1]:\n",
    "#    print(x)\n",
    "    \n",
    "#pd.DataFrame([mvp.columns, fit.scores_]).transpose().sort_values(by=1, ascending=False)"
   ]
  },
  {
   "cell_type": "code",
   "execution_count": 105,
   "metadata": {},
   "outputs": [
    {
     "name": "stdout",
     "output_type": "stream",
     "text": [
      "Maximum class size is 41\n",
      "Class 2 size is 39. Resampling with replacement to 41\n",
      "Class 3 size has max class size (41).\n",
      "# Tuning hyper-parameters for f1\n",
      "\n",
      "Best parameters set found on development set:\n",
      "\n",
      "{'C': 1000, 'kernel': 'linear'}\n",
      "\n",
      "Grid scores on development set:\n",
      "\n",
      "0.671 (+/-0.149) for {'C': 0.001, 'kernel': 'linear'}\n",
      "0.671 (+/-0.149) for {'C': 0.01, 'kernel': 'linear'}\n",
      "0.671 (+/-0.149) for {'C': 0.1, 'kernel': 'linear'}\n",
      "0.768 (+/-0.049) for {'C': 1, 'kernel': 'linear'}\n",
      "0.805 (+/-0.124) for {'C': 10, 'kernel': 'linear'}\n",
      "0.841 (+/-0.188) for {'C': 100, 'kernel': 'linear'}\n",
      "0.866 (+/-0.146) for {'C': 1000, 'kernel': 'linear'}\n",
      "0.671 (+/-0.149) for {'C': 1, 'gamma': 0.0001, 'kernel': 'rbf'}\n",
      "0.671 (+/-0.149) for {'C': 1, 'gamma': 0.001, 'kernel': 'rbf'}\n",
      "0.671 (+/-0.149) for {'C': 1, 'gamma': 0.01, 'kernel': 'rbf'}\n",
      "0.671 (+/-0.149) for {'C': 1, 'gamma': 0.1, 'kernel': 'rbf'}\n",
      "0.768 (+/-0.049) for {'C': 1, 'gamma': 1, 'kernel': 'rbf'}\n",
      "0.671 (+/-0.149) for {'C': 10, 'gamma': 0.0001, 'kernel': 'rbf'}\n",
      "0.671 (+/-0.149) for {'C': 10, 'gamma': 0.001, 'kernel': 'rbf'}\n",
      "0.671 (+/-0.149) for {'C': 10, 'gamma': 0.01, 'kernel': 'rbf'}\n",
      "0.768 (+/-0.049) for {'C': 10, 'gamma': 0.1, 'kernel': 'rbf'}\n",
      "0.805 (+/-0.096) for {'C': 10, 'gamma': 1, 'kernel': 'rbf'}\n",
      "0.671 (+/-0.149) for {'C': 100, 'gamma': 0.0001, 'kernel': 'rbf'}\n",
      "0.671 (+/-0.149) for {'C': 100, 'gamma': 0.001, 'kernel': 'rbf'}\n",
      "0.768 (+/-0.049) for {'C': 100, 'gamma': 0.01, 'kernel': 'rbf'}\n",
      "0.805 (+/-0.096) for {'C': 100, 'gamma': 0.1, 'kernel': 'rbf'}\n",
      "0.841 (+/-0.130) for {'C': 100, 'gamma': 1, 'kernel': 'rbf'}\n",
      "0.671 (+/-0.149) for {'C': 1000, 'gamma': 0.0001, 'kernel': 'rbf'}\n",
      "0.768 (+/-0.049) for {'C': 1000, 'gamma': 0.001, 'kernel': 'rbf'}\n",
      "0.805 (+/-0.096) for {'C': 1000, 'gamma': 0.01, 'kernel': 'rbf'}\n",
      "0.854 (+/-0.170) for {'C': 1000, 'gamma': 0.1, 'kernel': 'rbf'}\n",
      "0.780 (+/-0.133) for {'C': 1000, 'gamma': 1, 'kernel': 'rbf'}\n",
      "\n",
      "Detailed classification report:\n",
      "\n",
      "The model is trained on the full development set.\n",
      "The scores are computed on the full evaluation set.\n",
      "\n",
      "             precision    recall  f1-score   support\n",
      "\n",
      "          2       0.73      0.62      0.67        13\n",
      "          3       0.69      0.79      0.73        14\n",
      "\n",
      "avg / total       0.71      0.70      0.70        27\n",
      "\n",
      "\n"
     ]
    }
   ],
   "source": [
    "from sklearn.cross_validation import train_test_split\n",
    "\n",
    "X_mvp_fss = fit_mvp.transform(X_mvp)\n",
    "X_mvp_fss_train, X_mvp_fss_test, y_train, y_test = train_test_split(X_mvp_fss, y_mvp)\n",
    "\n",
    "X_mvp_fss_train_res, y_train_res = resample_to_equal_class_sizes(X_mvp_fss_train, y_train)\n",
    "\n",
    "clf_mvp = svm_grid_search(X_mvp_fss_train_res, X_mvp_fss_test, y_train_res, y_test)"
   ]
  },
  {
   "cell_type": "code",
   "execution_count": 107,
   "metadata": {},
   "outputs": [],
   "source": [
    "# import the validation data\n",
    "import pandas as pd\n",
    "\n",
    "raw_validation_data = pd.read_excel('data/Validation.xlsx')\n",
    "\n",
    "# remove unneeded subject ID column\n",
    "validation_data = raw_validation_data[data.columns]\n",
    "validation_data = validation_data.loc[validation_data['GroupID'] != 0]\n",
    "validation_data = validation_data.loc[validation_data['GroupID'] != 1]\n",
    "\n",
    "# split x and y data\n",
    "y_valid = validation_data['GroupID']\n",
    "X_valid = validation_data.drop('GroupID', axis=1)"
   ]
  },
  {
   "cell_type": "code",
   "execution_count": 108,
   "metadata": {},
   "outputs": [
    {
     "name": "stdout",
     "output_type": "stream",
     "text": [
      "0.9166666666666666\n",
      "Actual:    [2 2 2 2 3 3 3 3 3 3 3 3]\n",
      "Predicted: [2 2 3 2 3 3 3 3 3 3 3 3]\n"
     ]
    }
   ],
   "source": [
    "#transform the validation data (feature selection)\n",
    "X_valid_fss = fit_mvp.transform(X_valid)\n",
    "\n",
    "print(clf_mvp.score(X_valid_fss, y_valid.values))\n",
    "print(\"Actual:   \", y_valid.values)\n",
    "print(\"Predicted:\",clf_mvp.predict(X_valid_fss))"
   ]
  },
  {
   "cell_type": "code",
   "execution_count": null,
   "metadata": {},
   "outputs": [],
   "source": []
  }
 ],
 "metadata": {
  "kernelspec": {
   "display_name": "Python 3",
   "language": "python",
   "name": "python3"
  },
  "language_info": {
   "codemirror_mode": {
    "name": "ipython",
    "version": 3
   },
   "file_extension": ".py",
   "mimetype": "text/x-python",
   "name": "python",
   "nbconvert_exporter": "python",
   "pygments_lexer": "ipython3",
   "version": "3.6.4"
  }
 },
 "nbformat": 4,
 "nbformat_minor": 2
}
