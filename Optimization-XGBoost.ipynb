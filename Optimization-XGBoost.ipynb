{
 "cells": [
  {
   "cell_type": "markdown",
   "metadata": {},
   "source": [
    "# Model Optimization- XGBoost"
   ]
  },
  {
   "cell_type": "markdown",
   "metadata": {},
   "source": [
    "Lets first see what parameters could possibly be tuned"
   ]
  },
  {
   "cell_type": "code",
   "execution_count": 1,
   "metadata": {},
   "outputs": [
    {
     "name": "stdout",
     "output_type": "stream",
     "text": [
      "There are 21 parameters for the Logistic Model.  The Default values are:\n",
      "               base_score:   0.5\n",
      "                  booster:   gbtree\n",
      "        colsample_bylevel:   1\n",
      "         colsample_bytree:   1\n",
      "                    gamma:   0\n",
      "            learning_rate:   0.1\n",
      "           max_delta_step:   0\n",
      "                max_depth:   3\n",
      "         min_child_weight:   1\n",
      "                  missing:   None\n",
      "             n_estimators:   100\n",
      "                   n_jobs:   1\n",
      "                  nthread:   None\n",
      "                objective:   binary:logistic\n",
      "             random_state:   0\n",
      "                reg_alpha:   0\n",
      "               reg_lambda:   1\n",
      "         scale_pos_weight:   1\n",
      "                     seed:   None\n",
      "                   silent:   True\n",
      "                subsample:   1\n"
     ]
    }
   ],
   "source": [
    "from xgboost.sklearn import XGBClassifier\n",
    "\n",
    "clf = XGBClassifier()\n",
    "params = clf.get_params()\n",
    "print(\"There are %d parameters for the Logistic Model.  The Default values are:\" %len(params.keys()))\n",
    "for key in params.keys():\n",
    "    print(\"%25s:   %s\" %(key,params[key]))"
   ]
  },
  {
   "cell_type": "code",
   "execution_count": 2,
   "metadata": {},
   "outputs": [],
   "source": [
    "# get the data \n",
    "import ml_utils as mu\n",
    "\n",
    "with mu.HiddenPrints():\n",
    "    X, y , Xh, yh, Xv, yv = mu.get_training_holdout_validation_data()"
   ]
  },
  {
   "cell_type": "code",
   "execution_count": 14,
   "metadata": {},
   "outputs": [
    {
     "name": "stdout",
     "output_type": "stream",
     "text": [
      "[2018-07-12 02:23:49.124000] Starting tuning classifier__max_depth\n",
      "# Tuning hyper-parameters for accuracy\n",
      "\n",
      "Fitting 5 folds for each of 26 candidates, totalling 130 fits\n"
     ]
    },
    {
     "name": "stderr",
     "output_type": "stream",
     "text": [
      "[Parallel(n_jobs=-1)]: Done  34 tasks      | elapsed:   21.1s\n",
      "[Parallel(n_jobs=-1)]: Done 130 out of 130 | elapsed:   45.9s finished\n"
     ]
    },
    {
     "name": "stdout",
     "output_type": "stream",
     "text": [
      "Best parameters set found on development set:\n",
      "\n",
      "{'classifier__max_depth': 15}\n"
     ]
    },
    {
     "data": {
      "image/png": "[encoded data removed]",
      "text/plain": [
       "<matplotlib.figure.Figure at 0x1fc0f6bf2e8>"
      ]
     },
     "metadata": {},
     "output_type": "display_data"
    },
    {
     "name": "stdout",
     "output_type": "stream",
     "text": [
      "[2018-07-12 02:24:42.667663] Done with tuning classifier__max_depth (Took 0.883 minutes)\n"
     ]
    }
   ],
   "source": [
    "from imblearn.pipeline import Pipeline\n",
    "from sklearn.preprocessing import StandardScaler\n",
    "from imblearn.over_sampling import RandomOverSampler\n",
    "from xgboost.sklearn import XGBClassifier\n",
    "\n",
    "import numpy as np\n",
    "\n",
    "# parameters and ranges to plot\n",
    "param_grid = {\n",
    "    \"classifier__max_depth\": range(5, 26, 2),\n",
    "    \"classifier__learning_rate\": np.logspace(-1, .25, 10),\n",
    "    \"classifier__n_estimators\": range(100, 300, 20),\n",
    "    \"classifier__booster\": ['gbtree', 'gblinear', 'dart'],\n",
    "    \"classifier__gamma\": np.logspace(-2, -1, 10),\n",
    "}\n",
    "\n",
    "clf = Pipeline([\n",
    "    ('standardization', StandardScaler()),\n",
    "    ('oversampler', RandomOverSampler()),\n",
    "    ('classifier', XGBClassifier(random_state = 84))\n",
    "])\n",
    "\n",
    "for parameter, param_range in dict.items(param_grid):\n",
    "    with mu.Timer(\"tuning %s\" %parameter) as timer:\n",
    "        mu.unidirectional_grid_search_optimization(clf, parameter, param_range, X, y)"
   ]
  },
  {
   "cell_type": "code",
   "execution_count": null,
   "metadata": {},
   "outputs": [],
   "source": []
  }
 ],
 "metadata": {
  "kernelspec": {
   "display_name": "Python 3",
   "language": "python",
   "name": "python3"
  },
  "language_info": {
   "codemirror_mode": {
    "name": "ipython",
    "version": 3
   },
   "file_extension": ".py",
   "mimetype": "text/x-python",
   "name": "python",
   "nbconvert_exporter": "python",
   "pygments_lexer": "ipython3",
   "version": "3.6.3"
  }
 },
 "nbformat": 4,
 "nbformat_minor": 2
}
