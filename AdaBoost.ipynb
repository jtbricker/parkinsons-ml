{
 "cells": [
  {
   "cell_type": "markdown",
   "metadata": {},
   "source": [
    "# AdaBoost\n",
    "We want to create a model using AdaBoost for the 3 groupings: Control v. Parkinsonism, Idiopathic Parkinsonism vs Atypical Parkinsonism, and Multiple System Atrophy vs. Progressive Supranuclear Palsy"
   ]
  },
  {
   "cell_type": "code",
   "execution_count": null,
   "metadata": {},
   "outputs": [
    {
     "name": "stdout",
     "output_type": "stream",
     "text": [
      "Fitting 2 folds for each of 60 candidates, totalling 120 fits\n"
     ]
    },
    {
     "name": "stderr",
     "output_type": "stream",
     "text": [
      "[Parallel(n_jobs=-1)]: Done  25 tasks      | elapsed:    6.6s\n",
      "[Parallel(n_jobs=-1)]: Done 120 out of 120 | elapsed:    9.4s finished\n"
     ]
    }
   ],
   "source": [
    "import pandas as pd\n",
    "import numpy as np\n",
    "\n",
    "from sklearn.model_selection import train_test_split\n",
    "from sklearn.model_selection import GridSearchCV\n",
    "from imblearn.pipeline import Pipeline\n",
    "from sklearn.preprocessing import StandardScaler\n",
    "from imblearn.over_sampling import RandomOverSampler\n",
    "from sklearn.feature_selection import SelectKBest, f_classif\n",
    "from sklearn.ensemble import AdaBoostClassifier\n",
    "from sklearn.metrics import matthews_corrcoef, make_scorer, confusion_matrix\n",
    "\n",
    "import ml_utils as mu\n",
    "\n",
    "# groups to model\n",
    "groupings = [\n",
    "#     {'name': 'cvp', 'grouping':{0:0, 1:1, 2:1, 3:1}, 'description':'Control vs. All Parkinsons'},\n",
    "#     {'name': 'iva', 'grouping':{1:1, 2:2, 3:2},'description':'Idiopathic vs. Atypical Parkinsons'},\n",
    "    {'name': 'mvp', 'grouping':{2:2, 3:3},'description':'MSA vs. PSP'},\n",
    "#     {'name': 'ipvm', 'grouping':{1:0, 2:1, 3:0},'description':'Idiopathic and PSP vs. MSA'},\n",
    "#     {'name': 'imvp', 'grouping':{1:0, 2:0, 3:1},'description':'Idiopathic and MSA vs. PSP'},\n",
    "]\n",
    "\n",
    "# parameters to optimize on\n",
    "params = {\n",
    "            \"classifier__n_estimators\": range(1,401,200),\n",
    "            \"classifier__learning_rate\": np.logspace(-4, -1, 30)\n",
    "        }\n",
    "\n",
    "# read in the data\n",
    "data = pd.read_excel('data/all_data.xlsx').drop(['Subject'], axis=1)\n",
    "\n",
    "# Things we could consider at this point are to remove subjects who are \n",
    "# younger than 55, and to remove controls who have a UPDRS > 5.\n",
    "\n",
    "# for each grouping, split into test and holdout sets and train the model\n",
    "for grouping in groupings:\n",
    "    name = grouping['name']\n",
    "    description = grouping['description']\n",
    "    \n",
    "    grouped_data = mu.group_classes(data, grouping['grouping'])\n",
    "        \n",
    "    y = grouped_data['GroupID']\n",
    "    X = grouped_data.drop(['GroupID'], axis=1)\n",
    "    \n",
    "    X_train, X_holdout, y_train, y_holdout = train_test_split(X, y, test_size = 0.2, random_state = 43, stratify=y)\n",
    "\n",
    "    pipeline = Pipeline([\n",
    "        (\"standardization\", StandardScaler()),\n",
    "        ('oversampler', RandomOverSampler()),\n",
    "        ('kbest', SelectKBest(score_func=f_classif, k=7)),\n",
    "        (\"classifier\", AdaBoostClassifier())\n",
    "    ])\n",
    "    \n",
    "    clf = GridSearchCV(estimator=pipeline, param_grid=params, scoring=make_scorer(matthews_corrcoef), cv=2, n_jobs=-1, verbose=2)\n",
    "    clf.fit(X_train, y_train)\n",
    "    best_clf = clf.best_estimator_\n",
    "    \n",
    "    yh_pred = best_clf.predict(X_holdout)\n",
    "    get_confusion_matrix(y_holdout, yh_pred, classes=description.split(' vs. '), title='Holdout: %s' %description)"
   ]
  },
  {
   "cell_type": "code",
   "execution_count": 4,
   "metadata": {},
   "outputs": [
    {
     "ename": "ModuleNotFoundError",
     "evalue": "No module named 'dill'",
     "output_type": "error",
     "traceback": [
      "\u001b[1;31m---------------------------------------------------------------------------\u001b[0m",
      "\u001b[1;31mModuleNotFoundError\u001b[0m                       Traceback (most recent call last)",
      "\u001b[1;32m<ipython-input-4-166efc4ac505>\u001b[0m in \u001b[0;36m<module>\u001b[1;34m()\u001b[0m\n\u001b[1;32m----> 1\u001b[1;33m \u001b[1;32mimport\u001b[0m \u001b[0mdill\u001b[0m\u001b[1;33m\u001b[0m\u001b[0m\n\u001b[0m\u001b[0;32m      2\u001b[0m \u001b[1;33m\u001b[0m\u001b[0m\n\u001b[0;32m      3\u001b[0m \u001b[0mf\u001b[0m \u001b[1;33m=\u001b[0m \u001b[0mopen\u001b[0m\u001b[1;33m(\u001b[0m\u001b[1;34m'experiments/FIRST_2_ADA_2018-07-31_20_55_31.obj'\u001b[0m\u001b[1;33m,\u001b[0m\u001b[1;34m'rb'\u001b[0m\u001b[1;33m)\u001b[0m\u001b[1;33m\u001b[0m\u001b[0m\n\u001b[0;32m      4\u001b[0m \u001b[0mdill\u001b[0m\u001b[1;33m.\u001b[0m\u001b[0mload\u001b[0m\u001b[1;33m(\u001b[0m\u001b[0mf\u001b[0m\u001b[1;33m)\u001b[0m\u001b[1;33m\u001b[0m\u001b[0m\n",
      "\u001b[1;31mModuleNotFoundError\u001b[0m: No module named 'dill'"
     ]
    }
   ],
   "source": [
    "import dill\n",
    "\n",
    "f = open('experiments/FIRST_2_ADA_2018-07-31_20_55_31.obj','rb')\n",
    "dill.load(f)"
   ]
  },
  {
   "cell_type": "code",
   "execution_count": 9,
   "metadata": {},
   "outputs": [
    {
     "data": {
      "text/plain": [
       "numpy.ndarray"
      ]
     },
     "execution_count": 9,
     "metadata": {},
     "output_type": "execute_result"
    }
   ],
   "source": [
    "cf = confusion_matrix(y_holdout, yh_pred)\n",
    "type(cf)"
   ]
  },
  {
   "cell_type": "code",
   "execution_count": 2,
   "metadata": {},
   "outputs": [],
   "source": [
    "import matplotlib.pyplot as plt\n",
    "import itertools\n",
    "\n",
    "def get_confusion_matrix(y, y_pred, classes, title=\"Confusion Matrix\"):\n",
    "    cnf_matrix = confusion_matrix(y, y_pred)\n",
    "    plot_confusion_matrix(cnf_matrix, normalize=True, classes=classes, title=title)\n",
    "    \n",
    "def plot_confusion_matrix(cm, classes, normalize=False, title='Confusion matrix', cmap=plt.cm.Blues):\n",
    "    plt.figure()\n",
    "\n",
    "    if normalize:\n",
    "        cm = cm.astype('float') / cm.sum(axis=1)[:, np.newaxis]\n",
    "\n",
    "    plt.imshow(cm, interpolation='nearest', cmap=cmap)\n",
    "    plt.title(title)\n",
    "    plt.colorbar()\n",
    "    tick_marks = np.arange(len(classes))\n",
    "    plt.xticks(tick_marks, classes, rotation=45)\n",
    "    plt.yticks(tick_marks, classes)\n",
    "\n",
    "    fmt = '.2f' if normalize else 'd'\n",
    "    thresh = cm.max() / 2.\n",
    "    for i, j in itertools.product(range(cm.shape[0]), range(cm.shape[1])):\n",
    "        plt.text(j, i, format(cm[i, j], fmt),\n",
    "                 horizontalalignment=\"center\",\n",
    "                 color=\"white\" if cm[i, j] > thresh else \"black\")\n",
    "\n",
    "    plt.tight_layout()\n",
    "    plt.ylabel('True label')\n",
    "    plt.xlabel('Predicted label')\n",
    "    plt.show()"
   ]
  },
  {
   "cell_type": "markdown",
   "metadata": {},
   "source": [
    "### Stats to track:\n",
    "\n",
    "* Model Name\n",
    "* CV\n",
    "* Datetime\n",
    "* best parameters\n",
    "* variant code\n",
    "* description\n",
    "* data file name\n",
    "* validation data file name\n",
    "* time_elapsed\n",
    "*\n",
    "\n",
    "For each cross_validation, holdout, validation:\n",
    "* Sensitivity (Recall, True Positive Rate)\n",
    "* Specificity (True Negative Rate)\n",
    "* Precision  (Positive Predictive Value (PPV))\n",
    "* Negative Predictive Value (NPV)\n",
    "* Accuracy\n",
    "* AUC\n",
    "* MCC \n",
    "\n",
    "and standard deviation for each\n",
    "\n",
    "### TODO:\n",
    "* Setup db to track above stats on every run\n",
    "* Run the full suite again @ 2,5,10,20 fold\n",
    "\n",
    "Hopefully a model for each grouping where precision and recall > 0.75 (ideally > 0.80 )\n",
    "\n",
    "### Variants to Try\n",
    "* Don't run control vs. parkinsonism to save time\n",
    "* Additional groupings for MSA vs. Idiopathic and PSP, PSP vs. Idiopathic and MSA\n",
    "* PCA\n",
    "* Feature Subset Selection\n",
    "* Removing outliers\n",
    "* Normalizing the input data\n",
    "* Correcting for skewdness\n",
    "* For MSA vs. PSP: MCP_FW (FA), SCP_FW, PUTAMEN_FW (FA), LOBULE_VI_FW,  LOBULE_V_FW\n",
    "* ???? MCP/SCP ratio?"
   ]
  },
  {
   "cell_type": "code",
   "execution_count": null,
   "metadata": {},
   "outputs": [],
   "source": []
  }
 ],
 "metadata": {
  "kernelspec": {
   "display_name": "Python 3",
   "language": "python",
   "name": "python3"
  },
  "language_info": {
   "codemirror_mode": {
    "name": "ipython",
    "version": 3
   },
   "file_extension": ".py",
   "mimetype": "text/x-python",
   "name": "python",
   "nbconvert_exporter": "python",
   "pygments_lexer": "ipython3",
   "version": "3.6.3"
  }
 },
 "nbformat": 4,
 "nbformat_minor": 2
}
