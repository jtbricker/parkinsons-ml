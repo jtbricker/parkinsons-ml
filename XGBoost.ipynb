{
 "cells": [
  {
   "cell_type": "code",
   "execution_count": 2,
   "metadata": {},
   "outputs": [
    {
     "name": "stdout",
     "output_type": "stream",
     "text": [
      "Maximum class size is 80\n",
      "Class 0 size is 48. Resampling with replacement to 80\n",
      "Class 1 size has max class size (80).\n",
      "Class 2 size is 11. Resampling with replacement to 80\n",
      "Class 3 size is 11. Resampling with replacement to 80\n",
      "Maximum class size is 32\n",
      "Class 0 size is 6. Resampling with replacement to 32\n",
      "Class 1 size has max class size (32).\n",
      "Class 2 size is 4. Resampling with replacement to 32\n",
      "Class 3 size is 8. Resampling with replacement to 32\n",
      "Maximum class size is 319\n",
      "Class 0 size is 192. Resampling with replacement to 319\n",
      "Class 1 size has max class size (319).\n",
      "Class 2 size is 41. Resampling with replacement to 319\n",
      "Class 3 size is 44. Resampling with replacement to 319\n"
     ]
    }
   ],
   "source": [
    "import ml_utils as mu\n",
    "import numpy as np\n",
    "from xgboost.sklearn import XGBClassifier\n",
    "import xgboost as xgb\n",
    "\n",
    "from sklearn.preprocessing import StandardScaler\n",
    "from sklearn.decomposition import PCA\n",
    "from sklearn.discriminant_analysis import LinearDiscriminantAnalysis\n",
    "from sklearn.feature_selection import SelectKBest, f_classif\n",
    "\n",
    "\n",
    "# get the training data\n",
    "data = mu.get_training_data()\n",
    "X, y = mu.split_x_and_y(data)\n",
    "X = add_fa_fw_ratio(X)\n",
    "\n",
    "# get the holdout and outside validation data\n",
    "Xh, yh = mu.split_x_and_y(mu.get_holdout_data())\n",
    "Xh = add_fa_fw_ratio(Xh)\n",
    "from IPython.display import display\n",
    "Xh, yh = mu.resample_to_equal_class_sizes(Xh, yh)\n",
    "\n",
    "Xv, yv = mu.split_x_and_y(mu.get_validation_data())\n",
    "# Xv = add_fa_fw_ratio(Xv)\n",
    "Xv, yv = mu.resample_to_equal_class_sizes(Xv, yv)\n",
    "\n",
    "\n",
    "std = StandardScaler().fit(X)\n",
    "X = std.transform(X)\n",
    "Xh = std.transform(Xh)\n",
    "Xv = std.transform(Xv)\n",
    "\n",
    "pca = PCA(n_components=10).fit(X)\n",
    "lda = LinearDiscriminantAnalysis().fit(X, y)\n",
    "kbest = SelectKBest(score_func=f_classif, k=10).fit(X,y)\n",
    "\n",
    "X  = np.hstack([kbest.transform(X),  pca.transform(X),  lda.transform(X)])\n",
    "Xh = np.hstack([kbest.transform(Xh), pca.transform(Xh), lda.transform(Xh)])\n",
    "Xv = np.hstack([kbest.transform(Xv), pca.transform(Xv), lda.transform(Xv)])\n",
    "\n",
    "X, y = mu.resample_to_equal_class_sizes(X, y)"
   ]
  },
  {
   "cell_type": "code",
   "execution_count": 3,
   "metadata": {},
   "outputs": [
    {
     "name": "stdout",
     "output_type": "stream",
     "text": [
      "(1276, 23)\n",
      "(320, 23)\n",
      "(128, 23)\n"
     ]
    }
   ],
   "source": [
    "print(X.shape)\n",
    "print(Xh.shape)\n",
    "print(Xv.shape)"
   ]
  },
  {
   "cell_type": "code",
   "execution_count": 5,
   "metadata": {},
   "outputs": [
    {
     "name": "stdout",
     "output_type": "stream",
     "text": [
      "Model Accuracy: 1.000000\n",
      "Holdout Accuracy: 0.787500\n",
      "Validation Accuracy: 0.593750\n"
     ]
    }
   ],
   "source": [
    "clf = XGBClassifier( learning_rate =0.01, n_estimators=2000, nthread=-1)\n",
    "\n",
    "#eval_set = [(Xh, yh)]\n",
    "clf.fit(X,y)\n",
    "clf.set_params(**{'subsample': 1.0, 'min_child_weight': 1, 'max_depth': 5, 'gamma': 0.5, 'colsample_bytree': 0.6})\n",
    "\n",
    "\n",
    "print('Model Accuracy: %f' %clf.score(X,y))\n",
    "print('Holdout Accuracy: %f' %clf.score(Xh,yh))\n",
    "print('Validation Accuracy: %f' %clf.score(Xv,yv))\n"
   ]
  },
  {
   "cell_type": "code",
   "execution_count": null,
   "metadata": {},
   "outputs": [
    {
     "name": "stdout",
     "output_type": "stream",
     "text": [
      "Fitting 3 folds for each of 405 candidates, totalling 1215 fits\n"
     ]
    },
    {
     "name": "stderr",
     "output_type": "stream",
     "text": [
      "[Parallel(n_jobs=4)]: Done  24 tasks      | elapsed:   32.7s\n",
      "[Parallel(n_jobs=4)]: Done 120 tasks      | elapsed:  2.6min\n",
      "[Parallel(n_jobs=4)]: Done 280 tasks      | elapsed:  6.2min\n"
     ]
    }
   ],
   "source": [
    "from sklearn.model_selection import GridSearchCV\n",
    "grid = GridSearchCV(estimator=clf, param_grid=params, scoring='accuracy', n_jobs=4, cv=skf.split(X,y), verbose=3 )\n",
    "grid.fit(X, y)\n",
    "print('\\n All results:')\n",
    "print(grid.cv_results_)\n",
    "print('\\n Best estimator:')\n",
    "print(grid.best_estimator_)\n",
    "print('\\n Best score:')\n",
    "print(grid.best_score_ * 2 - 1)\n",
    "print('\\n Best parameters:')\n",
    "print(grid.best_params_)\n",
    "results = pd.DataFrame(grid.cv_results_)\n",
    "results.to_csv('xgb-grid-search-results-01.csv', index=False)\n",
    "\n",
    "y_test = grid.best_estimator_.predict_proba(test)\n",
    "results_df = pd.DataFrame(data={'id':test_df['id'], 'target':y_test[:,1]})\n",
    "results_df.to_csv('submission-grid-search-xgb-porto-01.csv', index=False)"
   ]
  }
 ],
 "metadata": {
  "kernelspec": {
   "display_name": "Python 3",
   "language": "python",
   "name": "python3"
  },
  "language_info": {
   "codemirror_mode": {
    "name": "ipython",
    "version": 3
   },
   "file_extension": ".py",
   "mimetype": "text/x-python",
   "name": "python",
   "nbconvert_exporter": "python",
   "pygments_lexer": "ipython3",
   "version": "3.6.3"
  }
 },
 "nbformat": 4,
 "nbformat_minor": 2
}
