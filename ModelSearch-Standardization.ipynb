{
 "cells": [
  {
   "cell_type": "markdown",
   "metadata": {},
   "source": [
    "# Model Search - Standardization\n",
    "\n",
    "In this notebook we will continue the model evaluation process, introducing a preprocessing step to standardize the data with mean 0 and standard deviation 1.  This will probably not help the Random Forest models but we should a least see performance improvements (and thus convergence for models without analytic solutions)"
   ]
  },
  {
   "cell_type": "code",
   "execution_count": 5,
   "metadata": {},
   "outputs": [
    {
     "name": "stdout",
     "output_type": "stream",
     "text": [
      "Maximum class size is 80\n",
      "Class 0 size is 48. Resampling with replacement to 80\n",
      "Class 1 size has max class size (80).\n",
      "Class 2 size is 11. Resampling with replacement to 80\n",
      "Class 3 size is 11. Resampling with replacement to 80\n",
      "Maximum class size is 32\n",
      "Class 0 size is 6. Resampling with replacement to 32\n",
      "Class 1 size has max class size (32).\n",
      "Class 2 size is 4. Resampling with replacement to 32\n",
      "Class 3 size is 8. Resampling with replacement to 32\n"
     ]
    }
   ],
   "source": [
    "# get the data and resample\n",
    "import ml_utils as mu\n",
    "\n",
    "# get the training data\n",
    "data = mu.get_training_data()\n",
    "X, y = mu.split_x_and_y(data)\n",
    "\n",
    "# get the holdout and outside validation data\n",
    "Xh, yh = mu.split_x_and_y(mu.get_holdout_data())\n",
    "Xh, yh = mu.resample_to_equal_class_sizes(Xh, yh)\n",
    "\n",
    "Xv, yv = mu.split_x_and_y(mu.get_validation_data())\n",
    "Xv, yv = mu.resample_to_equal_class_sizes(Xv, yv)"
   ]
  },
  {
   "cell_type": "code",
   "execution_count": 2,
   "metadata": {},
   "outputs": [
    {
     "name": "stdout",
     "output_type": "stream",
     "text": [
      "Running the pipeline without standardization for knn\n",
      "Running the pipeline WITH standardization for knn\n",
      "Running the pipeline without standardization for svc_lin\n",
      "Running the pipeline WITH standardization for svc_lin\n",
      "Running the pipeline without standardization for svc_rbf\n",
      "Running the pipeline WITH standardization for svc_rbf\n",
      "Running the pipeline without standardization for rand_for\n",
      "Running the pipeline WITH standardization for rand_for\n",
      "Running the pipeline without standardization for ada\n",
      "Running the pipeline WITH standardization for ada\n",
      "Running the pipeline without standardization for gnb\n",
      "Running the pipeline WITH standardization for gnb\n",
      "Running the pipeline without standardization for log\n",
      "Running the pipeline WITH standardization for log\n",
      "Running the pipeline without standardization for ann\n",
      "Running the pipeline WITH standardization for ann\n"
     ]
    },
    {
     "data": {
      "text/html": [
       "<div>\n",
       "<style>\n",
       "    .dataframe thead tr:only-child th {\n",
       "        text-align: right;\n",
       "    }\n",
       "\n",
       "    .dataframe thead th {\n",
       "        text-align: left;\n",
       "    }\n",
       "\n",
       "    .dataframe tbody tr th {\n",
       "        vertical-align: top;\n",
       "    }\n",
       "</style>\n",
       "<table border=\"1\" class=\"dataframe\">\n",
       "  <thead>\n",
       "    <tr style=\"text-align: right;\">\n",
       "      <th></th>\n",
       "      <th>acc</th>\n",
       "      <th>acc_standardized</th>\n",
       "      <th>acc_standard_holdout</th>\n",
       "      <th>acc_standard_validation</th>\n",
       "    </tr>\n",
       "  </thead>\n",
       "  <tbody>\n",
       "    <tr>\n",
       "      <th>knn</th>\n",
       "      <td>0.645998</td>\n",
       "      <td>0.65111</td>\n",
       "      <td>0.6125</td>\n",
       "      <td>0.570312</td>\n",
       "    </tr>\n",
       "    <tr>\n",
       "      <th>svc_lin</th>\n",
       "      <td>0.672638</td>\n",
       "      <td>0.812353</td>\n",
       "      <td>0.815625</td>\n",
       "      <td>0.804688</td>\n",
       "    </tr>\n",
       "    <tr>\n",
       "      <th>svc_rbf</th>\n",
       "      <td>0.622602</td>\n",
       "      <td>0.53527</td>\n",
       "      <td>0.25</td>\n",
       "      <td>0.25</td>\n",
       "    </tr>\n",
       "    <tr>\n",
       "      <th>rand_for</th>\n",
       "      <td>0.818887</td>\n",
       "      <td>0.844057</td>\n",
       "      <td>0.765625</td>\n",
       "      <td>0.734375</td>\n",
       "    </tr>\n",
       "    <tr>\n",
       "      <th>ada</th>\n",
       "      <td>0.658577</td>\n",
       "      <td>0.665935</td>\n",
       "      <td>0.58125</td>\n",
       "      <td>0.65625</td>\n",
       "    </tr>\n",
       "    <tr>\n",
       "      <th>gnb</th>\n",
       "      <td>0.766725</td>\n",
       "      <td>0.766699</td>\n",
       "      <td>0.759375</td>\n",
       "      <td>0.765625</td>\n",
       "    </tr>\n",
       "    <tr>\n",
       "      <th>log</th>\n",
       "      <td>0.773535</td>\n",
       "      <td>0.783605</td>\n",
       "      <td>0.75</td>\n",
       "      <td>0.664062</td>\n",
       "    </tr>\n",
       "    <tr>\n",
       "      <th>ann</th>\n",
       "      <td>0.698063</td>\n",
       "      <td>0.845715</td>\n",
       "      <td>0.753125</td>\n",
       "      <td>0.664062</td>\n",
       "    </tr>\n",
       "  </tbody>\n",
       "</table>\n",
       "</div>"
      ],
      "text/plain": [
       "               acc acc_standardized acc_standard_holdout  \\\n",
       "knn       0.645998          0.65111               0.6125   \n",
       "svc_lin   0.672638         0.812353             0.815625   \n",
       "svc_rbf   0.622602          0.53527                 0.25   \n",
       "rand_for  0.818887         0.844057             0.765625   \n",
       "ada       0.658577         0.665935              0.58125   \n",
       "gnb       0.766725         0.766699             0.759375   \n",
       "log       0.773535         0.783605                 0.75   \n",
       "ann       0.698063         0.845715             0.753125   \n",
       "\n",
       "         acc_standard_validation  \n",
       "knn                     0.570312  \n",
       "svc_lin                 0.804688  \n",
       "svc_rbf                     0.25  \n",
       "rand_for                0.734375  \n",
       "ada                      0.65625  \n",
       "gnb                     0.765625  \n",
       "log                     0.664062  \n",
       "ann                     0.664062  "
      ]
     },
     "execution_count": 2,
     "metadata": {},
     "output_type": "execute_result"
    }
   ],
   "source": [
    "from imblearn.pipeline import Pipeline\n",
    "import pandas as pd\n",
    "\n",
    "from imblearn.over_sampling import RandomOverSampler\n",
    "from sklearn.preprocessing import StandardScaler\n",
    "\n",
    "from sklearn.model_selection import StratifiedKFold, cross_val_score\n",
    "\n",
    "classifiers = mu.get_baseline_models()\n",
    "\n",
    "models = [clf['name'] for clf in classifiers]\n",
    "df = pd.DataFrame(columns=['acc', 'acc_standardized', 'acc_standard_holdout', 'acc_standard_validation'], index=models)\n",
    "\n",
    "for clf in classifiers:\n",
    "    model = clf['model']\n",
    "    name = clf['name']\n",
    "\n",
    "    ## Without Standardization\n",
    "    pipeline = Pipeline([\n",
    "        ('oversampler', RandomOverSampler()),\n",
    "        ('classifier', model)\n",
    "    ])\n",
    "\n",
    "    print(\"Running the pipeline without standardization for %s\" %name)\n",
    "    cross_val_acc = cross_val_score(pipeline, X, y, cv=StratifiedKFold(5)).mean()\n",
    "    df.loc[clf['name']]['acc'] = cross_val_acc\n",
    "    \n",
    "    ## With Standardization\n",
    "    pipeline = Pipeline([\n",
    "        ('standardization', StandardScaler()),\n",
    "        ('oversampler', RandomOverSampler()),\n",
    "        ('classifier', model)\n",
    "    ])\n",
    "\n",
    "    print(\"Running the pipeline WITH standardization for %s\" %name)\n",
    "    cross_val_acc = cross_val_score(pipeline, X, y, cv=StratifiedKFold(5)).mean()\n",
    "    df.loc[name]['acc_standardized'] = cross_val_acc\n",
    "\n",
    "    ## Fit with Models with Standardization to the full dataset and evaluate on the holdout and validation data\n",
    "    pipeline.fit(X,y)\n",
    "    df.loc[name]['acc_standard_holdout'] = pipeline.score(Xh, yh)\n",
    "    df.loc[name]['acc_standard_validation'] = pipeline.score(Xv, yv)\n",
    "\n",
    "df"
   ]
  },
  {
   "cell_type": "markdown",
   "metadata": {},
   "source": [
    "**TODO**: Look into whether or not we should exclude 'Sex' from the standardization step since it is a binary feature"
   ]
  },
  {
   "cell_type": "code",
   "execution_count": 3,
   "metadata": {},
   "outputs": [
    {
     "data": {
      "image/png": "[encoded data removed]",
      "text/plain": [
       "<matplotlib.figure.Figure at 0x1e01d967710>"
      ]
     },
     "metadata": {},
     "output_type": "display_data"
    }
   ],
   "source": [
    "%matplotlib inline\n",
    "ax = df.drop(['acc_standard_holdout', 'acc_standard_validation'], axis=1).plot(kind='bar', figsize=(10,6), rot=0)\n",
    "ax.set_xlabel('Model')\n",
    "ax.set_ylabel('Accuracy')\n",
    "ax.set_ybound((0,1))\n",
    "l = ax.legend(labels=['w/o standardization', 'w/ standardization'])\n",
    "fig = ax.get_figure()\n",
    "fig.savefig('images/standardization_acc')"
   ]
  },
  {
   "cell_type": "code",
   "execution_count": 4,
   "metadata": {},
   "outputs": [
    {
     "data": {
      "image/png": "[encoded data removed]",
      "text/plain": [
       "<matplotlib.figure.Figure at 0x1e0205d57f0>"
      ]
     },
     "metadata": {},
     "output_type": "display_data"
    }
   ],
   "source": [
    "%matplotlib inline\n",
    "ax = df.drop(['acc'], axis=1).plot(kind='bar', figsize=(10,6), rot=0)\n",
    "ax.set_xlabel('Model')\n",
    "ax.set_ylabel('Accuracy')\n",
    "ax.set_ybound((0,1.1))\n",
    "l = ax.legend(labels=['cross-val accuracy','holdout accuracy', 'validation accuracy'])\n",
    "fig = ax.get_figure()\n",
    "fig.savefig('images/standardization_validation')"
   ]
  },
  {
   "cell_type": "code",
   "execution_count": null,
   "metadata": {},
   "outputs": [],
   "source": []
  }
 ],
 "metadata": {
  "kernelspec": {
   "display_name": "Python 3",
   "language": "python",
   "name": "python3"
  },
  "language_info": {
   "codemirror_mode": {
    "name": "ipython",
    "version": 3
   },
   "file_extension": ".py",
   "mimetype": "text/x-python",
   "name": "python",
   "nbconvert_exporter": "python",
   "pygments_lexer": "ipython3",
   "version": "3.6.3"
  }
 },
 "nbformat": 4,
 "nbformat_minor": 2
}
