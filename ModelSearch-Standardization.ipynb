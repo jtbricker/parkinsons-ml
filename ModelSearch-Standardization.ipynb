{
 "cells": [
  {
   "cell_type": "markdown",
   "metadata": {},
   "source": [
    "# Model Search - Standardization\n",
    "\n",
    "In this notebook we will continue the model evaluation process, introducing a preprocessing step to standardize the data with mean 0 and standard deviation 1.  This will probably not help the Random Forest models but we should a least see performance improvements (and thus convergence for models without analytic solutions)"
   ]
  },
  {
   "cell_type": "code",
   "execution_count": 2,
   "metadata": {},
   "outputs": [
    {
     "name": "stdout",
     "output_type": "stream",
     "text": [
      "Maximum class size is 319\n",
      "Class 0 size is 192. Resampling with replacement to 319\n",
      "Class 1 size has max class size (319).\n",
      "Class 2 size is 41. Resampling with replacement to 319\n",
      "Class 3 size is 44. Resampling with replacement to 319\n",
      "Maximum class size is 80\n",
      "Class 0 size is 48. Resampling with replacement to 80\n",
      "Class 1 size has max class size (80).\n",
      "Class 2 size is 11. Resampling with replacement to 80\n",
      "Class 3 size is 11. Resampling with replacement to 80\n",
      "Maximum class size is 32\n",
      "Class 0 size is 6. Resampling with replacement to 32\n",
      "Class 1 size has max class size (32).\n",
      "Class 2 size is 4. Resampling with replacement to 32\n",
      "Class 3 size is 8. Resampling with replacement to 32\n"
     ]
    }
   ],
   "source": [
    "# get the data and resample\n",
    "import ml_utils as mu\n",
    "\n",
    "# get the training data\n",
    "data = mu.get_training_data()\n",
    "X, y = mu.split_x_and_y(data)\n",
    "X, y = mu.resample_to_equal_class_sizes(X,y)\n",
    "\n",
    "# get the holdout and outside validation data\n",
    "Xh, yh = mu.split_x_and_y(mu.get_holdout_data())\n",
    "Xh, yh = mu.resample_to_equal_class_sizes(Xh, yh)\n",
    "\n",
    "Xv, yv = mu.split_x_and_y(mu.get_validation_data())\n",
    "Xv, yv = mu.resample_to_equal_class_sizes(Xv, yv)"
   ]
  },
  {
   "cell_type": "code",
   "execution_count": 7,
   "metadata": {},
   "outputs": [
    {
     "name": "stdout",
     "output_type": "stream",
     "text": [
      "Running the pipeline without standardization for knn\n",
      "Running the pipeline WITH standardization for knn\n",
      "Running the pipeline without standardization for svc_lin\n",
      "Running the pipeline WITH standardization for svc_lin\n",
      "Running the pipeline without standardization for svc_rbf\n",
      "Running the pipeline WITH standardization for svc_rbf\n",
      "Running the pipeline without standardization for rand_for\n",
      "Running the pipeline WITH standardization for rand_for\n",
      "Running the pipeline without standardization for ada\n",
      "Running the pipeline WITH standardization for ada\n",
      "Running the pipeline without standardization for gnb\n",
      "Running the pipeline WITH standardization for gnb\n",
      "Running the pipeline without standardization for log\n",
      "Running the pipeline WITH standardization for log\n",
      "Running the pipeline without standardization for ann\n",
      "Running the pipeline WITH standardization for ann\n"
     ]
    },
    {
     "data": {
      "text/html": [
       "<div>\n",
       "<style>\n",
       "    .dataframe thead tr:only-child th {\n",
       "        text-align: right;\n",
       "    }\n",
       "\n",
       "    .dataframe thead th {\n",
       "        text-align: left;\n",
       "    }\n",
       "\n",
       "    .dataframe tbody tr th {\n",
       "        vertical-align: top;\n",
       "    }\n",
       "</style>\n",
       "<table border=\"1\" class=\"dataframe\">\n",
       "  <thead>\n",
       "    <tr style=\"text-align: right;\">\n",
       "      <th></th>\n",
       "      <th>acc</th>\n",
       "      <th>acc_standardized</th>\n",
       "      <th>acc_standard_holdout</th>\n",
       "      <th>acc_standard_validation</th>\n",
       "    </tr>\n",
       "  </thead>\n",
       "  <tbody>\n",
       "    <tr>\n",
       "      <th>knn</th>\n",
       "      <td>0.846416</td>\n",
       "      <td>0.844854</td>\n",
       "      <td>0.54375</td>\n",
       "      <td>0.46875</td>\n",
       "    </tr>\n",
       "    <tr>\n",
       "      <th>svc_lin</th>\n",
       "      <td>0.639373</td>\n",
       "      <td>0.847941</td>\n",
       "      <td>0.790625</td>\n",
       "      <td>0.8125</td>\n",
       "    </tr>\n",
       "    <tr>\n",
       "      <th>svc_rbf</th>\n",
       "      <td>0.946751</td>\n",
       "      <td>0.938914</td>\n",
       "      <td>0.25</td>\n",
       "      <td>0.25</td>\n",
       "    </tr>\n",
       "    <tr>\n",
       "      <th>rand_for</th>\n",
       "      <td>0.897235</td>\n",
       "      <td>0.901947</td>\n",
       "      <td>0.690625</td>\n",
       "      <td>0.765625</td>\n",
       "    </tr>\n",
       "    <tr>\n",
       "      <th>ada</th>\n",
       "      <td>0.647433</td>\n",
       "      <td>0.647433</td>\n",
       "      <td>0.565625</td>\n",
       "      <td>0.734375</td>\n",
       "    </tr>\n",
       "    <tr>\n",
       "      <th>gnb</th>\n",
       "      <td>0.727344</td>\n",
       "      <td>0.727344</td>\n",
       "      <td>0.7</td>\n",
       "      <td>0.78125</td>\n",
       "    </tr>\n",
       "    <tr>\n",
       "      <th>log</th>\n",
       "      <td>0.843155</td>\n",
       "      <td>0.840042</td>\n",
       "      <td>0.74375</td>\n",
       "      <td>0.726562</td>\n",
       "    </tr>\n",
       "    <tr>\n",
       "      <th>ann</th>\n",
       "      <td>0.611297</td>\n",
       "      <td>0.953757</td>\n",
       "      <td>0.6875</td>\n",
       "      <td>0.726562</td>\n",
       "    </tr>\n",
       "  </tbody>\n",
       "</table>\n",
       "</div>"
      ],
      "text/plain": [
       "               acc acc_standardized acc_standard_holdout  \\\n",
       "knn       0.846416         0.844854              0.54375   \n",
       "svc_lin   0.639373         0.847941             0.790625   \n",
       "svc_rbf   0.946751         0.938914                 0.25   \n",
       "rand_for  0.897235         0.901947             0.690625   \n",
       "ada       0.647433         0.647433             0.565625   \n",
       "gnb       0.727344         0.727344                  0.7   \n",
       "log       0.843155         0.840042              0.74375   \n",
       "ann       0.611297         0.953757               0.6875   \n",
       "\n",
       "         acc_standard_validation  \n",
       "knn                      0.46875  \n",
       "svc_lin                   0.8125  \n",
       "svc_rbf                     0.25  \n",
       "rand_for                0.765625  \n",
       "ada                     0.734375  \n",
       "gnb                      0.78125  \n",
       "log                     0.726562  \n",
       "ann                     0.726562  "
      ]
     },
     "execution_count": 7,
     "metadata": {},
     "output_type": "execute_result"
    }
   ],
   "source": [
    "from sklearn.pipeline import Pipeline\n",
    "\n",
    "from sklearn.svm import SVC\n",
    "from sklearn.naive_bayes import GaussianNB\n",
    "from sklearn.ensemble import AdaBoostClassifier\n",
    "from sklearn.neighbors import KNeighborsClassifier\n",
    "from sklearn.ensemble import RandomForestClassifier\n",
    "from sklearn.linear_model import LogisticRegression\n",
    "from sklearn.neural_network import MLPClassifier\n",
    "\n",
    "from sklearn.preprocessing import StandardScaler\n",
    "\n",
    "from sklearn.model_selection import StratifiedKFold, cross_val_score\n",
    "from sklearn.metrics import precision_recall_fscore_support\n",
    "\n",
    "classifiers = []\n",
    "\n",
    "classifiers.append({'name': 'knn', 'model':KNeighborsClassifier(5)})\n",
    "classifiers.append({'name': 'svc_lin', 'model':SVC(kernel='linear', C=0.025)})\n",
    "classifiers.append({'name': 'svc_rbf', 'model':SVC(kernel='rbf', gamma=2, C=1)})\n",
    "classifiers.append({'name': 'rand_for', 'model':RandomForestClassifier(max_depth=5)})\n",
    "classifiers.append({'name': 'ada', 'model':AdaBoostClassifier()})\n",
    "classifiers.append({'name': 'gnb', 'model':GaussianNB()})\n",
    "classifiers.append({'name': 'log', 'model':LogisticRegression(C=1e5)})\n",
    "classifiers.append({'name': 'ann', 'model':MLPClassifier(hidden_layer_sizes=[25,25,25], alpha=1)})\n",
    "\n",
    "\n",
    "models = [clf['name'] for clf in classifiers]\n",
    "df = pd.DataFrame(columns=['acc', 'acc_standardized', 'acc_standard_holdout', 'acc_standard_validation'], index=models)\n",
    "\n",
    "for clf in classifiers:\n",
    "    model = clf['model']\n",
    "    name = clf['name']\n",
    "\n",
    "    ## Without Standardization\n",
    "    pipeline = Pipeline([\n",
    "        ('classifier', model)\n",
    "    ])\n",
    "\n",
    "    print(\"Running the pipeline without standardization for %s\" %name)\n",
    "    cross_val_acc = cross_val_score(pipeline, X, y, cv=StratifiedKFold(5)).mean()\n",
    "    df.loc[clf['name']]['acc'] = cross_val_acc\n",
    "    \n",
    "    ## With Standardization\n",
    "    pipeline = Pipeline([\n",
    "        ('standardization', StandardScaler()),\n",
    "        ('classifier', model)\n",
    "    ])\n",
    "\n",
    "    print(\"Running the pipeline WITH standardization for %s\" %name)\n",
    "    cross_val_acc = cross_val_score(pipeline, X, y, cv=StratifiedKFold(5)).mean()\n",
    "    df.loc[name]['acc_standardized'] = cross_val_acc\n",
    "\n",
    "    ## Fit with Models with Standardization to the full dataset and evaluate on the holdout and validation data\n",
    "    pipeline.fit(X,y)\n",
    "    df.loc[name]['acc_standard_holdout'] = pipeline.score(Xh, yh)\n",
    "    df.loc[name]['acc_standard_validation'] = pipeline.score(Xv, yv)\n",
    "\n",
    "df"
   ]
  },
  {
   "cell_type": "markdown",
   "metadata": {},
   "source": [
    "**TODO**: Look into whether or not we should exclude 'Sex' from the standardization step since it is a binary feature"
   ]
  },
  {
   "cell_type": "code",
   "execution_count": 13,
   "metadata": {},
   "outputs": [
    {
     "data": {
      "image/png": "[encoded data removed]",
      "text/plain": [
       "<matplotlib.figure.Figure at 0x17bf3422588>"
      ]
     },
     "metadata": {},
     "output_type": "display_data"
    }
   ],
   "source": [
    "%matplotlib inline\n",
    "ax = df.drop(['acc_standard_holdout', 'acc_standard_validation'], axis=1).plot(kind='bar', figsize=(10,6), rot=0)\n",
    "ax.set_xlabel('Model')\n",
    "ax.set_ylabel('Accuracy')\n",
    "ax.set_ybound((0,1))\n",
    "l = ax.legend(labels=['w/o standardization', 'w/ standardization'])\n",
    "fig = ax.get_figure()\n",
    "fig.savefig('images/standardization_acc')"
   ]
  },
  {
   "cell_type": "code",
   "execution_count": 14,
   "metadata": {},
   "outputs": [
    {
     "data": {
      "image/png": "[encoded data removed]",
      "text/plain": [
       "<matplotlib.figure.Figure at 0x17bf346ada0>"
      ]
     },
     "metadata": {},
     "output_type": "display_data"
    }
   ],
   "source": [
    "%matplotlib inline\n",
    "ax = df.drop(['acc'], axis=1).plot(kind='bar', figsize=(10,6), rot=0)\n",
    "ax.set_xlabel('Model')\n",
    "ax.set_ylabel('Accuracy')\n",
    "ax.set_ybound((0,1.1))\n",
    "l = ax.legend(labels=['cross-val accuracy','holdout accuracy', 'validation accuracy'])\n",
    "fig = ax.get_figure()\n",
    "fig.savefig('images/standardization_validation')"
   ]
  },
  {
   "cell_type": "code",
   "execution_count": null,
   "metadata": {},
   "outputs": [],
   "source": []
  }
 ],
 "metadata": {
  "kernelspec": {
   "display_name": "Python 3",
   "language": "python",
   "name": "python3"
  },
  "language_info": {
   "codemirror_mode": {
    "name": "ipython",
    "version": 3
   },
   "file_extension": ".py",
   "mimetype": "text/x-python",
   "name": "python",
   "nbconvert_exporter": "python",
   "pygments_lexer": "ipython3",
   "version": "3.6.3"
  }
 },
 "nbformat": 4,
 "nbformat_minor": 2
}
