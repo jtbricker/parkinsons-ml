{
 "cells": [
  {
   "cell_type": "markdown",
   "metadata": {},
   "source": [
    "# Model Optimization- SVC RBF"
   ]
  },
  {
   "cell_type": "markdown",
   "metadata": {},
   "source": [
    "Lets first see what parameters could possibly be tuned"
   ]
  },
  {
   "cell_type": "code",
   "execution_count": 2,
   "metadata": {},
   "outputs": [
    {
     "name": "stdout",
     "output_type": "stream",
     "text": [
      "There are 14 parameters for the Logistic Model.  The Default values are:\n",
      "                        C:   1.0\n",
      "               cache_size:   200\n",
      "             class_weight:   None\n",
      "                    coef0:   0.0\n",
      "  decision_function_shape:   ovr\n",
      "                   degree:   3\n",
      "                    gamma:   auto\n",
      "                   kernel:   rbf\n",
      "                 max_iter:   -1\n",
      "              probability:   False\n",
      "             random_state:   None\n",
      "                shrinking:   True\n",
      "                      tol:   0.001\n",
      "                  verbose:   False\n"
     ]
    }
   ],
   "source": [
    "from sklearn.svm import SVC\n",
    "\n",
    "clf = SVC(kernel='rbf')\n",
    "params = clf.get_params()\n",
    "print(\"There are %d parameters for the Logistic Model.  The Default values are:\" %len(params.keys()))\n",
    "for key in params.keys():\n",
    "    print(\"%25s:   %s\" %(key,params[key]))"
   ]
  },
  {
   "cell_type": "markdown",
   "metadata": {},
   "source": [
    "Can vary C, gamma "
   ]
  },
  {
   "cell_type": "code",
   "execution_count": 3,
   "metadata": {},
   "outputs": [],
   "source": [
    "# get the data \n",
    "import ml_utils as mu\n",
    "\n",
    "with mu.HiddenPrints():\n",
    "    X, y , Xh, yh, Xv, yv = mu.get_training_holdout_validation_data()"
   ]
  },
  {
   "cell_type": "code",
   "execution_count": 13,
   "metadata": {},
   "outputs": [
    {
     "name": "stdout",
     "output_type": "stream",
     "text": [
      "[2018-07-10 20:09:47.637538] Starting tuning classifier__gamma\n",
      "# Tuning hyper-parameters for accuracy\n",
      "\n",
      "Fitting 5 folds for each of 100 candidates, totalling 500 fits\n"
     ]
    },
    {
     "name": "stderr",
     "output_type": "stream",
     "text": [
      "[Parallel(n_jobs=-1)]: Done  34 tasks      | elapsed:    6.7s\n",
      "[Parallel(n_jobs=-1)]: Done 184 tasks      | elapsed:   10.1s\n",
      "[Parallel(n_jobs=-1)]: Done 434 tasks      | elapsed:   15.9s\n",
      "[Parallel(n_jobs=-1)]: Done 500 out of 500 | elapsed:   17.5s finished\n"
     ]
    },
    {
     "name": "stdout",
     "output_type": "stream",
     "text": [
      "Best parameters set found on development set:\n",
      "\n",
      "{'classifier__gamma': 9.3260334688321796e-14}\n"
     ]
    },
    {
     "data": {
      "image/png": "[encoded data removed]",
      "text/plain": [
       "<matplotlib.figure.Figure at 0x1f61ecc98d0>"
      ]
     },
     "metadata": {},
     "output_type": "display_data"
    },
    {
     "name": "stdout",
     "output_type": "stream",
     "text": [
      "[2018-07-10 20:10:05.664754] Done with tuning classifier__gamma (Took 0.300 minutes)\n"
     ]
    }
   ],
   "source": [
    "from imblearn.pipeline import Pipeline\n",
    "from sklearn.preprocessing import StandardScaler\n",
    "from imblearn.over_sampling import RandomOverSampler\n",
    "from sklearn.svm import SVC\n",
    "import numpy as np\n",
    "\n",
    "# parameters and ranges to plot\n",
    "param_grid = {\n",
    "    \"classifier__C\": np.logspace(-5,15,10),\n",
    "    \"classifier__gamma\": np.logspace(-30, -10, 100)\n",
    "}\n",
    "\n",
    "clf = Pipeline([\n",
    "    ('standardization', StandardScaler()),\n",
    "    ('oversampler', RandomOverSampler()),\n",
    "    ('classifier', SVC(random_state = 84))\n",
    "])\n",
    "\n",
    "for parameter, param_range in dict.items(param_grid):\n",
    "    with mu.Timer(\"tuning %s\" %parameter) as timer:\n",
    "        mu.unidirectional_grid_search_optimization(clf, parameter, param_range, X, y)"
   ]
  },
  {
   "cell_type": "code",
   "execution_count": null,
   "metadata": {},
   "outputs": [],
   "source": []
  }
 ],
 "metadata": {
  "kernelspec": {
   "display_name": "Python 3",
   "language": "python",
   "name": "python3"
  },
  "language_info": {
   "codemirror_mode": {
    "name": "ipython",
    "version": 3
   },
   "file_extension": ".py",
   "mimetype": "text/x-python",
   "name": "python",
   "nbconvert_exporter": "python",
   "pygments_lexer": "ipython3",
   "version": "3.6.3"
  }
 },
 "nbformat": 4,
 "nbformat_minor": 2
}
