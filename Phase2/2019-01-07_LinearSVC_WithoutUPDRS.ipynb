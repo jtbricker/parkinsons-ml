{
 "cells": [
  {
   "cell_type": "markdown",
   "metadata": {},
   "source": [
    "## Data Roundup\n",
    "\n",
    "Rerun the analysis done in [Linear SVC 1/5/2019](2019-01-05_LinearSVC_DataRoundup.ipynb), this time removing UPDRS from features, and extract data needed for Derek's paper:\n",
    "\n",
    "For cross validation (need both mean and standard deviation) and holdout:\n",
    "* Accuracy\n",
    "* Sensitivity\n",
    "* Specificity\n",
    "* PPV\n",
    "* NPV\n",
    "* Recall\n",
    "* Precision\n",
    "* Area Under the Curve\n",
    "* Support\n",
    "\n",
    "Also need ROC curve as a list of numbers.\n",
    "\n",
    "Variable contribution (importance) to models (mean and standard deviation).\n",
    "\n",
    "In addition, look into changing the threshold for models based on the ROC curve"
   ]
  },
  {
   "cell_type": "markdown",
   "metadata": {},
   "source": [
    "## Imports and Function Definitions"
   ]
  },
  {
   "cell_type": "code",
   "execution_count": 1,
   "metadata": {},
   "outputs": [],
   "source": [
    "import pandas as pd\n",
    "import numpy as np\n",
    "\n",
    "import matplotlib.pyplot as plt\n",
    "\n",
    "from sklearn.decomposition import PCA\n",
    "from sklearn.feature_selection import SelectKBest, chi2\n",
    "from sklearn.preprocessing import StandardScaler, Normalizer\n",
    "from sklearn.metrics import accuracy_score, confusion_matrix, classification_report, precision_recall_fscore_support, roc_curve, make_scorer, accuracy_score, precision_score, recall_score, roc_auc_score\n",
    "from sklearn.model_selection import StratifiedKFold, cross_val_score, KFold, train_test_split, LeaveOneOut, GridSearchCV, cross_validate\n",
    "from sklearn.svm import SVC\n",
    "\n",
    "from imblearn.over_sampling import RandomOverSampler\n",
    "from imblearn.pipeline import Pipeline\n",
    "\n",
    "def grid_search_optimization(model, tuned_parameters, X, y, Xh, yh, cv=5, scoring='accuracy', verbose=False):\n",
    "    print(\"# Tuning hyper-parameters for %s\" %scoring)\n",
    "    print()\n",
    "\n",
    "    clf = GridSearchCV(model, tuned_parameters, cv=cv, n_jobs = 2, scoring=scoring, verbose=1)\n",
    "    clf.fit(X, y)\n",
    "\n",
    "    print(\"Best parameters set found on development set:\")\n",
    "    print()\n",
    "    print(clf.best_params_)\n",
    "    print()\n",
    "    if verbose:\n",
    "        print(\"Grid scores on development set:\")\n",
    "        print()\n",
    "        means = clf.cv_results_['mean_test_score']\n",
    "        stds = clf.cv_results_['std_test_score']\n",
    "        for mean, std, params in zip(means, stds, clf.cv_results_['params']):\n",
    "            print(\"%0.3f (+/-%0.03f) for %r\"\n",
    "                  % (mean, std * 2, params))\n",
    "        print()\n",
    "\n",
    "    print(\"Detailed classification report (holdout):\")\n",
    "    print()\n",
    "    print(\"The model is trained on the full development set.\")\n",
    "    print(\"The scores are computed on the full evaluation set.\")\n",
    "    print()\n",
    "    y_true, y_pred = yh, clf.predict(Xh)\n",
    "    print(classification_report(y_true, y_pred))\n",
    "    print()\n",
    "    \n",
    "    get_metrics(clf.best_estimator_, Xh, yh)\n",
    "    \n",
    "    return clf\n",
    "\n",
    "def group_classes(data, grouping):\n",
    "        classes_to_keep = grouping.keys()\n",
    "        data_to_keep = data.loc[data['GroupID'].isin(classes_to_keep)]\n",
    "        classes_to_change = {k:grouping[k] for k in classes_to_keep if k!= grouping[k]}\n",
    "        return data_to_keep.replace(classes_to_change)\n",
    "    \n",
    "def plot_coefficients(classifier, feature_names, top_features=20):\n",
    "     coef = classifier.coef_.ravel()\n",
    "     top_positive_coefficients = np.argsort(coef)[-top_features:]\n",
    "     top_negative_coefficients = np.argsort(coef)[:top_features]\n",
    "     top_coefficients = np.hstack([top_negative_coefficients, top_positive_coefficients])\n",
    "     # create plot\n",
    "     plt.figure(figsize=(15, 5))\n",
    "     colors = ['red' if c < 0 else 'blue' for c in coef[top_coefficients]]\n",
    "     plt.bar(np.arange(2 * top_features), coef[top_coefficients], color=colors)\n",
    "     feature_names = np.array(feature_names)\n",
    "     plt.xticks(np.arange(1, 1 + 2 * top_features), feature_names[top_coefficients], rotation=60, ha='right')\n",
    "     plt.show()\n",
    "        \n",
    "def print_feature_importance(feature_names, coefs):\n",
    "    assert len(feature_names) == len(coefs), \"Arrays have difference lengths. Something went wrong\"\n",
    "    for feature, coef in zip(feature_names, coefs):\n",
    "        print(\"%s\\t%s\" %(feature, coef))\n",
    "        \n",
    "# AKA True Negative Rate\n",
    "def specificity(y_true, y_pred):\n",
    "    cm = confusion_matrix(y_true, y_pred)\n",
    "    return cm[1,1] / cm[:,1].sum()\n",
    "\n",
    "def negative_predictive_value(y_true, y_pred):\n",
    "    cm = confusion_matrix(y_true, y_pred)\n",
    "    return cm[1,1] / cm[1,:].sum()\n",
    "\n",
    "def plot_roc(model, X_test, Y_test):\n",
    "    y_true, y_pred = Y_test, model.predict(X_test)\n",
    "    print(classification_report(y_true, y_pred))\n",
    "\n",
    "    y_pred_prob = model.predict_proba(X_test)[:,1]\n",
    "\n",
    "    fpr, tpr, thresholds = roc_curve(Y_test, y_pred_prob)\n",
    "\n",
    "    plt.plot([0,1],[0,1], 'k--')\n",
    "    plt.plot(fpr, tpr, label='Linear SVC')\n",
    "    plt.xlabel('False Positive Rate')\n",
    "    plt.ylabel('True Positive Rate')\n",
    "    plt.title('Linear SVC ROC Curve')\n",
    "    plt.show()\n",
    "    \n",
    "    for a,b in zip(fpr, tpr):\n",
    "        print(a,b)\n",
    "    \n",
    "def get_metrics(model, X, y):\n",
    "    for metric in _scoring_list:\n",
    "        score = _scoring_list[metric](model, X, y)\n",
    "        print(\"%s\\t%s\" %(metric, score))"
   ]
  },
  {
   "cell_type": "markdown",
   "metadata": {},
   "source": [
    "## Define classifier, pipeline and constants"
   ]
  },
  {
   "cell_type": "code",
   "execution_count": 2,
   "metadata": {},
   "outputs": [],
   "source": [
    "param_grid = {\n",
    "    \"classifier__C\": np.logspace(-5, 10, 20),\n",
    "#     \"PCA__n_components\": range(1,113,10),\n",
    "#     \"fss__k\": range(1,115,3),\n",
    "},\n",
    "\n",
    "clf = Pipeline([\n",
    "#     ('Norm', Normalizer()),\\n\",\n",
    "#     (\"Oversample\", RandomOverSampler()),\n",
    "#     ('PCA', PCA()),\n",
    "    ('Scaler', StandardScaler()),\n",
    "#     ('fss',SelectKBest()),\n",
    "    ('classifier', SVC(kernel='linear', class_weight='balanced', probability=True))\n",
    "])\n",
    "\n",
    "_cv=5\n",
    "_test_size=0.20\n",
    "_scoring_list={\n",
    "    'recall':make_scorer(recall_score),\n",
    "    'precision':make_scorer(precision_score),\n",
    "    'auc':make_scorer(roc_auc_score),\n",
    "    'specificity':make_scorer(specificity),\n",
    "    'npv':make_scorer(negative_predictive_value),\n",
    "    'accuracy':make_scorer(accuracy_score)\n",
    "}\n",
    "_scoring='f1_micro'\n",
    "_data = pd.read_excel('training_data_1004.xlsx')\n",
    "_data = _data.drop(['UPDRS'], axis=1)"
   ]
  },
  {
   "cell_type": "markdown",
   "metadata": {},
   "source": [
    "## 1. Control vs. PD/MSA/PSP"
   ]
  },
  {
   "cell_type": "code",
   "execution_count": null,
   "metadata": {},
   "outputs": [
    {
     "name": "stdout",
     "output_type": "stream",
     "text": [
      "# Tuning hyper-parameters for f1_micro\n",
      "\n",
      "Fitting 5 folds for each of 20 candidates, totalling 100 fits\n"
     ]
    },
    {
     "name": "stderr",
     "output_type": "stream",
     "text": [
      "[Parallel(n_jobs=2)]: Using backend LokyBackend with 2 concurrent workers.\n",
      "[Parallel(n_jobs=2)]: Done  46 tasks      | elapsed:  5.3min\n"
     ]
    }
   ],
   "source": [
    "# Get the data\n",
    "data1 = group_classes(_data, {0:0, 1:1, 2:1, 3:1})\n",
    "\n",
    "y1 = data1['GroupID']\n",
    "X1 = data1.drop(['GroupID'], axis=1)\n",
    "\n",
    "X_train1, X_test1, Y_train1, Y_test1 = train_test_split(X1, y1, test_size=_test_size, random_state=42)\n",
    "\n",
    "best1 = grid_search_optimization(clf, param_grid, X_train1, Y_train1, X_test1, Y_test1, cv=_cv, scoring=_scoring)"
   ]
  },
  {
   "cell_type": "code",
   "execution_count": null,
   "metadata": {},
   "outputs": [],
   "source": [
    "scores = cross_validate(best1.best_estimator_, X_train1, Y_train1, cv=_cv, return_train_score=True, scoring=_scoring_list)\n",
    "for score in scores:\n",
    "    print(\"%s\\t%s\\t%s\" %(score, np.mean(scores[score]), np.std(scores[score])))"
   ]
  },
  {
   "cell_type": "code",
   "execution_count": null,
   "metadata": {},
   "outputs": [],
   "source": [
    "model = best1.best_estimator_.named_steps['classifier']\n",
    "feature_names = data1.columns.tolist()[1:]\n",
    "plot_coefficients(model, feature_names)\n",
    "print_feature_importance(feature_names, model.coef_[0])"
   ]
  },
  {
   "cell_type": "code",
   "execution_count": null,
   "metadata": {},
   "outputs": [],
   "source": [
    "plot_roc(best1.best_estimator_, X_test1, Y_test1)"
   ]
  },
  {
   "cell_type": "markdown",
   "metadata": {},
   "source": [
    "## 2. PD vs MSA/PSP"
   ]
  },
  {
   "cell_type": "code",
   "execution_count": null,
   "metadata": {},
   "outputs": [],
   "source": [
    "# Get the data\n",
    "data2 = group_classes(_data, {1:0, 2:1, 3:1})\n",
    "\n",
    "y2 = data2['GroupID']\n",
    "X2 = data2.drop(['GroupID'], axis=1)\n",
    "\n",
    "X_train2, X_test2, Y_train2, Y_test2 = train_test_split(X2, y2, test_size=_test_size, random_state=42)\n",
    "\n",
    "best2 = grid_search_optimization(clf, param_grid, X_train2, Y_train2, X_test2, Y_test2, cv=_cv, scoring=_scoring)"
   ]
  },
  {
   "cell_type": "code",
   "execution_count": null,
   "metadata": {},
   "outputs": [],
   "source": [
    "scores = cross_validate(best2.best_estimator_, X_train2, Y_train2, cv=_cv, return_train_score=True, scoring=_scoring_list)\n",
    "for score in scores:\n",
    "    print(\"%s\\t%s\\t%s\" %(score, np.mean(scores[score]), np.std(scores[score])))"
   ]
  },
  {
   "cell_type": "code",
   "execution_count": null,
   "metadata": {},
   "outputs": [],
   "source": [
    "model = best2.best_estimator_.named_steps['classifier']\n",
    "feature_names = data2.columns.tolist()[1:]\n",
    "plot_coefficients(model, feature_names)\n",
    "print_feature_importance(feature_names, model.coef_[0])"
   ]
  },
  {
   "cell_type": "code",
   "execution_count": null,
   "metadata": {},
   "outputs": [],
   "source": [
    "plot_roc(best2.best_estimator_, X_test2, Y_test2)"
   ]
  },
  {
   "cell_type": "markdown",
   "metadata": {},
   "source": [
    "## 3. MSA vs PD/PSP"
   ]
  },
  {
   "cell_type": "code",
   "execution_count": null,
   "metadata": {},
   "outputs": [],
   "source": [
    "# Get the data\n",
    "data3 = group_classes(_data, {1:0, 3:0, 2:1})\n",
    "\n",
    "y3 = data3['GroupID']\n",
    "X3 = data3.drop(['GroupID'], axis=1)\n",
    "\n",
    "X_train3, X_test3, Y_train3, Y_test3 = train_test_split(X3, y3, test_size=_test_size, random_state=42)\n",
    "\n",
    "best3 = grid_search_optimization(clf, param_grid, X_train3, Y_train3, X_test3, Y_test3, cv=_cv, scoring=_scoring)"
   ]
  },
  {
   "cell_type": "code",
   "execution_count": null,
   "metadata": {},
   "outputs": [],
   "source": [
    "scores = cross_validate(best3.best_estimator_, X_train3, Y_train3, cv=_cv, return_train_score=True, scoring=_scoring_list)\n",
    "for score in scores:\n",
    "    print(\"%s\\t%s\\t%s\" %(score, np.mean(scores[score]), np.std(scores[score])))"
   ]
  },
  {
   "cell_type": "code",
   "execution_count": null,
   "metadata": {},
   "outputs": [],
   "source": [
    "model = best3.best_estimator_.named_steps['classifier']\n",
    "feature_names = data3.columns.tolist()[1:]\n",
    "plot_coefficients(model, feature_names)\n",
    "print_feature_importance(feature_names, model.coef_[0])"
   ]
  },
  {
   "cell_type": "code",
   "execution_count": null,
   "metadata": {},
   "outputs": [],
   "source": [
    "plot_roc(best3.best_estimator_, X_test3, Y_test3)"
   ]
  },
  {
   "cell_type": "markdown",
   "metadata": {},
   "source": [
    "## 4. PSP vs PD/MSA"
   ]
  },
  {
   "cell_type": "code",
   "execution_count": null,
   "metadata": {},
   "outputs": [],
   "source": [
    "# Get the data\n",
    "data4 = group_classes(_data, {1:0, 2:0, 3:1})\n",
    "\n",
    "y4 = data4['GroupID']\n",
    "X4 = data4.drop(['GroupID'], axis=1)\n",
    "\n",
    "X_train4, X_test4, Y_train4, Y_test4 = train_test_split(X4, y4, test_size=_test_size, random_state=42)\n",
    "\n",
    "best4 = grid_search_optimization(clf, param_grid, X_train4, Y_train4, X_test4, Y_test4, cv=_cv, scoring=_scoring)"
   ]
  },
  {
   "cell_type": "code",
   "execution_count": null,
   "metadata": {},
   "outputs": [],
   "source": [
    "scores = cross_validate(best4.best_estimator_, X_train4, Y_train4, cv=_cv, return_train_score=True, scoring=_scoring_list)\n",
    "for score in scores:\n",
    "    print(\"%s\\t%s\\t%s\" %(score, np.mean(scores[score]), np.std(scores[score])))"
   ]
  },
  {
   "cell_type": "code",
   "execution_count": null,
   "metadata": {},
   "outputs": [],
   "source": [
    "model = best4.best_estimator_.named_steps['classifier']\n",
    "feature_names = data4.columns.tolist()[1:]\n",
    "plot_coefficients(model, feature_names)\n",
    "print_feature_importance(feature_names, model.coef_[0])"
   ]
  },
  {
   "cell_type": "code",
   "execution_count": null,
   "metadata": {},
   "outputs": [],
   "source": [
    "plot_roc(best4.best_estimator_, X_test4, Y_test4)"
   ]
  },
  {
   "cell_type": "code",
   "execution_count": null,
   "metadata": {},
   "outputs": [],
   "source": []
  },
  {
   "cell_type": "code",
   "execution_count": null,
   "metadata": {},
   "outputs": [],
   "source": []
  }
 ],
 "metadata": {
  "kernelspec": {
   "display_name": "Python 3",
   "language": "python",
   "name": "python3"
  },
  "language_info": {
   "codemirror_mode": {
    "name": "ipython",
    "version": 3
   },
   "file_extension": ".py",
   "mimetype": "text/x-python",
   "name": "python",
   "nbconvert_exporter": "python",
   "pygments_lexer": "ipython3",
   "version": "3.6.1"
  }
 },
 "nbformat": 4,
 "nbformat_minor": 2
}
