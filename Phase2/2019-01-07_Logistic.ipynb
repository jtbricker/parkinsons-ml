{
 "cells": [
  {
   "cell_type": "markdown",
   "metadata": {},
   "source": [
    "## Logistic Regression and ROC analysis\n",
    "\n",
    "1) run logistic regression on the training dataset to determine a cutoff point (no CV or anything)\n",
    "2) run an ROC analysis on the holdout group using that cutoff"
   ]
  },
  {
   "cell_type": "markdown",
   "metadata": {},
   "source": [
    "## Imports and Function Definitions"
   ]
  },
  {
   "cell_type": "code",
   "execution_count": 10,
   "metadata": {},
   "outputs": [],
   "source": [
    "import pandas as pd\n",
    "import numpy as np\n",
    "\n",
    "import matplotlib.pyplot as plt\n",
    "\n",
    "from sklearn.decomposition import PCA\n",
    "from sklearn.feature_selection import SelectKBest, chi2\n",
    "from sklearn.preprocessing import StandardScaler, Normalizer\n",
    "from sklearn.metrics import accuracy_score, confusion_matrix, classification_report, precision_recall_fscore_support, roc_curve, make_scorer, accuracy_score, precision_score, recall_score, roc_auc_score\n",
    "from sklearn.model_selection import StratifiedKFold, cross_val_score, KFold, train_test_split, LeaveOneOut, GridSearchCV, cross_validate\n",
    "from sklearn.linear_model import LogisticRegression\n",
    "\n",
    "from imblearn.over_sampling import RandomOverSampler\n",
    "from imblearn.pipeline import Pipeline\n",
    "\n",
    "def grid_search_optimization(model, tuned_parameters, X, y, Xh, yh, cv=5, scoring='accuracy', verbose=False):\n",
    "    print(\"# Tuning hyper-parameters for %s\" %scoring)\n",
    "    print()\n",
    "\n",
    "    clf = GridSearchCV(model, tuned_parameters, cv=cv, n_jobs = -1, scoring=scoring, verbose=verbose)\n",
    "    clf.fit(X, y)\n",
    "\n",
    "    print(\"Best parameters set found on development set:\")\n",
    "    print()\n",
    "    print(clf.best_params_)\n",
    "    print()\n",
    "    if verbose:\n",
    "        print(\"Grid scores on development set:\")\n",
    "        print()\n",
    "        means = clf.cv_results_['mean_test_score']\n",
    "        stds = clf.cv_results_['std_test_score']\n",
    "        for mean, std, params in zip(means, stds, clf.cv_results_['params']):\n",
    "            print(\"%0.3f (+/-%0.03f) for %r\"\n",
    "                  % (mean, std * 2, params))\n",
    "        print()\n",
    "\n",
    "    print(\"Detailed classification report (holdout):\")\n",
    "    print()\n",
    "    print(\"The model is trained on the full development set.\")\n",
    "    print(\"The scores are computed on the full evaluation set.\")\n",
    "    print()\n",
    "    y_true, y_pred = yh, clf.predict(Xh)\n",
    "    print(classification_report(y_true, y_pred))\n",
    "    print()\n",
    "    \n",
    "    get_metrics(clf.best_estimator_, Xh, yh)\n",
    "    \n",
    "    return clf\n",
    "\n",
    "def group_classes(data, grouping):\n",
    "        classes_to_keep = grouping.keys()\n",
    "        data_to_keep = data.loc[data['GroupID'].isin(classes_to_keep)]\n",
    "        classes_to_change = {k:grouping[k] for k in classes_to_keep if k!= grouping[k]}\n",
    "        return data_to_keep.replace(classes_to_change)\n",
    "    \n",
    "def plot_coefficients(classifier, feature_names, top_features=20):\n",
    "     coef = classifier.coef_.ravel()\n",
    "     top_positive_coefficients = np.argsort(coef)[-top_features:]\n",
    "     top_negative_coefficients = np.argsort(coef)[:top_features]\n",
    "     top_coefficients = np.hstack([top_negative_coefficients, top_positive_coefficients])\n",
    "     # create plot\n",
    "     plt.figure(figsize=(15, 5))\n",
    "     colors = ['red' if c < 0 else 'blue' for c in coef[top_coefficients]]\n",
    "     plt.bar(np.arange(2 * top_features), coef[top_coefficients], color=colors)\n",
    "     feature_names = np.array(feature_names)\n",
    "     plt.xticks(np.arange(1, 1 + 2 * top_features), feature_names[top_coefficients], rotation=60, ha='right')\n",
    "     plt.show()\n",
    "        \n",
    "def print_feature_importance(feature_names, coefs):\n",
    "    assert len(feature_names) == len(coefs), \"Arrays have difference lengths. Something went wrong\"\n",
    "    for feature, coef in zip(feature_names, coefs):\n",
    "        print(\"%s\\t%s\" %(feature, coef))\n",
    "        \n",
    "# AKA True Negative Rate\n",
    "def specificity(y_true, y_pred):\n",
    "    cm = confusion_matrix(y_true, y_pred)\n",
    "    return cm[0,0] / cm[0,:].sum()\n",
    "\n",
    "def negative_predictive_value(y_true, y_pred):\n",
    "    cm = confusion_matrix(y_true, y_pred)\n",
    "    return cm[0,0] / cm[:,0].sum()\n",
    "\n",
    "def plot_roc(model, X_test, Y_test):\n",
    "    y_true, y_pred = Y_test, model.predict(X_test)\n",
    "    print(classification_report(y_true, y_pred))\n",
    "\n",
    "    y_pred_prob = model.predict_proba(X_test)[:,1]\n",
    "\n",
    "    fpr, tpr, thresholds = roc_curve(Y_test, y_pred_prob)\n",
    "\n",
    "    plt.plot([0,1],[0,1], 'k--')\n",
    "    plt.plot(fpr, tpr, label='Linear SVC')\n",
    "    plt.xlabel('False Positive Rate')\n",
    "    plt.ylabel('True Positive Rate')\n",
    "    plt.title('Linear SVC ROC Curve')\n",
    "    plt.show()\n",
    "    \n",
    "    for a,b in zip(fpr, tpr):\n",
    "        print(a,b)\n",
    "    \n",
    "def get_metrics(model, X, y):\n",
    "    for metric in _scoring_list:\n",
    "        score = _scoring_list[metric](model, X, y)\n",
    "        print(\"%s\\t%s\" %(metric, score))"
   ]
  },
  {
   "cell_type": "code",
   "execution_count": 12,
   "metadata": {},
   "outputs": [
    {
     "data": {
      "text/plain": [
       "0.20000000000000001"
      ]
     },
     "execution_count": 12,
     "metadata": {},
     "output_type": "execute_result"
    }
   ],
   "source": [
    "pred = [0,0,0,0,0,1,1,1,1,1]\n",
    "true = [0,1,1,1,1,0,0,1,1,0]\n",
    "\n",
    "specificity(true, pred)\n",
    "negative_predictive_value(true, pred)\n",
    "# confusion_matrix(true, pred)"
   ]
  },
  {
   "cell_type": "markdown",
   "metadata": {},
   "source": [
    "## Define classifier, pipeline and constants"
   ]
  },
  {
   "cell_type": "code",
   "execution_count": 46,
   "metadata": {},
   "outputs": [],
   "source": [
    "param_grid = {\n",
    "    \"classifier__C\": np.logspace(-5, 10, 20),\n",
    "    \"classifier__penalty\": ['l1','l2']\n",
    "#     \"PCA__n_components\": range(1,113,10),\n",
    "#     \"fss__k\": range(1,115,3),\n",
    "},\n",
    "\n",
    "clf = Pipeline([\n",
    "    ('Norm', Normalizer()),\n",
    "    (\"Oversample\", RandomOverSampler()),\n",
    "#     ('PCA', PCA()),\n",
    "    ('Scaler', StandardScaler()),\n",
    "#     ('fss',SelectKBest()),\n",
    "    ('classifier', LogisticRegression(class_weight='balanced', random_state=42))\n",
    "])\n",
    "\n",
    "_cv=5\n",
    "_test_size=0.20\n",
    "_scoring_list={\n",
    "    'recall':make_scorer(recall_score),\n",
    "    'precision':make_scorer(precision_score),\n",
    "    'auc':make_scorer(roc_auc_score),\n",
    "    'specificity':make_scorer(specificity),\n",
    "    'npv':make_scorer(negative_predictive_value),\n",
    "    'accuracy':make_scorer(accuracy_score)\n",
    "}\n",
    "_scoring='f1_micro'\n",
    "_data = pd.read_excel('training_data_1004.xlsx')\n",
    "_data = _data[['GroupID','UPDRS']]"
   ]
  },
  {
   "cell_type": "markdown",
   "metadata": {},
   "source": [
    "## 1. Control vs. PD/MSA/PSP"
   ]
  },
  {
   "cell_type": "code",
   "execution_count": 21,
   "metadata": {},
   "outputs": [
    {
     "name": "stdout",
     "output_type": "stream",
     "text": [
      "# Tuning hyper-parameters for f1_micro\n",
      "\n",
      "Fitting 5 folds for each of 40 candidates, totalling 200 fits\n"
     ]
    },
    {
     "name": "stderr",
     "output_type": "stream",
     "text": [
      "[Parallel(n_jobs=-1)]: Done  34 tasks      | elapsed:    8.1s\n"
     ]
    },
    {
     "name": "stdout",
     "output_type": "stream",
     "text": [
      "Best parameters set found on development set:\n",
      "\n",
      "{'classifier__C': 100.0, 'classifier__penalty': 'l1'}\n",
      "\n",
      "Grid scores on development set:\n",
      "\n",
      "0.284 (+/-0.004) for {'classifier__C': 1.0000000000000001e-05, 'classifier__penalty': 'l1'}\n",
      "0.863 (+/-0.075) for {'classifier__C': 1.0000000000000001e-05, 'classifier__penalty': 'l2'}\n",
      "0.284 (+/-0.004) for {'classifier__C': 2.3357214690901213e-05, 'classifier__penalty': 'l1'}\n",
      "0.863 (+/-0.075) for {'classifier__C': 2.3357214690901213e-05, 'classifier__penalty': 'l2'}\n",
      "0.284 (+/-0.004) for {'classifier__C': 5.4555947811685143e-05, 'classifier__penalty': 'l1'}\n",
      "0.863 (+/-0.075) for {'classifier__C': 5.4555947811685143e-05, 'classifier__penalty': 'l2'}\n",
      "0.284 (+/-0.004) for {'classifier__C': 0.00012742749857031334, 'classifier__penalty': 'l1'}\n",
      "0.863 (+/-0.075) for {'classifier__C': 0.00012742749857031334, 'classifier__penalty': 'l2'}\n",
      "0.284 (+/-0.004) for {'classifier__C': 0.00029763514416313193, 'classifier__penalty': 'l1'}\n",
      "0.863 (+/-0.075) for {'classifier__C': 0.00029763514416313193, 'classifier__penalty': 'l2'}\n",
      "0.284 (+/-0.004) for {'classifier__C': 0.00069519279617756048, 'classifier__penalty': 'l1'}\n",
      "0.863 (+/-0.075) for {'classifier__C': 0.00069519279617756048, 'classifier__penalty': 'l2'}\n",
      "0.284 (+/-0.004) for {'classifier__C': 0.001623776739188721, 'classifier__penalty': 'l1'}\n",
      "0.864 (+/-0.075) for {'classifier__C': 0.001623776739188721, 'classifier__penalty': 'l2'}\n",
      "0.863 (+/-0.075) for {'classifier__C': 0.0037926901907322499, 'classifier__penalty': 'l1'}\n",
      "0.864 (+/-0.075) for {'classifier__C': 0.0037926901907322499, 'classifier__penalty': 'l2'}\n",
      "0.863 (+/-0.075) for {'classifier__C': 0.0088586679041008226, 'classifier__penalty': 'l1'}\n",
      "0.878 (+/-0.064) for {'classifier__C': 0.0088586679041008226, 'classifier__penalty': 'l2'}\n",
      "0.864 (+/-0.075) for {'classifier__C': 0.02069138081114788, 'classifier__penalty': 'l1'}\n",
      "0.893 (+/-0.053) for {'classifier__C': 0.02069138081114788, 'classifier__penalty': 'l2'}\n",
      "0.907 (+/-0.052) for {'classifier__C': 0.048329302385717518, 'classifier__penalty': 'l1'}\n",
      "0.900 (+/-0.064) for {'classifier__C': 0.048329302385717518, 'classifier__penalty': 'l2'}\n",
      "0.922 (+/-0.057) for {'classifier__C': 0.11288378916846883, 'classifier__penalty': 'l1'}\n",
      "0.914 (+/-0.062) for {'classifier__C': 0.11288378916846883, 'classifier__penalty': 'l2'}\n",
      "0.930 (+/-0.051) for {'classifier__C': 0.26366508987303555, 'classifier__penalty': 'l1'}\n",
      "0.922 (+/-0.057) for {'classifier__C': 0.26366508987303555, 'classifier__penalty': 'l2'}\n",
      "0.933 (+/-0.045) for {'classifier__C': 0.6158482110660255, 'classifier__penalty': 'l1'}\n",
      "0.928 (+/-0.043) for {'classifier__C': 0.6158482110660255, 'classifier__penalty': 'l2'}\n",
      "0.930 (+/-0.051) for {'classifier__C': 1.4384498882876631, 'classifier__penalty': 'l1'}\n",
      "0.935 (+/-0.043) for {'classifier__C': 1.4384498882876631, 'classifier__penalty': 'l2'}\n",
      "0.936 (+/-0.041) for {'classifier__C': 3.3598182862837809, 'classifier__penalty': 'l1'}\n",
      "0.935 (+/-0.043) for {'classifier__C': 3.3598182862837809, 'classifier__penalty': 'l2'}\n",
      "0.933 (+/-0.045) for {'classifier__C': 7.8475997035146063, 'classifier__penalty': 'l1'}\n",
      "0.930 (+/-0.051) for {'classifier__C': 7.8475997035146063, 'classifier__penalty': 'l2'}\n",
      "0.935 (+/-0.043) for {'classifier__C': 18.329807108324339, 'classifier__penalty': 'l1'}\n",
      "0.935 (+/-0.043) for {'classifier__C': 18.329807108324339, 'classifier__penalty': 'l2'}\n",
      "0.935 (+/-0.043) for {'classifier__C': 42.813323987193868, 'classifier__penalty': 'l1'}\n",
      "0.933 (+/-0.045) for {'classifier__C': 42.813323987193868, 'classifier__penalty': 'l2'}\n",
      "0.939 (+/-0.038) for {'classifier__C': 100.0, 'classifier__penalty': 'l1'}\n",
      "0.935 (+/-0.043) for {'classifier__C': 100.0, 'classifier__penalty': 'l2'}\n",
      "\n",
      "Detailed classification report (holdout):\n",
      "\n",
      "The model is trained on the full development set.\n",
      "The scores are computed on the full evaluation set.\n",
      "\n",
      "             precision    recall  f1-score   support\n",
      "\n",
      "          0       0.98      0.94      0.96        50\n",
      "          1       0.98      0.99      0.99       151\n",
      "\n",
      "avg / total       0.98      0.98      0.98       201\n",
      "\n",
      "\n",
      "recall\t0.993377483444\n",
      "precision\t0.980392156863\n",
      "auc\t0.966688741722\n",
      "specificity\t0.980392156863\n",
      "npv\t0.993377483444\n",
      "accuracy\t0.980099502488\n"
     ]
    },
    {
     "name": "stderr",
     "output_type": "stream",
     "text": [
      "[Parallel(n_jobs=-1)]: Done 200 out of 200 | elapsed:    8.5s finished\n"
     ]
    }
   ],
   "source": [
    "# Get the data\n",
    "data1 = group_classes(_data, {0:0, 1:1, 2:1, 3:1})\n",
    "\n",
    "y1 = data1['GroupID']\n",
    "X1 = data1.drop(['GroupID'], axis=1)\n",
    "\n",
    "X_train1, X_test1, Y_train1, Y_test1 = train_test_split(X1, y1, test_size=_test_size, random_state=42)\n",
    "\n",
    "best1 = grid_search_optimization(clf, param_grid, X_train1, Y_train1, X_test1, Y_test1, cv=_cv, scoring=_scoring, verbose=1)"
   ]
  },
  {
   "cell_type": "code",
   "execution_count": 22,
   "metadata": {},
   "outputs": [
    {
     "name": "stdout",
     "output_type": "stream",
     "text": [
      "fit_time\t0.00530090332031\t0.00153814853441\n",
      "score_time\t0.0050989151001\t0.00135570027381\n",
      "test_recall\t0.921739130435\t0.0360633762667\n",
      "train_recall\t0.922173913043\t0.0119387219285\n",
      "test_precision\t0.983413157358\t0.00678149459916\n",
      "train_precision\t0.982878879961\t0.00217093486581\n",
      "test_auc\t0.94115942029\t0.0171552688977\n",
      "train_auc\t0.940802323122\t0.00431332430044\n",
      "test_specificity\t0.983413157358\t0.00678149459916\n",
      "train_specificity\t0.982878879961\t0.00217093486581\n",
      "test_npv\t0.921739130435\t0.0360633762667\n",
      "train_npv\t0.922173913043\t0.0119387219285\n",
      "test_accuracy\t0.93277173913\t0.0246188343498\n",
      "train_accuracy\t0.932755337858\t0.00742661270275\n"
     ]
    }
   ],
   "source": [
    "scores = cross_validate(best1.best_estimator_, X_train1, Y_train1, cv=_cv, return_train_score=True, scoring=_scoring_list)\n",
    "for score in scores:\n",
    "    print(\"%s\\t%s\\t%s\" %(score, np.mean(scores[score]), np.std(scores[score])))"
   ]
  },
  {
   "cell_type": "code",
   "execution_count": 23,
   "metadata": {},
   "outputs": [
    {
     "name": "stdout",
     "output_type": "stream",
     "text": [
      "UPDRS\t6.65942487869\n"
     ]
    }
   ],
   "source": [
    "model = best1.best_estimator_.named_steps['classifier']\n",
    "feature_names = data1.columns.tolist()[1:]\n",
    "# plot_coefficients(model, feature_names)\n",
    "print_feature_importance(feature_names, model.coef_[0])"
   ]
  },
  {
   "cell_type": "code",
   "execution_count": 24,
   "metadata": {},
   "outputs": [
    {
     "name": "stdout",
     "output_type": "stream",
     "text": [
      "             precision    recall  f1-score   support\n",
      "\n",
      "          0       0.98      0.94      0.96        50\n",
      "          1       0.98      0.99      0.99       151\n",
      "\n",
      "avg / total       0.98      0.98      0.98       201\n",
      "\n"
     ]
    },
    {
     "data": {
      "image/png": "[encoded data removed]",
      "text/plain": [
       "<matplotlib.figure.Figure at 0x29c7c68fda0>"
      ]
     },
     "metadata": {
      "needs_background": "light"
     },
     "output_type": "display_data"
    },
    {
     "name": "stdout",
     "output_type": "stream",
     "text": [
      "0.0 0.0132450331126\n",
      "0.0 0.0596026490066\n",
      "0.0 0.0728476821192\n",
      "0.0 0.0927152317881\n",
      "0.0 0.105960264901\n",
      "0.0 0.112582781457\n",
      "0.0 0.132450331126\n",
      "0.0 0.139072847682\n",
      "0.0 0.165562913907\n",
      "0.0 0.185430463576\n",
      "0.0 0.198675496689\n",
      "0.0 0.278145695364\n",
      "0.0 0.291390728477\n",
      "0.0 0.304635761589\n",
      "0.0 0.317880794702\n",
      "0.0 0.324503311258\n",
      "0.0 0.364238410596\n",
      "0.0 0.390728476821\n",
      "0.0 0.41059602649\n",
      "0.0 0.423841059603\n",
      "0.0 0.430463576159\n",
      "0.0 0.456953642384\n",
      "0.0 0.46357615894\n",
      "0.0 0.490066225166\n",
      "0.0 0.503311258278\n",
      "0.0 0.516556291391\n",
      "0.0 0.53642384106\n",
      "0.0 0.562913907285\n",
      "0.0 0.569536423841\n",
      "0.0 0.602649006623\n",
      "0.0 0.609271523179\n",
      "0.0 0.635761589404\n",
      "0.0 0.64238410596\n",
      "0.0 0.668874172185\n",
      "0.0 0.688741721854\n",
      "0.0 0.701986754967\n",
      "0.0 0.715231788079\n",
      "0.0 0.735099337748\n",
      "0.0 0.741721854305\n",
      "0.0 0.761589403974\n",
      "0.0 0.788079470199\n",
      "0.0 0.794701986755\n",
      "0.0 0.807947019868\n",
      "0.02 0.807947019868\n",
      "0.02 0.87417218543\n",
      "0.02 0.887417218543\n",
      "0.02 0.927152317881\n",
      "0.02 0.940397350993\n",
      "0.04 0.94701986755\n",
      "0.04 0.953642384106\n",
      "0.04 0.966887417219\n",
      "0.06 0.973509933775\n",
      "0.06 0.993377483444\n",
      "0.08 0.993377483444\n",
      "0.08 1.0\n",
      "0.14 1.0\n",
      "0.2 1.0\n",
      "0.28 1.0\n",
      "0.36 1.0\n",
      "0.38 1.0\n",
      "0.44 1.0\n",
      "0.76 1.0\n",
      "1.0 1.0\n"
     ]
    }
   ],
   "source": [
    "plot_roc(best1.best_estimator_, X_test1, Y_test1)"
   ]
  },
  {
   "cell_type": "markdown",
   "metadata": {},
   "source": [
    "## 2. PD vs MSA/PSP"
   ]
  },
  {
   "cell_type": "code",
   "execution_count": 25,
   "metadata": {},
   "outputs": [
    {
     "name": "stdout",
     "output_type": "stream",
     "text": [
      "# Tuning hyper-parameters for f1_micro\n",
      "\n",
      "Fitting 5 folds for each of 40 candidates, totalling 200 fits\n"
     ]
    },
    {
     "name": "stderr",
     "output_type": "stream",
     "text": [
      "[Parallel(n_jobs=-1)]: Done  34 tasks      | elapsed:    8.0s\n"
     ]
    },
    {
     "name": "stdout",
     "output_type": "stream",
     "text": [
      "Best parameters set found on development set:\n",
      "\n",
      "{'classifier__C': 0.26366508987303555, 'classifier__penalty': 'l1'}\n",
      "\n",
      "Grid scores on development set:\n",
      "\n",
      "0.702 (+/-0.005) for {'classifier__C': 1.0000000000000001e-05, 'classifier__penalty': 'l1'}\n",
      "0.697 (+/-0.049) for {'classifier__C': 1.0000000000000001e-05, 'classifier__penalty': 'l2'}\n",
      "0.702 (+/-0.005) for {'classifier__C': 2.3357214690901213e-05, 'classifier__penalty': 'l1'}\n",
      "0.707 (+/-0.042) for {'classifier__C': 2.3357214690901213e-05, 'classifier__penalty': 'l2'}\n",
      "0.702 (+/-0.005) for {'classifier__C': 5.4555947811685143e-05, 'classifier__penalty': 'l1'}\n",
      "0.702 (+/-0.042) for {'classifier__C': 5.4555947811685143e-05, 'classifier__penalty': 'l2'}\n",
      "0.702 (+/-0.005) for {'classifier__C': 0.00012742749857031334, 'classifier__penalty': 'l1'}\n",
      "0.702 (+/-0.042) for {'classifier__C': 0.00012742749857031334, 'classifier__penalty': 'l2'}\n",
      "0.702 (+/-0.005) for {'classifier__C': 0.00029763514416313193, 'classifier__penalty': 'l1'}\n",
      "0.710 (+/-0.048) for {'classifier__C': 0.00029763514416313193, 'classifier__penalty': 'l2'}\n",
      "0.702 (+/-0.005) for {'classifier__C': 0.00069519279617756048, 'classifier__penalty': 'l1'}\n",
      "0.700 (+/-0.041) for {'classifier__C': 0.00069519279617756048, 'classifier__penalty': 'l2'}\n",
      "0.702 (+/-0.005) for {'classifier__C': 0.001623776739188721, 'classifier__penalty': 'l1'}\n",
      "0.698 (+/-0.054) for {'classifier__C': 0.001623776739188721, 'classifier__penalty': 'l2'}\n",
      "0.702 (+/-0.005) for {'classifier__C': 0.0037926901907322499, 'classifier__penalty': 'l1'}\n",
      "0.700 (+/-0.045) for {'classifier__C': 0.0037926901907322499, 'classifier__penalty': 'l2'}\n",
      "0.702 (+/-0.042) for {'classifier__C': 0.0088586679041008226, 'classifier__penalty': 'l1'}\n",
      "0.702 (+/-0.042) for {'classifier__C': 0.0088586679041008226, 'classifier__penalty': 'l2'}\n",
      "0.707 (+/-0.040) for {'classifier__C': 0.02069138081114788, 'classifier__penalty': 'l1'}\n",
      "0.697 (+/-0.052) for {'classifier__C': 0.02069138081114788, 'classifier__penalty': 'l2'}\n",
      "0.697 (+/-0.052) for {'classifier__C': 0.048329302385717518, 'classifier__penalty': 'l1'}\n",
      "0.700 (+/-0.056) for {'classifier__C': 0.048329302385717518, 'classifier__penalty': 'l2'}\n",
      "0.703 (+/-0.031) for {'classifier__C': 0.11288378916846883, 'classifier__penalty': 'l1'}\n",
      "0.697 (+/-0.049) for {'classifier__C': 0.11288378916846883, 'classifier__penalty': 'l2'}\n",
      "0.712 (+/-0.037) for {'classifier__C': 0.26366508987303555, 'classifier__penalty': 'l1'}\n",
      "0.697 (+/-0.052) for {'classifier__C': 0.26366508987303555, 'classifier__penalty': 'l2'}\n",
      "0.700 (+/-0.041) for {'classifier__C': 0.6158482110660255, 'classifier__penalty': 'l1'}\n",
      "0.698 (+/-0.055) for {'classifier__C': 0.6158482110660255, 'classifier__penalty': 'l2'}\n",
      "0.697 (+/-0.051) for {'classifier__C': 1.4384498882876631, 'classifier__penalty': 'l1'}\n",
      "0.698 (+/-0.050) for {'classifier__C': 1.4384498882876631, 'classifier__penalty': 'l2'}\n",
      "0.697 (+/-0.049) for {'classifier__C': 3.3598182862837809, 'classifier__penalty': 'l1'}\n",
      "0.697 (+/-0.057) for {'classifier__C': 3.3598182862837809, 'classifier__penalty': 'l2'}\n",
      "0.700 (+/-0.050) for {'classifier__C': 7.8475997035146063, 'classifier__penalty': 'l1'}\n",
      "0.698 (+/-0.055) for {'classifier__C': 7.8475997035146063, 'classifier__penalty': 'l2'}\n",
      "0.695 (+/-0.051) for {'classifier__C': 18.329807108324339, 'classifier__penalty': 'l1'}\n",
      "0.698 (+/-0.058) for {'classifier__C': 18.329807108324339, 'classifier__penalty': 'l2'}\n",
      "0.700 (+/-0.050) for {'classifier__C': 42.813323987193868, 'classifier__penalty': 'l1'}\n",
      "0.698 (+/-0.052) for {'classifier__C': 42.813323987193868, 'classifier__penalty': 'l2'}\n",
      "0.700 (+/-0.056) for {'classifier__C': 100.0, 'classifier__penalty': 'l1'}\n",
      "0.691 (+/-0.062) for {'classifier__C': 100.0, 'classifier__penalty': 'l2'}\n",
      "\n",
      "Detailed classification report (holdout):\n",
      "\n",
      "The model is trained on the full development set.\n",
      "The scores are computed on the full evaluation set.\n",
      "\n",
      "             precision    recall  f1-score   support\n",
      "\n",
      "          0       0.82      0.70      0.76       107\n",
      "          1       0.42      0.59      0.49        39\n",
      "\n",
      "avg / total       0.72      0.67      0.69       146\n",
      "\n",
      "\n",
      "recall\t0.589743589744\n",
      "precision\t0.418181818182\n",
      "auc\t0.645339084591\n",
      "specificity\t0.418181818182\n",
      "npv\t0.589743589744\n",
      "accuracy\t0.671232876712\n"
     ]
    },
    {
     "name": "stderr",
     "output_type": "stream",
     "text": [
      "[Parallel(n_jobs=-1)]: Done 200 out of 200 | elapsed:    8.3s finished\n"
     ]
    }
   ],
   "source": [
    "# Get the data\n",
    "data2 = group_classes(_data, {1:0, 2:1, 3:1})\n",
    "\n",
    "y2 = data2['GroupID']\n",
    "X2 = data2.drop(['GroupID'], axis=1)\n",
    "\n",
    "X_train2, X_test2, Y_train2, Y_test2 = train_test_split(X2, y2, test_size=_test_size, random_state=42)\n",
    "\n",
    "best2 = grid_search_optimization(clf, param_grid, X_train2, Y_train2, X_test2, Y_test2, cv=_cv, scoring=_scoring, verbose=1)"
   ]
  },
  {
   "cell_type": "code",
   "execution_count": 26,
   "metadata": {},
   "outputs": [
    {
     "name": "stdout",
     "output_type": "stream",
     "text": [
      "fit_time\t0.00379948616028\t0.00116557467101\n",
      "score_time\t0.00340051651001\t0.00135638972304\n",
      "test_recall\t0.623865546218\t0.0570998355104\n",
      "train_recall\t0.624251902826\t0.0143472759625\n",
      "test_precision\t0.520322106564\t0.0259865756462\n",
      "train_precision\t0.515033070874\t0.012571969989\n",
      "test_auc\t0.68907821123\t0.0238386380676\n",
      "train_auc\t0.687122647968\t0.00921755806736\n",
      "test_specificity\t0.520322106564\t0.0259865756462\n",
      "train_specificity\t0.515033070874\t0.012571969989\n",
      "test_npv\t0.623865546218\t0.0570998355104\n",
      "train_npv\t0.624251902826\t0.0143472759625\n",
      "test_accuracy\t0.715530568049\t0.0208394183937\n",
      "train_accuracy\t0.712493353146\t0.00887435430835\n"
     ]
    }
   ],
   "source": [
    "scores = cross_validate(best2.best_estimator_, X_train2, Y_train2, cv=_cv, return_train_score=True, scoring=_scoring_list)\n",
    "for score in scores:\n",
    "    print(\"%s\\t%s\\t%s\" %(score, np.mean(scores[score]), np.std(scores[score])))"
   ]
  },
  {
   "cell_type": "code",
   "execution_count": 27,
   "metadata": {},
   "outputs": [
    {
     "name": "stdout",
     "output_type": "stream",
     "text": [
      "UPDRS\t0.962448362341\n"
     ]
    }
   ],
   "source": [
    "model = best2.best_estimator_.named_steps['classifier']\n",
    "feature_names = data2.columns.tolist()[1:]\n",
    "# plot_coefficients(model, feature_names)\n",
    "print_feature_importance(feature_names, model.coef_[0])"
   ]
  },
  {
   "cell_type": "code",
   "execution_count": 28,
   "metadata": {},
   "outputs": [
    {
     "name": "stdout",
     "output_type": "stream",
     "text": [
      "             precision    recall  f1-score   support\n",
      "\n",
      "          0       0.82      0.70      0.76       107\n",
      "          1       0.42      0.59      0.49        39\n",
      "\n",
      "avg / total       0.72      0.67      0.69       146\n",
      "\n"
     ]
    },
    {
     "data": {
      "image/png": "[encoded data removed]",
      "text/plain": [
       "<matplotlib.figure.Figure at 0x29c7d7abc50>"
      ]
     },
     "metadata": {
      "needs_background": "light"
     },
     "output_type": "display_data"
    },
    {
     "name": "stdout",
     "output_type": "stream",
     "text": [
      "0.0 0.025641025641\n",
      "0.00934579439252 0.025641025641\n",
      "0.00934579439252 0.102564102564\n",
      "0.018691588785 0.102564102564\n",
      "0.018691588785 0.128205128205\n",
      "0.0280373831776 0.153846153846\n",
      "0.0280373831776 0.179487179487\n",
      "0.0467289719626 0.179487179487\n",
      "0.0467289719626 0.205128205128\n",
      "0.0654205607477 0.205128205128\n",
      "0.0654205607477 0.25641025641\n",
      "0.0747663551402 0.25641025641\n",
      "0.0747663551402 0.282051282051\n",
      "0.0747663551402 0.333333333333\n",
      "0.102803738318 0.333333333333\n",
      "0.102803738318 0.384615384615\n",
      "0.102803738318 0.435897435897\n",
      "0.102803738318 0.487179487179\n",
      "0.11214953271 0.487179487179\n",
      "0.11214953271 0.538461538462\n",
      "0.121495327103 0.538461538462\n",
      "0.140186915888 0.538461538462\n",
      "0.14953271028 0.538461538462\n",
      "0.168224299065 0.564102564103\n",
      "0.224299065421 0.564102564103\n",
      "0.233644859813 0.564102564103\n",
      "0.252336448598 0.564102564103\n",
      "0.280373831776 0.564102564103\n",
      "0.299065420561 0.589743589744\n",
      "0.317757009346 0.641025641026\n",
      "0.327102803738 0.641025641026\n",
      "0.345794392523 0.641025641026\n",
      "0.355140186916 0.641025641026\n",
      "0.364485981308 0.666666666667\n",
      "0.383177570093 0.666666666667\n",
      "0.392523364486 0.692307692308\n",
      "0.448598130841 0.692307692308\n",
      "0.476635514019 0.692307692308\n",
      "0.485981308411 0.692307692308\n",
      "0.514018691589 0.74358974359\n",
      "0.532710280374 0.74358974359\n",
      "0.532710280374 0.769230769231\n",
      "0.542056074766 0.769230769231\n",
      "0.579439252336 0.769230769231\n",
      "0.626168224299 0.794871794872\n",
      "0.635514018692 0.794871794872\n",
      "0.635514018692 0.820512820513\n",
      "0.644859813084 0.820512820513\n",
      "0.644859813084 0.846153846154\n",
      "0.663551401869 0.846153846154\n",
      "0.682242990654 0.846153846154\n",
      "0.691588785047 0.846153846154\n",
      "0.710280373832 0.897435897436\n",
      "0.719626168224 0.897435897436\n",
      "0.747663551402 0.897435897436\n",
      "0.757009345794 0.897435897436\n",
      "0.775700934579 0.897435897436\n",
      "0.785046728972 0.897435897436\n",
      "0.831775700935 0.923076923077\n",
      "0.869158878505 0.923076923077\n",
      "0.897196261682 0.923076923077\n",
      "0.915887850467 0.948717948718\n",
      "0.943925233645 0.974358974359\n",
      "0.953271028037 0.974358974359\n",
      "0.971962616822 0.974358974359\n",
      "0.981308411215 0.974358974359\n",
      "1.0 0.974358974359\n",
      "1.0 1.0\n"
     ]
    }
   ],
   "source": [
    "plot_roc(best2.best_estimator_, X_test2, Y_test2)"
   ]
  },
  {
   "cell_type": "markdown",
   "metadata": {},
   "source": [
    "## 3. MSA vs PD/PSP"
   ]
  },
  {
   "cell_type": "code",
   "execution_count": 47,
   "metadata": {},
   "outputs": [
    {
     "name": "stdout",
     "output_type": "stream",
     "text": [
      "# Tuning hyper-parameters for f1_micro\n",
      "\n",
      "Fitting 5 folds for each of 40 candidates, totalling 200 fits\n"
     ]
    },
    {
     "name": "stderr",
     "output_type": "stream",
     "text": [
      "[Parallel(n_jobs=-1)]: Done  34 tasks      | elapsed:    7.3s\n"
     ]
    },
    {
     "name": "stdout",
     "output_type": "stream",
     "text": [
      "Best parameters set found on development set:\n",
      "\n",
      "{'classifier__C': 1.0000000000000001e-05, 'classifier__penalty': 'l1'}\n",
      "\n",
      "Grid scores on development set:\n",
      "\n",
      "0.878 (+/-0.006) for {'classifier__C': 1.0000000000000001e-05, 'classifier__penalty': 'l1'}\n",
      "0.126 (+/-0.008) for {'classifier__C': 1.0000000000000001e-05, 'classifier__penalty': 'l2'}\n",
      "0.878 (+/-0.006) for {'classifier__C': 6.1584821106602672e-05, 'classifier__penalty': 'l1'}\n",
      "0.126 (+/-0.008) for {'classifier__C': 6.1584821106602672e-05, 'classifier__penalty': 'l2'}\n",
      "0.878 (+/-0.006) for {'classifier__C': 0.00037926901907322499, 'classifier__penalty': 'l1'}\n",
      "0.126 (+/-0.008) for {'classifier__C': 0.00037926901907322499, 'classifier__penalty': 'l2'}\n",
      "0.878 (+/-0.006) for {'classifier__C': 0.0023357214690901212, 'classifier__penalty': 'l1'}\n",
      "0.126 (+/-0.008) for {'classifier__C': 0.0023357214690901212, 'classifier__penalty': 'l2'}\n",
      "0.878 (+/-0.006) for {'classifier__C': 0.01438449888287663, 'classifier__penalty': 'l1'}\n",
      "0.126 (+/-0.008) for {'classifier__C': 0.01438449888287663, 'classifier__penalty': 'l2'}\n",
      "0.126 (+/-0.008) for {'classifier__C': 0.088586679041008323, 'classifier__penalty': 'l1'}\n",
      "0.126 (+/-0.008) for {'classifier__C': 0.088586679041008323, 'classifier__penalty': 'l2'}\n",
      "0.126 (+/-0.008) for {'classifier__C': 0.54555947811685146, 'classifier__penalty': 'l1'}\n",
      "0.126 (+/-0.008) for {'classifier__C': 0.54555947811685146, 'classifier__penalty': 'l2'}\n",
      "0.126 (+/-0.008) for {'classifier__C': 3.3598182862837809, 'classifier__penalty': 'l1'}\n",
      "0.126 (+/-0.008) for {'classifier__C': 3.3598182862837809, 'classifier__penalty': 'l2'}\n",
      "0.126 (+/-0.008) for {'classifier__C': 20.691380811147901, 'classifier__penalty': 'l1'}\n",
      "0.126 (+/-0.008) for {'classifier__C': 20.691380811147901, 'classifier__penalty': 'l2'}\n",
      "0.126 (+/-0.008) for {'classifier__C': 127.42749857031347, 'classifier__penalty': 'l1'}\n",
      "0.126 (+/-0.008) for {'classifier__C': 127.42749857031347, 'classifier__penalty': 'l2'}\n",
      "0.126 (+/-0.008) for {'classifier__C': 784.75997035146224, 'classifier__penalty': 'l1'}\n",
      "0.126 (+/-0.008) for {'classifier__C': 784.75997035146224, 'classifier__penalty': 'l2'}\n",
      "0.126 (+/-0.008) for {'classifier__C': 4832.9302385717519, 'classifier__penalty': 'l1'}\n",
      "0.126 (+/-0.008) for {'classifier__C': 4832.9302385717519, 'classifier__penalty': 'l2'}\n",
      "0.126 (+/-0.008) for {'classifier__C': 29763.51441631313, 'classifier__penalty': 'l1'}\n",
      "0.126 (+/-0.008) for {'classifier__C': 29763.51441631313, 'classifier__penalty': 'l2'}\n",
      "0.126 (+/-0.008) for {'classifier__C': 183298.07108324376, 'classifier__penalty': 'l1'}\n",
      "0.126 (+/-0.008) for {'classifier__C': 183298.07108324376, 'classifier__penalty': 'l2'}\n",
      "0.126 (+/-0.008) for {'classifier__C': 1128837.8916846884, 'classifier__penalty': 'l1'}\n",
      "0.126 (+/-0.008) for {'classifier__C': 1128837.8916846884, 'classifier__penalty': 'l2'}\n",
      "0.126 (+/-0.008) for {'classifier__C': 6951927.9617756195, 'classifier__penalty': 'l1'}\n",
      "0.126 (+/-0.008) for {'classifier__C': 6951927.9617756195, 'classifier__penalty': 'l2'}\n",
      "0.126 (+/-0.008) for {'classifier__C': 42813323.987193957, 'classifier__penalty': 'l1'}\n",
      "0.126 (+/-0.008) for {'classifier__C': 42813323.987193957, 'classifier__penalty': 'l2'}\n",
      "0.126 (+/-0.008) for {'classifier__C': 263665089.87303555, 'classifier__penalty': 'l1'}\n",
      "0.126 (+/-0.008) for {'classifier__C': 263665089.87303555, 'classifier__penalty': 'l2'}\n",
      "0.126 (+/-0.008) for {'classifier__C': 1623776739.1887243, 'classifier__penalty': 'l1'}\n",
      "0.126 (+/-0.008) for {'classifier__C': 1623776739.1887243, 'classifier__penalty': 'l2'}\n",
      "0.126 (+/-0.008) for {'classifier__C': 10000000000.0, 'classifier__penalty': 'l1'}\n",
      "0.126 (+/-0.008) for {'classifier__C': 10000000000.0, 'classifier__penalty': 'l2'}\n",
      "\n",
      "Detailed classification report (holdout):\n",
      "\n",
      "The model is trained on the full development set.\n",
      "The scores are computed on the full evaluation set.\n",
      "\n",
      "             precision    recall  f1-score   support\n",
      "\n",
      "          0       0.92      1.00      0.96       134\n",
      "          1       0.00      0.00      0.00        12\n",
      "\n",
      "avg / total       0.84      0.92      0.88       146\n",
      "\n",
      "\n",
      "recall\t0.0\n",
      "precision\t0.0\n",
      "auc\t0.5\n",
      "specificity\tnan\n",
      "npv\t0.0\n",
      "accuracy\t0.917808219178\n"
     ]
    },
    {
     "name": "stderr",
     "output_type": "stream",
     "text": [
      "[Parallel(n_jobs=-1)]: Done 200 out of 200 | elapsed:    7.6s finished\n",
      "C:\\Users\\jtbricker\\AppData\\Local\\Continuum\\anaconda3\\lib\\site-packages\\sklearn\\metrics\\classification.py:1135: UndefinedMetricWarning: Precision and F-score are ill-defined and being set to 0.0 in labels with no predicted samples.\n",
      "  'precision', 'predicted', average, warn_for)\n",
      "C:\\Users\\jtbricker\\AppData\\Local\\Continuum\\anaconda3\\lib\\site-packages\\sklearn\\metrics\\classification.py:1135: UndefinedMetricWarning: Precision is ill-defined and being set to 0.0 due to no predicted samples.\n",
      "  'precision', 'predicted', average, warn_for)\n",
      "C:\\Users\\jtbricker\\AppData\\Local\\Continuum\\anaconda3\\lib\\site-packages\\ipykernel_launcher.py:77: RuntimeWarning: invalid value encountered in longlong_scalars\n"
     ]
    }
   ],
   "source": [
    "# Get the data\n",
    "data3 = group_classes(_data, {1:0, 3:0, 2:1})\n",
    "\n",
    "y3 = data3['GroupID']\n",
    "X3 = data3.drop(['GroupID'], axis=1)\n",
    "\n",
    "X_train3, X_test3, Y_train3, Y_test3 = train_test_split(X3, y3, test_size=_test_size, random_state=42)\n",
    "\n",
    "best3 = grid_search_optimization(clf, param_grid, X_train3, Y_train3, X_test3, Y_test3, cv=_cv, scoring=_scoring, verbose=1)"
   ]
  },
  {
   "cell_type": "code",
   "execution_count": 48,
   "metadata": {},
   "outputs": [
    {
     "name": "stdout",
     "output_type": "stream",
     "text": [
      "fit_time\t0.0027144908905\t0.000398766334301\n",
      "score_time\t0.00429539680481\t0.000395912163822\n",
      "test_recall\t0.0\t0.0\n",
      "train_recall\t0.0\t0.0\n",
      "test_precision\t0.0\t0.0\n",
      "train_precision\t0.0\t0.0\n",
      "test_auc\t0.5\t0.0\n",
      "train_auc\t0.5\t0.0\n",
      "test_specificity\tnan\tnan\n",
      "train_specificity\tnan\tnan\n",
      "test_npv\t0.0\t0.0\n",
      "train_npv\t0.0\t0.0\n",
      "test_accuracy\t0.877597355169\t0.00292957557924\n",
      "train_accuracy\t0.877586909621\t0.00073850541077\n"
     ]
    },
    {
     "name": "stderr",
     "output_type": "stream",
     "text": [
      "C:\\Users\\jtbricker\\AppData\\Local\\Continuum\\anaconda3\\lib\\site-packages\\sklearn\\metrics\\classification.py:1135: UndefinedMetricWarning: Precision is ill-defined and being set to 0.0 due to no predicted samples.\n",
      "  'precision', 'predicted', average, warn_for)\n",
      "C:\\Users\\jtbricker\\AppData\\Local\\Continuum\\anaconda3\\lib\\site-packages\\ipykernel_launcher.py:77: RuntimeWarning: invalid value encountered in longlong_scalars\n",
      "C:\\Users\\jtbricker\\AppData\\Local\\Continuum\\anaconda3\\lib\\site-packages\\sklearn\\metrics\\classification.py:1135: UndefinedMetricWarning: Precision is ill-defined and being set to 0.0 due to no predicted samples.\n",
      "  'precision', 'predicted', average, warn_for)\n",
      "C:\\Users\\jtbricker\\AppData\\Local\\Continuum\\anaconda3\\lib\\site-packages\\ipykernel_launcher.py:77: RuntimeWarning: invalid value encountered in longlong_scalars\n",
      "C:\\Users\\jtbricker\\AppData\\Local\\Continuum\\anaconda3\\lib\\site-packages\\sklearn\\metrics\\classification.py:1135: UndefinedMetricWarning: Precision is ill-defined and being set to 0.0 due to no predicted samples.\n",
      "  'precision', 'predicted', average, warn_for)\n",
      "C:\\Users\\jtbricker\\AppData\\Local\\Continuum\\anaconda3\\lib\\site-packages\\ipykernel_launcher.py:77: RuntimeWarning: invalid value encountered in longlong_scalars\n",
      "C:\\Users\\jtbricker\\AppData\\Local\\Continuum\\anaconda3\\lib\\site-packages\\sklearn\\metrics\\classification.py:1135: UndefinedMetricWarning: Precision is ill-defined and being set to 0.0 due to no predicted samples.\n",
      "  'precision', 'predicted', average, warn_for)\n",
      "C:\\Users\\jtbricker\\AppData\\Local\\Continuum\\anaconda3\\lib\\site-packages\\ipykernel_launcher.py:77: RuntimeWarning: invalid value encountered in longlong_scalars\n",
      "C:\\Users\\jtbricker\\AppData\\Local\\Continuum\\anaconda3\\lib\\site-packages\\sklearn\\metrics\\classification.py:1135: UndefinedMetricWarning: Precision is ill-defined and being set to 0.0 due to no predicted samples.\n",
      "  'precision', 'predicted', average, warn_for)\n",
      "C:\\Users\\jtbricker\\AppData\\Local\\Continuum\\anaconda3\\lib\\site-packages\\ipykernel_launcher.py:77: RuntimeWarning: invalid value encountered in longlong_scalars\n"
     ]
    }
   ],
   "source": [
    "scores = cross_validate(best3.best_estimator_, X_train3, Y_train3, cv=_cv, return_train_score=True, scoring=_scoring_list)\n",
    "for score in scores:\n",
    "    print(\"%s\\t%s\\t%s\" %(score, np.mean(scores[score]), np.std(scores[score])))"
   ]
  },
  {
   "cell_type": "code",
   "execution_count": 31,
   "metadata": {},
   "outputs": [
    {
     "name": "stdout",
     "output_type": "stream",
     "text": [
      "UPDRS\t0.0\n"
     ]
    }
   ],
   "source": [
    "model = best3.best_estimator_.named_steps['classifier']\n",
    "feature_names = data3.columns.tolist()[1:]\n",
    "# plot_coefficients(model, feature_names)\n",
    "print_feature_importance(feature_names, model.coef_[0])"
   ]
  },
  {
   "cell_type": "code",
   "execution_count": 32,
   "metadata": {},
   "outputs": [
    {
     "name": "stderr",
     "output_type": "stream",
     "text": [
      "C:\\Users\\jtbricker\\AppData\\Local\\Continuum\\anaconda3\\lib\\site-packages\\sklearn\\metrics\\classification.py:1135: UndefinedMetricWarning: Precision and F-score are ill-defined and being set to 0.0 in labels with no predicted samples.\n",
      "  'precision', 'predicted', average, warn_for)\n"
     ]
    },
    {
     "name": "stdout",
     "output_type": "stream",
     "text": [
      "             precision    recall  f1-score   support\n",
      "\n",
      "          0       0.92      1.00      0.96       134\n",
      "          1       0.00      0.00      0.00        12\n",
      "\n",
      "avg / total       0.84      0.92      0.88       146\n",
      "\n"
     ]
    },
    {
     "data": {
      "image/png": "[encoded data removed]",
      "text/plain": [
       "<matplotlib.figure.Figure at 0x29c7c695908>"
      ]
     },
     "metadata": {
      "needs_background": "light"
     },
     "output_type": "display_data"
    },
    {
     "name": "stdout",
     "output_type": "stream",
     "text": [
      "0.0 0.0\n",
      "1.0 1.0\n"
     ]
    }
   ],
   "source": [
    "plot_roc(best3.best_estimator_, X_test3, Y_test3)"
   ]
  },
  {
   "cell_type": "markdown",
   "metadata": {},
   "source": [
    "## 4. PSP vs PD/MSA"
   ]
  },
  {
   "cell_type": "code",
   "execution_count": 33,
   "metadata": {},
   "outputs": [
    {
     "name": "stdout",
     "output_type": "stream",
     "text": [
      "# Tuning hyper-parameters for f1_micro\n",
      "\n",
      "Fitting 5 folds for each of 40 candidates, totalling 200 fits\n"
     ]
    },
    {
     "name": "stderr",
     "output_type": "stream",
     "text": [
      "[Parallel(n_jobs=-1)]: Done  34 tasks      | elapsed:    7.4s\n"
     ]
    },
    {
     "name": "stdout",
     "output_type": "stream",
     "text": [
      "Best parameters set found on development set:\n",
      "\n",
      "{'classifier__C': 1.0000000000000001e-05, 'classifier__penalty': 'l1'}\n",
      "\n",
      "Grid scores on development set:\n",
      "\n",
      "0.824 (+/-0.006) for {'classifier__C': 1.0000000000000001e-05, 'classifier__penalty': 'l1'}\n",
      "0.619 (+/-0.108) for {'classifier__C': 1.0000000000000001e-05, 'classifier__penalty': 'l2'}\n",
      "0.824 (+/-0.006) for {'classifier__C': 2.3357214690901213e-05, 'classifier__penalty': 'l1'}\n",
      "0.624 (+/-0.108) for {'classifier__C': 2.3357214690901213e-05, 'classifier__penalty': 'l2'}\n",
      "0.824 (+/-0.006) for {'classifier__C': 5.4555947811685143e-05, 'classifier__penalty': 'l1'}\n",
      "0.617 (+/-0.107) for {'classifier__C': 5.4555947811685143e-05, 'classifier__penalty': 'l2'}\n",
      "0.824 (+/-0.006) for {'classifier__C': 0.00012742749857031334, 'classifier__penalty': 'l1'}\n",
      "0.624 (+/-0.099) for {'classifier__C': 0.00012742749857031334, 'classifier__penalty': 'l2'}\n",
      "0.824 (+/-0.006) for {'classifier__C': 0.00029763514416313193, 'classifier__penalty': 'l1'}\n",
      "0.628 (+/-0.107) for {'classifier__C': 0.00029763514416313193, 'classifier__penalty': 'l2'}\n",
      "0.824 (+/-0.006) for {'classifier__C': 0.00069519279617756048, 'classifier__penalty': 'l1'}\n",
      "0.621 (+/-0.107) for {'classifier__C': 0.00069519279617756048, 'classifier__penalty': 'l2'}\n",
      "0.824 (+/-0.006) for {'classifier__C': 0.001623776739188721, 'classifier__penalty': 'l1'}\n",
      "0.622 (+/-0.100) for {'classifier__C': 0.001623776739188721, 'classifier__penalty': 'l2'}\n",
      "0.824 (+/-0.006) for {'classifier__C': 0.0037926901907322499, 'classifier__penalty': 'l1'}\n",
      "0.619 (+/-0.108) for {'classifier__C': 0.0037926901907322499, 'classifier__penalty': 'l2'}\n",
      "0.824 (+/-0.006) for {'classifier__C': 0.0088586679041008226, 'classifier__penalty': 'l1'}\n",
      "0.622 (+/-0.101) for {'classifier__C': 0.0088586679041008226, 'classifier__penalty': 'l2'}\n",
      "0.626 (+/-0.099) for {'classifier__C': 0.02069138081114788, 'classifier__penalty': 'l1'}\n",
      "0.624 (+/-0.099) for {'classifier__C': 0.02069138081114788, 'classifier__penalty': 'l2'}\n",
      "0.619 (+/-0.108) for {'classifier__C': 0.048329302385717518, 'classifier__penalty': 'l1'}\n",
      "0.619 (+/-0.108) for {'classifier__C': 0.048329302385717518, 'classifier__penalty': 'l2'}\n",
      "0.634 (+/-0.089) for {'classifier__C': 0.11288378916846883, 'classifier__penalty': 'l1'}\n",
      "0.626 (+/-0.099) for {'classifier__C': 0.11288378916846883, 'classifier__penalty': 'l2'}\n",
      "0.631 (+/-0.097) for {'classifier__C': 0.26366508987303555, 'classifier__penalty': 'l1'}\n",
      "0.621 (+/-0.109) for {'classifier__C': 0.26366508987303555, 'classifier__penalty': 'l2'}\n",
      "0.634 (+/-0.096) for {'classifier__C': 0.6158482110660255, 'classifier__penalty': 'l1'}\n",
      "0.622 (+/-0.100) for {'classifier__C': 0.6158482110660255, 'classifier__penalty': 'l2'}\n",
      "0.634 (+/-0.094) for {'classifier__C': 1.4384498882876631, 'classifier__penalty': 'l1'}\n",
      "0.619 (+/-0.108) for {'classifier__C': 1.4384498882876631, 'classifier__penalty': 'l2'}\n",
      "0.622 (+/-0.100) for {'classifier__C': 3.3598182862837809, 'classifier__penalty': 'l1'}\n",
      "0.629 (+/-0.106) for {'classifier__C': 3.3598182862837809, 'classifier__penalty': 'l2'}\n",
      "0.621 (+/-0.107) for {'classifier__C': 7.8475997035146063, 'classifier__penalty': 'l1'}\n",
      "0.631 (+/-0.090) for {'classifier__C': 7.8475997035146063, 'classifier__penalty': 'l2'}\n",
      "0.619 (+/-0.108) for {'classifier__C': 18.329807108324339, 'classifier__penalty': 'l1'}\n",
      "0.622 (+/-0.100) for {'classifier__C': 18.329807108324339, 'classifier__penalty': 'l2'}\n",
      "0.622 (+/-0.100) for {'classifier__C': 42.813323987193868, 'classifier__penalty': 'l1'}\n",
      "0.628 (+/-0.097) for {'classifier__C': 42.813323987193868, 'classifier__penalty': 'l2'}\n",
      "0.626 (+/-0.105) for {'classifier__C': 100.0, 'classifier__penalty': 'l1'}\n",
      "0.626 (+/-0.093) for {'classifier__C': 100.0, 'classifier__penalty': 'l2'}\n",
      "\n",
      "Detailed classification report (holdout):\n",
      "\n",
      "The model is trained on the full development set.\n",
      "The scores are computed on the full evaluation set.\n",
      "\n",
      "             precision    recall  f1-score   support\n",
      "\n",
      "          0       0.82      1.00      0.90       119\n",
      "          1       0.00      0.00      0.00        27\n",
      "\n",
      "avg / total       0.66      0.82      0.73       146\n",
      "\n",
      "\n",
      "recall\t0.0\n",
      "precision\t0.0\n",
      "auc\t0.5\n",
      "specificity\tnan\n",
      "npv\t0.0\n",
      "accuracy\t0.815068493151\n"
     ]
    },
    {
     "name": "stderr",
     "output_type": "stream",
     "text": [
      "[Parallel(n_jobs=-1)]: Done 200 out of 200 | elapsed:    7.6s finished\n",
      "C:\\Users\\jtbricker\\AppData\\Local\\Continuum\\anaconda3\\lib\\site-packages\\sklearn\\metrics\\classification.py:1135: UndefinedMetricWarning: Precision and F-score are ill-defined and being set to 0.0 in labels with no predicted samples.\n",
      "  'precision', 'predicted', average, warn_for)\n",
      "C:\\Users\\jtbricker\\AppData\\Local\\Continuum\\anaconda3\\lib\\site-packages\\sklearn\\metrics\\classification.py:1135: UndefinedMetricWarning: Precision is ill-defined and being set to 0.0 due to no predicted samples.\n",
      "  'precision', 'predicted', average, warn_for)\n",
      "C:\\Users\\jtbricker\\AppData\\Local\\Continuum\\anaconda3\\lib\\site-packages\\ipykernel_launcher.py:77: RuntimeWarning: invalid value encountered in longlong_scalars\n"
     ]
    }
   ],
   "source": [
    "# Get the data\n",
    "data4 = group_classes(_data, {1:0, 2:0, 3:1})\n",
    "\n",
    "y4 = data4['GroupID']\n",
    "X4 = data4.drop(['GroupID'], axis=1)\n",
    "\n",
    "X_train4, X_test4, Y_train4, Y_test4 = train_test_split(X4, y4, test_size=_test_size, random_state=42)\n",
    "\n",
    "best4 = grid_search_optimization(clf, param_grid, X_train4, Y_train4, X_test4, Y_test4, cv=_cv, scoring=_scoring, verbose=1)"
   ]
  },
  {
   "cell_type": "code",
   "execution_count": 34,
   "metadata": {},
   "outputs": [
    {
     "name": "stdout",
     "output_type": "stream",
     "text": [
      "fit_time\t0.00351099967957\t0.00141692902048\n",
      "score_time\t0.00430092811584\t0.00139980341339\n",
      "test_recall\t0.0\t0.0\n",
      "train_recall\t0.0\t0.0\n",
      "test_precision\t0.0\t0.0\n",
      "train_precision\t0.0\t0.0\n",
      "test_auc\t0.5\t0.0\n",
      "train_auc\t0.5\t0.0\n",
      "test_specificity\tnan\tnan\n",
      "train_specificity\tnan\tnan\n",
      "test_npv\t0.0\t0.0\n",
      "train_npv\t0.0\t0.0\n",
      "test_accuracy\t0.824157152193\t0.0030255251592\n",
      "train_accuracy\t0.824139136277\t0.000759761198481\n"
     ]
    },
    {
     "name": "stderr",
     "output_type": "stream",
     "text": [
      "C:\\Users\\jtbricker\\AppData\\Local\\Continuum\\anaconda3\\lib\\site-packages\\sklearn\\metrics\\classification.py:1135: UndefinedMetricWarning: Precision is ill-defined and being set to 0.0 due to no predicted samples.\n",
      "  'precision', 'predicted', average, warn_for)\n",
      "C:\\Users\\jtbricker\\AppData\\Local\\Continuum\\anaconda3\\lib\\site-packages\\ipykernel_launcher.py:77: RuntimeWarning: invalid value encountered in longlong_scalars\n",
      "C:\\Users\\jtbricker\\AppData\\Local\\Continuum\\anaconda3\\lib\\site-packages\\sklearn\\metrics\\classification.py:1135: UndefinedMetricWarning: Precision is ill-defined and being set to 0.0 due to no predicted samples.\n",
      "  'precision', 'predicted', average, warn_for)\n",
      "C:\\Users\\jtbricker\\AppData\\Local\\Continuum\\anaconda3\\lib\\site-packages\\ipykernel_launcher.py:77: RuntimeWarning: invalid value encountered in longlong_scalars\n",
      "C:\\Users\\jtbricker\\AppData\\Local\\Continuum\\anaconda3\\lib\\site-packages\\sklearn\\metrics\\classification.py:1135: UndefinedMetricWarning: Precision is ill-defined and being set to 0.0 due to no predicted samples.\n",
      "  'precision', 'predicted', average, warn_for)\n",
      "C:\\Users\\jtbricker\\AppData\\Local\\Continuum\\anaconda3\\lib\\site-packages\\ipykernel_launcher.py:77: RuntimeWarning: invalid value encountered in longlong_scalars\n",
      "C:\\Users\\jtbricker\\AppData\\Local\\Continuum\\anaconda3\\lib\\site-packages\\sklearn\\metrics\\classification.py:1135: UndefinedMetricWarning: Precision is ill-defined and being set to 0.0 due to no predicted samples.\n",
      "  'precision', 'predicted', average, warn_for)\n",
      "C:\\Users\\jtbricker\\AppData\\Local\\Continuum\\anaconda3\\lib\\site-packages\\ipykernel_launcher.py:77: RuntimeWarning: invalid value encountered in longlong_scalars\n",
      "C:\\Users\\jtbricker\\AppData\\Local\\Continuum\\anaconda3\\lib\\site-packages\\sklearn\\metrics\\classification.py:1135: UndefinedMetricWarning: Precision is ill-defined and being set to 0.0 due to no predicted samples.\n",
      "  'precision', 'predicted', average, warn_for)\n",
      "C:\\Users\\jtbricker\\AppData\\Local\\Continuum\\anaconda3\\lib\\site-packages\\ipykernel_launcher.py:77: RuntimeWarning: invalid value encountered in longlong_scalars\n"
     ]
    }
   ],
   "source": [
    "scores = cross_validate(best4.best_estimator_, X_train4, Y_train4, cv=_cv, return_train_score=True, scoring=_scoring_list)\n",
    "for score in scores:\n",
    "    print(\"%s\\t%s\\t%s\" %(score, np.mean(scores[score]), np.std(scores[score])))"
   ]
  },
  {
   "cell_type": "code",
   "execution_count": 35,
   "metadata": {},
   "outputs": [
    {
     "name": "stdout",
     "output_type": "stream",
     "text": [
      "UPDRS\t0.0\n"
     ]
    }
   ],
   "source": [
    "model = best4.best_estimator_.named_steps['classifier']\n",
    "feature_names = data4.columns.tolist()[1:]\n",
    "# plot_coefficients(model, feature_names)\n",
    "print_feature_importance(feature_names, model.coef_[0])"
   ]
  },
  {
   "cell_type": "code",
   "execution_count": 36,
   "metadata": {},
   "outputs": [
    {
     "name": "stderr",
     "output_type": "stream",
     "text": [
      "C:\\Users\\jtbricker\\AppData\\Local\\Continuum\\anaconda3\\lib\\site-packages\\sklearn\\metrics\\classification.py:1135: UndefinedMetricWarning: Precision and F-score are ill-defined and being set to 0.0 in labels with no predicted samples.\n",
      "  'precision', 'predicted', average, warn_for)\n"
     ]
    },
    {
     "name": "stdout",
     "output_type": "stream",
     "text": [
      "             precision    recall  f1-score   support\n",
      "\n",
      "          0       0.82      1.00      0.90       119\n",
      "          1       0.00      0.00      0.00        27\n",
      "\n",
      "avg / total       0.66      0.82      0.73       146\n",
      "\n"
     ]
    },
    {
     "data": {
      "image/png": "[encoded data removed]",
      "text/plain": [
       "<matplotlib.figure.Figure at 0x29c7c68f0f0>"
      ]
     },
     "metadata": {
      "needs_background": "light"
     },
     "output_type": "display_data"
    },
    {
     "name": "stdout",
     "output_type": "stream",
     "text": [
      "0.0 0.0\n",
      "1.0 1.0\n"
     ]
    }
   ],
   "source": [
    "plot_roc(best4.best_estimator_, X_test4, Y_test4)"
   ]
  },
  {
   "cell_type": "code",
   "execution_count": null,
   "metadata": {},
   "outputs": [],
   "source": []
  },
  {
   "cell_type": "code",
   "execution_count": null,
   "metadata": {},
   "outputs": [],
   "source": []
  },
  {
   "cell_type": "code",
   "execution_count": null,
   "metadata": {},
   "outputs": [],
   "source": []
  }
 ],
 "metadata": {
  "kernelspec": {
   "display_name": "Python 3",
   "language": "python",
   "name": "python3"
  },
  "language_info": {
   "codemirror_mode": {
    "name": "ipython",
    "version": 3
   },
   "file_extension": ".py",
   "mimetype": "text/x-python",
   "name": "python",
   "nbconvert_exporter": "python",
   "pygments_lexer": "ipython3",
   "version": "3.6.3"
  }
 },
 "nbformat": 4,
 "nbformat_minor": 2
}
