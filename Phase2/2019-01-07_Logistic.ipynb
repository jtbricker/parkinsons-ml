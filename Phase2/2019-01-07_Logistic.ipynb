{
 "cells": [
  {
   "cell_type": "markdown",
   "metadata": {},
   "source": [
    "## Logistic Regression and ROC analysis\n",
    "\n",
    "1) run logistic regression on the training dataset to determine a cutoff point (no CV or anything)\n",
    "2) run an ROC analysis on the holdout group using that cutoff"
   ]
  },
  {
   "cell_type": "markdown",
   "metadata": {},
   "source": [
    "## Imports and Function Definitions"
   ]
  },
  {
   "cell_type": "code",
   "execution_count": 1,
   "metadata": {},
   "outputs": [],
   "source": [
    "import pandas as pd\n",
    "import numpy as np\n",
    "\n",
    "import matplotlib.pyplot as plt\n",
    "\n",
    "from sklearn.decomposition import PCA\n",
    "from sklearn.feature_selection import SelectKBest, chi2\n",
    "from sklearn.preprocessing import StandardScaler, Normalizer\n",
    "from sklearn.metrics import accuracy_score, confusion_matrix, classification_report, precision_recall_fscore_support, roc_curve, make_scorer, accuracy_score, precision_score, recall_score, roc_auc_score\n",
    "from sklearn.model_selection import StratifiedKFold, cross_val_score, KFold, train_test_split, LeaveOneOut, GridSearchCV, cross_validate\n",
    "from sklearn.linear_model import LogisticRegression\n",
    "\n",
    "from imblearn.over_sampling import RandomOverSampler\n",
    "from imblearn.pipeline import Pipeline\n",
    "\n",
    "def grid_search_optimization(model, tuned_parameters, X, y, Xh, yh, cv=5, scoring='accuracy', verbose=False):\n",
    "    print(\"# Tuning hyper-parameters for %s\" %scoring)\n",
    "    print()\n",
    "\n",
    "    clf = GridSearchCV(model, tuned_parameters, cv=cv, n_jobs = -1, scoring=scoring, verbose=verbose)\n",
    "    clf.fit(X, y)\n",
    "\n",
    "    print(\"Best parameters set found on development set:\")\n",
    "    print()\n",
    "    print(clf.best_params_)\n",
    "    print()\n",
    "    if verbose:\n",
    "        print(\"Grid scores on development set:\")\n",
    "        print()\n",
    "        means = clf.cv_results_['mean_test_score']\n",
    "        stds = clf.cv_results_['std_test_score']\n",
    "        for mean, std, params in zip(means, stds, clf.cv_results_['params']):\n",
    "            print(\"%0.3f (+/-%0.03f) for %r\"\n",
    "                  % (mean, std * 2, params))\n",
    "        print()\n",
    "\n",
    "    print(\"Detailed classification report (holdout):\")\n",
    "    print()\n",
    "    print(\"The model is trained on the full development set.\")\n",
    "    print(\"The scores are computed on the full evaluation set.\")\n",
    "    print()\n",
    "    y_true, y_pred = yh, clf.predict(Xh)\n",
    "    print(classification_report(y_true, y_pred))\n",
    "    print()\n",
    "    \n",
    "    get_metrics(clf.best_estimator_, Xh, yh)\n",
    "    \n",
    "    return clf\n",
    "\n",
    "def group_classes(data, grouping):\n",
    "        classes_to_keep = grouping.keys()\n",
    "        data_to_keep = data.loc[data['GroupID'].isin(classes_to_keep)]\n",
    "        classes_to_change = {k:grouping[k] for k in classes_to_keep if k!= grouping[k]}\n",
    "        return data_to_keep.replace(classes_to_change)\n",
    "    \n",
    "def plot_coefficients(classifier, feature_names, top_features=20):\n",
    "     coef = classifier.coef_.ravel()\n",
    "     top_positive_coefficients = np.argsort(coef)[-top_features:]\n",
    "     top_negative_coefficients = np.argsort(coef)[:top_features]\n",
    "     top_coefficients = np.hstack([top_negative_coefficients, top_positive_coefficients])\n",
    "     # create plot\n",
    "     plt.figure(figsize=(15, 5))\n",
    "     colors = ['red' if c < 0 else 'blue' for c in coef[top_coefficients]]\n",
    "     plt.bar(np.arange(2 * top_features), coef[top_coefficients], color=colors)\n",
    "     feature_names = np.array(feature_names)\n",
    "     plt.xticks(np.arange(1, 1 + 2 * top_features), feature_names[top_coefficients], rotation=60, ha='right')\n",
    "     plt.show()\n",
    "        \n",
    "def print_feature_importance(feature_names, coefs):\n",
    "    assert len(feature_names) == len(coefs), \"Arrays have difference lengths. Something went wrong\"\n",
    "    for feature, coef in zip(feature_names, coefs):\n",
    "        print(\"%s\\t%s\" %(feature, coef))\n",
    "        \n",
    "# AKA True Negative Rate\n",
    "def specificity(y_true, y_pred):\n",
    "    cm = confusion_matrix(y_true, y_pred)\n",
    "    return cm[0,0] / cm[0,:].sum()\n",
    "\n",
    "def negative_predictive_value(y_true, y_pred):\n",
    "    cm = confusion_matrix(y_true, y_pred)\n",
    "    return cm[0,0] / cm[:,0].sum()\n",
    "\n",
    "def plot_roc(model, X_test, Y_test):\n",
    "    y_true, y_pred = Y_test, model.predict(X_test)\n",
    "    print(classification_report(y_true, y_pred))\n",
    "\n",
    "    y_pred_prob = model.predict_proba(X_test)[:,1]\n",
    "\n",
    "    fpr, tpr, thresholds = roc_curve(Y_test, y_pred_prob)\n",
    "\n",
    "    plt.plot([0,1],[0,1], 'k--')\n",
    "    plt.plot(fpr, tpr, label='Linear SVC')\n",
    "    plt.xlabel('False Positive Rate')\n",
    "    plt.ylabel('True Positive Rate')\n",
    "    plt.title('Linear SVC ROC Curve')\n",
    "    plt.show()\n",
    "    \n",
    "    for a,b in zip(fpr, tpr):\n",
    "        print(a,b)\n",
    "    \n",
    "def get_metrics(model, X, y):\n",
    "    for metric in _scoring_list:\n",
    "        score = _scoring_list[metric](model, X, y)\n",
    "        print(\"%s\\t%s\" %(metric, score))"
   ]
  },
  {
   "cell_type": "markdown",
   "metadata": {},
   "source": [
    "## Define classifier, pipeline and constants"
   ]
  },
  {
   "cell_type": "code",
   "execution_count": 36,
   "metadata": {},
   "outputs": [],
   "source": [
    "param_grid = {\n",
    "    \"classifier__C\": np.logspace(-5, 10, 20),\n",
    "    \"classifier__penalty\": ['l1','l2']\n",
    "#     \"PCA__n_components\": range(1,113,10),\n",
    "#     \"fss__k\": range(1,115,3),\n",
    "},\n",
    "\n",
    "clf = Pipeline([\n",
    "#     ('Norm', Normalizer()),\n",
    "    (\"Oversample\", RandomOverSampler()),\n",
    "#     ('PCA', PCA()),\n",
    "    ('Scaler', StandardScaler()),\n",
    "#     ('fss',SelectKBest()),\n",
    "    ('classifier', LogisticRegression(class_weight='balanced', random_state=42))\n",
    "])\n",
    "\n",
    "_cv=5\n",
    "_test_size=0.20\n",
    "_scoring_list={\n",
    "    'recall':make_scorer(recall_score),\n",
    "    'precision':make_scorer(precision_score),\n",
    "    'auc':make_scorer(roc_auc_score),\n",
    "    'specificity':make_scorer(specificity),\n",
    "    'npv':make_scorer(negative_predictive_value),\n",
    "    'accuracy':make_scorer(accuracy_score)\n",
    "}\n",
    "_scoring='f1_micro'\n",
    "_data = pd.read_excel('training_data_1004.xlsx')\n",
    "_data = _data[['GroupID','UPDRS']]"
   ]
  },
  {
   "cell_type": "markdown",
   "metadata": {},
   "source": [
    "## 1. Control vs. PD/MSA/PSP"
   ]
  },
  {
   "cell_type": "code",
   "execution_count": 37,
   "metadata": {},
   "outputs": [
    {
     "name": "stdout",
     "output_type": "stream",
     "text": [
      "# Tuning hyper-parameters for f1_micro\n",
      "\n",
      "Fitting 5 folds for each of 40 candidates, totalling 200 fits\n"
     ]
    },
    {
     "name": "stderr",
     "output_type": "stream",
     "text": [
      "[Parallel(n_jobs=-1)]: Using backend LokyBackend with 4 concurrent workers.\n"
     ]
    },
    {
     "name": "stdout",
     "output_type": "stream",
     "text": [
      "Best parameters set found on development set:\n",
      "\n",
      "{'classifier__C': 4832.930238571752, 'classifier__penalty': 'l1'}\n",
      "\n",
      "Grid scores on development set:\n",
      "\n",
      "0.284 (+/-0.004) for {'classifier__C': 1e-05, 'classifier__penalty': 'l1'}\n",
      "0.863 (+/-0.075) for {'classifier__C': 1e-05, 'classifier__penalty': 'l2'}\n",
      "0.284 (+/-0.004) for {'classifier__C': 6.158482110660267e-05, 'classifier__penalty': 'l1'}\n",
      "0.863 (+/-0.075) for {'classifier__C': 6.158482110660267e-05, 'classifier__penalty': 'l2'}\n",
      "0.284 (+/-0.004) for {'classifier__C': 0.000379269019073225, 'classifier__penalty': 'l1'}\n",
      "0.861 (+/-0.082) for {'classifier__C': 0.000379269019073225, 'classifier__penalty': 'l2'}\n",
      "0.284 (+/-0.004) for {'classifier__C': 0.002335721469090121, 'classifier__penalty': 'l1'}\n",
      "0.864 (+/-0.075) for {'classifier__C': 0.002335721469090121, 'classifier__penalty': 'l2'}\n",
      "0.863 (+/-0.075) for {'classifier__C': 0.01438449888287663, 'classifier__penalty': 'l1'}\n",
      "0.883 (+/-0.064) for {'classifier__C': 0.01438449888287663, 'classifier__penalty': 'l2'}\n",
      "0.920 (+/-0.059) for {'classifier__C': 0.08858667904100832, 'classifier__penalty': 'l1'}\n",
      "0.914 (+/-0.062) for {'classifier__C': 0.08858667904100832, 'classifier__penalty': 'l2'}\n",
      "0.933 (+/-0.049) for {'classifier__C': 0.5455594781168515, 'classifier__penalty': 'l1'}\n",
      "0.928 (+/-0.043) for {'classifier__C': 0.5455594781168515, 'classifier__penalty': 'l2'}\n",
      "0.936 (+/-0.041) for {'classifier__C': 3.359818286283781, 'classifier__penalty': 'l1'}\n",
      "0.933 (+/-0.045) for {'classifier__C': 3.359818286283781, 'classifier__penalty': 'l2'}\n",
      "0.930 (+/-0.051) for {'classifier__C': 20.6913808111479, 'classifier__penalty': 'l1'}\n",
      "0.934 (+/-0.048) for {'classifier__C': 20.6913808111479, 'classifier__penalty': 'l2'}\n",
      "0.933 (+/-0.049) for {'classifier__C': 127.42749857031347, 'classifier__penalty': 'l1'}\n",
      "0.933 (+/-0.045) for {'classifier__C': 127.42749857031347, 'classifier__penalty': 'l2'}\n",
      "0.936 (+/-0.041) for {'classifier__C': 784.7599703514622, 'classifier__penalty': 'l1'}\n",
      "0.933 (+/-0.045) for {'classifier__C': 784.7599703514622, 'classifier__penalty': 'l2'}\n",
      "0.939 (+/-0.038) for {'classifier__C': 4832.930238571752, 'classifier__penalty': 'l1'}\n",
      "0.939 (+/-0.038) for {'classifier__C': 4832.930238571752, 'classifier__penalty': 'l2'}\n",
      "0.930 (+/-0.051) for {'classifier__C': 29763.51441631313, 'classifier__penalty': 'l1'}\n",
      "0.939 (+/-0.038) for {'classifier__C': 29763.51441631313, 'classifier__penalty': 'l2'}\n",
      "0.939 (+/-0.038) for {'classifier__C': 183298.07108324376, 'classifier__penalty': 'l1'}\n",
      "0.930 (+/-0.051) for {'classifier__C': 183298.07108324376, 'classifier__penalty': 'l2'}\n",
      "0.935 (+/-0.043) for {'classifier__C': 1128837.8916846884, 'classifier__penalty': 'l1'}\n",
      "0.935 (+/-0.043) for {'classifier__C': 1128837.8916846884, 'classifier__penalty': 'l2'}\n",
      "0.935 (+/-0.043) for {'classifier__C': 6951927.96177562, 'classifier__penalty': 'l1'}\n",
      "0.936 (+/-0.041) for {'classifier__C': 6951927.96177562, 'classifier__penalty': 'l2'}\n",
      "0.935 (+/-0.040) for {'classifier__C': 42813323.98719396, 'classifier__penalty': 'l1'}\n",
      "0.933 (+/-0.049) for {'classifier__C': 42813323.98719396, 'classifier__penalty': 'l2'}\n",
      "0.935 (+/-0.044) for {'classifier__C': 263665089.87303555, 'classifier__penalty': 'l1'}\n",
      "0.939 (+/-0.038) for {'classifier__C': 263665089.87303555, 'classifier__penalty': 'l2'}\n",
      "0.935 (+/-0.043) for {'classifier__C': 1623776739.1887243, 'classifier__penalty': 'l1'}\n",
      "0.936 (+/-0.045) for {'classifier__C': 1623776739.1887243, 'classifier__penalty': 'l2'}\n",
      "0.934 (+/-0.048) for {'classifier__C': 10000000000.0, 'classifier__penalty': 'l1'}\n",
      "0.933 (+/-0.045) for {'classifier__C': 10000000000.0, 'classifier__penalty': 'l2'}\n",
      "\n",
      "Detailed classification report (holdout):\n",
      "\n",
      "The model is trained on the full development set.\n",
      "The scores are computed on the full evaluation set.\n",
      "\n",
      "              precision    recall  f1-score   support\n",
      "\n",
      "           0       0.92      0.94      0.93        50\n",
      "           1       0.98      0.97      0.98       151\n",
      "\n",
      "   micro avg       0.97      0.97      0.97       201\n",
      "   macro avg       0.95      0.96      0.95       201\n",
      "weighted avg       0.97      0.97      0.97       201\n",
      "\n",
      "\n",
      "recall\t0.9735099337748344\n",
      "precision\t0.98\n",
      "auc\t0.9567549668874171\n",
      "specificity\t0.94\n",
      "npv\t0.9215686274509803\n",
      "accuracy\t0.9651741293532339\n"
     ]
    },
    {
     "name": "stderr",
     "output_type": "stream",
     "text": [
      "[Parallel(n_jobs=-1)]: Done 200 out of 200 | elapsed:    2.1s finished\n",
      "C:\\Users\\jtbri_000\\Anaconda3\\lib\\site-packages\\sklearn\\linear_model\\logistic.py:433: FutureWarning: Default solver will be changed to 'lbfgs' in 0.22. Specify a solver to silence this warning.\n",
      "  FutureWarning)\n"
     ]
    }
   ],
   "source": [
    "# Get the data\n",
    "data1 = group_classes(_data, {0:0, 1:1, 2:1, 3:1})\n",
    "\n",
    "y1 = data1['GroupID']\n",
    "X1 = data1.drop(['GroupID'], axis=1)\n",
    "\n",
    "X_train1, X_test1, Y_train1, Y_test1 = train_test_split(X1, y1, test_size=_test_size, random_state=42)\n",
    "\n",
    "best1 = grid_search_optimization(clf, param_grid, X_train1, Y_train1, X_test1, Y_test1, cv=_cv, scoring=_scoring, verbose=1)"
   ]
  },
  {
   "cell_type": "code",
   "execution_count": 38,
   "metadata": {},
   "outputs": [
    {
     "name": "stdout",
     "output_type": "stream",
     "text": [
      "fit_time\t0.0038008689880371094\t0.0011655263949726417\n",
      "score_time\t0.0067975521087646484\t0.0011663433770516976\n",
      "test_recall\t0.9234782608695653\t0.0370561317437609\n",
      "train_recall\t0.9217391304347826\t0.009223131928520195\n",
      "test_precision\t0.9835298040691475\t0.0064866955195602505\n",
      "train_precision\t0.9828431240293887\t0.0011746313498847143\n",
      "test_auc\t0.9420289855072463\t0.01467120409976585\n",
      "train_auc\t0.9405849318180038\t0.0051428203942829225\n",
      "test_specificity\t0.9605797101449276\t0.01622095330137146\n",
      "train_specificity\t0.959430733201225\t0.002669416695991214\n",
      "test_npv\t0.8385145547580735\t0.06588556346141405\n",
      "train_npv\t0.8297281546303784\t0.017035827620801452\n",
      "test_accuracy\t0.9339984472049689\t0.023787385625641477\n",
      "train_accuracy\t0.9324428424005466\t0.006846414457086683\n"
     ]
    },
    {
     "name": "stderr",
     "output_type": "stream",
     "text": [
      "C:\\Users\\jtbri_000\\Anaconda3\\lib\\site-packages\\sklearn\\linear_model\\logistic.py:433: FutureWarning: Default solver will be changed to 'lbfgs' in 0.22. Specify a solver to silence this warning.\n",
      "  FutureWarning)\n",
      "C:\\Users\\jtbri_000\\Anaconda3\\lib\\site-packages\\sklearn\\linear_model\\logistic.py:433: FutureWarning: Default solver will be changed to 'lbfgs' in 0.22. Specify a solver to silence this warning.\n",
      "  FutureWarning)\n",
      "C:\\Users\\jtbri_000\\Anaconda3\\lib\\site-packages\\sklearn\\linear_model\\logistic.py:433: FutureWarning: Default solver will be changed to 'lbfgs' in 0.22. Specify a solver to silence this warning.\n",
      "  FutureWarning)\n",
      "C:\\Users\\jtbri_000\\Anaconda3\\lib\\site-packages\\sklearn\\linear_model\\logistic.py:433: FutureWarning: Default solver will be changed to 'lbfgs' in 0.22. Specify a solver to silence this warning.\n",
      "  FutureWarning)\n",
      "C:\\Users\\jtbri_000\\Anaconda3\\lib\\site-packages\\sklearn\\linear_model\\logistic.py:433: FutureWarning: Default solver will be changed to 'lbfgs' in 0.22. Specify a solver to silence this warning.\n",
      "  FutureWarning)\n"
     ]
    }
   ],
   "source": [
    "scores = cross_validate(best1.best_estimator_, X_train1, Y_train1, cv=_cv, return_train_score=True, scoring=_scoring_list)\n",
    "for score in scores:\n",
    "    print(\"%s\\t%s\\t%s\" %(score, np.mean(scores[score]), np.std(scores[score])))"
   ]
  },
  {
   "cell_type": "code",
   "execution_count": 39,
   "metadata": {},
   "outputs": [
    {
     "name": "stdout",
     "output_type": "stream",
     "text": [
      "UPDRS\t6.132640231629477\n"
     ]
    }
   ],
   "source": [
    "model = best1.best_estimator_.named_steps['classifier']\n",
    "feature_names = data1.columns.tolist()[1:]\n",
    "# plot_coefficients(model, feature_names)\n",
    "print_feature_importance(feature_names, model.coef_[0])"
   ]
  },
  {
   "cell_type": "code",
   "execution_count": 40,
   "metadata": {},
   "outputs": [
    {
     "name": "stdout",
     "output_type": "stream",
     "text": [
      "              precision    recall  f1-score   support\n",
      "\n",
      "           0       0.92      0.94      0.93        50\n",
      "           1       0.98      0.97      0.98       151\n",
      "\n",
      "   micro avg       0.97      0.97      0.97       201\n",
      "   macro avg       0.95      0.96      0.95       201\n",
      "weighted avg       0.97      0.97      0.97       201\n",
      "\n"
     ]
    },
    {
     "data": {
      "image/png": "[encoded data removed]",
      "text/plain": [
       "<Figure size 432x288 with 1 Axes>"
      ]
     },
     "metadata": {
      "needs_background": "light"
     },
     "output_type": "display_data"
    },
    {
     "name": "stdout",
     "output_type": "stream",
     "text": [
      "0.0 0.0\n",
      "0.0 0.013245033112582781\n",
      "0.0 0.059602649006622516\n",
      "0.0 0.0728476821192053\n",
      "0.0 0.09271523178807947\n",
      "0.0 0.10596026490066225\n",
      "0.0 0.11258278145695365\n",
      "0.0 0.13245033112582782\n",
      "0.0 0.1390728476821192\n",
      "0.0 0.16556291390728478\n",
      "0.0 0.18543046357615894\n",
      "0.0 0.1986754966887417\n",
      "0.0 0.2781456953642384\n",
      "0.0 0.2913907284768212\n",
      "0.0 0.304635761589404\n",
      "0.0 0.31788079470198677\n",
      "0.0 0.32450331125827814\n",
      "0.0 0.36423841059602646\n",
      "0.0 0.39072847682119205\n",
      "0.0 0.4105960264900662\n",
      "0.0 0.423841059602649\n",
      "0.0 0.4304635761589404\n",
      "0.0 0.45695364238410596\n",
      "0.0 0.46357615894039733\n",
      "0.0 0.4900662251655629\n",
      "0.0 0.5033112582781457\n",
      "0.0 0.5165562913907285\n",
      "0.0 0.5364238410596026\n",
      "0.0 0.5629139072847682\n",
      "0.0 0.5695364238410596\n",
      "0.0 0.6026490066225165\n",
      "0.0 0.609271523178808\n",
      "0.0 0.6357615894039735\n",
      "0.0 0.6423841059602649\n",
      "0.0 0.6688741721854304\n",
      "0.0 0.6887417218543046\n",
      "0.0 0.7019867549668874\n",
      "0.0 0.7152317880794702\n",
      "0.0 0.7350993377483444\n",
      "0.0 0.7417218543046358\n",
      "0.0 0.7615894039735099\n",
      "0.0 0.7880794701986755\n",
      "0.0 0.7947019867549668\n",
      "0.0 0.8079470198675497\n",
      "0.02 0.8079470198675497\n",
      "0.02 0.8741721854304636\n",
      "0.02 0.8874172185430463\n",
      "0.02 0.9271523178807947\n",
      "0.02 0.9403973509933775\n",
      "0.04 0.9470198675496688\n",
      "0.04 0.9536423841059603\n",
      "0.04 0.9668874172185431\n",
      "0.06 0.9735099337748344\n",
      "0.06 0.9933774834437086\n",
      "0.08 0.9933774834437086\n",
      "0.08 1.0\n",
      "0.14 1.0\n",
      "0.2 1.0\n",
      "0.28 1.0\n",
      "0.36 1.0\n",
      "0.38 1.0\n",
      "0.44 1.0\n",
      "0.76 1.0\n",
      "1.0 1.0\n"
     ]
    }
   ],
   "source": [
    "plot_roc(best1.best_estimator_, X_test1, Y_test1)"
   ]
  },
  {
   "cell_type": "markdown",
   "metadata": {},
   "source": [
    "## 2. PD vs MSA/PSP"
   ]
  },
  {
   "cell_type": "code",
   "execution_count": 41,
   "metadata": {},
   "outputs": [
    {
     "name": "stdout",
     "output_type": "stream",
     "text": [
      "# Tuning hyper-parameters for f1_micro\n",
      "\n",
      "Fitting 5 folds for each of 40 candidates, totalling 200 fits\n"
     ]
    },
    {
     "name": "stderr",
     "output_type": "stream",
     "text": [
      "[Parallel(n_jobs=-1)]: Using backend LokyBackend with 4 concurrent workers.\n"
     ]
    },
    {
     "name": "stdout",
     "output_type": "stream",
     "text": [
      "Best parameters set found on development set:\n",
      "\n",
      "{'classifier__C': 0.002335721469090121, 'classifier__penalty': 'l2'}\n",
      "\n",
      "Grid scores on development set:\n",
      "\n",
      "0.702 (+/-0.005) for {'classifier__C': 1e-05, 'classifier__penalty': 'l1'}\n",
      "0.702 (+/-0.042) for {'classifier__C': 1e-05, 'classifier__penalty': 'l2'}\n",
      "0.702 (+/-0.005) for {'classifier__C': 6.158482110660267e-05, 'classifier__penalty': 'l1'}\n",
      "0.710 (+/-0.048) for {'classifier__C': 6.158482110660267e-05, 'classifier__penalty': 'l2'}\n",
      "0.702 (+/-0.005) for {'classifier__C': 0.000379269019073225, 'classifier__penalty': 'l1'}\n",
      "0.703 (+/-0.050) for {'classifier__C': 0.000379269019073225, 'classifier__penalty': 'l2'}\n",
      "0.702 (+/-0.005) for {'classifier__C': 0.002335721469090121, 'classifier__penalty': 'l1'}\n",
      "0.717 (+/-0.046) for {'classifier__C': 0.002335721469090121, 'classifier__penalty': 'l2'}\n",
      "0.702 (+/-0.042) for {'classifier__C': 0.01438449888287663, 'classifier__penalty': 'l1'}\n",
      "0.702 (+/-0.042) for {'classifier__C': 0.01438449888287663, 'classifier__penalty': 'l2'}\n",
      "0.716 (+/-0.039) for {'classifier__C': 0.08858667904100832, 'classifier__penalty': 'l1'}\n",
      "0.698 (+/-0.058) for {'classifier__C': 0.08858667904100832, 'classifier__penalty': 'l2'}\n",
      "0.697 (+/-0.049) for {'classifier__C': 0.5455594781168515, 'classifier__penalty': 'l1'}\n",
      "0.702 (+/-0.051) for {'classifier__C': 0.5455594781168515, 'classifier__penalty': 'l2'}\n",
      "0.698 (+/-0.050) for {'classifier__C': 3.359818286283781, 'classifier__penalty': 'l1'}\n",
      "0.698 (+/-0.050) for {'classifier__C': 3.359818286283781, 'classifier__penalty': 'l2'}\n",
      "0.695 (+/-0.051) for {'classifier__C': 20.6913808111479, 'classifier__penalty': 'l1'}\n",
      "0.697 (+/-0.057) for {'classifier__C': 20.6913808111479, 'classifier__penalty': 'l2'}\n",
      "0.697 (+/-0.049) for {'classifier__C': 127.42749857031347, 'classifier__penalty': 'l1'}\n",
      "0.695 (+/-0.051) for {'classifier__C': 127.42749857031347, 'classifier__penalty': 'l2'}\n",
      "0.697 (+/-0.057) for {'classifier__C': 784.7599703514622, 'classifier__penalty': 'l1'}\n",
      "0.697 (+/-0.049) for {'classifier__C': 784.7599703514622, 'classifier__penalty': 'l2'}\n",
      "0.697 (+/-0.052) for {'classifier__C': 4832.930238571752, 'classifier__penalty': 'l1'}\n",
      "0.698 (+/-0.053) for {'classifier__C': 4832.930238571752, 'classifier__penalty': 'l2'}\n",
      "0.695 (+/-0.051) for {'classifier__C': 29763.51441631313, 'classifier__penalty': 'l1'}\n",
      "0.698 (+/-0.057) for {'classifier__C': 29763.51441631313, 'classifier__penalty': 'l2'}\n",
      "0.693 (+/-0.061) for {'classifier__C': 183298.07108324376, 'classifier__penalty': 'l1'}\n",
      "0.697 (+/-0.049) for {'classifier__C': 183298.07108324376, 'classifier__penalty': 'l2'}\n",
      "0.698 (+/-0.058) for {'classifier__C': 1128837.8916846884, 'classifier__penalty': 'l1'}\n",
      "0.705 (+/-0.064) for {'classifier__C': 1128837.8916846884, 'classifier__penalty': 'l2'}\n",
      "0.697 (+/-0.049) for {'classifier__C': 6951927.96177562, 'classifier__penalty': 'l1'}\n",
      "0.698 (+/-0.050) for {'classifier__C': 6951927.96177562, 'classifier__penalty': 'l2'}\n",
      "0.697 (+/-0.049) for {'classifier__C': 42813323.98719396, 'classifier__penalty': 'l1'}\n",
      "0.691 (+/-0.055) for {'classifier__C': 42813323.98719396, 'classifier__penalty': 'l2'}\n",
      "0.698 (+/-0.050) for {'classifier__C': 263665089.87303555, 'classifier__penalty': 'l1'}\n",
      "0.691 (+/-0.053) for {'classifier__C': 263665089.87303555, 'classifier__penalty': 'l2'}\n",
      "0.700 (+/-0.051) for {'classifier__C': 1623776739.1887243, 'classifier__penalty': 'l1'}\n",
      "0.702 (+/-0.057) for {'classifier__C': 1623776739.1887243, 'classifier__penalty': 'l2'}\n",
      "0.697 (+/-0.052) for {'classifier__C': 10000000000.0, 'classifier__penalty': 'l1'}\n",
      "0.695 (+/-0.051) for {'classifier__C': 10000000000.0, 'classifier__penalty': 'l2'}\n",
      "\n",
      "Detailed classification report (holdout):\n",
      "\n",
      "The model is trained on the full development set.\n",
      "The scores are computed on the full evaluation set.\n",
      "\n",
      "              precision    recall  f1-score   support\n",
      "\n",
      "           0       0.82      0.70      0.76       107\n",
      "           1       0.42      0.59      0.49        39\n",
      "\n",
      "   micro avg       0.67      0.67      0.67       146\n",
      "   macro avg       0.62      0.65      0.62       146\n",
      "weighted avg       0.72      0.67      0.69       146\n",
      "\n",
      "\n",
      "recall\t0.5897435897435898\n",
      "precision\t0.41818181818181815\n",
      "auc\t0.645339084591421\n",
      "specificity\t0.7009345794392523\n",
      "npv\t0.8241758241758241\n",
      "accuracy\t0.6712328767123288\n"
     ]
    },
    {
     "name": "stderr",
     "output_type": "stream",
     "text": [
      "[Parallel(n_jobs=-1)]: Done 200 out of 200 | elapsed:    0.4s finished\n",
      "C:\\Users\\jtbri_000\\Anaconda3\\lib\\site-packages\\sklearn\\linear_model\\logistic.py:433: FutureWarning: Default solver will be changed to 'lbfgs' in 0.22. Specify a solver to silence this warning.\n",
      "  FutureWarning)\n"
     ]
    }
   ],
   "source": [
    "# Get the data\n",
    "data2 = group_classes(_data, {1:0, 2:1, 3:1})\n",
    "\n",
    "y2 = data2['GroupID']\n",
    "X2 = data2.drop(['GroupID'], axis=1)\n",
    "\n",
    "X_train2, X_test2, Y_train2, Y_test2 = train_test_split(X2, y2, test_size=_test_size, random_state=42)\n",
    "\n",
    "best2 = grid_search_optimization(clf, param_grid, X_train2, Y_train2, X_test2, Y_test2, cv=_cv, scoring=_scoring, verbose=1)"
   ]
  },
  {
   "cell_type": "code",
   "execution_count": 42,
   "metadata": {},
   "outputs": [
    {
     "name": "stdout",
     "output_type": "stream",
     "text": [
      "fit_time\t0.0036031246185302735\t0.0008024284724289332\n",
      "score_time\t0.005999898910522461\t0.0010945389201388446\n",
      "test_recall\t0.6238655462184874\t0.057099835510355496\n",
      "train_recall\t0.6329475549994787\t0.006980142408580216\n",
      "test_precision\t0.5008286893704851\t0.0340008444773843\n",
      "train_precision\t0.5156367826567464\t0.014781697827885538\n",
      "test_auc\t0.6780273229436309\t0.020756371847564677\n",
      "train_auc\t0.6899376755648644\t0.008356557224895589\n",
      "test_specificity\t0.7321890996687743\t0.049964478855494945\n",
      "train_specificity\t0.7469277961302502\t0.013837840784971975\n",
      "test_npv\t0.8215924160227959\t0.016877444128551685\n",
      "train_npv\t0.8271744456171731\t0.004093537176481489\n",
      "test_accuracy\t0.7000272940452851\t0.026052205120243626\n",
      "train_accuracy\t0.7129253306009158\t0.010304651254894855\n"
     ]
    },
    {
     "name": "stderr",
     "output_type": "stream",
     "text": [
      "C:\\Users\\jtbri_000\\Anaconda3\\lib\\site-packages\\sklearn\\linear_model\\logistic.py:433: FutureWarning: Default solver will be changed to 'lbfgs' in 0.22. Specify a solver to silence this warning.\n",
      "  FutureWarning)\n",
      "C:\\Users\\jtbri_000\\Anaconda3\\lib\\site-packages\\sklearn\\linear_model\\logistic.py:433: FutureWarning: Default solver will be changed to 'lbfgs' in 0.22. Specify a solver to silence this warning.\n",
      "  FutureWarning)\n",
      "C:\\Users\\jtbri_000\\Anaconda3\\lib\\site-packages\\sklearn\\linear_model\\logistic.py:433: FutureWarning: Default solver will be changed to 'lbfgs' in 0.22. Specify a solver to silence this warning.\n",
      "  FutureWarning)\n",
      "C:\\Users\\jtbri_000\\Anaconda3\\lib\\site-packages\\sklearn\\linear_model\\logistic.py:433: FutureWarning: Default solver will be changed to 'lbfgs' in 0.22. Specify a solver to silence this warning.\n",
      "  FutureWarning)\n",
      "C:\\Users\\jtbri_000\\Anaconda3\\lib\\site-packages\\sklearn\\linear_model\\logistic.py:433: FutureWarning: Default solver will be changed to 'lbfgs' in 0.22. Specify a solver to silence this warning.\n",
      "  FutureWarning)\n"
     ]
    }
   ],
   "source": [
    "scores = cross_validate(best2.best_estimator_, X_train2, Y_train2, cv=_cv, return_train_score=True, scoring=_scoring_list)\n",
    "for score in scores:\n",
    "    print(\"%s\\t%s\\t%s\" %(score, np.mean(scores[score]), np.std(scores[score])))"
   ]
  },
  {
   "cell_type": "code",
   "execution_count": 43,
   "metadata": {},
   "outputs": [
    {
     "name": "stdout",
     "output_type": "stream",
     "text": [
      "UPDRS\t0.2671565074565281\n"
     ]
    }
   ],
   "source": [
    "model = best2.best_estimator_.named_steps['classifier']\n",
    "feature_names = data2.columns.tolist()[1:]\n",
    "# plot_coefficients(model, feature_names)\n",
    "print_feature_importance(feature_names, model.coef_[0])"
   ]
  },
  {
   "cell_type": "code",
   "execution_count": 44,
   "metadata": {},
   "outputs": [
    {
     "name": "stdout",
     "output_type": "stream",
     "text": [
      "              precision    recall  f1-score   support\n",
      "\n",
      "           0       0.82      0.70      0.76       107\n",
      "           1       0.42      0.59      0.49        39\n",
      "\n",
      "   micro avg       0.67      0.67      0.67       146\n",
      "   macro avg       0.62      0.65      0.62       146\n",
      "weighted avg       0.72      0.67      0.69       146\n",
      "\n"
     ]
    },
    {
     "data": {
      "image/png": "[encoded data removed]",
      "text/plain": [
       "<Figure size 432x288 with 1 Axes>"
      ]
     },
     "metadata": {
      "needs_background": "light"
     },
     "output_type": "display_data"
    },
    {
     "name": "stdout",
     "output_type": "stream",
     "text": [
      "0.0 0.0\n",
      "0.0 0.02564102564102564\n",
      "0.009345794392523364 0.02564102564102564\n",
      "0.009345794392523364 0.10256410256410256\n",
      "0.018691588785046728 0.10256410256410256\n",
      "0.018691588785046728 0.1282051282051282\n",
      "0.028037383177570093 0.15384615384615385\n",
      "0.028037383177570093 0.1794871794871795\n",
      "0.04672897196261682 0.1794871794871795\n",
      "0.04672897196261682 0.20512820512820512\n",
      "0.06542056074766354 0.20512820512820512\n",
      "0.06542056074766354 0.2564102564102564\n",
      "0.07476635514018691 0.2564102564102564\n",
      "0.07476635514018691 0.28205128205128205\n",
      "0.07476635514018691 0.3333333333333333\n",
      "0.102803738317757 0.3333333333333333\n",
      "0.102803738317757 0.38461538461538464\n",
      "0.102803738317757 0.4358974358974359\n",
      "0.102803738317757 0.48717948717948717\n",
      "0.11214953271028037 0.48717948717948717\n",
      "0.11214953271028037 0.5384615384615384\n",
      "0.12149532710280374 0.5384615384615384\n",
      "0.14018691588785046 0.5384615384615384\n",
      "0.14953271028037382 0.5384615384615384\n",
      "0.16822429906542055 0.5641025641025641\n",
      "0.22429906542056074 0.5641025641025641\n",
      "0.2336448598130841 0.5641025641025641\n",
      "0.2523364485981308 0.5641025641025641\n",
      "0.2803738317757009 0.5641025641025641\n",
      "0.29906542056074764 0.5897435897435898\n",
      "0.3177570093457944 0.6410256410256411\n",
      "0.32710280373831774 0.6410256410256411\n",
      "0.34579439252336447 0.6410256410256411\n",
      "0.35514018691588783 0.6410256410256411\n",
      "0.3644859813084112 0.6666666666666666\n",
      "0.38317757009345793 0.6666666666666666\n",
      "0.3925233644859813 0.6923076923076923\n",
      "0.4485981308411215 0.6923076923076923\n",
      "0.4766355140186916 0.6923076923076923\n",
      "0.48598130841121495 0.6923076923076923\n",
      "0.514018691588785 0.7435897435897436\n",
      "0.5327102803738317 0.7435897435897436\n",
      "0.5327102803738317 0.7692307692307693\n",
      "0.5420560747663551 0.7692307692307693\n",
      "0.5794392523364486 0.7692307692307693\n",
      "0.6261682242990654 0.7948717948717948\n",
      "0.6355140186915887 0.7948717948717948\n",
      "0.6355140186915887 0.8205128205128205\n",
      "0.6448598130841121 0.8205128205128205\n",
      "0.6448598130841121 0.8461538461538461\n",
      "0.6635514018691588 0.8461538461538461\n",
      "0.6822429906542056 0.8461538461538461\n",
      "0.6915887850467289 0.8461538461538461\n",
      "0.7102803738317757 0.8974358974358975\n",
      "0.719626168224299 0.8974358974358975\n",
      "0.7476635514018691 0.8974358974358975\n",
      "0.7570093457943925 0.8974358974358975\n",
      "0.7757009345794392 0.8974358974358975\n",
      "0.7850467289719626 0.8974358974358975\n",
      "0.8317757009345794 0.9230769230769231\n",
      "0.8691588785046729 0.9230769230769231\n",
      "0.897196261682243 0.9230769230769231\n",
      "0.9158878504672897 0.9487179487179487\n",
      "0.9439252336448598 0.9743589743589743\n",
      "0.9532710280373832 0.9743589743589743\n",
      "0.9719626168224299 0.9743589743589743\n",
      "0.9813084112149533 0.9743589743589743\n",
      "1.0 0.9743589743589743\n",
      "1.0 1.0\n"
     ]
    }
   ],
   "source": [
    "plot_roc(best2.best_estimator_, X_test2, Y_test2)"
   ]
  },
  {
   "cell_type": "markdown",
   "metadata": {},
   "source": [
    "## 3. MSA vs PD/PSP"
   ]
  },
  {
   "cell_type": "code",
   "execution_count": 45,
   "metadata": {},
   "outputs": [
    {
     "name": "stdout",
     "output_type": "stream",
     "text": [
      "# Tuning hyper-parameters for f1_micro\n",
      "\n",
      "Fitting 5 folds for each of 40 candidates, totalling 200 fits\n"
     ]
    },
    {
     "name": "stderr",
     "output_type": "stream",
     "text": [
      "[Parallel(n_jobs=-1)]: Using backend LokyBackend with 4 concurrent workers.\n"
     ]
    },
    {
     "name": "stdout",
     "output_type": "stream",
     "text": [
      "Best parameters set found on development set:\n",
      "\n",
      "{'classifier__C': 1e-05, 'classifier__penalty': 'l1'}\n",
      "\n",
      "Grid scores on development set:\n",
      "\n",
      "0.878 (+/-0.006) for {'classifier__C': 1e-05, 'classifier__penalty': 'l1'}\n",
      "0.762 (+/-0.051) for {'classifier__C': 1e-05, 'classifier__penalty': 'l2'}\n",
      "0.878 (+/-0.006) for {'classifier__C': 6.158482110660267e-05, 'classifier__penalty': 'l1'}\n",
      "0.760 (+/-0.051) for {'classifier__C': 6.158482110660267e-05, 'classifier__penalty': 'l2'}\n",
      "0.878 (+/-0.006) for {'classifier__C': 0.000379269019073225, 'classifier__penalty': 'l1'}\n",
      "0.762 (+/-0.051) for {'classifier__C': 0.000379269019073225, 'classifier__penalty': 'l2'}\n",
      "0.878 (+/-0.006) for {'classifier__C': 0.002335721469090121, 'classifier__penalty': 'l1'}\n",
      "0.760 (+/-0.054) for {'classifier__C': 0.002335721469090121, 'classifier__penalty': 'l2'}\n",
      "0.764 (+/-0.053) for {'classifier__C': 0.01438449888287663, 'classifier__penalty': 'l1'}\n",
      "0.760 (+/-0.054) for {'classifier__C': 0.01438449888287663, 'classifier__penalty': 'l2'}\n",
      "0.760 (+/-0.051) for {'classifier__C': 0.08858667904100832, 'classifier__penalty': 'l1'}\n",
      "0.764 (+/-0.059) for {'classifier__C': 0.08858667904100832, 'classifier__penalty': 'l2'}\n",
      "0.760 (+/-0.055) for {'classifier__C': 0.5455594781168515, 'classifier__penalty': 'l1'}\n",
      "0.762 (+/-0.058) for {'classifier__C': 0.5455594781168515, 'classifier__penalty': 'l2'}\n",
      "0.760 (+/-0.054) for {'classifier__C': 3.359818286283781, 'classifier__penalty': 'l1'}\n",
      "0.762 (+/-0.056) for {'classifier__C': 3.359818286283781, 'classifier__penalty': 'l2'}\n",
      "0.762 (+/-0.056) for {'classifier__C': 20.6913808111479, 'classifier__penalty': 'l1'}\n",
      "0.760 (+/-0.061) for {'classifier__C': 20.6913808111479, 'classifier__penalty': 'l2'}\n",
      "0.759 (+/-0.051) for {'classifier__C': 127.42749857031347, 'classifier__penalty': 'l1'}\n",
      "0.762 (+/-0.058) for {'classifier__C': 127.42749857031347, 'classifier__penalty': 'l2'}\n",
      "0.760 (+/-0.053) for {'classifier__C': 784.7599703514622, 'classifier__penalty': 'l1'}\n",
      "0.762 (+/-0.056) for {'classifier__C': 784.7599703514622, 'classifier__penalty': 'l2'}\n",
      "0.762 (+/-0.056) for {'classifier__C': 4832.930238571752, 'classifier__penalty': 'l1'}\n",
      "0.762 (+/-0.056) for {'classifier__C': 4832.930238571752, 'classifier__penalty': 'l2'}\n",
      "0.762 (+/-0.056) for {'classifier__C': 29763.51441631313, 'classifier__penalty': 'l1'}\n",
      "0.759 (+/-0.051) for {'classifier__C': 29763.51441631313, 'classifier__penalty': 'l2'}\n",
      "0.764 (+/-0.059) for {'classifier__C': 183298.07108324376, 'classifier__penalty': 'l1'}\n",
      "0.760 (+/-0.053) for {'classifier__C': 183298.07108324376, 'classifier__penalty': 'l2'}\n",
      "0.762 (+/-0.056) for {'classifier__C': 1128837.8916846884, 'classifier__penalty': 'l1'}\n",
      "0.762 (+/-0.056) for {'classifier__C': 1128837.8916846884, 'classifier__penalty': 'l2'}\n",
      "0.760 (+/-0.053) for {'classifier__C': 6951927.96177562, 'classifier__penalty': 'l1'}\n",
      "0.760 (+/-0.053) for {'classifier__C': 6951927.96177562, 'classifier__penalty': 'l2'}\n",
      "0.759 (+/-0.059) for {'classifier__C': 42813323.98719396, 'classifier__penalty': 'l1'}\n",
      "0.760 (+/-0.054) for {'classifier__C': 42813323.98719396, 'classifier__penalty': 'l2'}\n",
      "0.760 (+/-0.053) for {'classifier__C': 263665089.87303555, 'classifier__penalty': 'l1'}\n",
      "0.760 (+/-0.053) for {'classifier__C': 263665089.87303555, 'classifier__penalty': 'l2'}\n",
      "0.764 (+/-0.059) for {'classifier__C': 1623776739.1887243, 'classifier__penalty': 'l1'}\n",
      "0.762 (+/-0.056) for {'classifier__C': 1623776739.1887243, 'classifier__penalty': 'l2'}\n",
      "0.762 (+/-0.056) for {'classifier__C': 10000000000.0, 'classifier__penalty': 'l1'}\n",
      "0.759 (+/-0.051) for {'classifier__C': 10000000000.0, 'classifier__penalty': 'l2'}\n",
      "\n",
      "Detailed classification report (holdout):\n",
      "\n",
      "The model is trained on the full development set.\n",
      "The scores are computed on the full evaluation set.\n",
      "\n",
      "              precision    recall  f1-score   support\n",
      "\n",
      "           0       0.92      1.00      0.96       134\n",
      "           1       0.00      0.00      0.00        12\n",
      "\n",
      "   micro avg       0.92      0.92      0.92       146\n",
      "   macro avg       0.46      0.50      0.48       146\n",
      "weighted avg       0.84      0.92      0.88       146\n",
      "\n",
      "\n",
      "recall\t0.0\n",
      "precision\t0.0\n",
      "auc\t0.5\n",
      "specificity\t1.0\n",
      "npv\t0.9178082191780822\n",
      "accuracy\t0.9178082191780822\n"
     ]
    },
    {
     "name": "stderr",
     "output_type": "stream",
     "text": [
      "[Parallel(n_jobs=-1)]: Done 200 out of 200 | elapsed:    0.4s finished\n",
      "C:\\Users\\jtbri_000\\Anaconda3\\lib\\site-packages\\sklearn\\linear_model\\logistic.py:433: FutureWarning: Default solver will be changed to 'lbfgs' in 0.22. Specify a solver to silence this warning.\n",
      "  FutureWarning)\n",
      "C:\\Users\\jtbri_000\\Anaconda3\\lib\\site-packages\\sklearn\\metrics\\classification.py:1143: UndefinedMetricWarning: Precision and F-score are ill-defined and being set to 0.0 in labels with no predicted samples.\n",
      "  'precision', 'predicted', average, warn_for)\n",
      "C:\\Users\\jtbri_000\\Anaconda3\\lib\\site-packages\\sklearn\\metrics\\classification.py:1143: UndefinedMetricWarning: Precision is ill-defined and being set to 0.0 due to no predicted samples.\n",
      "  'precision', 'predicted', average, warn_for)\n"
     ]
    }
   ],
   "source": [
    "# Get the data\n",
    "data3 = group_classes(_data, {1:0, 3:0, 2:1})\n",
    "\n",
    "y3 = data3['GroupID']\n",
    "X3 = data3.drop(['GroupID'], axis=1)\n",
    "\n",
    "X_train3, X_test3, Y_train3, Y_test3 = train_test_split(X3, y3, test_size=_test_size, random_state=42)\n",
    "\n",
    "best3 = grid_search_optimization(clf, param_grid, X_train3, Y_train3, X_test3, Y_test3, cv=_cv, scoring=_scoring, verbose=1)"
   ]
  },
  {
   "cell_type": "code",
   "execution_count": 46,
   "metadata": {},
   "outputs": [
    {
     "name": "stdout",
     "output_type": "stream",
     "text": [
      "fit_time\t0.003600597381591797\t0.0011998420808660897\n",
      "score_time\t0.006400966644287109\t0.0014962076084164948\n",
      "test_recall\t0.0\t0.0\n",
      "train_recall\t0.0\t0.0\n",
      "test_precision\t0.0\t0.0\n",
      "train_precision\t0.0\t0.0\n",
      "test_auc\t0.5\t0.0\n",
      "train_auc\t0.5\t0.0\n",
      "test_specificity\t1.0\t0.0\n",
      "train_specificity\t1.0\t0.0\n",
      "test_npv\t0.8775973551685696\t0.002929575579236404\n",
      "train_npv\t0.8775869096212014\t0.0007385054107702998\n",
      "test_accuracy\t0.8775973551685696\t0.002929575579236404\n",
      "train_accuracy\t0.8775869096212014\t0.0007385054107702998\n"
     ]
    },
    {
     "name": "stderr",
     "output_type": "stream",
     "text": [
      "C:\\Users\\jtbri_000\\Anaconda3\\lib\\site-packages\\sklearn\\linear_model\\logistic.py:433: FutureWarning: Default solver will be changed to 'lbfgs' in 0.22. Specify a solver to silence this warning.\n",
      "  FutureWarning)\n",
      "C:\\Users\\jtbri_000\\Anaconda3\\lib\\site-packages\\sklearn\\metrics\\classification.py:1143: UndefinedMetricWarning: Precision is ill-defined and being set to 0.0 due to no predicted samples.\n",
      "  'precision', 'predicted', average, warn_for)\n",
      "C:\\Users\\jtbri_000\\Anaconda3\\lib\\site-packages\\sklearn\\metrics\\classification.py:1143: UndefinedMetricWarning: Precision is ill-defined and being set to 0.0 due to no predicted samples.\n",
      "  'precision', 'predicted', average, warn_for)\n",
      "C:\\Users\\jtbri_000\\Anaconda3\\lib\\site-packages\\sklearn\\linear_model\\logistic.py:433: FutureWarning: Default solver will be changed to 'lbfgs' in 0.22. Specify a solver to silence this warning.\n",
      "  FutureWarning)\n",
      "C:\\Users\\jtbri_000\\Anaconda3\\lib\\site-packages\\sklearn\\metrics\\classification.py:1143: UndefinedMetricWarning: Precision is ill-defined and being set to 0.0 due to no predicted samples.\n",
      "  'precision', 'predicted', average, warn_for)\n",
      "C:\\Users\\jtbri_000\\Anaconda3\\lib\\site-packages\\sklearn\\metrics\\classification.py:1143: UndefinedMetricWarning: Precision is ill-defined and being set to 0.0 due to no predicted samples.\n",
      "  'precision', 'predicted', average, warn_for)\n",
      "C:\\Users\\jtbri_000\\Anaconda3\\lib\\site-packages\\sklearn\\linear_model\\logistic.py:433: FutureWarning: Default solver will be changed to 'lbfgs' in 0.22. Specify a solver to silence this warning.\n",
      "  FutureWarning)\n",
      "C:\\Users\\jtbri_000\\Anaconda3\\lib\\site-packages\\sklearn\\metrics\\classification.py:1143: UndefinedMetricWarning: Precision is ill-defined and being set to 0.0 due to no predicted samples.\n",
      "  'precision', 'predicted', average, warn_for)\n",
      "C:\\Users\\jtbri_000\\Anaconda3\\lib\\site-packages\\sklearn\\metrics\\classification.py:1143: UndefinedMetricWarning: Precision is ill-defined and being set to 0.0 due to no predicted samples.\n",
      "  'precision', 'predicted', average, warn_for)\n",
      "C:\\Users\\jtbri_000\\Anaconda3\\lib\\site-packages\\sklearn\\linear_model\\logistic.py:433: FutureWarning: Default solver will be changed to 'lbfgs' in 0.22. Specify a solver to silence this warning.\n",
      "  FutureWarning)\n",
      "C:\\Users\\jtbri_000\\Anaconda3\\lib\\site-packages\\sklearn\\metrics\\classification.py:1143: UndefinedMetricWarning: Precision is ill-defined and being set to 0.0 due to no predicted samples.\n",
      "  'precision', 'predicted', average, warn_for)\n",
      "C:\\Users\\jtbri_000\\Anaconda3\\lib\\site-packages\\sklearn\\metrics\\classification.py:1143: UndefinedMetricWarning: Precision is ill-defined and being set to 0.0 due to no predicted samples.\n",
      "  'precision', 'predicted', average, warn_for)\n",
      "C:\\Users\\jtbri_000\\Anaconda3\\lib\\site-packages\\sklearn\\linear_model\\logistic.py:433: FutureWarning: Default solver will be changed to 'lbfgs' in 0.22. Specify a solver to silence this warning.\n",
      "  FutureWarning)\n",
      "C:\\Users\\jtbri_000\\Anaconda3\\lib\\site-packages\\sklearn\\metrics\\classification.py:1143: UndefinedMetricWarning: Precision is ill-defined and being set to 0.0 due to no predicted samples.\n",
      "  'precision', 'predicted', average, warn_for)\n",
      "C:\\Users\\jtbri_000\\Anaconda3\\lib\\site-packages\\sklearn\\metrics\\classification.py:1143: UndefinedMetricWarning: Precision is ill-defined and being set to 0.0 due to no predicted samples.\n",
      "  'precision', 'predicted', average, warn_for)\n"
     ]
    }
   ],
   "source": [
    "scores = cross_validate(best3.best_estimator_, X_train3, Y_train3, cv=_cv, return_train_score=True, scoring=_scoring_list)\n",
    "for score in scores:\n",
    "    print(\"%s\\t%s\\t%s\" %(score, np.mean(scores[score]), np.std(scores[score])))"
   ]
  },
  {
   "cell_type": "code",
   "execution_count": 47,
   "metadata": {},
   "outputs": [
    {
     "name": "stdout",
     "output_type": "stream",
     "text": [
      "UPDRS\t0.0\n"
     ]
    }
   ],
   "source": [
    "model = best3.best_estimator_.named_steps['classifier']\n",
    "feature_names = data3.columns.tolist()[1:]\n",
    "# plot_coefficients(model, feature_names)\n",
    "print_feature_importance(feature_names, model.coef_[0])"
   ]
  },
  {
   "cell_type": "code",
   "execution_count": 48,
   "metadata": {},
   "outputs": [
    {
     "name": "stdout",
     "output_type": "stream",
     "text": [
      "              precision    recall  f1-score   support\n",
      "\n",
      "           0       0.92      1.00      0.96       134\n",
      "           1       0.00      0.00      0.00        12\n",
      "\n",
      "   micro avg       0.92      0.92      0.92       146\n",
      "   macro avg       0.46      0.50      0.48       146\n",
      "weighted avg       0.84      0.92      0.88       146\n",
      "\n"
     ]
    },
    {
     "name": "stderr",
     "output_type": "stream",
     "text": [
      "C:\\Users\\jtbri_000\\Anaconda3\\lib\\site-packages\\sklearn\\metrics\\classification.py:1143: UndefinedMetricWarning: Precision and F-score are ill-defined and being set to 0.0 in labels with no predicted samples.\n",
      "  'precision', 'predicted', average, warn_for)\n"
     ]
    },
    {
     "data": {
      "image/png": "[encoded data removed]",
      "text/plain": [
       "<Figure size 432x288 with 1 Axes>"
      ]
     },
     "metadata": {
      "needs_background": "light"
     },
     "output_type": "display_data"
    },
    {
     "name": "stdout",
     "output_type": "stream",
     "text": [
      "0.0 0.0\n",
      "1.0 1.0\n"
     ]
    }
   ],
   "source": [
    "plot_roc(best3.best_estimator_, X_test3, Y_test3)"
   ]
  },
  {
   "cell_type": "markdown",
   "metadata": {},
   "source": [
    "## 4. PSP vs PD/MSA"
   ]
  },
  {
   "cell_type": "code",
   "execution_count": 49,
   "metadata": {},
   "outputs": [
    {
     "name": "stderr",
     "output_type": "stream",
     "text": [
      "[Parallel(n_jobs=-1)]: Using backend LokyBackend with 4 concurrent workers.\n"
     ]
    },
    {
     "name": "stdout",
     "output_type": "stream",
     "text": [
      "# Tuning hyper-parameters for f1_micro\n",
      "\n",
      "Fitting 5 folds for each of 40 candidates, totalling 200 fits\n",
      "Best parameters set found on development set:\n",
      "\n",
      "{'classifier__C': 1e-05, 'classifier__penalty': 'l1'}\n",
      "\n",
      "Grid scores on development set:\n",
      "\n",
      "0.824 (+/-0.006) for {'classifier__C': 1e-05, 'classifier__penalty': 'l1'}\n",
      "0.622 (+/-0.100) for {'classifier__C': 1e-05, 'classifier__penalty': 'l2'}\n",
      "0.824 (+/-0.006) for {'classifier__C': 6.158482110660267e-05, 'classifier__penalty': 'l1'}\n",
      "0.628 (+/-0.107) for {'classifier__C': 6.158482110660267e-05, 'classifier__penalty': 'l2'}\n",
      "0.824 (+/-0.006) for {'classifier__C': 0.000379269019073225, 'classifier__penalty': 'l1'}\n",
      "0.619 (+/-0.108) for {'classifier__C': 0.000379269019073225, 'classifier__penalty': 'l2'}\n",
      "0.824 (+/-0.006) for {'classifier__C': 0.002335721469090121, 'classifier__penalty': 'l1'}\n",
      "0.633 (+/-0.098) for {'classifier__C': 0.002335721469090121, 'classifier__penalty': 'l2'}\n",
      "0.686 (+/-0.227) for {'classifier__C': 0.01438449888287663, 'classifier__penalty': 'l1'}\n",
      "0.619 (+/-0.108) for {'classifier__C': 0.01438449888287663, 'classifier__penalty': 'l2'}\n",
      "0.624 (+/-0.101) for {'classifier__C': 0.08858667904100832, 'classifier__penalty': 'l1'}\n",
      "0.624 (+/-0.099) for {'classifier__C': 0.08858667904100832, 'classifier__penalty': 'l2'}\n",
      "0.621 (+/-0.107) for {'classifier__C': 0.5455594781168515, 'classifier__penalty': 'l1'}\n",
      "0.619 (+/-0.108) for {'classifier__C': 0.5455594781168515, 'classifier__penalty': 'l2'}\n",
      "0.624 (+/-0.101) for {'classifier__C': 3.359818286283781, 'classifier__penalty': 'l1'}\n",
      "0.622 (+/-0.108) for {'classifier__C': 3.359818286283781, 'classifier__penalty': 'l2'}\n",
      "0.619 (+/-0.106) for {'classifier__C': 20.6913808111479, 'classifier__penalty': 'l1'}\n",
      "0.622 (+/-0.100) for {'classifier__C': 20.6913808111479, 'classifier__penalty': 'l2'}\n",
      "0.619 (+/-0.108) for {'classifier__C': 127.42749857031347, 'classifier__penalty': 'l1'}\n",
      "0.621 (+/-0.107) for {'classifier__C': 127.42749857031347, 'classifier__penalty': 'l2'}\n",
      "0.622 (+/-0.100) for {'classifier__C': 784.7599703514622, 'classifier__penalty': 'l1'}\n",
      "0.624 (+/-0.099) for {'classifier__C': 784.7599703514622, 'classifier__penalty': 'l2'}\n",
      "0.624 (+/-0.101) for {'classifier__C': 4832.930238571752, 'classifier__penalty': 'l1'}\n",
      "0.624 (+/-0.099) for {'classifier__C': 4832.930238571752, 'classifier__penalty': 'l2'}\n",
      "0.622 (+/-0.100) for {'classifier__C': 29763.51441631313, 'classifier__penalty': 'l1'}\n",
      "0.621 (+/-0.109) for {'classifier__C': 29763.51441631313, 'classifier__penalty': 'l2'}\n",
      "0.626 (+/-0.099) for {'classifier__C': 183298.07108324376, 'classifier__penalty': 'l1'}\n",
      "0.631 (+/-0.097) for {'classifier__C': 183298.07108324376, 'classifier__penalty': 'l2'}\n",
      "0.626 (+/-0.105) for {'classifier__C': 1128837.8916846884, 'classifier__penalty': 'l1'}\n",
      "0.621 (+/-0.107) for {'classifier__C': 1128837.8916846884, 'classifier__penalty': 'l2'}\n",
      "0.619 (+/-0.108) for {'classifier__C': 6951927.96177562, 'classifier__penalty': 'l1'}\n",
      "0.621 (+/-0.109) for {'classifier__C': 6951927.96177562, 'classifier__penalty': 'l2'}\n",
      "0.622 (+/-0.100) for {'classifier__C': 42813323.98719396, 'classifier__penalty': 'l1'}\n",
      "0.621 (+/-0.107) for {'classifier__C': 42813323.98719396, 'classifier__penalty': 'l2'}\n",
      "0.628 (+/-0.107) for {'classifier__C': 263665089.87303555, 'classifier__penalty': 'l1'}\n",
      "0.619 (+/-0.108) for {'classifier__C': 263665089.87303555, 'classifier__penalty': 'l2'}\n",
      "0.619 (+/-0.109) for {'classifier__C': 1623776739.1887243, 'classifier__penalty': 'l1'}\n",
      "0.626 (+/-0.099) for {'classifier__C': 1623776739.1887243, 'classifier__penalty': 'l2'}\n",
      "0.622 (+/-0.100) for {'classifier__C': 10000000000.0, 'classifier__penalty': 'l1'}\n",
      "0.628 (+/-0.089) for {'classifier__C': 10000000000.0, 'classifier__penalty': 'l2'}\n",
      "\n",
      "Detailed classification report (holdout):\n",
      "\n",
      "The model is trained on the full development set.\n",
      "The scores are computed on the full evaluation set.\n",
      "\n",
      "              precision    recall  f1-score   support\n",
      "\n",
      "           0       0.82      1.00      0.90       119\n",
      "           1       0.00      0.00      0.00        27\n",
      "\n",
      "   micro avg       0.82      0.82      0.82       146\n",
      "   macro avg       0.41      0.50      0.45       146\n",
      "weighted avg       0.66      0.82      0.73       146\n",
      "\n",
      "\n",
      "recall\t0.0\n",
      "precision\t0.0\n",
      "auc\t0.5\n",
      "specificity\t1.0\n",
      "npv\t0.815068493150685\n",
      "accuracy\t0.815068493150685\n"
     ]
    },
    {
     "name": "stderr",
     "output_type": "stream",
     "text": [
      "[Parallel(n_jobs=-1)]: Done 200 out of 200 | elapsed:    0.3s finished\n",
      "C:\\Users\\jtbri_000\\Anaconda3\\lib\\site-packages\\sklearn\\linear_model\\logistic.py:433: FutureWarning: Default solver will be changed to 'lbfgs' in 0.22. Specify a solver to silence this warning.\n",
      "  FutureWarning)\n",
      "C:\\Users\\jtbri_000\\Anaconda3\\lib\\site-packages\\sklearn\\metrics\\classification.py:1143: UndefinedMetricWarning: Precision and F-score are ill-defined and being set to 0.0 in labels with no predicted samples.\n",
      "  'precision', 'predicted', average, warn_for)\n",
      "C:\\Users\\jtbri_000\\Anaconda3\\lib\\site-packages\\sklearn\\metrics\\classification.py:1143: UndefinedMetricWarning: Precision is ill-defined and being set to 0.0 due to no predicted samples.\n",
      "  'precision', 'predicted', average, warn_for)\n"
     ]
    }
   ],
   "source": [
    "# Get the data\n",
    "data4 = group_classes(_data, {1:0, 2:0, 3:1})\n",
    "\n",
    "y4 = data4['GroupID']\n",
    "X4 = data4.drop(['GroupID'], axis=1)\n",
    "\n",
    "X_train4, X_test4, Y_train4, Y_test4 = train_test_split(X4, y4, test_size=_test_size, random_state=42)\n",
    "\n",
    "best4 = grid_search_optimization(clf, param_grid, X_train4, Y_train4, X_test4, Y_test4, cv=_cv, scoring=_scoring, verbose=1)"
   ]
  },
  {
   "cell_type": "code",
   "execution_count": 50,
   "metadata": {},
   "outputs": [
    {
     "name": "stdout",
     "output_type": "stream",
     "text": [
      "fit_time\t0.003599262237548828\t0.0016236040880625092\n",
      "score_time\t0.00659942626953125\t0.0011972392480831904\n",
      "test_recall\t0.0\t0.0\n",
      "train_recall\t0.0\t0.0\n",
      "test_precision\t0.0\t0.0\n",
      "train_precision\t0.0\t0.0\n",
      "test_auc\t0.5\t0.0\n",
      "train_auc\t0.5\t0.0\n",
      "test_specificity\t1.0\t0.0\n",
      "train_specificity\t1.0\t0.0\n",
      "test_npv\t0.8241571521931341\t0.0030255251591983444\n",
      "train_npv\t0.8241391362773293\t0.0007597611984805219\n",
      "test_accuracy\t0.8241571521931341\t0.0030255251591983444\n",
      "train_accuracy\t0.8241391362773293\t0.0007597611984805219\n"
     ]
    },
    {
     "name": "stderr",
     "output_type": "stream",
     "text": [
      "C:\\Users\\jtbri_000\\Anaconda3\\lib\\site-packages\\sklearn\\linear_model\\logistic.py:433: FutureWarning: Default solver will be changed to 'lbfgs' in 0.22. Specify a solver to silence this warning.\n",
      "  FutureWarning)\n",
      "C:\\Users\\jtbri_000\\Anaconda3\\lib\\site-packages\\sklearn\\metrics\\classification.py:1143: UndefinedMetricWarning: Precision is ill-defined and being set to 0.0 due to no predicted samples.\n",
      "  'precision', 'predicted', average, warn_for)\n",
      "C:\\Users\\jtbri_000\\Anaconda3\\lib\\site-packages\\sklearn\\metrics\\classification.py:1143: UndefinedMetricWarning: Precision is ill-defined and being set to 0.0 due to no predicted samples.\n",
      "  'precision', 'predicted', average, warn_for)\n",
      "C:\\Users\\jtbri_000\\Anaconda3\\lib\\site-packages\\sklearn\\linear_model\\logistic.py:433: FutureWarning: Default solver will be changed to 'lbfgs' in 0.22. Specify a solver to silence this warning.\n",
      "  FutureWarning)\n",
      "C:\\Users\\jtbri_000\\Anaconda3\\lib\\site-packages\\sklearn\\metrics\\classification.py:1143: UndefinedMetricWarning: Precision is ill-defined and being set to 0.0 due to no predicted samples.\n",
      "  'precision', 'predicted', average, warn_for)\n",
      "C:\\Users\\jtbri_000\\Anaconda3\\lib\\site-packages\\sklearn\\metrics\\classification.py:1143: UndefinedMetricWarning: Precision is ill-defined and being set to 0.0 due to no predicted samples.\n",
      "  'precision', 'predicted', average, warn_for)\n",
      "C:\\Users\\jtbri_000\\Anaconda3\\lib\\site-packages\\sklearn\\linear_model\\logistic.py:433: FutureWarning: Default solver will be changed to 'lbfgs' in 0.22. Specify a solver to silence this warning.\n",
      "  FutureWarning)\n",
      "C:\\Users\\jtbri_000\\Anaconda3\\lib\\site-packages\\sklearn\\metrics\\classification.py:1143: UndefinedMetricWarning: Precision is ill-defined and being set to 0.0 due to no predicted samples.\n",
      "  'precision', 'predicted', average, warn_for)\n",
      "C:\\Users\\jtbri_000\\Anaconda3\\lib\\site-packages\\sklearn\\metrics\\classification.py:1143: UndefinedMetricWarning: Precision is ill-defined and being set to 0.0 due to no predicted samples.\n",
      "  'precision', 'predicted', average, warn_for)\n",
      "C:\\Users\\jtbri_000\\Anaconda3\\lib\\site-packages\\sklearn\\linear_model\\logistic.py:433: FutureWarning: Default solver will be changed to 'lbfgs' in 0.22. Specify a solver to silence this warning.\n",
      "  FutureWarning)\n",
      "C:\\Users\\jtbri_000\\Anaconda3\\lib\\site-packages\\sklearn\\metrics\\classification.py:1143: UndefinedMetricWarning: Precision is ill-defined and being set to 0.0 due to no predicted samples.\n",
      "  'precision', 'predicted', average, warn_for)\n",
      "C:\\Users\\jtbri_000\\Anaconda3\\lib\\site-packages\\sklearn\\metrics\\classification.py:1143: UndefinedMetricWarning: Precision is ill-defined and being set to 0.0 due to no predicted samples.\n",
      "  'precision', 'predicted', average, warn_for)\n",
      "C:\\Users\\jtbri_000\\Anaconda3\\lib\\site-packages\\sklearn\\linear_model\\logistic.py:433: FutureWarning: Default solver will be changed to 'lbfgs' in 0.22. Specify a solver to silence this warning.\n",
      "  FutureWarning)\n",
      "C:\\Users\\jtbri_000\\Anaconda3\\lib\\site-packages\\sklearn\\metrics\\classification.py:1143: UndefinedMetricWarning: Precision is ill-defined and being set to 0.0 due to no predicted samples.\n",
      "  'precision', 'predicted', average, warn_for)\n",
      "C:\\Users\\jtbri_000\\Anaconda3\\lib\\site-packages\\sklearn\\metrics\\classification.py:1143: UndefinedMetricWarning: Precision is ill-defined and being set to 0.0 due to no predicted samples.\n",
      "  'precision', 'predicted', average, warn_for)\n"
     ]
    }
   ],
   "source": [
    "scores = cross_validate(best4.best_estimator_, X_train4, Y_train4, cv=_cv, return_train_score=True, scoring=_scoring_list)\n",
    "for score in scores:\n",
    "    print(\"%s\\t%s\\t%s\" %(score, np.mean(scores[score]), np.std(scores[score])))"
   ]
  },
  {
   "cell_type": "code",
   "execution_count": 51,
   "metadata": {},
   "outputs": [
    {
     "name": "stdout",
     "output_type": "stream",
     "text": [
      "UPDRS\t0.0\n"
     ]
    }
   ],
   "source": [
    "model = best4.best_estimator_.named_steps['classifier']\n",
    "feature_names = data4.columns.tolist()[1:]\n",
    "# plot_coefficients(model, feature_names)\n",
    "print_feature_importance(feature_names, model.coef_[0])"
   ]
  },
  {
   "cell_type": "code",
   "execution_count": 52,
   "metadata": {},
   "outputs": [
    {
     "name": "stderr",
     "output_type": "stream",
     "text": [
      "C:\\Users\\jtbri_000\\Anaconda3\\lib\\site-packages\\sklearn\\metrics\\classification.py:1143: UndefinedMetricWarning: Precision and F-score are ill-defined and being set to 0.0 in labels with no predicted samples.\n",
      "  'precision', 'predicted', average, warn_for)\n"
     ]
    },
    {
     "name": "stdout",
     "output_type": "stream",
     "text": [
      "              precision    recall  f1-score   support\n",
      "\n",
      "           0       0.82      1.00      0.90       119\n",
      "           1       0.00      0.00      0.00        27\n",
      "\n",
      "   micro avg       0.82      0.82      0.82       146\n",
      "   macro avg       0.41      0.50      0.45       146\n",
      "weighted avg       0.66      0.82      0.73       146\n",
      "\n"
     ]
    },
    {
     "data": {
      "image/png": "[encoded data removed]",
      "text/plain": [
       "<Figure size 432x288 with 1 Axes>"
      ]
     },
     "metadata": {
      "needs_background": "light"
     },
     "output_type": "display_data"
    },
    {
     "name": "stdout",
     "output_type": "stream",
     "text": [
      "0.0 0.0\n",
      "1.0 1.0\n"
     ]
    }
   ],
   "source": [
    "plot_roc(best4.best_estimator_, X_test4, Y_test4)"
   ]
  },
  {
   "cell_type": "code",
   "execution_count": null,
   "metadata": {},
   "outputs": [],
   "source": []
  },
  {
   "cell_type": "code",
   "execution_count": null,
   "metadata": {},
   "outputs": [],
   "source": []
  },
  {
   "cell_type": "code",
   "execution_count": null,
   "metadata": {},
   "outputs": [],
   "source": []
  }
 ],
 "metadata": {
  "kernelspec": {
   "display_name": "Python 3",
   "language": "python",
   "name": "python3"
  },
  "language_info": {
   "codemirror_mode": {
    "name": "ipython",
    "version": 3
   },
   "file_extension": ".py",
   "mimetype": "text/x-python",
   "name": "python",
   "nbconvert_exporter": "python",
   "pygments_lexer": "ipython3",
   "version": "3.7.1"
  }
 },
 "nbformat": 4,
 "nbformat_minor": 2
}
