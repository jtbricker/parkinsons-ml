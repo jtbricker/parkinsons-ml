{
 "cells": [
  {
   "cell_type": "markdown",
   "metadata": {},
   "source": [
    "Going to run the GNB model in order to get a good baseline for performace\n",
    "1. Control vs. All Park\n",
    "1. PD vs. MSA/PSP\n",
    "1. MSA vs. PD/PSP\n",
    "1. PDP vs. PD/MSA"
   ]
  },
  {
   "cell_type": "markdown",
   "metadata": {},
   "source": [
    "## Imports and Function Definitions"
   ]
  },
  {
   "cell_type": "code",
   "execution_count": 1,
   "metadata": {},
   "outputs": [],
   "source": [
    "import pandas as pd\n",
    "import numpy as np\n",
    "\n",
    "import matplotlib.pyplot as plt\n",
    "\n",
    "from sklearn.decomposition import PCA\n",
    "from sklearn.feature_selection import SelectKBest, chi2\n",
    "from sklearn.preprocessing import StandardScaler, Normalizer\n",
    "from sklearn.metrics import accuracy_score, confusion_matrix, classification_report, precision_recall_fscore_support\n",
    "from sklearn.model_selection import StratifiedKFold, cross_val_score, KFold, train_test_split, LeaveOneOut, GridSearchCV\n",
    "from sklearn.svm import SVC\n",
    "\n",
    "from imblearn.over_sampling import RandomOverSampler\n",
    "from imblearn.pipeline import Pipeline\n",
    "\n",
    "def grid_search_optimization(model, tuned_parameters, X, y, Xh, yh, cv=5, scoring='accuracy', verbose=False):\n",
    "    print(\"# Tuning hyper-parameters for %s\" %scoring)\n",
    "    print()\n",
    "\n",
    "    clf = GridSearchCV(model, tuned_parameters, cv=cv, n_jobs = -1, scoring=scoring, verbose=1)\n",
    "    clf.fit(X, y)\n",
    "\n",
    "    print(\"Best parameters set found on development set:\")\n",
    "    print()\n",
    "    print(clf.best_params_)\n",
    "    print()\n",
    "    if verbose:\n",
    "        print(\"Grid scores on development set:\")\n",
    "        print()\n",
    "        means = clf.cv_results_['mean_test_score']\n",
    "        stds = clf.cv_results_['std_test_score']\n",
    "        for mean, std, params in zip(means, stds, clf.cv_results_['params']):\n",
    "            print(\"%0.3f (+/-%0.03f) for %r\"\n",
    "                  % (mean, std * 2, params))\n",
    "        print()\n",
    "\n",
    "    print(\"Detailed classification report (holdout):\")\n",
    "    print()\n",
    "    print(\"The model is trained on the full development set.\")\n",
    "    print(\"The scores are computed on the full evaluation set.\")\n",
    "    print()\n",
    "    y_true, y_pred = yh, clf.predict(Xh)\n",
    "    print(classification_report(y_true, y_pred))\n",
    "    print()\n",
    "    \n",
    "    return clf\n",
    "\n",
    "def group_classes(data, grouping):\n",
    "        classes_to_keep = grouping.keys()\n",
    "        data_to_keep = data.loc[data['GroupID'].isin(classes_to_keep)]\n",
    "        classes_to_change = {k:grouping[k] for k in classes_to_keep if k!= grouping[k]}\n",
    "        return data_to_keep.replace(classes_to_change)"
   ]
  },
  {
   "cell_type": "code",
   "execution_count": 22,
   "metadata": {},
   "outputs": [],
   "source": [
    "# parameters and ranges to plot\n",
    "param_grid = {\n",
    "    \"classifier__C\": np.logspace(-5, 10, 20),\n",
    "    \"classifier__gamma\": np.logspace(-15,3,20)\n",
    "#     \"PCA__n_components\": range(1,113,10)\n",
    "    #\"fss__k\" : range(1,115,3)\n",
    "}\n",
    "\n",
    "clf = Pipeline([\n",
    "#     ('Norm', Normalizer()),\n",
    "    #(\"Oversample\", RandomOverSampler()),\n",
    "#     ('PCA', PCA()),\n",
    "#     ('fss',SelectKBest()),\n",
    "    ('Scaler', StandardScaler()),\n",
    "    ('classifier', SVC(kernel='rbf', class_weight='balanced'))\n",
    "])"
   ]
  },
  {
   "cell_type": "markdown",
   "metadata": {},
   "source": [
    "## 1. Control vs. PD/MSA/PSP"
   ]
  },
  {
   "cell_type": "code",
   "execution_count": 23,
   "metadata": {},
   "outputs": [
    {
     "name": "stdout",
     "output_type": "stream",
     "text": [
      "# Tuning hyper-parameters for f1_micro\n",
      "\n",
      "Fitting 20 folds for each of 400 candidates, totalling 8000 fits\n"
     ]
    },
    {
     "name": "stderr",
     "output_type": "stream",
     "text": [
      "[Parallel(n_jobs=-1)]: Done  34 tasks      | elapsed:   13.4s\n",
      "[Parallel(n_jobs=-1)]: Done 184 tasks      | elapsed:   16.7s\n",
      "[Parallel(n_jobs=-1)]: Done 434 tasks      | elapsed:   23.0s\n",
      "[Parallel(n_jobs=-1)]: Done 784 tasks      | elapsed:   32.3s\n",
      "[Parallel(n_jobs=-1)]: Done 1234 tasks      | elapsed:   45.1s\n",
      "[Parallel(n_jobs=-1)]: Done 1784 tasks      | elapsed:   59.9s\n",
      "[Parallel(n_jobs=-1)]: Done 2434 tasks      | elapsed:  1.3min\n",
      "[Parallel(n_jobs=-1)]: Done 3184 tasks      | elapsed:  1.7min\n",
      "[Parallel(n_jobs=-1)]: Done 4034 tasks      | elapsed:  2.1min\n",
      "[Parallel(n_jobs=-1)]: Done 4984 tasks      | elapsed:  2.6min\n",
      "[Parallel(n_jobs=-1)]: Done 6034 tasks      | elapsed:  3.1min\n",
      "[Parallel(n_jobs=-1)]: Done 7802 tasks      | elapsed:  3.9min\n"
     ]
    },
    {
     "name": "stdout",
     "output_type": "stream",
     "text": [
      "Best parameters set found on development set:\n",
      "\n",
      "{'classifier__C': 183298.07108324376, 'classifier__gamma': 3.3598182862837741e-07}\n",
      "\n",
      "Detailed classification report (holdout):\n",
      "\n",
      "The model is trained on the full development set.\n",
      "The scores are computed on the full evaluation set.\n",
      "\n",
      "             precision    recall  f1-score   support\n",
      "\n",
      "          0       0.85      0.96      0.90        95\n",
      "          1       0.98      0.93      0.95       227\n",
      "\n",
      "avg / total       0.94      0.94      0.94       322\n",
      "\n",
      "\n"
     ]
    },
    {
     "name": "stderr",
     "output_type": "stream",
     "text": [
      "[Parallel(n_jobs=-1)]: Done 8000 out of 8000 | elapsed:  4.0min finished\n"
     ]
    }
   ],
   "source": [
    "# Get the data\n",
    "data1 = pd.read_excel('training_data.xlsx')\n",
    "data1 = group_classes(data1, {0:0, 1:1, 2:1, 3:1})\n",
    "\n",
    "y1 = data1['GroupID']\n",
    "X1 = data1.drop(['GroupID'], axis=1)\n",
    "\n",
    "X_train1, X_test1, Y_train1, Y_test1 = train_test_split(X1, y1, test_size=0.35, random_state=42)\n",
    "\n",
    "best1 = grid_search_optimization(clf, param_grid, X_train1, Y_train1, X_test1, Y_test1, cv=20, scoring='f1_micro')"
   ]
  },
  {
   "cell_type": "markdown",
   "metadata": {},
   "source": [
    "## 2. PD vs MSA/PSP"
   ]
  },
  {
   "cell_type": "code",
   "execution_count": 24,
   "metadata": {},
   "outputs": [
    {
     "name": "stdout",
     "output_type": "stream",
     "text": [
      "# Tuning hyper-parameters for f1_micro\n",
      "\n",
      "Fitting 20 folds for each of 400 candidates, totalling 8000 fits\n"
     ]
    },
    {
     "name": "stderr",
     "output_type": "stream",
     "text": [
      "[Parallel(n_jobs=-1)]: Done  34 tasks      | elapsed:   15.1s\n",
      "[Parallel(n_jobs=-1)]: Done 184 tasks      | elapsed:   18.0s\n",
      "[Parallel(n_jobs=-1)]: Done 434 tasks      | elapsed:   23.0s\n",
      "[Parallel(n_jobs=-1)]: Done 784 tasks      | elapsed:   29.8s\n",
      "[Parallel(n_jobs=-1)]: Done 1234 tasks      | elapsed:   38.0s\n",
      "[Parallel(n_jobs=-1)]: Done 1784 tasks      | elapsed:   47.7s\n",
      "[Parallel(n_jobs=-1)]: Done 2434 tasks      | elapsed:  1.0min\n",
      "[Parallel(n_jobs=-1)]: Done 3681 tasks      | elapsed:  1.4min\n",
      "[Parallel(n_jobs=-1)]: Done 5381 tasks      | elapsed:  1.9min\n",
      "[Parallel(n_jobs=-1)]: Done 7281 tasks      | elapsed:  2.4min\n",
      "[Parallel(n_jobs=-1)]: Done 7985 out of 8000 | elapsed:  2.6min remaining:    0.2s\n"
     ]
    },
    {
     "name": "stdout",
     "output_type": "stream",
     "text": [
      "Best parameters set found on development set:\n",
      "\n",
      "{'classifier__C': 20.691380811147901, 'classifier__gamma': 0.0020691380811147901}\n",
      "\n",
      "Detailed classification report (holdout):\n",
      "\n",
      "The model is trained on the full development set.\n",
      "The scores are computed on the full evaluation set.\n",
      "\n",
      "             precision    recall  f1-score   support\n",
      "\n",
      "          0       0.97      0.88      0.92       164\n",
      "          1       0.75      0.92      0.83        66\n",
      "\n",
      "avg / total       0.91      0.89      0.89       230\n",
      "\n",
      "\n"
     ]
    },
    {
     "name": "stderr",
     "output_type": "stream",
     "text": [
      "[Parallel(n_jobs=-1)]: Done 8000 out of 8000 | elapsed:  2.6min finished\n"
     ]
    }
   ],
   "source": [
    "# Get the data\n",
    "data2 = pd.read_excel('training_data.xlsx')\n",
    "data2 = group_classes(data2, {1:0, 2:1, 3:1})\n",
    "\n",
    "y2 = data2['GroupID']\n",
    "X2 = data2.drop(['GroupID'], axis=1)\n",
    "\n",
    "X_train2, X_test2, Y_train2, Y_test2 = train_test_split(X2, y2, test_size=0.35, random_state=42)\n",
    "\n",
    "best2 = grid_search_optimization(clf, param_grid, X_train2, Y_train2, X_test2, Y_test2, cv=20, scoring='f1_micro')"
   ]
  },
  {
   "cell_type": "markdown",
   "metadata": {},
   "source": [
    "## 3. MSA vs PD/PSP"
   ]
  },
  {
   "cell_type": "code",
   "execution_count": 25,
   "metadata": {},
   "outputs": [
    {
     "name": "stdout",
     "output_type": "stream",
     "text": [
      "# Tuning hyper-parameters for f1_micro\n",
      "\n",
      "Fitting 20 folds for each of 400 candidates, totalling 8000 fits\n"
     ]
    },
    {
     "name": "stderr",
     "output_type": "stream",
     "text": [
      "[Parallel(n_jobs=-1)]: Done  34 tasks      | elapsed:   10.3s\n",
      "[Parallel(n_jobs=-1)]: Done 184 tasks      | elapsed:   13.4s\n",
      "[Parallel(n_jobs=-1)]: Done 434 tasks      | elapsed:   18.7s\n",
      "[Parallel(n_jobs=-1)]: Done 784 tasks      | elapsed:   25.6s\n",
      "[Parallel(n_jobs=-1)]: Done 1234 tasks      | elapsed:   35.0s\n",
      "[Parallel(n_jobs=-1)]: Done 1784 tasks      | elapsed:   45.8s\n",
      "[Parallel(n_jobs=-1)]: Done 2434 tasks      | elapsed:   57.6s\n",
      "[Parallel(n_jobs=-1)]: Done 3681 tasks      | elapsed:  1.3min\n",
      "[Parallel(n_jobs=-1)]: Done 5381 tasks      | elapsed:  1.7min\n",
      "[Parallel(n_jobs=-1)]: Done 7281 tasks      | elapsed:  2.2min\n",
      "[Parallel(n_jobs=-1)]: Done 7985 out of 8000 | elapsed:  2.4min remaining:    0.2s\n",
      "[Parallel(n_jobs=-1)]: Done 8000 out of 8000 | elapsed:  2.4min finished\n"
     ]
    },
    {
     "name": "stdout",
     "output_type": "stream",
     "text": [
      "Best parameters set found on development set:\n",
      "\n",
      "{'classifier__C': 20.691380811147901, 'classifier__gamma': 0.018329807108324301}\n",
      "\n",
      "Detailed classification report (holdout):\n",
      "\n",
      "The model is trained on the full development set.\n",
      "The scores are computed on the full evaluation set.\n",
      "\n",
      "             precision    recall  f1-score   support\n",
      "\n",
      "          0       0.92      1.00      0.96       208\n",
      "          1       0.83      0.23      0.36        22\n",
      "\n",
      "avg / total       0.92      0.92      0.90       230\n",
      "\n",
      "\n"
     ]
    }
   ],
   "source": [
    "# Get the data\n",
    "data3 = pd.read_excel('training_data.xlsx')\n",
    "data3 = group_classes(data3, {1:0, 3:0, 2:1})\n",
    "\n",
    "y3 = data3['GroupID']\n",
    "X3 = data3.drop(['GroupID'], axis=1)\n",
    "\n",
    "X_train3, X_test3, Y_train3, Y_test3 = train_test_split(X3, y3, test_size=0.35, random_state=42)\n",
    "\n",
    "best3 = grid_search_optimization(clf, param_grid, X_train3, Y_train3, X_test3, Y_test3, cv=20, scoring='f1_micro')"
   ]
  },
  {
   "cell_type": "markdown",
   "metadata": {},
   "source": [
    "## 4. PSP vs PD/MSA"
   ]
  },
  {
   "cell_type": "code",
   "execution_count": 26,
   "metadata": {},
   "outputs": [
    {
     "name": "stdout",
     "output_type": "stream",
     "text": [
      "# Tuning hyper-parameters for f1_micro\n",
      "\n",
      "Fitting 20 folds for each of 400 candidates, totalling 8000 fits\n"
     ]
    },
    {
     "name": "stderr",
     "output_type": "stream",
     "text": [
      "[Parallel(n_jobs=-1)]: Done  34 tasks      | elapsed:    9.4s\n",
      "[Parallel(n_jobs=-1)]: Done 184 tasks      | elapsed:   11.6s\n",
      "[Parallel(n_jobs=-1)]: Done 434 tasks      | elapsed:   16.1s\n",
      "[Parallel(n_jobs=-1)]: Done 784 tasks      | elapsed:   21.9s\n",
      "[Parallel(n_jobs=-1)]: Done 1234 tasks      | elapsed:   29.1s\n",
      "[Parallel(n_jobs=-1)]: Done 1784 tasks      | elapsed:   37.7s\n",
      "[Parallel(n_jobs=-1)]: Done 2580 tasks      | elapsed:   50.6s\n",
      "[Parallel(n_jobs=-1)]: Done 4080 tasks      | elapsed:  1.2min\n",
      "[Parallel(n_jobs=-1)]: Done 5780 tasks      | elapsed:  1.6min\n",
      "[Parallel(n_jobs=-1)]: Done 7680 tasks      | elapsed:  2.0min\n"
     ]
    },
    {
     "name": "stdout",
     "output_type": "stream",
     "text": [
      "Best parameters set found on development set:\n",
      "\n",
      "{'classifier__C': 127.42749857031347, 'classifier__gamma': 2.6366508987303556e-05}\n",
      "\n",
      "Detailed classification report (holdout):\n",
      "\n",
      "The model is trained on the full development set.\n",
      "The scores are computed on the full evaluation set.\n",
      "\n",
      "             precision    recall  f1-score   support\n",
      "\n",
      "          0       0.98      0.91      0.94       186\n",
      "          1       0.70      0.91      0.79        44\n",
      "\n",
      "avg / total       0.92      0.91      0.91       230\n",
      "\n",
      "\n"
     ]
    },
    {
     "name": "stderr",
     "output_type": "stream",
     "text": [
      "[Parallel(n_jobs=-1)]: Done 8000 out of 8000 | elapsed:  2.1min finished\n"
     ]
    }
   ],
   "source": [
    "# Get the data\n",
    "data4 = pd.read_excel('training_data.xlsx')\n",
    "data4 = group_classes(data4, {1:0, 2:0, 3:1})\n",
    "\n",
    "y4 = data4['GroupID']\n",
    "X4 = data4.drop(['GroupID'], axis=1)\n",
    "\n",
    "X_train4, X_test4, Y_train4, Y_test4 = train_test_split(X4, y4, test_size=0.35, random_state=42)\n",
    "\n",
    "best4 = grid_search_optimization(clf, param_grid, X_train4, Y_train4, X_test4, Y_test4, cv=20, scoring='f1_micro')"
   ]
  },
  {
   "cell_type": "code",
   "execution_count": null,
   "metadata": {},
   "outputs": [],
   "source": []
  }
 ],
 "metadata": {
  "kernelspec": {
   "display_name": "Python 3",
   "language": "python",
   "name": "python3"
  },
  "language_info": {
   "codemirror_mode": {
    "name": "ipython",
    "version": 3
   },
   "file_extension": ".py",
   "mimetype": "text/x-python",
   "name": "python",
   "nbconvert_exporter": "python",
   "pygments_lexer": "ipython3",
   "version": "3.6.3"
  }
 },
 "nbformat": 4,
 "nbformat_minor": 2
}
