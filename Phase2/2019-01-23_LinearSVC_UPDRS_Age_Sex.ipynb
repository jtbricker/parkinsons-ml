{
 "cells": [
  {
   "cell_type": "markdown",
   "metadata": {},
   "source": [
    "## UPDRS, Age, and Sex Only\n",
    "\n",
    "From request [UPDRS, Age, and Sex Only](https://trello.com/c/GOGVOO0l)\n",
    "\n",
    "Run the same Linear SVC Analysis but only use Age, Sex, and UPDRS.  Using the new data set\n",
    "\n",
    "**NOTE**:  I did not plot the coeficients of the models, but they are listed."
   ]
  },
  {
   "cell_type": "markdown",
   "metadata": {},
   "source": [
    "## Imports and Function Definitions"
   ]
  },
  {
   "cell_type": "code",
   "execution_count": 27,
   "metadata": {},
   "outputs": [],
   "source": [
    "import pandas as pd\n",
    "import numpy as np\n",
    "\n",
    "import matplotlib.pyplot as plt\n",
    "\n",
    "from sklearn.decomposition import PCA\n",
    "from sklearn.feature_selection import SelectKBest, chi2\n",
    "from sklearn.preprocessing import StandardScaler, Normalizer\n",
    "from sklearn.metrics import accuracy_score, confusion_matrix, classification_report, precision_recall_fscore_support, roc_curve, make_scorer, accuracy_score, precision_score, recall_score, roc_auc_score\n",
    "from sklearn.model_selection import StratifiedKFold, cross_val_score, KFold, train_test_split, LeaveOneOut, GridSearchCV, cross_validate\n",
    "from sklearn.svm import SVC\n",
    "\n",
    "from imblearn.over_sampling import RandomOverSampler\n",
    "from imblearn.pipeline import Pipeline\n",
    "\n",
    "def grid_search_optimization(model, tuned_parameters, X, y, Xh, yh, cv=5, scoring='accuracy', verbose=False):\n",
    "    print(\"# Tuning hyper-parameters for %s\" %scoring)\n",
    "    print()\n",
    "\n",
    "    clf = GridSearchCV(model, tuned_parameters, cv=cv, n_jobs = -1, scoring=scoring, verbose=1)\n",
    "    clf.fit(X, y)\n",
    "\n",
    "    print(\"Best parameters set found on development set:\")\n",
    "    print()\n",
    "    print(clf.best_params_)\n",
    "    print()\n",
    "    if verbose:\n",
    "        print(\"Grid scores on development set:\")\n",
    "        print()\n",
    "        means = clf.cv_results_['mean_test_score']\n",
    "        stds = clf.cv_results_['std_test_score']\n",
    "        for mean, std, params in zip(means, stds, clf.cv_results_['params']):\n",
    "            print(\"%0.3f (+/-%0.03f) for %r\"\n",
    "                  % (mean, std * 2, params))\n",
    "        print()\n",
    "\n",
    "    print(\"Detailed classification report (holdout):\")\n",
    "    print()\n",
    "    print(\"The model is trained on the full development set.\")\n",
    "    print(\"The scores are computed on the full evaluation set.\")\n",
    "    print()\n",
    "    y_true, y_pred = yh, clf.predict(Xh)\n",
    "    print(classification_report(y_true, y_pred))\n",
    "    print()\n",
    "    \n",
    "    get_metrics(clf.best_estimator_, Xh, yh)\n",
    "    \n",
    "    return clf\n",
    "\n",
    "def group_classes(data, grouping):\n",
    "        classes_to_keep = grouping.keys()\n",
    "        data_to_keep = data.loc[data['GroupID'].isin(classes_to_keep)]\n",
    "        classes_to_change = {k:grouping[k] for k in classes_to_keep if k!= grouping[k]}\n",
    "        return data_to_keep.replace(classes_to_change)\n",
    "    \n",
    "def plot_coefficients(classifier, feature_names, top_features=20):\n",
    "     coef = classifier.coef_.ravel()\n",
    "     top_positive_coefficients = np.argsort(coef)[-top_features:]\n",
    "     top_negative_coefficients = np.argsort(coef)[:top_features]\n",
    "     top_coefficients = np.hstack([top_negative_coefficients, top_positive_coefficients])\n",
    "     # create plot\n",
    "     plt.figure(figsize=(15, 5))\n",
    "     colors = ['red' if c < 0 else 'blue' for c in coef[top_coefficients]]\n",
    "     plt.bar(np.arange(2 * top_features), coef[top_coefficients], color=colors)\n",
    "     feature_names = np.array(feature_names)\n",
    "     plt.xticks(np.arange(1, 1 + 2 * top_features), feature_names[top_coefficients], rotation=60, ha='right')\n",
    "     plt.show()\n",
    "        \n",
    "def print_feature_importance(feature_names, coefs):\n",
    "    assert len(feature_names) == len(coefs), \"Arrays have difference lengths. Something went wrong\"\n",
    "    for feature, coef in zip(feature_names, coefs):\n",
    "        print(\"%s\\t%s\" %(feature, coef))\n",
    "        \n",
    "# AKA True Negative Rate\n",
    "def specificity(y_true, y_pred):\n",
    "    cm = confusion_matrix(y_true, y_pred)\n",
    "    return cm[0,0] / cm[0,:].sum()\n",
    "\n",
    "def negative_predictive_value(y_true, y_pred):\n",
    "    cm = confusion_matrix(y_true, y_pred)\n",
    "    return cm[0,0] / cm[:,0].sum()\n",
    "\n",
    "def plot_roc(model, X_test, Y_test):\n",
    "    y_true, y_pred = Y_test, model.predict(X_test)\n",
    "    print(classification_report(y_true, y_pred))\n",
    "\n",
    "    y_pred_prob = model.predict_proba(X_test)[:,1]\n",
    "\n",
    "    fpr, tpr, thresholds = roc_curve(Y_test, y_pred_prob)\n",
    "\n",
    "    plt.plot([0,1],[0,1], 'k--')\n",
    "    plt.plot(fpr, tpr, label='Linear SVC')\n",
    "    plt.xlabel('False Positive Rate')\n",
    "    plt.ylabel('True Positive Rate')\n",
    "    plt.title('Linear SVC ROC Curve')\n",
    "    plt.show()\n",
    "    \n",
    "    for a,b in zip(fpr, tpr):\n",
    "        print(a,b)\n",
    "    \n",
    "def get_metrics(model, X, y):\n",
    "    for metric in _scoring_list:\n",
    "        score = _scoring_list[metric](model, X, y)\n",
    "        print(\"%s\\t%s\" %(metric, score))"
   ]
  },
  {
   "cell_type": "markdown",
   "metadata": {},
   "source": [
    "## Define classifier, pipeline and constants"
   ]
  },
  {
   "cell_type": "code",
   "execution_count": 28,
   "metadata": {},
   "outputs": [],
   "source": [
    "param_grid = {\n",
    "    \"classifier__C\": np.logspace(-5, 2, 20),\n",
    "#     \"PCA__n_components\": range(1,113,10),\n",
    "#     \"fss__k\": range(1,115,3),\n",
    "},\n",
    "\n",
    "clf = Pipeline([\n",
    "#     ('Norm', Normalizer()),\\n\",\n",
    "#     (\"Oversample\", RandomOverSampler()),\n",
    "#     ('PCA', PCA()),\n",
    "    ('Scaler', StandardScaler()),\n",
    "#     ('fss',SelectKBest()),\n",
    "    ('classifier', SVC(kernel='linear', class_weight='balanced', probability=True))\n",
    "])\n",
    "\n",
    "_cv=5\n",
    "_test_size=0.20\n",
    "_scoring_list={\n",
    "    'recall':make_scorer(recall_score),\n",
    "    'precision':make_scorer(precision_score),\n",
    "    'auc':make_scorer(roc_auc_score),\n",
    "    'specificity':make_scorer(specificity),\n",
    "    'npv':make_scorer(negative_predictive_value),\n",
    "    'accuracy':make_scorer(accuracy_score)\n",
    "}\n",
    "_scoring='f1_micro'\n",
    "_data = pd.read_excel('1002_Data_no_Subj_Site.xlsx')\n",
    "_data = _data[['GroupID', 'Age', 'Sex', 'UPDRS']]\n",
    "_random_seed = 55"
   ]
  },
  {
   "cell_type": "markdown",
   "metadata": {},
   "source": [
    "## 1. Control vs. PD/MSA/PSP"
   ]
  },
  {
   "cell_type": "code",
   "execution_count": 29,
   "metadata": {},
   "outputs": [
    {
     "name": "stdout",
     "output_type": "stream",
     "text": [
      "# Tuning hyper-parameters for f1_micro\n",
      "\n",
      "Fitting 5 folds for each of 20 candidates, totalling 100 fits\n"
     ]
    },
    {
     "name": "stderr",
     "output_type": "stream",
     "text": [
      "[Parallel(n_jobs=-1)]: Using backend LokyBackend with 4 concurrent workers.\n"
     ]
    },
    {
     "name": "stdout",
     "output_type": "stream",
     "text": [
      "Best parameters set found on development set:\n",
      "\n",
      "{'classifier__C': 0.26366508987303555}\n",
      "\n",
      "Detailed classification report (holdout):\n",
      "\n",
      "The model is trained on the full development set.\n",
      "The scores are computed on the full evaluation set.\n",
      "\n",
      "              precision    recall  f1-score   support\n",
      "\n",
      "         0.0       0.84      0.95      0.89        55\n",
      "         1.0       0.98      0.93      0.95       146\n",
      "\n",
      "   micro avg       0.94      0.94      0.94       201\n",
      "   macro avg       0.91      0.94      0.92       201\n",
      "weighted avg       0.94      0.94      0.94       201\n",
      "\n",
      "\n",
      "recall\t0.9315068493150684\n",
      "precision\t0.9784172661870504\n",
      "auc\t0.9384806973848069\n",
      "specificity\t0.9454545454545454\n",
      "npv\t0.8387096774193549\n",
      "accuracy\t0.9353233830845771\n"
     ]
    },
    {
     "name": "stderr",
     "output_type": "stream",
     "text": [
      "[Parallel(n_jobs=-1)]: Done 100 out of 100 | elapsed:    1.3s finished\n",
      "C:\\Users\\jtbri_000\\Anaconda3\\lib\\site-packages\\sklearn\\model_selection\\_search.py:841: DeprecationWarning: The default of the `iid` parameter will change from True to False in version 0.22 and will be removed in 0.24. This will change numeric results when test-set sizes are unequal.\n",
      "  DeprecationWarning)\n"
     ]
    }
   ],
   "source": [
    "# Get the data\n",
    "data1 = group_classes(_data, {0:0, 1:1, 2:1, 3:1})\n",
    "\n",
    "y1 = data1['GroupID']\n",
    "X1 = data1.drop(['GroupID'], axis=1)\n",
    "\n",
    "X_train1, X_test1, Y_train1, Y_test1 = train_test_split(X1, y1, test_size=_test_size, random_state=_random_seed)\n",
    "\n",
    "best1 = grid_search_optimization(clf, param_grid, X_train1, Y_train1, X_test1, Y_test1, cv=_cv, scoring=_scoring)"
   ]
  },
  {
   "cell_type": "code",
   "execution_count": 30,
   "metadata": {},
   "outputs": [
    {
     "name": "stdout",
     "output_type": "stream",
     "text": [
      "fit_time\t0.011398792266845703\t0.0007991794043337714\n",
      "score_time\t0.007000875473022461\t1.4096971034140094e-06\n",
      "test_recall\t0.956776611694153\t0.01442623241838163\n",
      "train_recall\t0.9524248969173374\t0.003835067630801343\n",
      "test_precision\t0.9895020489123327\t0.01010732197059653\n",
      "train_precision\t0.989226358128761\t0.0025877776324531965\n",
      "test_auc\t0.964903457362228\t0.00701108180469516\n",
      "train_auc\t0.9627575492056402\t0.003446539658362862\n",
      "test_specificity\t0.973030303030303\t0.026385880162925174\n",
      "train_specificity\t0.9730902014939427\t0.0065423692271858475\n",
      "test_npv\t0.8985331008968883\t0.029899825680859447\n",
      "train_npv\t0.8876158026253714\t0.007907297801961366\n",
      "test_accuracy\t0.9613188015156842\t0.00450016222419838\n",
      "train_accuracy\t0.9581795171339562\t0.002992558491983448\n"
     ]
    }
   ],
   "source": [
    "scores = cross_validate(best1.best_estimator_, X_train1, Y_train1, cv=_cv, return_train_score=True, scoring=_scoring_list)\n",
    "for score in scores:\n",
    "    print(\"%s\\t%s\\t%s\" %(score, np.mean(scores[score]), np.std(scores[score])))"
   ]
  },
  {
   "cell_type": "code",
   "execution_count": 31,
   "metadata": {},
   "outputs": [
    {
     "name": "stdout",
     "output_type": "stream",
     "text": [
      "Age\t-0.2889637798864278\n",
      "Sex\t-0.08041643682329067\n",
      "UPDRS\t3.1138206301685525\n"
     ]
    }
   ],
   "source": [
    "model = best1.best_estimator_.named_steps['classifier']\n",
    "feature_names = data1.columns.tolist()[1:]\n",
    "# plot_coefficients(model, feature_names, top_features=3)\n",
    "print_feature_importance(feature_names, model.coef_[0])"
   ]
  },
  {
   "cell_type": "code",
   "execution_count": 32,
   "metadata": {},
   "outputs": [
    {
     "name": "stdout",
     "output_type": "stream",
     "text": [
      "              precision    recall  f1-score   support\n",
      "\n",
      "         0.0       0.84      0.95      0.89        55\n",
      "         1.0       0.98      0.93      0.95       146\n",
      "\n",
      "   micro avg       0.94      0.94      0.94       201\n",
      "   macro avg       0.91      0.94      0.92       201\n",
      "weighted avg       0.94      0.94      0.94       201\n",
      "\n"
     ]
    },
    {
     "data": {
      "image/png": "[encoded data removed]",
      "text/plain": [
       "<Figure size 432x288 with 1 Axes>"
      ]
     },
     "metadata": {
      "needs_background": "light"
     },
     "output_type": "display_data"
    },
    {
     "name": "stdout",
     "output_type": "stream",
     "text": [
      "0.0 0.0\n",
      "0.0 0.0684931506849315\n",
      "0.0 0.7876712328767124\n",
      "0.0 0.8013698630136986\n",
      "0.0 0.8424657534246576\n",
      "0.01818181818181818 0.8424657534246576\n",
      "0.01818181818181818 0.8561643835616438\n",
      "0.03636363636363636 0.8561643835616438\n",
      "0.03636363636363636 0.8698630136986302\n",
      "0.03636363636363636 0.8835616438356164\n",
      "0.03636363636363636 0.9246575342465754\n",
      "0.05454545454545454 0.9246575342465754\n",
      "0.05454545454545454 0.9452054794520548\n",
      "0.09090909090909091 0.9452054794520548\n",
      "0.09090909090909091 0.958904109589041\n",
      "0.10909090909090909 0.958904109589041\n",
      "0.10909090909090909 0.9657534246575342\n",
      "0.14545454545454545 0.9657534246575342\n",
      "0.14545454545454545 0.9794520547945206\n",
      "0.16363636363636364 0.9794520547945206\n",
      "0.2 0.9794520547945206\n",
      "0.2 0.9863013698630136\n",
      "0.23636363636363636 0.9863013698630136\n",
      "0.2545454545454545 0.9931506849315068\n",
      "0.6909090909090909 0.9931506849315068\n",
      "0.7272727272727273 0.9931506849315068\n",
      "0.8181818181818182 0.9931506849315068\n",
      "0.8181818181818182 1.0\n",
      "0.8545454545454545 1.0\n",
      "0.8727272727272727 1.0\n",
      "0.9090909090909091 1.0\n",
      "1.0 1.0\n"
     ]
    }
   ],
   "source": [
    "plot_roc(best1.best_estimator_, X_test1, Y_test1)"
   ]
  },
  {
   "cell_type": "markdown",
   "metadata": {},
   "source": [
    "## 2. PD vs MSA/PSP"
   ]
  },
  {
   "cell_type": "code",
   "execution_count": 33,
   "metadata": {},
   "outputs": [
    {
     "name": "stdout",
     "output_type": "stream",
     "text": [
      "# Tuning hyper-parameters for f1_micro\n",
      "\n",
      "Fitting 5 folds for each of 20 candidates, totalling 100 fits\n"
     ]
    },
    {
     "name": "stderr",
     "output_type": "stream",
     "text": [
      "[Parallel(n_jobs=-1)]: Using backend LokyBackend with 4 concurrent workers.\n"
     ]
    },
    {
     "name": "stdout",
     "output_type": "stream",
     "text": [
      "Best parameters set found on development set:\n",
      "\n",
      "{'classifier__C': 0.001623776739188721}\n",
      "\n",
      "Detailed classification report (holdout):\n",
      "\n",
      "The model is trained on the full development set.\n",
      "The scores are computed on the full evaluation set.\n",
      "\n",
      "              precision    recall  f1-score   support\n",
      "\n",
      "         0.0       0.84      0.66      0.74       105\n",
      "         1.0       0.43      0.68      0.52        40\n",
      "\n",
      "   micro avg       0.66      0.66      0.66       145\n",
      "   macro avg       0.64      0.67      0.63       145\n",
      "weighted avg       0.73      0.66      0.68       145\n",
      "\n",
      "\n",
      "recall\t0.675\n",
      "precision\t0.42857142857142855\n",
      "auc\t0.6660714285714286\n",
      "specificity\t0.6571428571428571\n",
      "npv\t0.8414634146341463\n",
      "accuracy\t0.6620689655172414\n"
     ]
    },
    {
     "name": "stderr",
     "output_type": "stream",
     "text": [
      "[Parallel(n_jobs=-1)]: Done 100 out of 100 | elapsed:    2.0s finished\n",
      "C:\\Users\\jtbri_000\\Anaconda3\\lib\\site-packages\\sklearn\\model_selection\\_search.py:841: DeprecationWarning: The default of the `iid` parameter will change from True to False in version 0.22 and will be removed in 0.24. This will change numeric results when test-set sizes are unequal.\n",
      "  DeprecationWarning)\n"
     ]
    }
   ],
   "source": [
    "# Get the data\n",
    "data2 = group_classes(_data, {1:0, 2:1, 3:1})\n",
    "\n",
    "y2 = data2['GroupID']\n",
    "X2 = data2.drop(['GroupID'], axis=1)\n",
    "\n",
    "X_train2, X_test2, Y_train2, Y_test2 = train_test_split(X2, y2, test_size=_test_size, random_state=_random_seed)\n",
    "\n",
    "best2 = grid_search_optimization(clf, param_grid, X_train2, Y_train2, X_test2, Y_test2, cv=_cv, scoring=_scoring)"
   ]
  },
  {
   "cell_type": "code",
   "execution_count": 34,
   "metadata": {},
   "outputs": [
    {
     "name": "stdout",
     "output_type": "stream",
     "text": [
      "fit_time\t0.019199848175048828\t0.005036082149360444\n",
      "score_time\t0.010399723052978515\t0.0017442557809827187\n",
      "test_recall\t0.41529411764705876\t0.09851435085837831\n",
      "train_recall\t0.4321238661244918\t0.10824499326961591\n",
      "test_precision\t0.5500946305156832\t0.11057163195483907\n",
      "train_precision\t0.5605471452277654\t0.04141865560994606\n",
      "test_auc\t0.6299746709885399\t0.042009067138317195\n",
      "train_auc\t0.6415605085608214\t0.029769641805045367\n",
      "test_specificity\t0.844655224330021\t0.06855174979357405\n",
      "train_specificity\t0.850997150997151\t0.05791737324151579\n",
      "test_npv\t0.7735849631508883\t0.024673009126600132\n",
      "train_npv\t0.7807435376239746\t0.024581265573014738\n",
      "test_accuracy\t0.7165298120170684\t0.03952534243510153\n",
      "train_accuracy\t0.7258010326482435\t0.016519975491548555\n"
     ]
    }
   ],
   "source": [
    "scores = cross_validate(best2.best_estimator_, X_train2, Y_train2, cv=_cv, return_train_score=True, scoring=_scoring_list)\n",
    "for score in scores:\n",
    "    print(\"%s\\t%s\\t%s\" %(score, np.mean(scores[score]), np.std(scores[score])))"
   ]
  },
  {
   "cell_type": "code",
   "execution_count": 35,
   "metadata": {},
   "outputs": [
    {
     "name": "stdout",
     "output_type": "stream",
     "text": [
      "Age\t0.1853071637559382\n",
      "Sex\t0.0\n",
      "UPDRS\t0.3559341458899825\n"
     ]
    }
   ],
   "source": [
    "model = best2.best_estimator_.named_steps['classifier']\n",
    "feature_names = data2.columns.tolist()[1:]\n",
    "# plot_coefficients(model, feature_names, top_features=3)\n",
    "print_feature_importance(feature_names, model.coef_[0])"
   ]
  },
  {
   "cell_type": "code",
   "execution_count": 36,
   "metadata": {},
   "outputs": [
    {
     "name": "stdout",
     "output_type": "stream",
     "text": [
      "              precision    recall  f1-score   support\n",
      "\n",
      "         0.0       0.84      0.66      0.74       105\n",
      "         1.0       0.43      0.68      0.52        40\n",
      "\n",
      "   micro avg       0.66      0.66      0.66       145\n",
      "   macro avg       0.64      0.67      0.63       145\n",
      "weighted avg       0.73      0.66      0.68       145\n",
      "\n"
     ]
    },
    {
     "data": {
      "image/png": "[encoded data removed]",
      "text/plain": [
       "<Figure size 432x288 with 1 Axes>"
      ]
     },
     "metadata": {
      "needs_background": "light"
     },
     "output_type": "display_data"
    },
    {
     "name": "stdout",
     "output_type": "stream",
     "text": [
      "0.0 0.0\n",
      "0.009523809523809525 0.0\n",
      "0.009523809523809525 0.075\n",
      "0.01904761904761905 0.075\n",
      "0.01904761904761905 0.15\n",
      "0.047619047619047616 0.15\n",
      "0.047619047619047616 0.2\n",
      "0.06666666666666667 0.2\n",
      "0.06666666666666667 0.25\n",
      "0.0761904761904762 0.25\n",
      "0.0761904761904762 0.275\n",
      "0.08571428571428572 0.275\n",
      "0.08571428571428572 0.325\n",
      "0.10476190476190476 0.325\n",
      "0.10476190476190476 0.425\n",
      "0.14285714285714285 0.425\n",
      "0.14285714285714285 0.45\n",
      "0.1619047619047619 0.45\n",
      "0.1619047619047619 0.525\n",
      "0.17142857142857143 0.525\n",
      "0.17142857142857143 0.55\n",
      "0.19047619047619047 0.55\n",
      "0.19047619047619047 0.6\n",
      "0.22857142857142856 0.6\n",
      "0.22857142857142856 0.65\n",
      "0.2857142857142857 0.65\n",
      "0.2857142857142857 0.675\n",
      "0.37142857142857144 0.675\n",
      "0.37142857142857144 0.7\n",
      "0.4095238095238095 0.7\n",
      "0.4095238095238095 0.775\n",
      "0.41904761904761906 0.775\n",
      "0.42857142857142855 0.8\n",
      "0.44761904761904764 0.8\n",
      "0.44761904761904764 0.875\n",
      "0.47619047619047616 0.875\n",
      "0.47619047619047616 0.9\n",
      "0.49523809523809526 0.9\n",
      "0.49523809523809526 0.95\n",
      "0.6190476190476191 0.95\n",
      "0.6190476190476191 0.975\n",
      "0.6285714285714286 0.975\n",
      "0.6285714285714286 1.0\n",
      "0.638095238095238 1.0\n",
      "0.6571428571428571 1.0\n",
      "0.7238095238095238 1.0\n",
      "0.7523809523809524 1.0\n",
      "0.8952380952380953 1.0\n",
      "0.9142857142857143 1.0\n",
      "1.0 1.0\n"
     ]
    }
   ],
   "source": [
    "plot_roc(best2.best_estimator_, X_test2, Y_test2)"
   ]
  },
  {
   "cell_type": "markdown",
   "metadata": {},
   "source": [
    "## 3. MSA (positive) vs PSP"
   ]
  },
  {
   "cell_type": "code",
   "execution_count": 37,
   "metadata": {},
   "outputs": [
    {
     "name": "stdout",
     "output_type": "stream",
     "text": [
      "# Tuning hyper-parameters for f1_micro\n",
      "\n",
      "Fitting 5 folds for each of 20 candidates, totalling 100 fits\n"
     ]
    },
    {
     "name": "stderr",
     "output_type": "stream",
     "text": [
      "[Parallel(n_jobs=-1)]: Using backend LokyBackend with 4 concurrent workers.\n"
     ]
    },
    {
     "name": "stdout",
     "output_type": "stream",
     "text": [
      "Best parameters set found on development set:\n",
      "\n",
      "{'classifier__C': 0.04832930238571752}\n",
      "\n",
      "Detailed classification report (holdout):\n",
      "\n",
      "The model is trained on the full development set.\n",
      "The scores are computed on the full evaluation set.\n",
      "\n",
      "              precision    recall  f1-score   support\n",
      "\n",
      "         0.0       0.70      0.63      0.67        30\n",
      "         1.0       0.31      0.38      0.34        13\n",
      "\n",
      "   micro avg       0.56      0.56      0.56        43\n",
      "   macro avg       0.51      0.51      0.51        43\n",
      "weighted avg       0.59      0.56      0.57        43\n",
      "\n",
      "\n",
      "recall\t0.38461538461538464\n",
      "precision\t0.3125\n",
      "auc\t0.5089743589743589\n",
      "specificity\t0.6333333333333333\n",
      "npv\t0.7037037037037037\n",
      "accuracy\t0.5581395348837209\n"
     ]
    },
    {
     "name": "stderr",
     "output_type": "stream",
     "text": [
      "[Parallel(n_jobs=-1)]: Done 100 out of 100 | elapsed:    0.5s finished\n",
      "C:\\Users\\jtbri_000\\Anaconda3\\lib\\site-packages\\sklearn\\model_selection\\_search.py:841: DeprecationWarning: The default of the `iid` parameter will change from True to False in version 0.22 and will be removed in 0.24. This will change numeric results when test-set sizes are unequal.\n",
      "  DeprecationWarning)\n"
     ]
    }
   ],
   "source": [
    "# Get the data\n",
    "data3 = group_classes(_data, {3:0, 2:1})\n",
    "\n",
    "y3 = data3['GroupID']\n",
    "X3 = data3.drop(['GroupID'], axis=1)\n",
    "\n",
    "X_train3, X_test3, Y_train3, Y_test3 = train_test_split(X3, y3, test_size=_test_size, random_state=_random_seed)\n",
    "\n",
    "best3 = grid_search_optimization(clf, param_grid, X_train3, Y_train3, X_test3, Y_test3, cv=_cv, scoring=_scoring)"
   ]
  },
  {
   "cell_type": "code",
   "execution_count": 38,
   "metadata": {},
   "outputs": [
    {
     "name": "stdout",
     "output_type": "stream",
     "text": [
      "fit_time\t0.00399932861328125\t0.0010948873811170217\n",
      "score_time\t0.008999872207641601\t0.004147723641947266\n",
      "test_recall\t0.7314285714285715\t0.12434317226850826\n",
      "train_recall\t0.7357769423558896\t0.04917792033850198\n",
      "test_precision\t0.6166666666666667\t0.10443672475933957\n",
      "train_precision\t0.6198717400639298\t0.02779352261106322\n",
      "test_auc\t0.6996616541353384\t0.09012419117174\n",
      "train_auc\t0.7062903699121221\t0.03013531282054239\n",
      "test_specificity\t0.6678947368421053\t0.10521577881099073\n",
      "train_specificity\t0.6768037974683544\t0.022887339636894065\n",
      "test_npv\t0.7817645074224021\t0.09571096837230078\n",
      "train_npv\t0.7823991290739607\t0.034601905978158605\n",
      "test_accuracy\t0.6938680926916222\t0.08871903981294191\n",
      "train_accuracy\t0.7014635911136555\t0.027794064480391945\n"
     ]
    }
   ],
   "source": [
    "scores = cross_validate(best3.best_estimator_, X_train3, Y_train3, cv=_cv, return_train_score=True, scoring=_scoring_list)\n",
    "for score in scores:\n",
    "    print(\"%s\\t%s\\t%s\" %(score, np.mean(scores[score]), np.std(scores[score])))"
   ]
  },
  {
   "cell_type": "code",
   "execution_count": 39,
   "metadata": {},
   "outputs": [
    {
     "name": "stdout",
     "output_type": "stream",
     "text": [
      "Age\t-0.5913931227543963\n",
      "Sex\t-0.18840053372026586\n",
      "UPDRS\t0.661648238171064\n"
     ]
    }
   ],
   "source": [
    "model = best3.best_estimator_.named_steps['classifier']\n",
    "feature_names = data3.columns.tolist()[1:]\n",
    "# plot_coefficients(model, feature_names, top_features=3)\n",
    "print_feature_importance(feature_names, model.coef_[0])"
   ]
  },
  {
   "cell_type": "code",
   "execution_count": 40,
   "metadata": {},
   "outputs": [
    {
     "name": "stdout",
     "output_type": "stream",
     "text": [
      "              precision    recall  f1-score   support\n",
      "\n",
      "         0.0       0.70      0.63      0.67        30\n",
      "         1.0       0.31      0.38      0.34        13\n",
      "\n",
      "   micro avg       0.56      0.56      0.56        43\n",
      "   macro avg       0.51      0.51      0.51        43\n",
      "weighted avg       0.59      0.56      0.57        43\n",
      "\n"
     ]
    },
    {
     "data": {
      "image/png": "[encoded data removed]",
      "text/plain": [
       "<Figure size 432x288 with 1 Axes>"
      ]
     },
     "metadata": {
      "needs_background": "light"
     },
     "output_type": "display_data"
    },
    {
     "name": "stdout",
     "output_type": "stream",
     "text": [
      "0.0 0.0\n",
      "0.0 0.07692307692307693\n",
      "0.03333333333333333 0.07692307692307693\n",
      "0.03333333333333333 0.23076923076923078\n",
      "0.1 0.23076923076923078\n",
      "0.1 0.3076923076923077\n",
      "0.3333333333333333 0.3076923076923077\n",
      "0.3333333333333333 0.38461538461538464\n",
      "0.4 0.38461538461538464\n",
      "0.4 0.46153846153846156\n",
      "0.43333333333333335 0.46153846153846156\n",
      "0.43333333333333335 0.6153846153846154\n",
      "0.5 0.6153846153846154\n",
      "0.5 0.6923076923076923\n",
      "0.7 0.6923076923076923\n",
      "0.7 0.7692307692307693\n",
      "0.7333333333333333 0.7692307692307693\n",
      "0.7333333333333333 0.8461538461538461\n",
      "0.7666666666666667 0.8461538461538461\n",
      "0.7666666666666667 0.9230769230769231\n",
      "0.9666666666666667 0.9230769230769231\n",
      "0.9666666666666667 1.0\n",
      "1.0 1.0\n"
     ]
    }
   ],
   "source": [
    "plot_roc(best3.best_estimator_, X_test3, Y_test3)"
   ]
  },
  {
   "cell_type": "markdown",
   "metadata": {},
   "source": [
    "## 4. PSP (positive) vs MSA"
   ]
  },
  {
   "cell_type": "code",
   "execution_count": 41,
   "metadata": {},
   "outputs": [
    {
     "name": "stdout",
     "output_type": "stream",
     "text": [
      "# Tuning hyper-parameters for f1_micro\n",
      "\n",
      "Fitting 5 folds for each of 20 candidates, totalling 100 fits\n"
     ]
    },
    {
     "name": "stderr",
     "output_type": "stream",
     "text": [
      "[Parallel(n_jobs=-1)]: Using backend LokyBackend with 4 concurrent workers.\n"
     ]
    },
    {
     "name": "stdout",
     "output_type": "stream",
     "text": [
      "Best parameters set found on development set:\n",
      "\n",
      "{'classifier__C': 0.04832930238571752}\n",
      "\n",
      "Detailed classification report (holdout):\n",
      "\n",
      "The model is trained on the full development set.\n",
      "The scores are computed on the full evaluation set.\n",
      "\n",
      "              precision    recall  f1-score   support\n",
      "\n",
      "         0.0       0.31      0.38      0.34        13\n",
      "         1.0       0.70      0.63      0.67        30\n",
      "\n",
      "   micro avg       0.56      0.56      0.56        43\n",
      "   macro avg       0.51      0.51      0.51        43\n",
      "weighted avg       0.59      0.56      0.57        43\n",
      "\n",
      "\n",
      "recall\t0.6333333333333333\n",
      "precision\t0.7037037037037037\n",
      "auc\t0.5089743589743589\n",
      "specificity\t0.38461538461538464\n",
      "npv\t0.3125\n",
      "accuracy\t0.5581395348837209\n"
     ]
    },
    {
     "name": "stderr",
     "output_type": "stream",
     "text": [
      "[Parallel(n_jobs=-1)]: Done 100 out of 100 | elapsed:    0.4s finished\n",
      "C:\\Users\\jtbri_000\\Anaconda3\\lib\\site-packages\\sklearn\\model_selection\\_search.py:841: DeprecationWarning: The default of the `iid` parameter will change from True to False in version 0.22 and will be removed in 0.24. This will change numeric results when test-set sizes are unequal.\n",
      "  DeprecationWarning)\n"
     ]
    }
   ],
   "source": [
    "# Get the data\n",
    "data4 = group_classes(_data, {2:0, 3:1})\n",
    "\n",
    "y4 = data4['GroupID']\n",
    "X4 = data4.drop(['GroupID'], axis=1)\n",
    "\n",
    "X_train4, X_test4, Y_train4, Y_test4 = train_test_split(X4, y4, test_size=_test_size, random_state=_random_seed)\n",
    "\n",
    "best4 = grid_search_optimization(clf, param_grid, X_train4, Y_train4, X_test4, Y_test4, cv=_cv, scoring=_scoring)"
   ]
  },
  {
   "cell_type": "code",
   "execution_count": 42,
   "metadata": {},
   "outputs": [
    {
     "name": "stdout",
     "output_type": "stream",
     "text": [
      "fit_time\t0.003399229049682617\t0.0004889284069753907\n",
      "score_time\t0.005999898910522461\t0.0006314296049728742\n",
      "test_recall\t0.6678947368421053\t0.10521577881099073\n",
      "train_recall\t0.6768037974683544\t0.022887339636894065\n",
      "test_precision\t0.7817645074224021\t0.09571096837230078\n",
      "train_precision\t0.7823991290739607\t0.034601905978158605\n",
      "test_auc\t0.6996616541353383\t0.09012419117174005\n",
      "train_auc\t0.7062903699121221\t0.03013531282054237\n",
      "test_specificity\t0.7314285714285715\t0.12434317226850826\n",
      "train_specificity\t0.7357769423558896\t0.04917792033850198\n",
      "test_npv\t0.6166666666666667\t0.10443672475933957\n",
      "train_npv\t0.6198717400639298\t0.02779352261106322\n",
      "test_accuracy\t0.6938680926916222\t0.08871903981294191\n",
      "train_accuracy\t0.7014635911136555\t0.027794064480391945\n"
     ]
    }
   ],
   "source": [
    "scores = cross_validate(best4.best_estimator_, X_train4, Y_train4, cv=_cv, return_train_score=True, scoring=_scoring_list)\n",
    "for score in scores:\n",
    "    print(\"%s\\t%s\\t%s\" %(score, np.mean(scores[score]), np.std(scores[score])))"
   ]
  },
  {
   "cell_type": "code",
   "execution_count": 43,
   "metadata": {},
   "outputs": [
    {
     "name": "stdout",
     "output_type": "stream",
     "text": [
      "Age\t0.5914559056223176\n",
      "Sex\t0.18763473811474546\n",
      "UPDRS\t-0.6622173193720181\n"
     ]
    }
   ],
   "source": [
    "model = best4.best_estimator_.named_steps['classifier']\n",
    "feature_names = data4.columns.tolist()[1:]\n",
    "# plot_coefficients(model, feature_names, top_features=3)\n",
    "print_feature_importance(feature_names, model.coef_[0])"
   ]
  },
  {
   "cell_type": "code",
   "execution_count": 44,
   "metadata": {},
   "outputs": [
    {
     "name": "stdout",
     "output_type": "stream",
     "text": [
      "              precision    recall  f1-score   support\n",
      "\n",
      "         0.0       0.31      0.38      0.34        13\n",
      "         1.0       0.70      0.63      0.67        30\n",
      "\n",
      "   micro avg       0.56      0.56      0.56        43\n",
      "   macro avg       0.51      0.51      0.51        43\n",
      "weighted avg       0.59      0.56      0.57        43\n",
      "\n"
     ]
    },
    {
     "data": {
      "image/png": "[encoded data removed]",
      "text/plain": [
       "<Figure size 432x288 with 1 Axes>"
      ]
     },
     "metadata": {
      "needs_background": "light"
     },
     "output_type": "display_data"
    },
    {
     "name": "stdout",
     "output_type": "stream",
     "text": [
      "0.0 0.0\n",
      "0.0 0.03333333333333333\n",
      "0.07692307692307693 0.03333333333333333\n",
      "0.07692307692307693 0.23333333333333334\n",
      "0.15384615384615385 0.23333333333333334\n",
      "0.15384615384615385 0.26666666666666666\n",
      "0.23076923076923078 0.26666666666666666\n",
      "0.23076923076923078 0.3\n",
      "0.3076923076923077 0.3\n",
      "0.3076923076923077 0.5\n",
      "0.38461538461538464 0.5\n",
      "0.38461538461538464 0.5666666666666667\n",
      "0.5384615384615384 0.5666666666666667\n",
      "0.5384615384615384 0.6\n",
      "0.6153846153846154 0.6\n",
      "0.6153846153846154 0.6666666666666666\n",
      "0.6923076923076923 0.6666666666666666\n",
      "0.6923076923076923 0.9\n",
      "0.7692307692307693 0.9\n",
      "0.7692307692307693 0.9666666666666667\n",
      "0.9230769230769231 0.9666666666666667\n",
      "0.9230769230769231 1.0\n",
      "1.0 1.0\n"
     ]
    }
   ],
   "source": [
    "plot_roc(best4.best_estimator_, X_test4, Y_test4)"
   ]
  },
  {
   "cell_type": "code",
   "execution_count": null,
   "metadata": {},
   "outputs": [],
   "source": []
  },
  {
   "cell_type": "code",
   "execution_count": null,
   "metadata": {},
   "outputs": [],
   "source": []
  },
  {
   "cell_type": "code",
   "execution_count": null,
   "metadata": {},
   "outputs": [],
   "source": []
  }
 ],
 "metadata": {
  "kernelspec": {
   "display_name": "Python 3",
   "language": "python",
   "name": "python3"
  },
  "language_info": {
   "codemirror_mode": {
    "name": "ipython",
    "version": 3
   },
   "file_extension": ".py",
   "mimetype": "text/x-python",
   "name": "python",
   "nbconvert_exporter": "python",
   "pygments_lexer": "ipython3",
   "version": "3.7.1"
  }
 },
 "nbformat": 4,
 "nbformat_minor": 2
}
