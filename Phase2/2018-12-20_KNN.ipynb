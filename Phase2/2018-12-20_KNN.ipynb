{
 "cells": [
  {
   "cell_type": "markdown",
   "metadata": {},
   "source": [
    "Going to run the KNN model in order to get a good baseline for performace\n",
    "1. Control vs. All Park\n",
    "1. PD vs. MSA/PSP\n",
    "1. MSA vs. PD/PSP\n",
    "1. PDP vs. PD/MSA"
   ]
  },
  {
   "cell_type": "markdown",
   "metadata": {},
   "source": [
    "## Imports and Function Definitions"
   ]
  },
  {
   "cell_type": "code",
   "execution_count": 1,
   "metadata": {},
   "outputs": [],
   "source": [
    "import pandas as pd\n",
    "import numpy as np\n",
    "\n",
    "import matplotlib.pyplot as plt\n",
    "\n",
    "from sklearn.decomposition import PCA\n",
    "from sklearn.feature_selection import SelectKBest, chi2\n",
    "from sklearn.preprocessing import StandardScaler, Normalizer\n",
    "from sklearn.metrics import accuracy_score, confusion_matrix, classification_report, precision_recall_fscore_support\n",
    "from sklearn.model_selection import StratifiedKFold, cross_val_score, KFold, train_test_split, LeaveOneOut, GridSearchCV\n",
    "from sklearn.neighbors import KNeighborsClassifier\n",
    "\n",
    "from imblearn.over_sampling import RandomOverSampler\n",
    "from imblearn.under_sampling import RandomUnderSampler \n",
    "from imblearn.pipeline import Pipeline\n",
    "\n",
    "def grid_search_optimization(model, tuned_parameters, X, y, Xh, yh, cv=5, scoring='accuracy', verbose=False):\n",
    "    print(\"# Tuning hyper-parameters for %s\" %scoring)\n",
    "    print()\n",
    "\n",
    "    clf = GridSearchCV(model, tuned_parameters, cv=cv, n_jobs = -1, scoring=scoring, verbose=1)\n",
    "    clf.fit(X, y)\n",
    "\n",
    "    print(\"Best parameters set found on development set:\")\n",
    "    print()\n",
    "    print(clf.best_params_)\n",
    "    print()\n",
    "    if verbose:\n",
    "        print(\"Grid scores on development set:\")\n",
    "        print()\n",
    "        means = clf.cv_results_['mean_test_score']\n",
    "        stds = clf.cv_results_['std_test_score']\n",
    "        for mean, std, params in zip(means, stds, clf.cv_results_['params']):\n",
    "            print(\"%0.3f (+/-%0.03f) for %r\"\n",
    "                  % (mean, std * 2, params))\n",
    "        print()\n",
    "\n",
    "    print(\"Detailed classification report (holdout):\")\n",
    "    print()\n",
    "    print(\"The model is trained on the full development set.\")\n",
    "    print(\"The scores are computed on the full evaluation set.\")\n",
    "    print()\n",
    "    y_true, y_pred = yh, clf.predict(Xh)\n",
    "    print(classification_report(y_true, y_pred))\n",
    "    print()\n",
    "    \n",
    "    return clf\n",
    "\n",
    "def group_classes(data, grouping):\n",
    "        classes_to_keep = grouping.keys()\n",
    "        data_to_keep = data.loc[data['GroupID'].isin(classes_to_keep)]\n",
    "        classes_to_change = {k:grouping[k] for k in classes_to_keep if k!= grouping[k]}\n",
    "        return data_to_keep.replace(classes_to_change)"
   ]
  },
  {
   "cell_type": "code",
   "execution_count": 2,
   "metadata": {},
   "outputs": [],
   "source": [
    "# parameters and ranges to plot\n",
    "param_grid = {\n",
    "    \"classifier__n_neighbors\": range(1,25,1),\n",
    "    \"PCA__n_components\": range(1,113,10)\n",
    "    #\"fss__k\" : range(1,115,3)\n",
    "}\n",
    "\n",
    "clf = Pipeline([\n",
    "#     ('Norm', Normalizer()),\n",
    "#     ('Undersampler', RandomUnderSampler()),\n",
    "    #(\"Oversample\", RandomOverSampler()),\n",
    "#     ('fss',SelectKBest()),\n",
    "    ('Scaler', StandardScaler()),\n",
    "    ('PCA', PCA()),\n",
    "    ('classifier', KNeighborsClassifier(weights='uniform', n_jobs=-1))\n",
    "])"
   ]
  },
  {
   "cell_type": "markdown",
   "metadata": {},
   "source": [
    "## 1. Control vs. PD/MSA/PSP"
   ]
  },
  {
   "cell_type": "code",
   "execution_count": 3,
   "metadata": {},
   "outputs": [
    {
     "name": "stdout",
     "output_type": "stream",
     "text": [
      "# Tuning hyper-parameters for f1_micro\n",
      "\n",
      "Fitting 20 folds for each of 288 candidates, totalling 5760 fits\n"
     ]
    },
    {
     "name": "stderr",
     "output_type": "stream",
     "text": [
      "[Parallel(n_jobs=-1)]: Done  34 tasks      | elapsed:    8.3s\n",
      "[Parallel(n_jobs=-1)]: Done 184 tasks      | elapsed:   12.9s\n",
      "[Parallel(n_jobs=-1)]: Done 434 tasks      | elapsed:   20.6s\n",
      "[Parallel(n_jobs=-1)]: Done 784 tasks      | elapsed:   31.5s\n",
      "[Parallel(n_jobs=-1)]: Done 1234 tasks      | elapsed:   44.3s\n",
      "[Parallel(n_jobs=-1)]: Done 1784 tasks      | elapsed:   59.8s\n",
      "[Parallel(n_jobs=-1)]: Done 2434 tasks      | elapsed:  1.3min\n",
      "[Parallel(n_jobs=-1)]: Done 3184 tasks      | elapsed:  1.7min\n",
      "[Parallel(n_jobs=-1)]: Done 4034 tasks      | elapsed:  2.1min\n",
      "[Parallel(n_jobs=-1)]: Done 4984 tasks      | elapsed:  2.6min\n",
      "[Parallel(n_jobs=-1)]: Done 5760 out of 5760 | elapsed:  3.0min finished\n"
     ]
    },
    {
     "name": "stdout",
     "output_type": "stream",
     "text": [
      "Best parameters set found on development set:\n",
      "\n",
      "{'PCA__n_components': 41, 'classifier__n_neighbors': 10}\n",
      "\n",
      "Detailed classification report (holdout):\n",
      "\n",
      "The model is trained on the full development set.\n",
      "The scores are computed on the full evaluation set.\n",
      "\n",
      "             precision    recall  f1-score   support\n",
      "\n",
      "          0       0.63      0.45      0.53        95\n",
      "          1       0.80      0.89      0.84       227\n",
      "\n",
      "avg / total       0.75      0.76      0.75       322\n",
      "\n",
      "\n"
     ]
    }
   ],
   "source": [
    "# Get the data\n",
    "data1 = pd.read_excel('training_data.xlsx')\n",
    "data1 = group_classes(data1, {0:0, 1:1, 2:1, 3:1})\n",
    "\n",
    "y1 = data1['GroupID']\n",
    "X1 = data1.drop(['GroupID'], axis=1)\n",
    "\n",
    "X_train1, X_test1, Y_train1, Y_test1 = train_test_split(X1, y1, test_size=0.35, random_state=42)\n",
    "\n",
    "best1 = grid_search_optimization(clf, param_grid, X_train1, Y_train1, X_test1, Y_test1, cv=20, scoring='f1_micro')"
   ]
  },
  {
   "cell_type": "markdown",
   "metadata": {},
   "source": [
    "## 2. PD vs MSA/PSP"
   ]
  },
  {
   "cell_type": "code",
   "execution_count": 4,
   "metadata": {},
   "outputs": [
    {
     "name": "stdout",
     "output_type": "stream",
     "text": [
      "# Tuning hyper-parameters for f1_micro\n",
      "\n",
      "Fitting 20 folds for each of 288 candidates, totalling 5760 fits\n"
     ]
    },
    {
     "name": "stderr",
     "output_type": "stream",
     "text": [
      "[Parallel(n_jobs=-1)]: Done  34 tasks      | elapsed:    8.4s\n",
      "[Parallel(n_jobs=-1)]: Done 184 tasks      | elapsed:   12.9s\n",
      "[Parallel(n_jobs=-1)]: Done 434 tasks      | elapsed:   20.7s\n",
      "[Parallel(n_jobs=-1)]: Done 784 tasks      | elapsed:   31.3s\n",
      "[Parallel(n_jobs=-1)]: Done 1234 tasks      | elapsed:   44.5s\n",
      "[Parallel(n_jobs=-1)]: Done 1784 tasks      | elapsed:  1.0min\n",
      "[Parallel(n_jobs=-1)]: Done 2434 tasks      | elapsed:  1.3min\n",
      "[Parallel(n_jobs=-1)]: Done 3184 tasks      | elapsed:  1.7min\n",
      "[Parallel(n_jobs=-1)]: Done 4034 tasks      | elapsed:  2.1min\n",
      "[Parallel(n_jobs=-1)]: Done 4984 tasks      | elapsed:  2.5min\n",
      "[Parallel(n_jobs=-1)]: Done 5760 out of 5760 | elapsed:  2.9min finished\n"
     ]
    },
    {
     "name": "stdout",
     "output_type": "stream",
     "text": [
      "Best parameters set found on development set:\n",
      "\n",
      "{'PCA__n_components': 31, 'classifier__n_neighbors': 1}\n",
      "\n",
      "Detailed classification report (holdout):\n",
      "\n",
      "The model is trained on the full development set.\n",
      "The scores are computed on the full evaluation set.\n",
      "\n",
      "             precision    recall  f1-score   support\n",
      "\n",
      "          0       0.90      0.93      0.91       164\n",
      "          1       0.80      0.74      0.77        66\n",
      "\n",
      "avg / total       0.87      0.87      0.87       230\n",
      "\n",
      "\n"
     ]
    }
   ],
   "source": [
    "# Get the data\n",
    "data2 = pd.read_excel('training_data.xlsx')\n",
    "data2 = group_classes(data2, {1:0, 2:1, 3:1})\n",
    "\n",
    "y2 = data2['GroupID']\n",
    "X2 = data2.drop(['GroupID'], axis=1)\n",
    "\n",
    "X_train2, X_test2, Y_train2, Y_test2 = train_test_split(X2, y2, test_size=0.35, random_state=42)\n",
    "\n",
    "best2 = grid_search_optimization(clf, param_grid, X_train2, Y_train2, X_test2, Y_test2, cv=20, scoring='f1_micro')"
   ]
  },
  {
   "cell_type": "markdown",
   "metadata": {},
   "source": [
    "## 3. MSA vs PD/PSP"
   ]
  },
  {
   "cell_type": "code",
   "execution_count": 5,
   "metadata": {},
   "outputs": [
    {
     "name": "stdout",
     "output_type": "stream",
     "text": [
      "# Tuning hyper-parameters for f1_micro\n",
      "\n",
      "Fitting 20 folds for each of 288 candidates, totalling 5760 fits\n"
     ]
    },
    {
     "name": "stderr",
     "output_type": "stream",
     "text": [
      "[Parallel(n_jobs=-1)]: Done  34 tasks      | elapsed:    8.9s\n",
      "[Parallel(n_jobs=-1)]: Done 184 tasks      | elapsed:   13.4s\n",
      "[Parallel(n_jobs=-1)]: Done 434 tasks      | elapsed:   20.6s\n",
      "[Parallel(n_jobs=-1)]: Done 784 tasks      | elapsed:   30.7s\n",
      "[Parallel(n_jobs=-1)]: Done 1234 tasks      | elapsed:   43.4s\n",
      "[Parallel(n_jobs=-1)]: Done 1784 tasks      | elapsed:   59.0s\n",
      "[Parallel(n_jobs=-1)]: Done 2434 tasks      | elapsed:  1.3min\n",
      "[Parallel(n_jobs=-1)]: Done 3184 tasks      | elapsed:  1.6min\n",
      "[Parallel(n_jobs=-1)]: Done 4034 tasks      | elapsed:  2.0min\n",
      "[Parallel(n_jobs=-1)]: Done 4984 tasks      | elapsed:  2.5min\n",
      "[Parallel(n_jobs=-1)]: Done 5760 out of 5760 | elapsed:  2.9min finished\n"
     ]
    },
    {
     "name": "stdout",
     "output_type": "stream",
     "text": [
      "Best parameters set found on development set:\n",
      "\n",
      "{'PCA__n_components': 51, 'classifier__n_neighbors': 1}\n",
      "\n",
      "Detailed classification report (holdout):\n",
      "\n",
      "The model is trained on the full development set.\n",
      "The scores are computed on the full evaluation set.\n",
      "\n",
      "             precision    recall  f1-score   support\n",
      "\n",
      "          0       0.93      0.94      0.94       208\n",
      "          1       0.37      0.32      0.34        22\n",
      "\n",
      "avg / total       0.88      0.88      0.88       230\n",
      "\n",
      "\n"
     ]
    }
   ],
   "source": [
    "# Get the data\n",
    "data3 = pd.read_excel('training_data.xlsx')\n",
    "data3 = group_classes(data3, {1:0, 3:0, 2:1})\n",
    "\n",
    "y3 = data3['GroupID']\n",
    "X3 = data3.drop(['GroupID'], axis=1)\n",
    "\n",
    "X_train3, X_test3, Y_train3, Y_test3 = train_test_split(X3, y3, test_size=0.35, random_state=42)\n",
    "\n",
    "best3 = grid_search_optimization(clf, param_grid, X_train3, Y_train3, X_test3, Y_test3, cv=20, scoring='f1_micro')"
   ]
  },
  {
   "cell_type": "markdown",
   "metadata": {},
   "source": [
    "## 4. PSP vs PD/MSA"
   ]
  },
  {
   "cell_type": "code",
   "execution_count": 6,
   "metadata": {},
   "outputs": [
    {
     "name": "stdout",
     "output_type": "stream",
     "text": [
      "# Tuning hyper-parameters for f1_micro\n",
      "\n",
      "Fitting 20 folds for each of 288 candidates, totalling 5760 fits\n"
     ]
    },
    {
     "name": "stderr",
     "output_type": "stream",
     "text": [
      "[Parallel(n_jobs=-1)]: Done  34 tasks      | elapsed:    8.5s\n",
      "[Parallel(n_jobs=-1)]: Done 184 tasks      | elapsed:   13.0s\n",
      "[Parallel(n_jobs=-1)]: Done 434 tasks      | elapsed:   21.0s\n",
      "[Parallel(n_jobs=-1)]: Done 784 tasks      | elapsed:   32.5s\n",
      "[Parallel(n_jobs=-1)]: Done 1234 tasks      | elapsed:   46.7s\n",
      "[Parallel(n_jobs=-1)]: Done 1784 tasks      | elapsed:  1.0min\n",
      "[Parallel(n_jobs=-1)]: Done 2434 tasks      | elapsed:  1.3min\n",
      "[Parallel(n_jobs=-1)]: Done 3184 tasks      | elapsed:  1.7min\n",
      "[Parallel(n_jobs=-1)]: Done 4034 tasks      | elapsed:  2.1min\n",
      "[Parallel(n_jobs=-1)]: Done 4984 tasks      | elapsed:  2.5min\n",
      "[Parallel(n_jobs=-1)]: Done 5760 out of 5760 | elapsed:  2.9min finished\n"
     ]
    },
    {
     "name": "stdout",
     "output_type": "stream",
     "text": [
      "Best parameters set found on development set:\n",
      "\n",
      "{'PCA__n_components': 61, 'classifier__n_neighbors': 11}\n",
      "\n",
      "Detailed classification report (holdout):\n",
      "\n",
      "The model is trained on the full development set.\n",
      "The scores are computed on the full evaluation set.\n",
      "\n",
      "             precision    recall  f1-score   support\n",
      "\n",
      "          0       0.92      0.99      0.95       186\n",
      "          1       0.93      0.64      0.76        44\n",
      "\n",
      "avg / total       0.92      0.92      0.92       230\n",
      "\n",
      "\n"
     ]
    }
   ],
   "source": [
    "# Get the data\n",
    "data4 = pd.read_excel('training_data.xlsx')\n",
    "data4 = group_classes(data4, {1:0, 2:0, 3:1})\n",
    "\n",
    "y4 = data4['GroupID']\n",
    "X4 = data4.drop(['GroupID'], axis=1)\n",
    "\n",
    "X_train4, X_test4, Y_train4, Y_test4 = train_test_split(X4, y4, test_size=0.35, random_state=42)\n",
    "\n",
    "best4 = grid_search_optimization(clf, param_grid, X_train4, Y_train4, X_test4, Y_test4, cv=20, scoring='f1_micro')"
   ]
  },
  {
   "cell_type": "code",
   "execution_count": null,
   "metadata": {},
   "outputs": [],
   "source": []
  },
  {
   "cell_type": "code",
   "execution_count": null,
   "metadata": {},
   "outputs": [],
   "source": []
  }
 ],
 "metadata": {
  "kernelspec": {
   "display_name": "Python 3",
   "language": "python",
   "name": "python3"
  },
  "language_info": {
   "codemirror_mode": {
    "name": "ipython",
    "version": 3
   },
   "file_extension": ".py",
   "mimetype": "text/x-python",
   "name": "python",
   "nbconvert_exporter": "python",
   "pygments_lexer": "ipython3",
   "version": "3.6.3"
  }
 },
 "nbformat": 4,
 "nbformat_minor": 2
}
