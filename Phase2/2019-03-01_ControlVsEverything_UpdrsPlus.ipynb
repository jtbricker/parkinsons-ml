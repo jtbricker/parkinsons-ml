{
 "cells": [
  {
   "cell_type": "markdown",
   "metadata": {},
   "source": [
    "## Control vs. Everything UPDRS, Age, Sex\n",
    "\n",
    "From request [Run control vs everything with UPDRS plus](https://trello.com/c/AHbuKTX4)\n",
    "\n",
    "Run the following models: \n",
    "\n",
    "Control vs. PD\n",
    "Control vs. MSA\n",
    "Control vs. PSP "
   ]
  },
  {
   "cell_type": "markdown",
   "metadata": {},
   "source": [
    "## Imports and Function Definitions"
   ]
  },
  {
   "cell_type": "code",
   "execution_count": 24,
   "metadata": {},
   "outputs": [],
   "source": [
    "import pandas as pd\n",
    "import numpy as np\n",
    "\n",
    "import matplotlib.pyplot as plt\n",
    "import itertools\n",
    "\n",
    "from sklearn.decomposition import PCA\n",
    "from sklearn.feature_selection import SelectKBest, chi2\n",
    "from sklearn.preprocessing import StandardScaler, Normalizer\n",
    "from sklearn.metrics import accuracy_score, confusion_matrix, classification_report, precision_recall_fscore_support, roc_curve, make_scorer, accuracy_score, precision_score, recall_score, roc_auc_score\n",
    "from sklearn.model_selection import StratifiedKFold, cross_val_score, KFold, train_test_split, LeaveOneOut, GridSearchCV, cross_validate\n",
    "from sklearn.svm import SVC\n",
    "\n",
    "from imblearn.over_sampling import RandomOverSampler\n",
    "from imblearn.pipeline import Pipeline\n",
    "\n",
    "def plot_confusion_matrix(cm, classes=[0,1],\n",
    "                          normalize=False,\n",
    "                          title='Confusion matrix',\n",
    "                          cmap=plt.cm.Blues):\n",
    "    \"\"\"\n",
    "    This function prints and plots the confusion matrix.\n",
    "    Normalization can be applied by setting `normalize=True`.\n",
    "    \"\"\"\n",
    "    if normalize:\n",
    "        cm = cm.astype('float') / cm.sum(axis=1)[:, np.newaxis]\n",
    "        print(\"Normalized confusion matrix\")\n",
    "    else:\n",
    "        print('Confusion matrix, without normalization')\n",
    "\n",
    "    print(cm)\n",
    "\n",
    "    plt.imshow(cm, interpolation='nearest', cmap=cmap)\n",
    "    plt.title(title)\n",
    "    plt.colorbar()\n",
    "    tick_marks = np.arange(len(classes))\n",
    "    plt.xticks(tick_marks, classes, rotation=45)\n",
    "    plt.yticks(tick_marks, classes)\n",
    "\n",
    "    fmt = '.2f' if normalize else 'd'\n",
    "    thresh = cm.max() / 2.\n",
    "    for i, j in itertools.product(range(cm.shape[0]), range(cm.shape[1])):\n",
    "        plt.text(j, i, format(cm[i, j], fmt),\n",
    "                 horizontalalignment=\"center\",\n",
    "                 color=\"white\" if cm[i, j] > thresh else \"black\")\n",
    "\n",
    "    plt.ylabel('True label')\n",
    "    plt.xlabel('Predicted label')\n",
    "    plt.tight_layout()\n",
    "\n",
    "def grid_search_optimization(model, tuned_parameters, X, y, Xh, yh, cv=5, scoring='accuracy', verbose=False):\n",
    "    print(\"# Tuning hyper-parameters for %s\" %scoring)\n",
    "    print()\n",
    "\n",
    "    clf = GridSearchCV(model, tuned_parameters, cv=cv, n_jobs = -1, scoring=scoring, verbose=1)\n",
    "    clf.fit(X, y)\n",
    "\n",
    "    print(\"Best parameters set found on development set:\")\n",
    "    print()\n",
    "    print(clf.best_params_)\n",
    "    print()\n",
    "    if verbose:\n",
    "        print(\"Grid scores on development set:\")\n",
    "        print()\n",
    "        means = clf.cv_results_['mean_test_score']\n",
    "        stds = clf.cv_results_['std_test_score']\n",
    "        for mean, std, params in zip(means, stds, clf.cv_results_['params']):\n",
    "            print(\"%0.3f (+/-%0.03f) for %r\"\n",
    "                  % (mean, std * 2, params))\n",
    "        print()\n",
    "\n",
    "    print(\"Detailed classification report (holdout):\")\n",
    "    print()\n",
    "    print(\"The model is trained on the full development set.\")\n",
    "    print(\"The scores are computed on the full evaluation set.\")\n",
    "    print()\n",
    "    y_true, y_pred = yh, clf.predict(Xh)\n",
    "    print(classification_report(y_true, y_pred))\n",
    "    print()\n",
    "    plot_confusion_matrix(confusion_matrix(y_true, y_pred)) \n",
    "    print()\n",
    "    get_metrics(clf.best_estimator_, Xh, yh)\n",
    "    \n",
    "    return clf\n",
    "\n",
    "def group_classes(data, grouping):\n",
    "        classes_to_keep = grouping.keys()\n",
    "        data_to_keep = data.loc[data['GroupID'].isin(classes_to_keep)]\n",
    "        classes_to_change = {k:grouping[k] for k in classes_to_keep if k!= grouping[k]}\n",
    "        return data_to_keep.replace(classes_to_change)\n",
    "    \n",
    "def plot_coefficients(classifier, feature_names, top_features=20):\n",
    "     coef = classifier.coef_.ravel()\n",
    "     top_positive_coefficients = np.argsort(coef)[-top_features:]\n",
    "     top_negative_coefficients = np.argsort(coef)[:top_features]\n",
    "     top_coefficients = np.hstack([top_negative_coefficients, top_positive_coefficients])\n",
    "     # create plot\n",
    "     plt.figure(figsize=(15, 5))\n",
    "     colors = ['red' if c < 0 else 'blue' for c in coef[top_coefficients]]\n",
    "     plt.bar(np.arange(2 * top_features), coef[top_coefficients], color=colors)\n",
    "     feature_names = np.array(feature_names)\n",
    "     plt.xticks(np.arange(1, 1 + 2 * top_features), feature_names[top_coefficients], rotation=60, ha='right')\n",
    "     plt.show()\n",
    "        \n",
    "def print_feature_importance(feature_names, coefs):\n",
    "    assert len(feature_names) == len(coefs), \"Arrays have difference lengths. Something went wrong\"\n",
    "    for feature, coef in zip(feature_names, coefs):\n",
    "        print(\"%s\\t%s\" %(feature, coef))\n",
    "        \n",
    "# AKA True Negative Rate\n",
    "def specificity(y_true, y_pred):\n",
    "    cm = confusion_matrix(y_true, y_pred)\n",
    "    return cm[0,0] / cm[0,:].sum()\n",
    "\n",
    "def negative_predictive_value(y_true, y_pred):\n",
    "    cm = confusion_matrix(y_true, y_pred)\n",
    "    return cm[0,0] / cm[:,0].sum()\n",
    "\n",
    "def get_weighted_confusion_matrix(y_true, y_pred):\n",
    "    cm = confusion_matrix(y_true, y_pred)\n",
    "    tn = cm[0,0]\n",
    "    tp = cm[1,1]\n",
    "    fp = cm[0,1]\n",
    "    fn = cm[1,0]\n",
    "    \n",
    "    tnw = tn / (tn + fp)\n",
    "    tpw = tp / (tp + fn)\n",
    "    fpw = fp / (tn + fp)\n",
    "    fnw = fn / (tp + fn)\n",
    "    \n",
    "    return tpw, fpw, fnw, tnw\n",
    "\n",
    "def weighted_accuracy(y_true, y_pred):\n",
    "    tpw, fpw, fnw, tnw = get_weighted_confusion_matrix(y_true, y_pred)\n",
    "    \n",
    "    return (tpw + tnw) / (tpw + fpw + fnw + tnw)\n",
    "    \n",
    "def weighted_sensitivity(y_true, y_pred):\n",
    "    tpw, fpw, fnw, tnw = get_weighted_confusion_matrix(y_true, y_pred)\n",
    "\n",
    "    return tpw / (tpw + fnw)\n",
    "    \n",
    "def weighted_specificity(y_true, y_pred):\n",
    "    tpw, fpw, fnw, tnw = get_weighted_confusion_matrix(y_true, y_pred)\n",
    "\n",
    "    return tnw / (tnw + fpw)\n",
    "    \n",
    "def weighted_ppv(y_true, y_pred):\n",
    "    tpw, fpw, fnw, tnw = get_weighted_confusion_matrix(y_true, y_pred)\n",
    "    \n",
    "    return tpw / (tpw + fpw)\n",
    "\n",
    "def weighted_npv(y_true, y_pred):\n",
    "    tpw, fpw, fnw, tnw = get_weighted_confusion_matrix(y_true, y_pred)\n",
    "    \n",
    "    return tnw / (tnw + fnw)\n",
    "\n",
    "def plot_roc(model, X_test, Y_test):\n",
    "    y_true, y_pred = Y_test, model.predict(X_test)\n",
    "    print(classification_report(y_true, y_pred))\n",
    "\n",
    "    y_pred_prob = model.predict_proba(X_test)[:,1]\n",
    "\n",
    "    fpr, tpr, thresholds = roc_curve(Y_test, y_pred_prob)\n",
    "\n",
    "    plt.plot([0,1],[0,1], 'k--')\n",
    "    plt.plot(fpr, tpr, label='Linear SVC')\n",
    "    plt.xlabel('False Positive Rate')\n",
    "    plt.ylabel('True Positive Rate')\n",
    "    plt.title('Linear SVC ROC Curve')\n",
    "    plt.show()\n",
    "    \n",
    "    for a,b in zip(fpr, tpr):\n",
    "        print(a,b)\n",
    "    \n",
    "def get_metrics(model, X, y):\n",
    "    for metric in _scoring_list:\n",
    "        score = _scoring_list[metric](model, X, y)\n",
    "        print(\"%s\\t%s\" %(metric, score))"
   ]
  },
  {
   "cell_type": "markdown",
   "metadata": {},
   "source": [
    "## Define classifier, pipeline and constants"
   ]
  },
  {
   "cell_type": "code",
   "execution_count": 25,
   "metadata": {},
   "outputs": [],
   "source": [
    "param_grid = {\n",
    "    \"classifier__C\": np.logspace(-5, 1, 20),\n",
    "#     \"PCA__n_components\": range(1,113,10),\n",
    "#     \"fss__k\": range(1,115,3),\n",
    "},\n",
    "\n",
    "clf = Pipeline([\n",
    "#     ('Norm', Normalizer()),\\n\",\n",
    "#     (\"Oversample\", RandomOverSampler()),\n",
    "#     ('PCA', PCA()),\n",
    "    ('Scaler', StandardScaler()),\n",
    "#     ('fss',SelectKBest()),\n",
    "    ('classifier', SVC(kernel='linear', class_weight='balanced', probability=True))\n",
    "])\n",
    "\n",
    "_cv=5\n",
    "_test_size=0.20\n",
    "_scoring_list={\n",
    "    'recall':make_scorer(recall_score),\n",
    "    'precision':make_scorer(precision_score),\n",
    "    'auc':make_scorer(roc_auc_score),\n",
    "    'specificity':make_scorer(specificity),\n",
    "    'npv':make_scorer(negative_predictive_value),\n",
    "    'accuracy':make_scorer(accuracy_score),\n",
    "    'weighted_sensitivity':make_scorer(weighted_sensitivity),\n",
    "    'weighted_ppv':make_scorer(weighted_ppv),\n",
    "    'weighted_specificity':make_scorer(weighted_specificity),\n",
    "    'weighted_npv':make_scorer(weighted_npv),\n",
    "    'weighted_accuracy':make_scorer(weighted_accuracy)\n",
    "}\n",
    "\n",
    "_scoring='f1_micro'\n",
    "_data = pd.read_excel('1002_Data_no_Subj_Site.xlsx')[['GroupID','Age','Sex','UPDRS']]\n",
    "_random_seed = 55"
   ]
  },
  {
   "cell_type": "markdown",
   "metadata": {},
   "source": [
    "## 7. Control vs. PD"
   ]
  },
  {
   "cell_type": "code",
   "execution_count": 26,
   "metadata": {},
   "outputs": [
    {
     "name": "stdout",
     "output_type": "stream",
     "text": [
      "# Tuning hyper-parameters for f1_micro\n",
      "\n",
      "Fitting 5 folds for each of 20 candidates, totalling 100 fits\n"
     ]
    },
    {
     "name": "stderr",
     "output_type": "stream",
     "text": [
      "[Parallel(n_jobs=-1)]: Done  34 tasks      | elapsed:    7.2s\n",
      "[Parallel(n_jobs=-1)]: Done 100 out of 100 | elapsed:    7.5s finished\n"
     ]
    },
    {
     "name": "stdout",
     "output_type": "stream",
     "text": [
      "Best parameters set found on development set:\n",
      "\n",
      "{'classifier__C': 0.54555947811685146}\n",
      "\n",
      "Detailed classification report (holdout):\n",
      "\n",
      "The model is trained on the full development set.\n",
      "The scores are computed on the full evaluation set.\n",
      "\n",
      "             precision    recall  f1-score   support\n",
      "\n",
      "        0.0       0.92      0.92      0.92        63\n",
      "        1.0       0.95      0.95      0.95        95\n",
      "\n",
      "avg / total       0.94      0.94      0.94       158\n",
      "\n",
      "\n",
      "Confusion matrix, without normalization\n",
      "[[58  5]\n",
      " [ 5 90]]\n",
      "\n",
      "recall\t0.947368421053\n",
      "precision\t0.947368421053\n",
      "auc\t0.934001670844\n",
      "specificity\t0.920634920635\n",
      "npv\t0.920634920635\n",
      "accuracy\t0.936708860759\n",
      "weighted_sensitivity\t0.947368421053\n",
      "weighted_ppv\t0.922701383238\n",
      "weighted_specificity\t0.920634920635\n",
      "weighted_npv\t0.945922746781\n",
      "weighted_accuracy\t0.934001670844\n"
     ]
    },
    {
     "data": {
      "image/png": "[encoded data removed]",
      "text/plain": [
       "<matplotlib.figure.Figure at 0x258b5e82d30>"
      ]
     },
     "metadata": {
      "needs_background": "light"
     },
     "output_type": "display_data"
    }
   ],
   "source": [
    "# Get the data\n",
    "data1 = group_classes(_data, {0:0, 1:1})\n",
    "\n",
    "y1 = data1['GroupID']\n",
    "X1 = data1.drop(['GroupID'], axis=1)\n",
    "\n",
    "X_train1, X_test1, Y_train1, Y_test1 = train_test_split(X1, y1, test_size=_test_size, random_state=_random_seed)\n",
    "\n",
    "best1 = grid_search_optimization(clf, param_grid, X_train1, Y_train1, X_test1, Y_test1, cv=_cv, scoring=_scoring)"
   ]
  },
  {
   "cell_type": "code",
   "execution_count": 27,
   "metadata": {},
   "outputs": [
    {
     "name": "stdout",
     "output_type": "stream",
     "text": [
      "fit_time\t0.00759944915771\t0.000799689218286\n",
      "score_time\t0.0071310043335\t0.000434659043414\n",
      "test_recall\t0.94718875502\t0.0368494413051\n",
      "train_recall\t0.945316400738\t0.00855616739599\n",
      "test_precision\t0.985357142857\t0.0179426524101\n",
      "train_precision\t0.983750676619\t0.00457737081783\n",
      "test_auc\t0.959640889138\t0.0253796899425\n",
      "train_auc\t0.957541921299\t0.00682499420008\n",
      "test_specificity\t0.972093023256\t0.0341789266435\n",
      "train_specificity\t0.96976744186\t0.00854473166087\n",
      "test_npv\t0.908484639012\t0.0588212688844\n",
      "train_npv\t0.90180558603\t0.0142608775918\n",
      "test_accuracy\t0.955680539933\t0.0271498289162\n",
      "train_accuracy\t0.953647650479\t0.00702517876969\n",
      "test_weighted_sensitivity\t0.94718875502\t0.0368494413051\n",
      "train_weighted_sensitivity\t0.945316400738\t0.00855616739599\n",
      "test_weighted_ppv\t0.972510565449\t0.0336913764778\n",
      "train_weighted_ppv\t0.969062248188\t0.00862127744406\n",
      "test_weighted_specificity\t0.972093023256\t0.0341789266435\n",
      "train_weighted_specificity\t0.96976744186\t0.00854473166087\n",
      "test_weighted_npv\t0.949583579475\t0.0335165592531\n",
      "train_weighted_npv\t0.946667406982\t0.00809120621644\n",
      "test_weighted_accuracy\t0.959640889138\t0.0253796899425\n",
      "train_weighted_accuracy\t0.957541921299\t0.00682499420008\n"
     ]
    }
   ],
   "source": [
    "scores = cross_validate(best1.best_estimator_, X_train1, Y_train1, cv=_cv, return_train_score=True, scoring=_scoring_list)\n",
    "for score in scores:\n",
    "    print(\"%s\\t%s\\t%s\" %(score, np.mean(scores[score]), np.std(scores[score])))"
   ]
  },
  {
   "cell_type": "code",
   "execution_count": 28,
   "metadata": {},
   "outputs": [
    {
     "name": "stdout",
     "output_type": "stream",
     "text": [
      "Age\t-0.423054745945\n",
      "Sex\t-0.105277768576\n",
      "UPDRS\t3.17288985309\n"
     ]
    }
   ],
   "source": [
    "model = best1.best_estimator_.named_steps['classifier']\n",
    "feature_names = data1.columns.tolist()[1:]\n",
    "# plot_coefficients(model, feature_names)\n",
    "print_feature_importance(feature_names, model.coef_[0])"
   ]
  },
  {
   "cell_type": "code",
   "execution_count": 29,
   "metadata": {},
   "outputs": [
    {
     "name": "stdout",
     "output_type": "stream",
     "text": [
      "             precision    recall  f1-score   support\n",
      "\n",
      "        0.0       0.92      0.92      0.92        63\n",
      "        1.0       0.95      0.95      0.95        95\n",
      "\n",
      "avg / total       0.94      0.94      0.94       158\n",
      "\n"
     ]
    },
    {
     "data": {
      "image/png": "[encoded data removed]",
      "text/plain": [
       "<matplotlib.figure.Figure at 0x258b6010780>"
      ]
     },
     "metadata": {
      "needs_background": "light"
     },
     "output_type": "display_data"
    },
    {
     "name": "stdout",
     "output_type": "stream",
     "text": [
      "0.0 0.0210526315789\n",
      "0.0 0.263157894737\n",
      "0.0 0.284210526316\n",
      "0.0 0.473684210526\n",
      "0.0 0.494736842105\n",
      "0.0 0.610526315789\n",
      "0.0 0.631578947368\n",
      "0.0 0.894736842105\n",
      "0.031746031746 0.894736842105\n",
      "0.031746031746 0.926315789474\n",
      "0.047619047619 0.926315789474\n",
      "0.047619047619 0.936842105263\n",
      "0.0634920634921 0.936842105263\n",
      "0.0634920634921 0.947368421053\n",
      "0.0793650793651 0.947368421053\n",
      "0.0793650793651 0.968421052632\n",
      "0.0952380952381 0.968421052632\n",
      "0.126984126984 0.968421052632\n",
      "0.126984126984 0.978947368421\n",
      "0.142857142857 0.978947368421\n",
      "0.142857142857 0.989473684211\n",
      "0.396825396825 0.989473684211\n",
      "0.396825396825 1.0\n",
      "0.619047619048 1.0\n",
      "0.68253968254 1.0\n",
      "1.0 1.0\n"
     ]
    }
   ],
   "source": [
    "plot_roc(best1.best_estimator_, X_test1, Y_test1)"
   ]
  },
  {
   "cell_type": "markdown",
   "metadata": {},
   "source": [
    "## 8. Control vs MSA"
   ]
  },
  {
   "cell_type": "code",
   "execution_count": 30,
   "metadata": {},
   "outputs": [
    {
     "name": "stdout",
     "output_type": "stream",
     "text": [
      "# Tuning hyper-parameters for f1_micro\n",
      "\n",
      "Fitting 5 folds for each of 20 candidates, totalling 100 fits\n"
     ]
    },
    {
     "name": "stderr",
     "output_type": "stream",
     "text": [
      "[Parallel(n_jobs=-1)]: Done  34 tasks      | elapsed:    7.2s\n",
      "[Parallel(n_jobs=-1)]: Done 100 out of 100 | elapsed:    7.4s finished\n"
     ]
    },
    {
     "name": "stdout",
     "output_type": "stream",
     "text": [
      "Best parameters set found on development set:\n",
      "\n",
      "{'classifier__C': 0.061584821106602607}\n",
      "\n",
      "Detailed classification report (holdout):\n",
      "\n",
      "The model is trained on the full development set.\n",
      "The scores are computed on the full evaluation set.\n",
      "\n",
      "             precision    recall  f1-score   support\n",
      "\n",
      "        0.0       1.00      0.97      0.98        62\n",
      "        1.0       0.85      1.00      0.92        11\n",
      "\n",
      "avg / total       0.98      0.97      0.97        73\n",
      "\n",
      "\n",
      "Confusion matrix, without normalization\n",
      "[[60  2]\n",
      " [ 0 11]]\n",
      "\n",
      "recall\t1.0\n",
      "precision\t0.846153846154\n",
      "auc\t0.983870967742\n",
      "specificity\t0.967741935484\n",
      "npv\t1.0\n",
      "accuracy\t0.972602739726\n",
      "weighted_sensitivity\t1.0\n",
      "weighted_ppv\t0.96875\n",
      "weighted_specificity\t0.967741935484\n",
      "weighted_npv\t1.0\n",
      "weighted_accuracy\t0.983870967742\n"
     ]
    },
    {
     "data": {
      "image/png": "[encoded data removed]",
      "text/plain": [
       "<matplotlib.figure.Figure at 0x258b2979fd0>"
      ]
     },
     "metadata": {
      "needs_background": "light"
     },
     "output_type": "display_data"
    }
   ],
   "source": [
    "# Get the data\n",
    "data2 = group_classes(_data, {0:0, 2:1})\n",
    "\n",
    "y2 = data2['GroupID']\n",
    "X2 = data2.drop(['GroupID'], axis=1)\n",
    "\n",
    "X_train2, X_test2, Y_train2, Y_test2 = train_test_split(X2, y2, test_size=_test_size, random_state=_random_seed)\n",
    "\n",
    "best2 = grid_search_optimization(clf, param_grid, X_train2, Y_train2, X_test2, Y_test2, cv=_cv, scoring=_scoring)"
   ]
  },
  {
   "cell_type": "code",
   "execution_count": 31,
   "metadata": {},
   "outputs": [
    {
     "name": "stdout",
     "output_type": "stream",
     "text": [
      "fit_time\t0.00300669670105\t0.000851816979948\n",
      "score_time\t0.0060215473175\t0.00062128517414\n",
      "test_recall\t0.986666666667\t0.0266666666667\n",
      "train_recall\t0.986323787259\t0.00683935508887\n",
      "test_precision\t0.975\t0.05\n",
      "train_precision\t0.973107344633\t0.013448701305\n",
      "test_auc\t0.988682170543\t0.0142230634929\n",
      "train_auc\t0.988530894839\t0.00364638431961\n",
      "test_specificity\t0.990697674419\t0.0186046511628\n",
      "train_specificity\t0.99073800242\t0.00463107195359\n",
      "test_npv\t0.995454545455\t0.00909090909091\n",
      "train_npv\t0.995355402674\t0.0023225291313\n",
      "test_accuracy\t0.989534180278\t0.0140053296558\n",
      "train_accuracy\t0.989614024157\t0.00346999134389\n",
      "test_weighted_sensitivity\t0.986666666667\t0.0266666666667\n",
      "train_weighted_sensitivity\t0.986323787259\t0.00683935508887\n",
      "test_weighted_ppv\t0.991111111111\t0.0177777777778\n",
      "train_weighted_ppv\t0.990725562645\t0.00463806403919\n",
      "test_weighted_specificity\t0.990697674419\t0.0186046511628\n",
      "train_weighted_specificity\t0.99073800242\t0.00463107195359\n",
      "test_weighted_npv\t0.9875\t0.025\n",
      "train_weighted_npv\t0.986437179171\t0.00678383343907\n",
      "test_weighted_accuracy\t0.988682170543\t0.0142230634929\n",
      "train_weighted_accuracy\t0.988530894839\t0.00364638431961\n"
     ]
    }
   ],
   "source": [
    "scores = cross_validate(best2.best_estimator_, X_train2, Y_train2, cv=_cv, return_train_score=True, scoring=_scoring_list)\n",
    "for score in scores:\n",
    "    print(\"%s\\t%s\\t%s\" %(score, np.mean(scores[score]), np.std(scores[score])))"
   ]
  },
  {
   "cell_type": "code",
   "execution_count": 32,
   "metadata": {},
   "outputs": [
    {
     "name": "stdout",
     "output_type": "stream",
     "text": [
      "Age\t-0.0940992264388\n",
      "Sex\t-0.0755739365963\n",
      "UPDRS\t1.48588389488\n"
     ]
    }
   ],
   "source": [
    "model = best2.best_estimator_.named_steps['classifier']\n",
    "feature_names = data2.columns.tolist()[1:]\n",
    "# plot_coefficients(model, feature_names)\n",
    "print_feature_importance(feature_names, model.coef_[0])"
   ]
  },
  {
   "cell_type": "code",
   "execution_count": 33,
   "metadata": {},
   "outputs": [
    {
     "name": "stdout",
     "output_type": "stream",
     "text": [
      "             precision    recall  f1-score   support\n",
      "\n",
      "        0.0       1.00      0.97      0.98        62\n",
      "        1.0       0.85      1.00      0.92        11\n",
      "\n",
      "avg / total       0.98      0.97      0.97        73\n",
      "\n"
     ]
    },
    {
     "data": {
      "image/png": "[encoded data removed]",
      "text/plain": [
       "<matplotlib.figure.Figure at 0x258b6139940>"
      ]
     },
     "metadata": {
      "needs_background": "light"
     },
     "output_type": "display_data"
    },
    {
     "name": "stdout",
     "output_type": "stream",
     "text": [
      "0.0 0.0909090909091\n",
      "0.0 0.818181818182\n",
      "0.0161290322581 0.818181818182\n",
      "0.0161290322581 0.909090909091\n",
      "0.0322580645161 0.909090909091\n",
      "0.0322580645161 1.0\n",
      "0.596774193548 1.0\n",
      "0.629032258065 1.0\n",
      "0.790322580645 1.0\n",
      "0.822580645161 1.0\n",
      "0.887096774194 1.0\n",
      "0.91935483871 1.0\n",
      "0.967741935484 1.0\n",
      "1.0 1.0\n"
     ]
    }
   ],
   "source": [
    "plot_roc(best2.best_estimator_, X_test2, Y_test2)"
   ]
  },
  {
   "cell_type": "markdown",
   "metadata": {},
   "source": [
    "## 9. Control vs PSP"
   ]
  },
  {
   "cell_type": "code",
   "execution_count": 34,
   "metadata": {},
   "outputs": [
    {
     "name": "stdout",
     "output_type": "stream",
     "text": [
      "# Tuning hyper-parameters for f1_micro\n",
      "\n",
      "Fitting 5 folds for each of 20 candidates, totalling 100 fits\n"
     ]
    },
    {
     "name": "stderr",
     "output_type": "stream",
     "text": [
      "[Parallel(n_jobs=-1)]: Done  34 tasks      | elapsed:    7.5s\n",
      "[Parallel(n_jobs=-1)]: Done 100 out of 100 | elapsed:    7.7s finished\n"
     ]
    },
    {
     "name": "stdout",
     "output_type": "stream",
     "text": [
      "Best parameters set found on development set:\n",
      "\n",
      "{'classifier__C': 1.1288378916846884}\n",
      "\n",
      "Detailed classification report (holdout):\n",
      "\n",
      "The model is trained on the full development set.\n",
      "The scores are computed on the full evaluation set.\n",
      "\n",
      "             precision    recall  f1-score   support\n",
      "\n",
      "        0.0       0.98      0.97      0.97        59\n",
      "        1.0       0.92      0.96      0.94        23\n",
      "\n",
      "avg / total       0.96      0.96      0.96        82\n",
      "\n",
      "\n",
      "Confusion matrix, without normalization\n",
      "[[57  2]\n",
      " [ 1 22]]\n",
      "\n",
      "recall\t0.95652173913\n",
      "precision\t0.916666666667\n",
      "auc\t0.961311717023\n",
      "specificity\t0.966101694915\n",
      "npv\t0.98275862069\n",
      "accuracy\t0.963414634146\n",
      "weighted_sensitivity\t0.95652173913\n",
      "weighted_ppv\t0.965773809524\n",
      "weighted_specificity\t0.966101694915\n",
      "weighted_npv\t0.956934306569\n",
      "weighted_accuracy\t0.961311717023\n"
     ]
    },
    {
     "data": {
      "image/png": "[encoded data removed]",
      "text/plain": [
       "<matplotlib.figure.Figure at 0x258b5ec6048>"
      ]
     },
     "metadata": {
      "needs_background": "light"
     },
     "output_type": "display_data"
    }
   ],
   "source": [
    "# Get the data\n",
    "data3 = group_classes(_data, {0:0, 3:1})\n",
    "\n",
    "y3 = data3['GroupID']\n",
    "X3 = data3.drop(['GroupID'], axis=1)\n",
    "\n",
    "X_train3, X_test3, Y_train3, Y_test3 = train_test_split(X3, y3, test_size=_test_size, random_state=_random_seed)\n",
    "\n",
    "best3 = grid_search_optimization(clf, param_grid, X_train3, Y_train3, X_test3, Y_test3, cv=_cv, scoring=_scoring)"
   ]
  },
  {
   "cell_type": "code",
   "execution_count": 35,
   "metadata": {},
   "outputs": [
    {
     "name": "stdout",
     "output_type": "stream",
     "text": [
      "fit_time\t0.00419964790344\t0.00039061382979\n",
      "score_time\t0.00670528411865\t0.000749223668486\n",
      "test_recall\t0.94329004329\t0.0192823008237\n",
      "train_recall\t0.943389355742\t0.00478360519291\n",
      "test_precision\t0.93577451534\t0.0331358754516\n",
      "train_precision\t0.934658463225\t0.00887609118143\n",
      "test_auc\t0.955683076613\t0.0115466135944\n",
      "train_auc\t0.955714158391\t0.00288618792878\n",
      "test_specificity\t0.968076109937\t0.0181301197248\n",
      "train_specificity\t0.968038961039\t0.00455257327533\n",
      "test_npv\t0.972607134468\t0.00853519056038\n",
      "train_npv\t0.972485365774\t0.00219996171662\n",
      "test_accuracy\t0.959997086247\t0.0123091504774\n",
      "train_accuracy\t0.959999749655\t0.0030788314071\n",
      "test_weighted_sensitivity\t0.94329004329\t0.0192823008237\n",
      "train_weighted_sensitivity\t0.943389355742\t0.00478360519291\n",
      "test_weighted_ppv\t0.967657611418\t0.0172387179706\n",
      "train_weighted_ppv\t0.967256746973\t0.00451949236742\n",
      "test_weighted_specificity\t0.968076109937\t0.0181301197248\n",
      "train_weighted_specificity\t0.968038961039\t0.00455257327533\n",
      "test_weighted_npv\t0.945037715721\t0.016969894368\n",
      "train_weighted_npv\t0.944775273524\t0.00439829234674\n",
      "test_weighted_accuracy\t0.955683076613\t0.0115466135944\n",
      "train_weighted_accuracy\t0.955714158391\t0.00288618792878\n"
     ]
    }
   ],
   "source": [
    "scores = cross_validate(best3.best_estimator_, X_train3, Y_train3, cv=_cv, return_train_score=True, scoring=_scoring_list)\n",
    "for score in scores:\n",
    "    print(\"%s\\t%s\\t%s\" %(score, np.mean(scores[score]), np.std(scores[score])))"
   ]
  },
  {
   "cell_type": "code",
   "execution_count": 36,
   "metadata": {},
   "outputs": [
    {
     "name": "stdout",
     "output_type": "stream",
     "text": [
      "Age\t-0.0824967933304\n",
      "Sex\t-0.0840756712987\n",
      "UPDRS\t2.97378717349\n"
     ]
    }
   ],
   "source": [
    "model = best3.best_estimator_.named_steps['classifier']\n",
    "feature_names = data3.columns.tolist()[1:]\n",
    "# plot_coefficients(model, feature_names)\n",
    "print_feature_importance(feature_names, model.coef_[0])"
   ]
  },
  {
   "cell_type": "code",
   "execution_count": 37,
   "metadata": {},
   "outputs": [
    {
     "name": "stdout",
     "output_type": "stream",
     "text": [
      "             precision    recall  f1-score   support\n",
      "\n",
      "        0.0       0.98      0.97      0.97        59\n",
      "        1.0       0.92      0.96      0.94        23\n",
      "\n",
      "avg / total       0.96      0.96      0.96        82\n",
      "\n"
     ]
    },
    {
     "data": {
      "image/png": "[encoded data removed]",
      "text/plain": [
       "<matplotlib.figure.Figure at 0x258b63a54e0>"
      ]
     },
     "metadata": {
      "needs_background": "light"
     },
     "output_type": "display_data"
    },
    {
     "name": "stdout",
     "output_type": "stream",
     "text": [
      "0.0 0.0434782608696\n",
      "0.0 0.782608695652\n",
      "0.0169491525424 0.782608695652\n",
      "0.0169491525424 0.95652173913\n",
      "0.0338983050847 0.95652173913\n",
      "0.0338983050847 1.0\n",
      "0.440677966102 1.0\n",
      "0.474576271186 1.0\n",
      "0.627118644068 1.0\n",
      "0.694915254237 1.0\n",
      "0.71186440678 1.0\n",
      "0.745762711864 1.0\n",
      "0.881355932203 1.0\n",
      "0.949152542373 1.0\n",
      "1.0 1.0\n"
     ]
    }
   ],
   "source": [
    "plot_roc(best3.best_estimator_, X_test3, Y_test3)"
   ]
  },
  {
   "cell_type": "code",
   "execution_count": null,
   "metadata": {},
   "outputs": [],
   "source": []
  },
  {
   "cell_type": "code",
   "execution_count": null,
   "metadata": {},
   "outputs": [],
   "source": []
  }
 ],
 "metadata": {
  "kernelspec": {
   "display_name": "Python 3",
   "language": "python",
   "name": "python3"
  },
  "language_info": {
   "codemirror_mode": {
    "name": "ipython",
    "version": 3
   },
   "file_extension": ".py",
   "mimetype": "text/x-python",
   "name": "python",
   "nbconvert_exporter": "python",
   "pygments_lexer": "ipython3",
   "version": "3.6.3"
  }
 },
 "nbformat": 4,
 "nbformat_minor": 2
}
