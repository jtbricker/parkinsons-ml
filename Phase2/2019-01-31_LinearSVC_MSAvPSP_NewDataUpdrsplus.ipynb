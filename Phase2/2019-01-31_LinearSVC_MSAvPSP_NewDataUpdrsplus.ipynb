{
 "cells": [
  {
   "cell_type": "markdown",
   "metadata": {},
   "source": [
    "## MSA vs PSP, New Excel SHeet, Age, Sex, and UPDRS only\n",
    "\n",
    "From request [Run MSA v PSP with 1002 Excel sheet for only UPDRS sex and age](https://trello.com/c/t38U3cTW)\n",
    "\n",
    "New Data Sheet.  MSA vs PSP and PSP vs MSA. Only Age, Sex, UPDRS\n"
   ]
  },
  {
   "cell_type": "markdown",
   "metadata": {},
   "source": [
    "## Imports and Function Definitions"
   ]
  },
  {
   "cell_type": "code",
   "execution_count": 1,
   "metadata": {},
   "outputs": [],
   "source": [
    "import pandas as pd\n",
    "import numpy as np\n",
    "\n",
    "import matplotlib.pyplot as plt\n",
    "\n",
    "from sklearn.decomposition import PCA\n",
    "from sklearn.feature_selection import SelectKBest, chi2\n",
    "from sklearn.preprocessing import StandardScaler, Normalizer\n",
    "from sklearn.metrics import accuracy_score, confusion_matrix, classification_report, precision_recall_fscore_support, roc_curve, make_scorer, accuracy_score, precision_score, recall_score, roc_auc_score\n",
    "from sklearn.model_selection import StratifiedKFold, cross_val_score, KFold, train_test_split, LeaveOneOut, GridSearchCV, cross_validate\n",
    "from sklearn.svm import SVC\n",
    "\n",
    "from imblearn.over_sampling import RandomOverSampler\n",
    "from imblearn.pipeline import Pipeline\n",
    "\n",
    "def grid_search_optimization(model, tuned_parameters, X, y, Xh, yh, cv=5, scoring='accuracy', verbose=False):\n",
    "    print(\"# Tuning hyper-parameters for %s\" %scoring)\n",
    "    print()\n",
    "\n",
    "    clf = GridSearchCV(model, tuned_parameters, cv=cv, n_jobs = -1, scoring=scoring, verbose=1)\n",
    "    clf.fit(X, y)\n",
    "\n",
    "    print(\"Best parameters set found on development set:\")\n",
    "    print()\n",
    "    print(clf.best_params_)\n",
    "    print()\n",
    "    if verbose:\n",
    "        print(\"Grid scores on development set:\")\n",
    "        print()\n",
    "        means = clf.cv_results_['mean_test_score']\n",
    "        stds = clf.cv_results_['std_test_score']\n",
    "        for mean, std, params in zip(means, stds, clf.cv_results_['params']):\n",
    "            print(\"%0.3f (+/-%0.03f) for %r\"\n",
    "                  % (mean, std * 2, params))\n",
    "        print()\n",
    "\n",
    "    print(\"Detailed classification report (holdout):\")\n",
    "    print()\n",
    "    print(\"The model is trained on the full development set.\")\n",
    "    print(\"The scores are computed on the full evaluation set.\")\n",
    "    print()\n",
    "    y_true, y_pred = yh, clf.predict(Xh)\n",
    "    print(classification_report(y_true, y_pred))\n",
    "    print()\n",
    "    \n",
    "    get_metrics(clf.best_estimator_, Xh, yh)\n",
    "    \n",
    "    return clf\n",
    "\n",
    "def group_classes(data, grouping):\n",
    "        classes_to_keep = grouping.keys()\n",
    "        data_to_keep = data.loc[data['GroupID'].isin(classes_to_keep)]\n",
    "        classes_to_change = {k:grouping[k] for k in classes_to_keep if k!= grouping[k]}\n",
    "        return data_to_keep.replace(classes_to_change)\n",
    "    \n",
    "def plot_coefficients(classifier, feature_names, top_features=20):\n",
    "     coef = classifier.coef_.ravel()\n",
    "     top_positive_coefficients = np.argsort(coef)[-top_features:]\n",
    "     top_negative_coefficients = np.argsort(coef)[:top_features]\n",
    "     top_coefficients = np.hstack([top_negative_coefficients, top_positive_coefficients])\n",
    "     # create plot\n",
    "     plt.figure(figsize=(15, 5))\n",
    "     colors = ['red' if c < 0 else 'blue' for c in coef[top_coefficients]]\n",
    "     plt.bar(np.arange(2 * top_features), coef[top_coefficients], color=colors)\n",
    "     feature_names = np.array(feature_names)\n",
    "     plt.xticks(np.arange(1, 1 + 2 * top_features), feature_names[top_coefficients], rotation=60, ha='right')\n",
    "     plt.show()\n",
    "        \n",
    "def print_feature_importance(feature_names, coefs):\n",
    "    assert len(feature_names) == len(coefs), \"Arrays have difference lengths. Something went wrong\"\n",
    "    for feature, coef in zip(feature_names, coefs):\n",
    "        print(\"%s\\t%s\" %(feature, coef))\n",
    "        \n",
    "# AKA True Negative Rate\n",
    "def specificity(y_true, y_pred):\n",
    "    cm = confusion_matrix(y_true, y_pred)\n",
    "    return cm[0,0] / cm[0,:].sum()\n",
    "\n",
    "def negative_predictive_value(y_true, y_pred):\n",
    "    cm = confusion_matrix(y_true, y_pred)\n",
    "    return cm[0,0] / cm[:,0].sum()\n",
    "\n",
    "def plot_roc(model, X_test, Y_test):\n",
    "    y_true, y_pred = Y_test, model.predict(X_test)\n",
    "    print(classification_report(y_true, y_pred))\n",
    "\n",
    "    y_pred_prob = model.predict_proba(X_test)[:,1]\n",
    "\n",
    "    fpr, tpr, thresholds = roc_curve(Y_test, y_pred_prob)\n",
    "\n",
    "    plt.plot([0,1],[0,1], 'k--')\n",
    "    plt.plot(fpr, tpr, label='Linear SVC')\n",
    "    plt.xlabel('False Positive Rate')\n",
    "    plt.ylabel('True Positive Rate')\n",
    "    plt.title('Linear SVC ROC Curve')\n",
    "    plt.show()\n",
    "    \n",
    "    for a,b in zip(fpr, tpr):\n",
    "        print(a,b)\n",
    "    \n",
    "def get_metrics(model, X, y):\n",
    "    for metric in _scoring_list:\n",
    "        score = _scoring_list[metric](model, X, y)\n",
    "        print(\"%s\\t%s\" %(metric, score))"
   ]
  },
  {
   "cell_type": "markdown",
   "metadata": {},
   "source": [
    "## Define classifier, pipeline and constants"
   ]
  },
  {
   "cell_type": "code",
   "execution_count": 2,
   "metadata": {},
   "outputs": [],
   "source": [
    "param_grid = {\n",
    "    \"classifier__C\": np.logspace(-5, 2, 20),\n",
    "#     \"PCA__n_components\": range(1,113,10),\n",
    "#     \"fss__k\": range(1,115,3),\n",
    "},\n",
    "\n",
    "clf = Pipeline([\n",
    "#     ('Norm', Normalizer()),\\n\",\n",
    "#     (\"Oversample\", RandomOverSampler()),\n",
    "#     ('PCA', PCA()),\n",
    "    ('Scaler', StandardScaler()),\n",
    "#     ('fss',SelectKBest()),\n",
    "    ('classifier', SVC(kernel='linear', class_weight='balanced', probability=True))\n",
    "])\n",
    "\n",
    "_cv=5\n",
    "_test_size=0.2\n",
    "_scoring_list={\n",
    "    'recall':make_scorer(recall_score),\n",
    "    'precision':make_scorer(precision_score),\n",
    "    'auc':make_scorer(roc_auc_score),\n",
    "    'specificity':make_scorer(specificity),\n",
    "    'npv':make_scorer(negative_predictive_value),\n",
    "    'accuracy':make_scorer(accuracy_score)\n",
    "}\n",
    "_scoring='f1_micro'\n",
    "_data = pd.read_excel('1002_Data_no_Subj_Site.xlsx')\n",
    "_data = _data[['GroupID', 'Age', 'Sex', 'UPDRS']]\n",
    "_random_seed = 55"
   ]
  },
  {
   "cell_type": "markdown",
   "metadata": {},
   "source": [
    "## 5. PSP (positive) vs MSA (negative)"
   ]
  },
  {
   "cell_type": "code",
   "execution_count": 3,
   "metadata": {},
   "outputs": [
    {
     "name": "stdout",
     "output_type": "stream",
     "text": [
      "# Tuning hyper-parameters for f1_micro\n",
      "\n",
      "Fitting 5 folds for each of 20 candidates, totalling 100 fits\n"
     ]
    },
    {
     "name": "stderr",
     "output_type": "stream",
     "text": [
      "[Parallel(n_jobs=-1)]: Done  34 tasks      | elapsed:    7.6s\n"
     ]
    },
    {
     "name": "stdout",
     "output_type": "stream",
     "text": [
      "Best parameters set found on development set:\n",
      "\n",
      "{'classifier__C': 0.048329302385717518}\n",
      "\n",
      "Detailed classification report (holdout):\n",
      "\n",
      "The model is trained on the full development set.\n",
      "The scores are computed on the full evaluation set.\n",
      "\n",
      "             precision    recall  f1-score   support\n",
      "\n",
      "        0.0       0.31      0.38      0.34        13\n",
      "        1.0       0.70      0.63      0.67        30\n",
      "\n",
      "avg / total       0.59      0.56      0.57        43\n",
      "\n",
      "\n",
      "recall\t0.633333333333\n",
      "precision\t0.703703703704\n",
      "auc\t0.508974358974\n",
      "specificity\t0.384615384615\n",
      "npv\t0.3125\n",
      "accuracy\t0.558139534884\n"
     ]
    },
    {
     "name": "stderr",
     "output_type": "stream",
     "text": [
      "[Parallel(n_jobs=-1)]: Done 100 out of 100 | elapsed:    8.1s finished\n"
     ]
    }
   ],
   "source": [
    "# Get the data\n",
    "data4 = group_classes(_data, {2:0, 3:1})\n",
    "\n",
    "y4 = data4['GroupID']\n",
    "X4 = data4.drop(['GroupID'], axis=1)\n",
    "\n",
    "X_train4, X_test4, Y_train4, Y_test4 = train_test_split(X4, y4, test_size=_test_size, random_state=_random_seed)\n",
    "\n",
    "best4 = grid_search_optimization(clf, param_grid, X_train4, Y_train4, X_test4, Y_test4, cv=_cv, scoring=_scoring)"
   ]
  },
  {
   "cell_type": "code",
   "execution_count": 4,
   "metadata": {},
   "outputs": [
    {
     "name": "stdout",
     "output_type": "stream",
     "text": [
      "fit_time\t0.00340008735657\t0.000969426630611\n",
      "score_time\t0.00390095710754\t0.000799980811264\n",
      "test_recall\t0.667894736842\t0.105215778811\n",
      "train_recall\t0.676803797468\t0.0228873396369\n",
      "test_precision\t0.781764507422\t0.0957109683723\n",
      "train_precision\t0.782399129074\t0.0346019059782\n",
      "test_auc\t0.699661654135\t0.0901241911717\n",
      "train_auc\t0.706290369912\t0.0301353128205\n",
      "test_specificity\t0.731428571429\t0.124343172269\n",
      "train_specificity\t0.735776942356\t0.0491779203385\n",
      "test_npv\t0.616666666667\t0.104436724759\n",
      "train_npv\t0.619871740064\t0.0277935226111\n",
      "test_accuracy\t0.693868092692\t0.0887190398129\n",
      "train_accuracy\t0.701463591114\t0.0277940644804\n"
     ]
    }
   ],
   "source": [
    "scores = cross_validate(best4.best_estimator_, X_train4, Y_train4, cv=_cv, return_train_score=True, scoring=_scoring_list)\n",
    "for score in scores:\n",
    "    print(\"%s\\t%s\\t%s\" %(score, np.mean(scores[score]), np.std(scores[score])))"
   ]
  },
  {
   "cell_type": "code",
   "execution_count": 5,
   "metadata": {},
   "outputs": [
    {
     "name": "stdout",
     "output_type": "stream",
     "text": [
      "Age\t0.591455905622\n",
      "Sex\t0.187634738115\n",
      "UPDRS\t-0.662217319372\n"
     ]
    }
   ],
   "source": [
    "model = best4.best_estimator_.named_steps['classifier']\n",
    "feature_names = data4.columns.tolist()[1:]\n",
    "# plot_coefficients(model, feature_names)\n",
    "print_feature_importance(feature_names, model.coef_[0])"
   ]
  },
  {
   "cell_type": "code",
   "execution_count": 6,
   "metadata": {},
   "outputs": [
    {
     "name": "stdout",
     "output_type": "stream",
     "text": [
      "             precision    recall  f1-score   support\n",
      "\n",
      "        0.0       0.31      0.38      0.34        13\n",
      "        1.0       0.70      0.63      0.67        30\n",
      "\n",
      "avg / total       0.59      0.56      0.57        43\n",
      "\n"
     ]
    },
    {
     "data": {
      "image/png": "[encoded data removed]",
      "text/plain": [
       "<matplotlib.figure.Figure at 0x1e6df61c9b0>"
      ]
     },
     "metadata": {
      "needs_background": "light"
     },
     "output_type": "display_data"
    },
    {
     "name": "stdout",
     "output_type": "stream",
     "text": [
      "0.0 0.0333333333333\n",
      "0.0769230769231 0.0333333333333\n",
      "0.0769230769231 0.233333333333\n",
      "0.153846153846 0.233333333333\n",
      "0.153846153846 0.266666666667\n",
      "0.230769230769 0.266666666667\n",
      "0.230769230769 0.3\n",
      "0.307692307692 0.3\n",
      "0.307692307692 0.5\n",
      "0.384615384615 0.5\n",
      "0.384615384615 0.566666666667\n",
      "0.538461538462 0.566666666667\n",
      "0.538461538462 0.6\n",
      "0.615384615385 0.6\n",
      "0.615384615385 0.666666666667\n",
      "0.692307692308 0.666666666667\n",
      "0.692307692308 0.9\n",
      "0.769230769231 0.9\n",
      "0.769230769231 0.966666666667\n",
      "0.923076923077 0.966666666667\n",
      "0.923076923077 1.0\n",
      "1.0 1.0\n"
     ]
    }
   ],
   "source": [
    "plot_roc(best4.best_estimator_, X_test4, Y_test4)"
   ]
  },
  {
   "cell_type": "markdown",
   "metadata": {},
   "source": [
    "## 6. MSA (positive) vs PSP (negative)"
   ]
  },
  {
   "cell_type": "code",
   "execution_count": 7,
   "metadata": {},
   "outputs": [
    {
     "name": "stdout",
     "output_type": "stream",
     "text": [
      "# Tuning hyper-parameters for f1_micro\n",
      "\n",
      "Fitting 5 folds for each of 20 candidates, totalling 100 fits\n"
     ]
    },
    {
     "name": "stderr",
     "output_type": "stream",
     "text": [
      "[Parallel(n_jobs=-1)]: Done  34 tasks      | elapsed:    7.7s\n",
      "[Parallel(n_jobs=-1)]: Done  85 out of 100 | elapsed:    7.8s remaining:    1.3s\n"
     ]
    },
    {
     "name": "stdout",
     "output_type": "stream",
     "text": [
      "Best parameters set found on development set:\n",
      "\n",
      "{'classifier__C': 0.048329302385717518}\n",
      "\n",
      "Detailed classification report (holdout):\n",
      "\n",
      "The model is trained on the full development set.\n",
      "The scores are computed on the full evaluation set.\n",
      "\n",
      "             precision    recall  f1-score   support\n",
      "\n",
      "        0.0       0.70      0.63      0.67        30\n",
      "        1.0       0.31      0.38      0.34        13\n",
      "\n",
      "avg / total       0.59      0.56      0.57        43\n",
      "\n",
      "\n",
      "recall\t0.384615384615\n",
      "precision\t0.3125\n",
      "auc\t0.508974358974\n",
      "specificity\t0.633333333333\n",
      "npv\t0.703703703704\n",
      "accuracy\t0.558139534884\n"
     ]
    },
    {
     "name": "stderr",
     "output_type": "stream",
     "text": [
      "[Parallel(n_jobs=-1)]: Done 100 out of 100 | elapsed:    8.1s finished\n"
     ]
    }
   ],
   "source": [
    "# Get the data\n",
    "data4 = group_classes(_data, {2:1, 3:0})\n",
    "\n",
    "y4 = data4['GroupID']\n",
    "X4 = data4.drop(['GroupID'], axis=1)\n",
    "\n",
    "X_train4, X_test4, Y_train4, Y_test4 = train_test_split(X4, y4, test_size=_test_size, random_state=_random_seed)\n",
    "\n",
    "best4 = grid_search_optimization(clf, param_grid, X_train4, Y_train4, X_test4, Y_test4, cv=_cv, scoring=_scoring)"
   ]
  },
  {
   "cell_type": "code",
   "execution_count": 8,
   "metadata": {},
   "outputs": [
    {
     "name": "stdout",
     "output_type": "stream",
     "text": [
      "fit_time\t0.00410051345825\t0.000915999581317\n",
      "score_time\t0.0050018787384\t0.00104806120086\n",
      "test_recall\t0.731428571429\t0.124343172269\n",
      "train_recall\t0.735776942356\t0.0491779203385\n",
      "test_precision\t0.616666666667\t0.104436724759\n",
      "train_precision\t0.619871740064\t0.0277935226111\n",
      "test_auc\t0.699661654135\t0.0901241911717\n",
      "train_auc\t0.706290369912\t0.0301353128205\n",
      "test_specificity\t0.667894736842\t0.105215778811\n",
      "train_specificity\t0.676803797468\t0.0228873396369\n",
      "test_npv\t0.781764507422\t0.0957109683723\n",
      "train_npv\t0.782399129074\t0.0346019059782\n",
      "test_accuracy\t0.693868092692\t0.0887190398129\n",
      "train_accuracy\t0.701463591114\t0.0277940644804\n"
     ]
    }
   ],
   "source": [
    "scores = cross_validate(best4.best_estimator_, X_train4, Y_train4, cv=_cv, return_train_score=True, scoring=_scoring_list)\n",
    "for score in scores:\n",
    "    print(\"%s\\t%s\\t%s\" %(score, np.mean(scores[score]), np.std(scores[score])))"
   ]
  },
  {
   "cell_type": "code",
   "execution_count": 9,
   "metadata": {},
   "outputs": [
    {
     "name": "stdout",
     "output_type": "stream",
     "text": [
      "Age\t-0.591393122754\n",
      "Sex\t-0.18840053372\n",
      "UPDRS\t0.661648238171\n"
     ]
    }
   ],
   "source": [
    "model = best4.best_estimator_.named_steps['classifier']\n",
    "feature_names = data4.columns.tolist()[1:]\n",
    "# plot_coefficients(model, feature_names)\n",
    "print_feature_importance(feature_names, model.coef_[0])"
   ]
  },
  {
   "cell_type": "code",
   "execution_count": 10,
   "metadata": {},
   "outputs": [
    {
     "name": "stdout",
     "output_type": "stream",
     "text": [
      "             precision    recall  f1-score   support\n",
      "\n",
      "        0.0       0.70      0.63      0.67        30\n",
      "        1.0       0.31      0.38      0.34        13\n",
      "\n",
      "avg / total       0.59      0.56      0.57        43\n",
      "\n"
     ]
    },
    {
     "data": {
      "image/png": "[encoded data removed]",
      "text/plain": [
       "<matplotlib.figure.Figure at 0x1e6df9adcf8>"
      ]
     },
     "metadata": {
      "needs_background": "light"
     },
     "output_type": "display_data"
    },
    {
     "name": "stdout",
     "output_type": "stream",
     "text": [
      "0.0 0.0769230769231\n",
      "0.0333333333333 0.0769230769231\n",
      "0.0333333333333 0.230769230769\n",
      "0.1 0.230769230769\n",
      "0.1 0.307692307692\n",
      "0.333333333333 0.307692307692\n",
      "0.333333333333 0.384615384615\n",
      "0.4 0.384615384615\n",
      "0.4 0.461538461538\n",
      "0.433333333333 0.461538461538\n",
      "0.433333333333 0.615384615385\n",
      "0.5 0.615384615385\n",
      "0.5 0.692307692308\n",
      "0.7 0.692307692308\n",
      "0.7 0.769230769231\n",
      "0.733333333333 0.769230769231\n",
      "0.733333333333 0.846153846154\n",
      "0.766666666667 0.846153846154\n",
      "0.766666666667 0.923076923077\n",
      "0.966666666667 0.923076923077\n",
      "0.966666666667 1.0\n",
      "1.0 1.0\n"
     ]
    }
   ],
   "source": [
    "plot_roc(best4.best_estimator_, X_test4, Y_test4)"
   ]
  }
 ],
 "metadata": {
  "kernelspec": {
   "display_name": "Python 3",
   "language": "python",
   "name": "python3"
  },
  "language_info": {
   "codemirror_mode": {
    "name": "ipython",
    "version": 3
   },
   "file_extension": ".py",
   "mimetype": "text/x-python",
   "name": "python",
   "nbconvert_exporter": "python",
   "pygments_lexer": "ipython3",
   "version": "3.6.3"
  }
 },
 "nbformat": 4,
 "nbformat_minor": 2
}
