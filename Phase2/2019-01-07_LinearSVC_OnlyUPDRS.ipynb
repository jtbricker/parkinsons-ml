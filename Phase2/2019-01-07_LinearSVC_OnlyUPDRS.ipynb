{
 "cells": [
  {
   "cell_type": "markdown",
   "metadata": {},
   "source": [
    "## Only UPDRS\n",
    "\n",
    "Rerun the analysis done in [Linear SVC 1/5/2019](2019-01-05_LinearSVC_DataRoundup.ipynb) but this time use UPDRS as only feature:\n",
    "\n",
    "For cross validation (need both mean and standard deviation) and holdout:\n",
    "* Accuracy\n",
    "* Sensitivity\n",
    "* Specificity\n",
    "* PPV\n",
    "* NPV\n",
    "* Recall\n",
    "* Precision\n",
    "* Area Under the Curve\n",
    "* Support\n",
    "\n",
    "Also need ROC curve as a list of numbers.\n",
    "\n",
    "Variable contribution (importance) to models (mean and standard deviation).\n",
    "\n",
    "\n",
    "**In addition**, look into how to change the threshold for probability scoring"
   ]
  },
  {
   "cell_type": "markdown",
   "metadata": {},
   "source": [
    "## Imports and Function Definitions"
   ]
  },
  {
   "cell_type": "code",
   "execution_count": 1,
   "metadata": {},
   "outputs": [],
   "source": [
    "import pandas as pd\n",
    "import numpy as np\n",
    "\n",
    "import matplotlib.pyplot as plt\n",
    "\n",
    "from sklearn.decomposition import PCA\n",
    "from sklearn.feature_selection import SelectKBest, chi2\n",
    "from sklearn.preprocessing import StandardScaler, Normalizer\n",
    "from sklearn.metrics import accuracy_score, confusion_matrix, classification_report, precision_recall_fscore_support, roc_curve, make_scorer, accuracy_score, precision_score, recall_score, roc_auc_score\n",
    "from sklearn.model_selection import StratifiedKFold, cross_val_score, KFold, train_test_split, LeaveOneOut, GridSearchCV, cross_validate\n",
    "from sklearn.svm import SVC\n",
    "\n",
    "from imblearn.over_sampling import RandomOverSampler\n",
    "from imblearn.pipeline import Pipeline\n",
    "\n",
    "def grid_search_optimization(model, tuned_parameters, X, y, Xh, yh, cv=5, scoring='accuracy', verbose=False):\n",
    "    print(\"# Tuning hyper-parameters for %s\" %scoring)\n",
    "    print()\n",
    "\n",
    "    clf = GridSearchCV(model, tuned_parameters, cv=cv, n_jobs = -1, scoring=scoring, verbose=verbose)\n",
    "    clf.fit(X, y)\n",
    "\n",
    "    print(\"Best parameters set found on development set:\")\n",
    "    print()\n",
    "    print(clf.best_params_)\n",
    "    print()\n",
    "    if verbose:\n",
    "        print(\"Grid scores on development set:\")\n",
    "        print()\n",
    "        means = clf.cv_results_['mean_test_score']\n",
    "        stds = clf.cv_results_['std_test_score']\n",
    "        for mean, std, params in zip(means, stds, clf.cv_results_['params']):\n",
    "            print(\"%0.3f (+/-%0.03f) for %r\"\n",
    "                  % (mean, std * 2, params))\n",
    "        print()\n",
    "\n",
    "    print(\"Detailed classification report (holdout):\")\n",
    "    print()\n",
    "    print(\"The model is trained on the full development set.\")\n",
    "    print(\"The scores are computed on the full evaluation set.\")\n",
    "    print()\n",
    "    y_true, y_pred = yh, clf.predict(Xh)\n",
    "    print(classification_report(y_true, y_pred))\n",
    "    print()\n",
    "    \n",
    "    get_metrics(clf.best_estimator_, Xh, yh)\n",
    "    \n",
    "    return clf\n",
    "\n",
    "def group_classes(data, grouping):\n",
    "        classes_to_keep = grouping.keys()\n",
    "        data_to_keep = data.loc[data['GroupID'].isin(classes_to_keep)]\n",
    "        classes_to_change = {k:grouping[k] for k in classes_to_keep if k!= grouping[k]}\n",
    "        return data_to_keep.replace(classes_to_change)\n",
    "    \n",
    "def plot_coefficients(classifier, feature_names, top_features=20):\n",
    "     coef = classifier.coef_.ravel()\n",
    "     top_positive_coefficients = np.argsort(coef)[-top_features:]\n",
    "     top_negative_coefficients = np.argsort(coef)[:top_features]\n",
    "     top_coefficients = np.hstack([top_negative_coefficients, top_positive_coefficients])\n",
    "     # create plot\n",
    "     plt.figure(figsize=(15, 5))\n",
    "     colors = ['red' if c < 0 else 'blue' for c in coef[top_coefficients]]\n",
    "     plt.bar(np.arange(2 * top_features), coef[top_coefficients], color=colors)\n",
    "     feature_names = np.array(feature_names)\n",
    "     plt.xticks(np.arange(1, 1 + 2 * top_features), feature_names[top_coefficients], rotation=60, ha='right')\n",
    "     plt.show()\n",
    "        \n",
    "def print_feature_importance(feature_names, coefs):\n",
    "    assert len(feature_names) == len(coefs), \"Arrays have difference lengths. Something went wrong\"\n",
    "    for feature, coef in zip(feature_names, coefs):\n",
    "        print(\"%s\\t%s\" %(feature, coef))\n",
    "        \n",
    "# AKA True Negative Rate\n",
    "def specificity(y_true, y_pred):\n",
    "    cm = confusion_matrix(y_true, y_pred)\n",
    "    return cm[0,0] / cm[0,:].sum()\n",
    "\n",
    "def negative_predictive_value(y_true, y_pred):\n",
    "    cm = confusion_matrix(y_true, y_pred)\n",
    "    return cm[0,0] / cm[:,0].sum()\n",
    "\n",
    "def plot_roc(model, X_test, Y_test):\n",
    "    y_true, y_pred = Y_test, model.predict(X_test)\n",
    "    print(classification_report(y_true, y_pred))\n",
    "\n",
    "    y_pred_prob = model.predict_proba(X_test)[:,1]\n",
    "\n",
    "    fpr, tpr, thresholds = roc_curve(Y_test, y_pred_prob)\n",
    "\n",
    "    plt.plot([0,1],[0,1], 'k--')\n",
    "    plt.plot(fpr, tpr, label='Linear SVC')\n",
    "    plt.xlabel('False Positive Rate')\n",
    "    plt.ylabel('True Positive Rate')\n",
    "    plt.title('Linear SVC ROC Curve')\n",
    "    plt.show()\n",
    "    \n",
    "    for a,b in zip(fpr, tpr):\n",
    "        print(a,b)\n",
    "    \n",
    "def get_metrics(model, X, y):\n",
    "    for metric in _scoring_list:\n",
    "        score = _scoring_list[metric](model, X, y)\n",
    "        print(\"%s\\t%s\" %(metric, score))"
   ]
  },
  {
   "cell_type": "markdown",
   "metadata": {},
   "source": [
    "## Define classifier, pipeline and constants"
   ]
  },
  {
   "cell_type": "code",
   "execution_count": 16,
   "metadata": {},
   "outputs": [],
   "source": [
    "param_grid = {\n",
    "    \"classifier__C\": np.logspace(-5, 2, 20),\n",
    "#     \"PCA__n_components\": range(1,113,10),\n",
    "#     \"fss__k\": range(1,115,3),\n",
    "},\n",
    "\n",
    "clf = Pipeline([\n",
    "#     ('Norm', Normalizer()),\\n\",\n",
    "#     (\"Oversample\", RandomOverSampler()),\n",
    "#     ('PCA', PCA()),\n",
    "    ('Scaler', StandardScaler()),\n",
    "#     ('fss',SelectKBest()),\n",
    "    ('classifier', SVC(kernel='linear', class_weight='balanced', probability=True))\n",
    "])\n",
    "\n",
    "_cv=5\n",
    "_test_size=0.20\n",
    "_scoring_list={\n",
    "    'recall':make_scorer(recall_score),\n",
    "    'precision':make_scorer(precision_score),\n",
    "    'auc':make_scorer(roc_auc_score),\n",
    "    'specificity':make_scorer(specificity),\n",
    "    'npv':make_scorer(negative_predictive_value),\n",
    "    'accuracy':make_scorer(accuracy_score)\n",
    "}\n",
    "_scoring='f1_micro'\n",
    "_data = pd.read_excel('training_data_1004.xlsx')\n",
    "_data = _data[['GroupID','UPDRS']]"
   ]
  },
  {
   "cell_type": "markdown",
   "metadata": {},
   "source": [
    "## 1. Control vs. PD/MSA/PSP"
   ]
  },
  {
   "cell_type": "code",
   "execution_count": 17,
   "metadata": {},
   "outputs": [
    {
     "name": "stdout",
     "output_type": "stream",
     "text": [
      "# Tuning hyper-parameters for f1_micro\n",
      "\n",
      "Fitting 5 folds for each of 20 candidates, totalling 100 fits\n"
     ]
    },
    {
     "name": "stderr",
     "output_type": "stream",
     "text": [
      "[Parallel(n_jobs=-1)]: Done  34 tasks      | elapsed:    7.4s\n",
      "[Parallel(n_jobs=-1)]: Done  85 out of 100 | elapsed:    7.5s remaining:    1.2s\n"
     ]
    },
    {
     "name": "stdout",
     "output_type": "stream",
     "text": [
      "Best parameters set found on development set:\n",
      "\n",
      "{'classifier__C': 0.6158482110660255}\n",
      "\n",
      "Grid scores on development set:\n",
      "\n",
      "0.542 (+/-0.424) for {'classifier__C': 1.0000000000000001e-05}\n",
      "0.542 (+/-0.424) for {'classifier__C': 2.3357214690901213e-05}\n",
      "0.716 (+/-0.004) for {'classifier__C': 5.4555947811685143e-05}\n",
      "0.542 (+/-0.424) for {'classifier__C': 0.00012742749857031334}\n",
      "0.458 (+/-0.424) for {'classifier__C': 0.00029763514416313193}\n",
      "0.407 (+/-0.184) for {'classifier__C': 0.00069519279617756048}\n",
      "0.615 (+/-0.064) for {'classifier__C': 0.001623776739188721}\n",
      "0.806 (+/-0.051) for {'classifier__C': 0.0037926901907322499}\n",
      "0.880 (+/-0.060) for {'classifier__C': 0.0088586679041008226}\n",
      "0.918 (+/-0.054) for {'classifier__C': 0.02069138081114788}\n",
      "0.933 (+/-0.045) for {'classifier__C': 0.048329302385717518}\n",
      "0.930 (+/-0.051) for {'classifier__C': 0.11288378916846883}\n",
      "0.935 (+/-0.043) for {'classifier__C': 0.26366508987303555}\n",
      "0.939 (+/-0.038) for {'classifier__C': 0.6158482110660255}\n",
      "0.939 (+/-0.038) for {'classifier__C': 1.4384498882876631}\n",
      "0.939 (+/-0.038) for {'classifier__C': 3.3598182862837809}\n",
      "0.938 (+/-0.037) for {'classifier__C': 7.8475997035146063}\n",
      "0.938 (+/-0.037) for {'classifier__C': 18.329807108324339}\n",
      "0.938 (+/-0.037) for {'classifier__C': 42.813323987193868}\n",
      "0.938 (+/-0.037) for {'classifier__C': 100.0}\n",
      "\n",
      "Detailed classification report (holdout):\n",
      "\n",
      "The model is trained on the full development set.\n",
      "The scores are computed on the full evaluation set.\n",
      "\n",
      "             precision    recall  f1-score   support\n",
      "\n",
      "          0       0.92      0.94      0.93        50\n",
      "          1       0.98      0.97      0.98       151\n",
      "\n",
      "avg / total       0.97      0.97      0.97       201\n",
      "\n",
      "\n",
      "recall\t0.973509933775\n",
      "precision\t0.98\n",
      "auc\t0.956754966887\n",
      "specificity\t0.98\n",
      "npv\t0.973509933775\n",
      "accuracy\t0.965174129353\n"
     ]
    },
    {
     "name": "stderr",
     "output_type": "stream",
     "text": [
      "[Parallel(n_jobs=-1)]: Done 100 out of 100 | elapsed:    7.7s finished\n"
     ]
    }
   ],
   "source": [
    "# Get the data\n",
    "data1 = group_classes(_data, {0:0, 1:1, 2:1, 3:1})\n",
    "\n",
    "y1 = data1['GroupID']\n",
    "X1 = data1.drop(['GroupID'], axis=1)\n",
    "\n",
    "X_train1, X_test1, Y_train1, Y_test1 = train_test_split(X1, y1, test_size=_test_size, random_state=42)\n",
    "\n",
    "best1 = grid_search_optimization(clf, param_grid, X_train1, Y_train1, X_test1, Y_test1, cv=_cv, scoring=_scoring, verbose=1)"
   ]
  },
  {
   "cell_type": "code",
   "execution_count": 18,
   "metadata": {},
   "outputs": [
    {
     "name": "stdout",
     "output_type": "stream",
     "text": [
      "fit_time\t0.00770845413208\t0.00067175700532\n",
      "score_time\t0.00529289245605\t0.00169829416813\n",
      "test_recall\t0.932173913043\t0.0271660858292\n",
      "train_recall\t0.928260869565\t0.00869565217391\n",
      "test_precision\t0.98173676275\t0.00566250648837\n",
      "train_precision\t0.981605665336\t0.00147898243768\n",
      "test_auc\t0.944202898551\t0.0138690259143\n",
      "train_auc\t0.942203454659\t0.0051437274701\n",
      "test_specificity\t0.98173676275\t0.00566250648837\n",
      "train_specificity\t0.981605665336\t0.00147898243768\n",
      "test_npv\t0.932173913043\t0.0271660858292\n",
      "train_npv\t0.928260869565\t0.00869565217391\n",
      "test_accuracy\t0.938982919255\t0.0190004063417\n",
      "train_accuracy\t0.936178253223\t0.00659357690655\n"
     ]
    }
   ],
   "source": [
    "scores = cross_validate(best1.best_estimator_, X_train1, Y_train1, cv=_cv, return_train_score=True, scoring=_scoring_list)\n",
    "for score in scores:\n",
    "    print(\"%s\\t%s\\t%s\" %(score, np.mean(scores[score]), np.std(scores[score])))"
   ]
  },
  {
   "cell_type": "code",
   "execution_count": 20,
   "metadata": {},
   "outputs": [
    {
     "name": "stdout",
     "output_type": "stream",
     "text": [
      "UPDRS\t3.19448031647\n"
     ]
    }
   ],
   "source": [
    "model = best1.best_estimator_.named_steps['classifier']\n",
    "feature_names = data1.columns.tolist()[1:]\n",
    "# plot_coefficients(model, feature_names)\n",
    "print_feature_importance(feature_names, model.coef_[0])"
   ]
  },
  {
   "cell_type": "code",
   "execution_count": 21,
   "metadata": {},
   "outputs": [
    {
     "name": "stdout",
     "output_type": "stream",
     "text": [
      "             precision    recall  f1-score   support\n",
      "\n",
      "          0       0.92      0.94      0.93        50\n",
      "          1       0.98      0.97      0.98       151\n",
      "\n",
      "avg / total       0.97      0.97      0.97       201\n",
      "\n"
     ]
    },
    {
     "data": {
      "image/png": "[encoded data removed]",
      "text/plain": [
       "<matplotlib.figure.Figure at 0x1ddda7dbc50>"
      ]
     },
     "metadata": {
      "needs_background": "light"
     },
     "output_type": "display_data"
    },
    {
     "name": "stdout",
     "output_type": "stream",
     "text": [
      "0.0 0.0794701986755\n",
      "0.0 0.0927152317881\n",
      "0.0 0.105960264901\n",
      "0.0 0.112582781457\n",
      "0.0 0.132450331126\n",
      "0.0 0.139072847682\n",
      "0.0 0.165562913907\n",
      "0.0 0.185430463576\n",
      "0.0 0.198675496689\n",
      "0.0 0.278145695364\n",
      "0.0 0.291390728477\n",
      "0.0 0.304635761589\n",
      "0.0 0.317880794702\n",
      "0.0 0.324503311258\n",
      "0.0 0.364238410596\n",
      "0.0 0.390728476821\n",
      "0.0 0.41059602649\n",
      "0.0 0.423841059603\n",
      "0.0 0.430463576159\n",
      "0.0 0.456953642384\n",
      "0.0 0.46357615894\n",
      "0.0 0.490066225166\n",
      "0.0 0.503311258278\n",
      "0.0 0.516556291391\n",
      "0.0 0.53642384106\n",
      "0.0 0.562913907285\n",
      "0.0 0.569536423841\n",
      "0.0 0.602649006623\n",
      "0.0 0.609271523179\n",
      "0.0 0.635761589404\n",
      "0.0 0.64238410596\n",
      "0.0 0.668874172185\n",
      "0.0 0.688741721854\n",
      "0.0 0.701986754967\n",
      "0.0 0.715231788079\n",
      "0.0 0.735099337748\n",
      "0.0 0.741721854305\n",
      "0.0 0.761589403974\n",
      "0.0 0.788079470199\n",
      "0.0 0.794701986755\n",
      "0.0 0.807947019868\n",
      "0.02 0.807947019868\n",
      "0.02 0.87417218543\n",
      "0.02 0.887417218543\n",
      "0.02 0.927152317881\n",
      "0.02 0.940397350993\n",
      "0.04 0.94701986755\n",
      "0.04 0.953642384106\n",
      "0.04 0.966887417219\n",
      "0.06 0.973509933775\n",
      "0.06 0.993377483444\n",
      "0.08 0.993377483444\n",
      "0.08 1.0\n",
      "0.14 1.0\n",
      "0.2 1.0\n",
      "0.28 1.0\n",
      "0.36 1.0\n",
      "0.38 1.0\n",
      "0.44 1.0\n",
      "0.76 1.0\n",
      "1.0 1.0\n"
     ]
    }
   ],
   "source": [
    "plot_roc(best1.best_estimator_, X_test1, Y_test1)"
   ]
  },
  {
   "cell_type": "markdown",
   "metadata": {},
   "source": [
    "## 2. PD vs MSA/PSP"
   ]
  },
  {
   "cell_type": "code",
   "execution_count": 22,
   "metadata": {},
   "outputs": [
    {
     "name": "stdout",
     "output_type": "stream",
     "text": [
      "# Tuning hyper-parameters for f1_micro\n",
      "\n",
      "Fitting 5 folds for each of 20 candidates, totalling 100 fits\n"
     ]
    },
    {
     "name": "stderr",
     "output_type": "stream",
     "text": [
      "[Parallel(n_jobs=-1)]: Done  34 tasks      | elapsed:    7.4s\n",
      "[Parallel(n_jobs=-1)]: Done  85 out of 100 | elapsed:    7.6s remaining:    1.3s\n",
      "[Parallel(n_jobs=-1)]: Done 100 out of 100 | elapsed:    8.0s finished\n"
     ]
    },
    {
     "name": "stdout",
     "output_type": "stream",
     "text": [
      "Best parameters set found on development set:\n",
      "\n",
      "{'classifier__C': 0.0088586679041008226}\n",
      "\n",
      "Grid scores on development set:\n",
      "\n",
      "0.540 (+/-0.396) for {'classifier__C': 1.0000000000000001e-05}\n",
      "0.622 (+/-0.321) for {'classifier__C': 2.3357214690901213e-05}\n",
      "0.540 (+/-0.396) for {'classifier__C': 5.4555947811685143e-05}\n",
      "0.540 (+/-0.396) for {'classifier__C': 0.00012742749857031334}\n",
      "0.298 (+/-0.005) for {'classifier__C': 0.00029763514416313193}\n",
      "0.378 (+/-0.321) for {'classifier__C': 0.00069519279617756048}\n",
      "0.738 (+/-0.035) for {'classifier__C': 0.001623776739188721}\n",
      "0.740 (+/-0.041) for {'classifier__C': 0.0037926901907322499}\n",
      "0.747 (+/-0.037) for {'classifier__C': 0.0088586679041008226}\n",
      "0.728 (+/-0.037) for {'classifier__C': 0.02069138081114788}\n",
      "0.728 (+/-0.037) for {'classifier__C': 0.048329302385717518}\n",
      "0.724 (+/-0.032) for {'classifier__C': 0.11288378916846883}\n",
      "0.721 (+/-0.053) for {'classifier__C': 0.26366508987303555}\n",
      "0.722 (+/-0.052) for {'classifier__C': 0.6158482110660255}\n",
      "0.722 (+/-0.052) for {'classifier__C': 1.4384498882876631}\n",
      "0.722 (+/-0.052) for {'classifier__C': 3.3598182862837809}\n",
      "0.722 (+/-0.052) for {'classifier__C': 7.8475997035146063}\n",
      "0.722 (+/-0.052) for {'classifier__C': 18.329807108324339}\n",
      "0.722 (+/-0.052) for {'classifier__C': 42.813323987193868}\n",
      "0.722 (+/-0.052) for {'classifier__C': 100.0}\n",
      "\n",
      "Detailed classification report (holdout):\n",
      "\n",
      "The model is trained on the full development set.\n",
      "The scores are computed on the full evaluation set.\n",
      "\n",
      "             precision    recall  f1-score   support\n",
      "\n",
      "          0       0.82      0.73      0.77       107\n",
      "          1       0.43      0.56      0.49        39\n",
      "\n",
      "avg / total       0.72      0.68      0.70       146\n",
      "\n",
      "\n",
      "recall\t0.564102564103\n",
      "precision\t0.43137254902\n",
      "auc\t0.64653726336\n",
      "specificity\t0.43137254902\n",
      "npv\t0.564102564103\n",
      "accuracy\t0.684931506849\n"
     ]
    }
   ],
   "source": [
    "# Get the data\n",
    "data2 = group_classes(_data, {1:0, 2:1, 3:1})\n",
    "\n",
    "y2 = data2['GroupID']\n",
    "X2 = data2.drop(['GroupID'], axis=1)\n",
    "\n",
    "X_train2, X_test2, Y_train2, Y_test2 = train_test_split(X2, y2, test_size=_test_size, random_state=42)\n",
    "\n",
    "best2 = grid_search_optimization(clf, param_grid, X_train2, Y_train2, X_test2, Y_test2, cv=_cv, scoring=_scoring, verbose=1)"
   ]
  },
  {
   "cell_type": "code",
   "execution_count": 23,
   "metadata": {},
   "outputs": [
    {
     "name": "stdout",
     "output_type": "stream",
     "text": [
      "fit_time\t0.0125095844269\t0.000775870647606\n",
      "score_time\t0.00509724617004\t0.000580498285819\n",
      "test_recall\t0.576806722689\t0.0979265298776\n",
      "train_recall\t0.576530080284\t0.0182126983062\n",
      "test_precision\t0.576790590505\t0.0393151761026\n",
      "train_precision\t0.570857773196\t0.00781997691542\n",
      "test_auc\t0.697542174955\t0.0360569553697\n",
      "train_auc\t0.696130070817\t0.00730177320705\n",
      "test_specificity\t0.576790590505\t0.0393151761026\n",
      "train_specificity\t0.570857773196\t0.00781997691542\n",
      "test_npv\t0.576806722689\t0.0979265298776\n",
      "train_npv\t0.576530080284\t0.0182126983062\n",
      "test_accuracy\t0.746506874768\t0.0183933575364\n",
      "train_accuracy\t0.74439374483\t0.00456291046807\n"
     ]
    }
   ],
   "source": [
    "scores = cross_validate(best2.best_estimator_, X_train2, Y_train2, cv=_cv, return_train_score=True, scoring=_scoring_list)\n",
    "for score in scores:\n",
    "    print(\"%s\\t%s\\t%s\" %(score, np.mean(scores[score]), np.std(scores[score])))"
   ]
  },
  {
   "cell_type": "code",
   "execution_count": 24,
   "metadata": {},
   "outputs": [
    {
     "name": "stdout",
     "output_type": "stream",
     "text": [
      "UPDRS\t0.744486065883\n"
     ]
    }
   ],
   "source": [
    "model = best2.best_estimator_.named_steps['classifier']\n",
    "feature_names = data2.columns.tolist()[1:]\n",
    "# plot_coefficients(model, feature_names)\n",
    "print_feature_importance(feature_names, model.coef_[0])"
   ]
  },
  {
   "cell_type": "code",
   "execution_count": 25,
   "metadata": {},
   "outputs": [
    {
     "name": "stdout",
     "output_type": "stream",
     "text": [
      "             precision    recall  f1-score   support\n",
      "\n",
      "          0       0.82      0.73      0.77       107\n",
      "          1       0.43      0.56      0.49        39\n",
      "\n",
      "avg / total       0.72      0.68      0.70       146\n",
      "\n"
     ]
    },
    {
     "data": {
      "image/png": "[encoded data removed]",
      "text/plain": [
       "<matplotlib.figure.Figure at 0x1dddabfa828>"
      ]
     },
     "metadata": {
      "needs_background": "light"
     },
     "output_type": "display_data"
    },
    {
     "name": "stdout",
     "output_type": "stream",
     "text": [
      "0.0 0.025641025641\n",
      "0.00934579439252 0.025641025641\n",
      "0.00934579439252 0.102564102564\n",
      "0.018691588785 0.102564102564\n",
      "0.018691588785 0.128205128205\n",
      "0.0280373831776 0.153846153846\n",
      "0.0280373831776 0.179487179487\n",
      "0.0467289719626 0.179487179487\n",
      "0.0467289719626 0.205128205128\n",
      "0.0654205607477 0.205128205128\n",
      "0.0654205607477 0.25641025641\n",
      "0.0747663551402 0.25641025641\n",
      "0.0747663551402 0.282051282051\n",
      "0.0747663551402 0.333333333333\n",
      "0.0934579439252 0.333333333333\n",
      "0.102803738318 0.384615384615\n",
      "0.102803738318 0.435897435897\n",
      "0.102803738318 0.487179487179\n",
      "0.11214953271 0.487179487179\n",
      "0.11214953271 0.538461538462\n",
      "0.121495327103 0.538461538462\n",
      "0.140186915888 0.538461538462\n",
      "0.14953271028 0.538461538462\n",
      "0.168224299065 0.564102564103\n",
      "0.224299065421 0.564102564103\n",
      "0.233644859813 0.564102564103\n",
      "0.252336448598 0.564102564103\n",
      "0.280373831776 0.564102564103\n",
      "0.299065420561 0.589743589744\n",
      "0.317757009346 0.641025641026\n",
      "0.327102803738 0.641025641026\n",
      "0.345794392523 0.641025641026\n",
      "0.355140186916 0.641025641026\n",
      "0.364485981308 0.666666666667\n",
      "0.383177570093 0.666666666667\n",
      "0.392523364486 0.692307692308\n",
      "0.448598130841 0.692307692308\n",
      "0.476635514019 0.692307692308\n",
      "0.485981308411 0.692307692308\n",
      "0.514018691589 0.74358974359\n",
      "0.532710280374 0.74358974359\n",
      "0.532710280374 0.769230769231\n",
      "0.542056074766 0.769230769231\n",
      "0.579439252336 0.769230769231\n",
      "0.626168224299 0.794871794872\n",
      "0.635514018692 0.794871794872\n",
      "0.635514018692 0.820512820513\n",
      "0.644859813084 0.820512820513\n",
      "0.644859813084 0.846153846154\n",
      "0.663551401869 0.846153846154\n",
      "0.682242990654 0.846153846154\n",
      "0.691588785047 0.846153846154\n",
      "0.710280373832 0.897435897436\n",
      "0.719626168224 0.897435897436\n",
      "0.747663551402 0.897435897436\n",
      "0.757009345794 0.897435897436\n",
      "0.775700934579 0.897435897436\n",
      "0.785046728972 0.897435897436\n",
      "0.831775700935 0.923076923077\n",
      "0.869158878505 0.923076923077\n",
      "0.897196261682 0.923076923077\n",
      "0.915887850467 0.948717948718\n",
      "0.943925233645 0.974358974359\n",
      "0.953271028037 0.974358974359\n",
      "0.971962616822 0.974358974359\n",
      "0.981308411215 0.974358974359\n",
      "1.0 0.974358974359\n",
      "1.0 1.0\n"
     ]
    }
   ],
   "source": [
    "plot_roc(best2.best_estimator_, X_test2, Y_test2)"
   ]
  },
  {
   "cell_type": "markdown",
   "metadata": {},
   "source": [
    "## 3. MSA vs PD/PSP"
   ]
  },
  {
   "cell_type": "code",
   "execution_count": 26,
   "metadata": {},
   "outputs": [
    {
     "name": "stdout",
     "output_type": "stream",
     "text": [
      "# Tuning hyper-parameters for f1_micro\n",
      "\n",
      "Fitting 5 folds for each of 20 candidates, totalling 100 fits\n"
     ]
    },
    {
     "name": "stderr",
     "output_type": "stream",
     "text": [
      "[Parallel(n_jobs=-1)]: Done  34 tasks      | elapsed:    7.3s\n"
     ]
    },
    {
     "name": "stdout",
     "output_type": "stream",
     "text": [
      "Best parameters set found on development set:\n",
      "\n",
      "{'classifier__C': 2.3357214690901213e-05}\n",
      "\n",
      "Grid scores on development set:\n",
      "\n",
      "0.578 (+/-0.739) for {'classifier__C': 1.0000000000000001e-05}\n",
      "0.878 (+/-0.006) for {'classifier__C': 2.3357214690901213e-05}\n",
      "0.878 (+/-0.006) for {'classifier__C': 5.4555947811685143e-05}\n",
      "0.878 (+/-0.006) for {'classifier__C': 0.00012742749857031334}\n",
      "0.272 (+/-0.603) for {'classifier__C': 0.00029763514416313193}\n",
      "0.276 (+/-0.599) for {'classifier__C': 0.00069519279617756048}\n",
      "0.828 (+/-0.030) for {'classifier__C': 0.001623776739188721}\n",
      "0.776 (+/-0.037) for {'classifier__C': 0.0037926901907322499}\n",
      "0.755 (+/-0.046) for {'classifier__C': 0.0088586679041008226}\n",
      "0.752 (+/-0.047) for {'classifier__C': 0.02069138081114788}\n",
      "0.755 (+/-0.053) for {'classifier__C': 0.048329302385717518}\n",
      "0.759 (+/-0.051) for {'classifier__C': 0.11288378916846883}\n",
      "0.757 (+/-0.056) for {'classifier__C': 0.26366508987303555}\n",
      "0.759 (+/-0.051) for {'classifier__C': 0.6158482110660255}\n",
      "0.759 (+/-0.051) for {'classifier__C': 1.4384498882876631}\n",
      "0.759 (+/-0.051) for {'classifier__C': 3.3598182862837809}\n",
      "0.759 (+/-0.051) for {'classifier__C': 7.8475997035146063}\n",
      "0.759 (+/-0.051) for {'classifier__C': 18.329807108324339}\n",
      "0.759 (+/-0.051) for {'classifier__C': 42.813323987193868}\n",
      "0.759 (+/-0.051) for {'classifier__C': 100.0}\n",
      "\n",
      "Detailed classification report (holdout):\n",
      "\n",
      "The model is trained on the full development set.\n",
      "The scores are computed on the full evaluation set.\n",
      "\n",
      "             precision    recall  f1-score   support\n",
      "\n",
      "          0       0.92      1.00      0.96       134\n",
      "          1       0.00      0.00      0.00        12\n",
      "\n",
      "avg / total       0.84      0.92      0.88       146\n",
      "\n",
      "\n",
      "recall\t0.0\n",
      "precision\t0.0\n",
      "auc\t0.5\n",
      "specificity\tnan\n",
      "npv\t0.0\n",
      "accuracy\t0.917808219178\n"
     ]
    },
    {
     "name": "stderr",
     "output_type": "stream",
     "text": [
      "[Parallel(n_jobs=-1)]: Done 100 out of 100 | elapsed:    7.8s finished\n",
      "C:\\Users\\jtbricker\\AppData\\Local\\Continuum\\anaconda3\\lib\\site-packages\\sklearn\\metrics\\classification.py:1135: UndefinedMetricWarning: Precision and F-score are ill-defined and being set to 0.0 in labels with no predicted samples.\n",
      "  'precision', 'predicted', average, warn_for)\n",
      "C:\\Users\\jtbricker\\AppData\\Local\\Continuum\\anaconda3\\lib\\site-packages\\sklearn\\metrics\\classification.py:1135: UndefinedMetricWarning: Precision is ill-defined and being set to 0.0 due to no predicted samples.\n",
      "  'precision', 'predicted', average, warn_for)\n",
      "C:\\Users\\jtbricker\\AppData\\Local\\Continuum\\anaconda3\\lib\\site-packages\\ipykernel_launcher.py:77: RuntimeWarning: invalid value encountered in longlong_scalars\n"
     ]
    }
   ],
   "source": [
    "# Get the data\n",
    "data3 = group_classes(_data, {1:0, 3:0, 2:1})\n",
    "\n",
    "y3 = data3['GroupID']\n",
    "X3 = data3.drop(['GroupID'], axis=1)\n",
    "\n",
    "X_train3, X_test3, Y_train3, Y_test3 = train_test_split(X3, y3, test_size=_test_size, random_state=42)\n",
    "\n",
    "best3 = grid_search_optimization(clf, param_grid, X_train3, Y_train3, X_test3, Y_test3, cv=_cv, scoring=_scoring, verbose=1)"
   ]
  },
  {
   "cell_type": "code",
   "execution_count": 30,
   "metadata": {},
   "outputs": [
    {
     "name": "stdout",
     "output_type": "stream",
     "text": [
      "fit_time\t0.0121848106384\t0.000757633990658\n",
      "score_time\t0.00671458244324\t0.00123901061089\n",
      "test_recall\t0.0\t0.0\n",
      "train_recall\t0.0\t0.0\n",
      "test_precision\t0.0\t0.0\n",
      "train_precision\t0.0\t0.0\n",
      "test_auc\t0.5\t0.0\n",
      "train_auc\t0.5\t0.0\n",
      "test_specificity\tnan\tnan\n",
      "train_specificity\tnan\tnan\n",
      "test_npv\t0.0\t0.0\n",
      "train_npv\t0.0\t0.0\n",
      "test_accuracy\t0.877597355169\t0.00292957557924\n",
      "train_accuracy\t0.877586909621\t0.00073850541077\n"
     ]
    },
    {
     "name": "stderr",
     "output_type": "stream",
     "text": [
      "C:\\Users\\jtbricker\\AppData\\Local\\Continuum\\anaconda3\\lib\\site-packages\\sklearn\\metrics\\classification.py:1135: UndefinedMetricWarning: Precision is ill-defined and being set to 0.0 due to no predicted samples.\n",
      "  'precision', 'predicted', average, warn_for)\n",
      "C:\\Users\\jtbricker\\AppData\\Local\\Continuum\\anaconda3\\lib\\site-packages\\ipykernel_launcher.py:77: RuntimeWarning: invalid value encountered in longlong_scalars\n",
      "C:\\Users\\jtbricker\\AppData\\Local\\Continuum\\anaconda3\\lib\\site-packages\\sklearn\\metrics\\classification.py:1135: UndefinedMetricWarning: Precision is ill-defined and being set to 0.0 due to no predicted samples.\n",
      "  'precision', 'predicted', average, warn_for)\n",
      "C:\\Users\\jtbricker\\AppData\\Local\\Continuum\\anaconda3\\lib\\site-packages\\ipykernel_launcher.py:77: RuntimeWarning: invalid value encountered in longlong_scalars\n",
      "C:\\Users\\jtbricker\\AppData\\Local\\Continuum\\anaconda3\\lib\\site-packages\\sklearn\\metrics\\classification.py:1135: UndefinedMetricWarning: Precision is ill-defined and being set to 0.0 due to no predicted samples.\n",
      "  'precision', 'predicted', average, warn_for)\n",
      "C:\\Users\\jtbricker\\AppData\\Local\\Continuum\\anaconda3\\lib\\site-packages\\ipykernel_launcher.py:77: RuntimeWarning: invalid value encountered in longlong_scalars\n",
      "C:\\Users\\jtbricker\\AppData\\Local\\Continuum\\anaconda3\\lib\\site-packages\\sklearn\\metrics\\classification.py:1135: UndefinedMetricWarning: Precision is ill-defined and being set to 0.0 due to no predicted samples.\n",
      "  'precision', 'predicted', average, warn_for)\n",
      "C:\\Users\\jtbricker\\AppData\\Local\\Continuum\\anaconda3\\lib\\site-packages\\ipykernel_launcher.py:77: RuntimeWarning: invalid value encountered in longlong_scalars\n",
      "C:\\Users\\jtbricker\\AppData\\Local\\Continuum\\anaconda3\\lib\\site-packages\\sklearn\\metrics\\classification.py:1135: UndefinedMetricWarning: Precision is ill-defined and being set to 0.0 due to no predicted samples.\n",
      "  'precision', 'predicted', average, warn_for)\n",
      "C:\\Users\\jtbricker\\AppData\\Local\\Continuum\\anaconda3\\lib\\site-packages\\ipykernel_launcher.py:77: RuntimeWarning: invalid value encountered in longlong_scalars\n"
     ]
    }
   ],
   "source": [
    "scores = cross_validate(best3.best_estimator_, X_train3, Y_train3, cv=_cv, return_train_score=True, scoring=_scoring_list)\n",
    "for score in scores:\n",
    "    print(\"%s\\t%s\\t%s\" %(score, np.mean(scores[score]), np.std(scores[score])))"
   ]
  },
  {
   "cell_type": "code",
   "execution_count": 31,
   "metadata": {},
   "outputs": [
    {
     "name": "stdout",
     "output_type": "stream",
     "text": [
      "UPDRS\t0.00757293697819\n"
     ]
    }
   ],
   "source": [
    "model = best3.best_estimator_.named_steps['classifier']\n",
    "feature_names = data3.columns.tolist()[1:]\n",
    "# plot_coefficients(model, feature_names)\n",
    "print_feature_importance(feature_names, model.coef_[0])"
   ]
  },
  {
   "cell_type": "code",
   "execution_count": 32,
   "metadata": {},
   "outputs": [
    {
     "name": "stdout",
     "output_type": "stream",
     "text": [
      "             precision    recall  f1-score   support\n",
      "\n",
      "          0       0.92      1.00      0.96       134\n",
      "          1       0.00      0.00      0.00        12\n",
      "\n",
      "avg / total       0.84      0.92      0.88       146\n",
      "\n"
     ]
    },
    {
     "name": "stderr",
     "output_type": "stream",
     "text": [
      "C:\\Users\\jtbricker\\AppData\\Local\\Continuum\\anaconda3\\lib\\site-packages\\sklearn\\metrics\\classification.py:1135: UndefinedMetricWarning: Precision and F-score are ill-defined and being set to 0.0 in labels with no predicted samples.\n",
      "  'precision', 'predicted', average, warn_for)\n"
     ]
    },
    {
     "data": {
      "image/png": "[encoded data removed]",
      "text/plain": [
       "<matplotlib.figure.Figure at 0x1ddda9a7ac8>"
      ]
     },
     "metadata": {
      "needs_background": "light"
     },
     "output_type": "display_data"
    },
    {
     "name": "stdout",
     "output_type": "stream",
     "text": [
      "0.0 0.0\n",
      "0.00746268656716 0.0\n",
      "0.0223880597015 0.0\n",
      "0.0298507462687 0.0\n",
      "0.044776119403 0.0\n",
      "0.0522388059701 0.0\n",
      "0.0746268656716 0.0833333333333\n",
      "0.119402985075 0.0833333333333\n",
      "0.149253731343 0.0833333333333\n",
      "0.194029850746 0.0833333333333\n",
      "0.201492537313 0.0833333333333\n",
      "0.216417910448 0.0833333333333\n",
      "0.223880597015 0.0833333333333\n",
      "0.246268656716 0.0833333333333\n",
      "0.253731343284 0.0833333333333\n",
      "0.283582089552 0.0833333333333\n",
      "0.291044776119 0.0833333333333\n",
      "0.305970149254 0.0833333333333\n",
      "0.350746268657 0.0833333333333\n",
      "0.39552238806 0.0833333333333\n",
      "0.425373134328 0.0833333333333\n",
      "0.455223880597 0.0833333333333\n",
      "0.485074626866 0.166666666667\n",
      "0.492537313433 0.166666666667\n",
      "0.514925373134 0.166666666667\n",
      "0.559701492537 0.166666666667\n",
      "0.567164179104 0.25\n",
      "0.582089552239 0.25\n",
      "0.597014925373 0.25\n",
      "0.60447761194 0.25\n",
      "0.619402985075 0.25\n",
      "0.626865671642 0.25\n",
      "0.649253731343 0.333333333333\n",
      "0.671641791045 0.333333333333\n",
      "0.694029850746 0.333333333333\n",
      "0.708955223881 0.333333333333\n",
      "0.716417910448 0.333333333333\n",
      "0.761194029851 0.333333333333\n",
      "0.783582089552 0.333333333333\n",
      "0.791044776119 0.333333333333\n",
      "0.805970149254 0.333333333333\n",
      "0.813432835821 0.333333333333\n",
      "0.813432835821 0.5\n",
      "0.820895522388 0.5\n",
      "0.835820895522 0.5\n",
      "0.850746268657 0.5\n",
      "0.865671641791 0.5\n",
      "0.888059701493 0.5\n",
      "0.902985074627 0.5\n",
      "0.902985074627 0.583333333333\n",
      "0.917910447761 0.583333333333\n",
      "0.917910447761 0.666666666667\n",
      "0.932835820896 0.666666666667\n",
      "0.932835820896 0.75\n",
      "0.955223880597 0.75\n",
      "0.962686567164 0.833333333333\n",
      "0.977611940299 0.833333333333\n",
      "0.977611940299 0.916666666667\n",
      "0.985074626866 0.916666666667\n",
      "0.985074626866 1.0\n",
      "1.0 1.0\n"
     ]
    }
   ],
   "source": [
    "plot_roc(best3.best_estimator_, X_test3, Y_test3)"
   ]
  },
  {
   "cell_type": "markdown",
   "metadata": {},
   "source": [
    "## 4. PSP vs PD/MSA"
   ]
  },
  {
   "cell_type": "code",
   "execution_count": 33,
   "metadata": {},
   "outputs": [
    {
     "name": "stdout",
     "output_type": "stream",
     "text": [
      "# Tuning hyper-parameters for f1_micro\n",
      "\n",
      "Fitting 5 folds for each of 20 candidates, totalling 100 fits\n"
     ]
    },
    {
     "name": "stderr",
     "output_type": "stream",
     "text": [
      "[Parallel(n_jobs=-1)]: Done  34 tasks      | elapsed:    7.3s\n",
      "[Parallel(n_jobs=-1)]: Done  85 out of 100 | elapsed:    7.5s remaining:    1.2s\n"
     ]
    },
    {
     "name": "stdout",
     "output_type": "stream",
     "text": [
      "Best parameters set found on development set:\n",
      "\n",
      "{'classifier__C': 0.001623776739188721}\n",
      "\n",
      "Grid scores on development set:\n",
      "\n",
      "0.693 (+/-0.521) for {'classifier__C': 1.0000000000000001e-05}\n",
      "0.434 (+/-0.635) for {'classifier__C': 2.3357214690901213e-05}\n",
      "0.434 (+/-0.635) for {'classifier__C': 5.4555947811685143e-05}\n",
      "0.693 (+/-0.521) for {'classifier__C': 0.00012742749857031334}\n",
      "0.566 (+/-0.635) for {'classifier__C': 0.00029763514416313193}\n",
      "0.566 (+/-0.635) for {'classifier__C': 0.00069519279617756048}\n",
      "0.822 (+/-0.008) for {'classifier__C': 0.001623776739188721}\n",
      "0.762 (+/-0.124) for {'classifier__C': 0.0037926901907322499}\n",
      "0.707 (+/-0.100) for {'classifier__C': 0.0088586679041008226}\n",
      "0.690 (+/-0.103) for {'classifier__C': 0.02069138081114788}\n",
      "0.676 (+/-0.062) for {'classifier__C': 0.048329302385717518}\n",
      "0.684 (+/-0.091) for {'classifier__C': 0.11288378916846883}\n",
      "0.684 (+/-0.091) for {'classifier__C': 0.26366508987303555}\n",
      "0.684 (+/-0.091) for {'classifier__C': 0.6158482110660255}\n",
      "0.679 (+/-0.105) for {'classifier__C': 1.4384498882876631}\n",
      "0.679 (+/-0.105) for {'classifier__C': 3.3598182862837809}\n",
      "0.679 (+/-0.105) for {'classifier__C': 7.8475997035146063}\n",
      "0.679 (+/-0.105) for {'classifier__C': 18.329807108324339}\n",
      "0.679 (+/-0.105) for {'classifier__C': 42.813323987193868}\n",
      "0.679 (+/-0.105) for {'classifier__C': 100.0}\n",
      "\n",
      "Detailed classification report (holdout):\n",
      "\n",
      "The model is trained on the full development set.\n",
      "The scores are computed on the full evaluation set.\n",
      "\n",
      "             precision    recall  f1-score   support\n",
      "\n",
      "          0       0.00      0.00      0.00       119\n",
      "          1       0.18      1.00      0.31        27\n",
      "\n",
      "avg / total       0.03      0.18      0.06       146\n",
      "\n",
      "\n",
      "recall\t1.0\n",
      "precision\t0.184931506849\n",
      "auc\t0.5\n",
      "specificity\t0.184931506849\n",
      "npv\t1.0\n",
      "accuracy\t0.184931506849\n"
     ]
    },
    {
     "name": "stderr",
     "output_type": "stream",
     "text": [
      "[Parallel(n_jobs=-1)]: Done 100 out of 100 | elapsed:    7.9s finished\n",
      "C:\\Users\\jtbricker\\AppData\\Local\\Continuum\\anaconda3\\lib\\site-packages\\sklearn\\metrics\\classification.py:1135: UndefinedMetricWarning: Precision and F-score are ill-defined and being set to 0.0 in labels with no predicted samples.\n",
      "  'precision', 'predicted', average, warn_for)\n"
     ]
    }
   ],
   "source": [
    "# Get the data\n",
    "data4 = group_classes(_data, {1:0, 2:0, 3:1})\n",
    "\n",
    "y4 = data4['GroupID']\n",
    "X4 = data4.drop(['GroupID'], axis=1)\n",
    "\n",
    "X_train4, X_test4, Y_train4, Y_test4 = train_test_split(X4, y4, test_size=_test_size, random_state=42)\n",
    "\n",
    "best4 = grid_search_optimization(clf, param_grid, X_train4, Y_train4, X_test4, Y_test4, cv=_cv, scoring=_scoring, verbose=1)"
   ]
  },
  {
   "cell_type": "code",
   "execution_count": 34,
   "metadata": {},
   "outputs": [
    {
     "name": "stdout",
     "output_type": "stream",
     "text": [
      "fit_time\t0.0134112358093\t0.00173757940819\n",
      "score_time\t0.00608777999878\t0.000740771766315\n",
      "test_recall\t0.0\t0.0\n",
      "train_recall\t0.0\t0.0\n",
      "test_precision\t0.0\t0.0\n",
      "train_precision\t0.0\t0.0\n",
      "test_auc\t0.498947368421\t0.00210526315789\n",
      "train_auc\t0.499738903394\t0.000522193211488\n",
      "test_specificity\tnan\tnan\n",
      "train_specificity\tnan\tnan\n",
      "test_npv\t0.0\t0.0\n",
      "train_npv\t0.0\t0.0\n",
      "test_accuracy\t0.822418021758\t0.00381310087509\n",
      "train_accuracy\t0.82370902875\t0.00131638980291\n"
     ]
    },
    {
     "name": "stderr",
     "output_type": "stream",
     "text": [
      "C:\\Users\\jtbricker\\AppData\\Local\\Continuum\\anaconda3\\lib\\site-packages\\sklearn\\metrics\\classification.py:1135: UndefinedMetricWarning: Precision is ill-defined and being set to 0.0 due to no predicted samples.\n",
      "  'precision', 'predicted', average, warn_for)\n",
      "C:\\Users\\jtbricker\\AppData\\Local\\Continuum\\anaconda3\\lib\\site-packages\\ipykernel_launcher.py:77: RuntimeWarning: invalid value encountered in longlong_scalars\n",
      "C:\\Users\\jtbricker\\AppData\\Local\\Continuum\\anaconda3\\lib\\site-packages\\sklearn\\metrics\\classification.py:1135: UndefinedMetricWarning: Precision is ill-defined and being set to 0.0 due to no predicted samples.\n",
      "  'precision', 'predicted', average, warn_for)\n",
      "C:\\Users\\jtbricker\\AppData\\Local\\Continuum\\anaconda3\\lib\\site-packages\\ipykernel_launcher.py:77: RuntimeWarning: invalid value encountered in longlong_scalars\n",
      "C:\\Users\\jtbricker\\AppData\\Local\\Continuum\\anaconda3\\lib\\site-packages\\sklearn\\metrics\\classification.py:1135: UndefinedMetricWarning: Precision is ill-defined and being set to 0.0 due to no predicted samples.\n",
      "  'precision', 'predicted', average, warn_for)\n",
      "C:\\Users\\jtbricker\\AppData\\Local\\Continuum\\anaconda3\\lib\\site-packages\\ipykernel_launcher.py:77: RuntimeWarning: invalid value encountered in longlong_scalars\n",
      "C:\\Users\\jtbricker\\AppData\\Local\\Continuum\\anaconda3\\lib\\site-packages\\sklearn\\metrics\\classification.py:1135: UndefinedMetricWarning: Precision is ill-defined and being set to 0.0 due to no predicted samples.\n",
      "  'precision', 'predicted', average, warn_for)\n",
      "C:\\Users\\jtbricker\\AppData\\Local\\Continuum\\anaconda3\\lib\\site-packages\\ipykernel_launcher.py:77: RuntimeWarning: invalid value encountered in longlong_scalars\n"
     ]
    }
   ],
   "source": [
    "scores = cross_validate(best4.best_estimator_, X_train4, Y_train4, cv=_cv, return_train_score=True, scoring=_scoring_list)\n",
    "for score in scores:\n",
    "    print(\"%s\\t%s\\t%s\" %(score, np.mean(scores[score]), np.std(scores[score])))"
   ]
  },
  {
   "cell_type": "code",
   "execution_count": 35,
   "metadata": {},
   "outputs": [
    {
     "ename": "ValueError",
     "evalue": "shape mismatch: objects cannot be broadcast to a single shape",
     "output_type": "error",
     "traceback": [
      "\u001b[1;31m---------------------------------------------------------------------------\u001b[0m",
      "\u001b[1;31mValueError\u001b[0m                                Traceback (most recent call last)",
      "\u001b[1;32m<ipython-input-35-051f6bab58a6>\u001b[0m in \u001b[0;36m<module>\u001b[1;34m()\u001b[0m\n\u001b[0;32m      1\u001b[0m \u001b[0mmodel\u001b[0m \u001b[1;33m=\u001b[0m \u001b[0mbest4\u001b[0m\u001b[1;33m.\u001b[0m\u001b[0mbest_estimator_\u001b[0m\u001b[1;33m.\u001b[0m\u001b[0mnamed_steps\u001b[0m\u001b[1;33m[\u001b[0m\u001b[1;34m'classifier'\u001b[0m\u001b[1;33m]\u001b[0m\u001b[1;33m\u001b[0m\u001b[0m\n\u001b[0;32m      2\u001b[0m \u001b[0mfeature_names\u001b[0m \u001b[1;33m=\u001b[0m \u001b[0mdata4\u001b[0m\u001b[1;33m.\u001b[0m\u001b[0mcolumns\u001b[0m\u001b[1;33m.\u001b[0m\u001b[0mtolist\u001b[0m\u001b[1;33m(\u001b[0m\u001b[1;33m)\u001b[0m\u001b[1;33m[\u001b[0m\u001b[1;36m1\u001b[0m\u001b[1;33m:\u001b[0m\u001b[1;33m]\u001b[0m\u001b[1;33m\u001b[0m\u001b[0m\n\u001b[1;32m----> 3\u001b[1;33m \u001b[0mplot_coefficients\u001b[0m\u001b[1;33m(\u001b[0m\u001b[0mmodel\u001b[0m\u001b[1;33m,\u001b[0m \u001b[0mfeature_names\u001b[0m\u001b[1;33m)\u001b[0m\u001b[1;33m\u001b[0m\u001b[0m\n\u001b[0m\u001b[0;32m      4\u001b[0m \u001b[0mprint_feature_importance\u001b[0m\u001b[1;33m(\u001b[0m\u001b[0mfeature_names\u001b[0m\u001b[1;33m,\u001b[0m \u001b[0mmodel\u001b[0m\u001b[1;33m.\u001b[0m\u001b[0mcoef_\u001b[0m\u001b[1;33m[\u001b[0m\u001b[1;36m0\u001b[0m\u001b[1;33m]\u001b[0m\u001b[1;33m)\u001b[0m\u001b[1;33m\u001b[0m\u001b[0m\n",
      "\u001b[1;32m<ipython-input-1-8ed0a752be9b>\u001b[0m in \u001b[0;36mplot_coefficients\u001b[1;34m(classifier, feature_names, top_features)\u001b[0m\n\u001b[0;32m     62\u001b[0m      \u001b[0mplt\u001b[0m\u001b[1;33m.\u001b[0m\u001b[0mfigure\u001b[0m\u001b[1;33m(\u001b[0m\u001b[0mfigsize\u001b[0m\u001b[1;33m=\u001b[0m\u001b[1;33m(\u001b[0m\u001b[1;36m15\u001b[0m\u001b[1;33m,\u001b[0m \u001b[1;36m5\u001b[0m\u001b[1;33m)\u001b[0m\u001b[1;33m)\u001b[0m\u001b[1;33m\u001b[0m\u001b[0m\n\u001b[0;32m     63\u001b[0m      \u001b[0mcolors\u001b[0m \u001b[1;33m=\u001b[0m \u001b[1;33m[\u001b[0m\u001b[1;34m'red'\u001b[0m \u001b[1;32mif\u001b[0m \u001b[0mc\u001b[0m \u001b[1;33m<\u001b[0m \u001b[1;36m0\u001b[0m \u001b[1;32melse\u001b[0m \u001b[1;34m'blue'\u001b[0m \u001b[1;32mfor\u001b[0m \u001b[0mc\u001b[0m \u001b[1;32min\u001b[0m \u001b[0mcoef\u001b[0m\u001b[1;33m[\u001b[0m\u001b[0mtop_coefficients\u001b[0m\u001b[1;33m]\u001b[0m\u001b[1;33m]\u001b[0m\u001b[1;33m\u001b[0m\u001b[0m\n\u001b[1;32m---> 64\u001b[1;33m      \u001b[0mplt\u001b[0m\u001b[1;33m.\u001b[0m\u001b[0mbar\u001b[0m\u001b[1;33m(\u001b[0m\u001b[0mnp\u001b[0m\u001b[1;33m.\u001b[0m\u001b[0marange\u001b[0m\u001b[1;33m(\u001b[0m\u001b[1;36m2\u001b[0m \u001b[1;33m*\u001b[0m \u001b[0mtop_features\u001b[0m\u001b[1;33m)\u001b[0m\u001b[1;33m,\u001b[0m \u001b[0mcoef\u001b[0m\u001b[1;33m[\u001b[0m\u001b[0mtop_coefficients\u001b[0m\u001b[1;33m]\u001b[0m\u001b[1;33m,\u001b[0m \u001b[0mcolor\u001b[0m\u001b[1;33m=\u001b[0m\u001b[0mcolors\u001b[0m\u001b[1;33m)\u001b[0m\u001b[1;33m\u001b[0m\u001b[0m\n\u001b[0m\u001b[0;32m     65\u001b[0m      \u001b[0mfeature_names\u001b[0m \u001b[1;33m=\u001b[0m \u001b[0mnp\u001b[0m\u001b[1;33m.\u001b[0m\u001b[0marray\u001b[0m\u001b[1;33m(\u001b[0m\u001b[0mfeature_names\u001b[0m\u001b[1;33m)\u001b[0m\u001b[1;33m\u001b[0m\u001b[0m\n\u001b[0;32m     66\u001b[0m      \u001b[0mplt\u001b[0m\u001b[1;33m.\u001b[0m\u001b[0mxticks\u001b[0m\u001b[1;33m(\u001b[0m\u001b[0mnp\u001b[0m\u001b[1;33m.\u001b[0m\u001b[0marange\u001b[0m\u001b[1;33m(\u001b[0m\u001b[1;36m1\u001b[0m\u001b[1;33m,\u001b[0m \u001b[1;36m1\u001b[0m \u001b[1;33m+\u001b[0m \u001b[1;36m2\u001b[0m \u001b[1;33m*\u001b[0m \u001b[0mtop_features\u001b[0m\u001b[1;33m)\u001b[0m\u001b[1;33m,\u001b[0m \u001b[0mfeature_names\u001b[0m\u001b[1;33m[\u001b[0m\u001b[0mtop_coefficients\u001b[0m\u001b[1;33m]\u001b[0m\u001b[1;33m,\u001b[0m \u001b[0mrotation\u001b[0m\u001b[1;33m=\u001b[0m\u001b[1;36m60\u001b[0m\u001b[1;33m,\u001b[0m \u001b[0mha\u001b[0m\u001b[1;33m=\u001b[0m\u001b[1;34m'right'\u001b[0m\u001b[1;33m)\u001b[0m\u001b[1;33m\u001b[0m\u001b[0m\n",
      "\u001b[1;32m~\\AppData\\Local\\Continuum\\anaconda3\\lib\\site-packages\\matplotlib\\pyplot.py\u001b[0m in \u001b[0;36mbar\u001b[1;34m(*args, **kwargs)\u001b[0m\n\u001b[0;32m   2625\u001b[0m                       mplDeprecation)\n\u001b[0;32m   2626\u001b[0m     \u001b[1;32mtry\u001b[0m\u001b[1;33m:\u001b[0m\u001b[1;33m\u001b[0m\u001b[0m\n\u001b[1;32m-> 2627\u001b[1;33m         \u001b[0mret\u001b[0m \u001b[1;33m=\u001b[0m \u001b[0max\u001b[0m\u001b[1;33m.\u001b[0m\u001b[0mbar\u001b[0m\u001b[1;33m(\u001b[0m\u001b[1;33m*\u001b[0m\u001b[0margs\u001b[0m\u001b[1;33m,\u001b[0m \u001b[1;33m**\u001b[0m\u001b[0mkwargs\u001b[0m\u001b[1;33m)\u001b[0m\u001b[1;33m\u001b[0m\u001b[0m\n\u001b[0m\u001b[0;32m   2628\u001b[0m     \u001b[1;32mfinally\u001b[0m\u001b[1;33m:\u001b[0m\u001b[1;33m\u001b[0m\u001b[0m\n\u001b[0;32m   2629\u001b[0m         \u001b[0max\u001b[0m\u001b[1;33m.\u001b[0m\u001b[0m_hold\u001b[0m \u001b[1;33m=\u001b[0m \u001b[0mwashold\u001b[0m\u001b[1;33m\u001b[0m\u001b[0m\n",
      "\u001b[1;32m~\\AppData\\Local\\Continuum\\anaconda3\\lib\\site-packages\\matplotlib\\__init__.py\u001b[0m in \u001b[0;36minner\u001b[1;34m(ax, *args, **kwargs)\u001b[0m\n\u001b[0;32m   1708\u001b[0m                     warnings.warn(msg % (label_namer, func.__name__),\n\u001b[0;32m   1709\u001b[0m                                   RuntimeWarning, stacklevel=2)\n\u001b[1;32m-> 1710\u001b[1;33m             \u001b[1;32mreturn\u001b[0m \u001b[0mfunc\u001b[0m\u001b[1;33m(\u001b[0m\u001b[0max\u001b[0m\u001b[1;33m,\u001b[0m \u001b[1;33m*\u001b[0m\u001b[0margs\u001b[0m\u001b[1;33m,\u001b[0m \u001b[1;33m**\u001b[0m\u001b[0mkwargs\u001b[0m\u001b[1;33m)\u001b[0m\u001b[1;33m\u001b[0m\u001b[0m\n\u001b[0m\u001b[0;32m   1711\u001b[0m         \u001b[0mpre_doc\u001b[0m \u001b[1;33m=\u001b[0m \u001b[0minner\u001b[0m\u001b[1;33m.\u001b[0m\u001b[0m__doc__\u001b[0m\u001b[1;33m\u001b[0m\u001b[0m\n\u001b[0;32m   1712\u001b[0m         \u001b[1;32mif\u001b[0m \u001b[0mpre_doc\u001b[0m \u001b[1;32mis\u001b[0m \u001b[1;32mNone\u001b[0m\u001b[1;33m:\u001b[0m\u001b[1;33m\u001b[0m\u001b[0m\n",
      "\u001b[1;32m~\\AppData\\Local\\Continuum\\anaconda3\\lib\\site-packages\\matplotlib\\axes\\_axes.py\u001b[0m in \u001b[0;36mbar\u001b[1;34m(self, *args, **kwargs)\u001b[0m\n\u001b[0;32m   2079\u001b[0m         x, height, width, y, linewidth = np.broadcast_arrays(\n\u001b[0;32m   2080\u001b[0m             \u001b[1;31m# Make args iterable too.\u001b[0m\u001b[1;33m\u001b[0m\u001b[1;33m\u001b[0m\u001b[0m\n\u001b[1;32m-> 2081\u001b[1;33m             np.atleast_1d(x), height, width, y, linewidth)\n\u001b[0m\u001b[0;32m   2082\u001b[0m \u001b[1;33m\u001b[0m\u001b[0m\n\u001b[0;32m   2083\u001b[0m         \u001b[1;32mif\u001b[0m \u001b[0morientation\u001b[0m \u001b[1;33m==\u001b[0m \u001b[1;34m'vertical'\u001b[0m\u001b[1;33m:\u001b[0m\u001b[1;33m\u001b[0m\u001b[0m\n",
      "\u001b[1;32m~\\AppData\\Local\\Continuum\\anaconda3\\lib\\site-packages\\numpy\\lib\\stride_tricks.py\u001b[0m in \u001b[0;36mbroadcast_arrays\u001b[1;34m(*args, **kwargs)\u001b[0m\n\u001b[0;32m    247\u001b[0m     \u001b[0margs\u001b[0m \u001b[1;33m=\u001b[0m \u001b[1;33m[\u001b[0m\u001b[0mnp\u001b[0m\u001b[1;33m.\u001b[0m\u001b[0marray\u001b[0m\u001b[1;33m(\u001b[0m\u001b[0m_m\u001b[0m\u001b[1;33m,\u001b[0m \u001b[0mcopy\u001b[0m\u001b[1;33m=\u001b[0m\u001b[1;32mFalse\u001b[0m\u001b[1;33m,\u001b[0m \u001b[0msubok\u001b[0m\u001b[1;33m=\u001b[0m\u001b[0msubok\u001b[0m\u001b[1;33m)\u001b[0m \u001b[1;32mfor\u001b[0m \u001b[0m_m\u001b[0m \u001b[1;32min\u001b[0m \u001b[0margs\u001b[0m\u001b[1;33m]\u001b[0m\u001b[1;33m\u001b[0m\u001b[0m\n\u001b[0;32m    248\u001b[0m \u001b[1;33m\u001b[0m\u001b[0m\n\u001b[1;32m--> 249\u001b[1;33m     \u001b[0mshape\u001b[0m \u001b[1;33m=\u001b[0m \u001b[0m_broadcast_shape\u001b[0m\u001b[1;33m(\u001b[0m\u001b[1;33m*\u001b[0m\u001b[0margs\u001b[0m\u001b[1;33m)\u001b[0m\u001b[1;33m\u001b[0m\u001b[0m\n\u001b[0m\u001b[0;32m    250\u001b[0m \u001b[1;33m\u001b[0m\u001b[0m\n\u001b[0;32m    251\u001b[0m     \u001b[1;32mif\u001b[0m \u001b[0mall\u001b[0m\u001b[1;33m(\u001b[0m\u001b[0marray\u001b[0m\u001b[1;33m.\u001b[0m\u001b[0mshape\u001b[0m \u001b[1;33m==\u001b[0m \u001b[0mshape\u001b[0m \u001b[1;32mfor\u001b[0m \u001b[0marray\u001b[0m \u001b[1;32min\u001b[0m \u001b[0margs\u001b[0m\u001b[1;33m)\u001b[0m\u001b[1;33m:\u001b[0m\u001b[1;33m\u001b[0m\u001b[0m\n",
      "\u001b[1;32m~\\AppData\\Local\\Continuum\\anaconda3\\lib\\site-packages\\numpy\\lib\\stride_tricks.py\u001b[0m in \u001b[0;36m_broadcast_shape\u001b[1;34m(*args)\u001b[0m\n\u001b[0;32m    182\u001b[0m     \u001b[1;31m# use the old-iterator because np.nditer does not handle size 0 arrays\u001b[0m\u001b[1;33m\u001b[0m\u001b[1;33m\u001b[0m\u001b[0m\n\u001b[0;32m    183\u001b[0m     \u001b[1;31m# consistently\u001b[0m\u001b[1;33m\u001b[0m\u001b[1;33m\u001b[0m\u001b[0m\n\u001b[1;32m--> 184\u001b[1;33m     \u001b[0mb\u001b[0m \u001b[1;33m=\u001b[0m \u001b[0mnp\u001b[0m\u001b[1;33m.\u001b[0m\u001b[0mbroadcast\u001b[0m\u001b[1;33m(\u001b[0m\u001b[1;33m*\u001b[0m\u001b[0margs\u001b[0m\u001b[1;33m[\u001b[0m\u001b[1;33m:\u001b[0m\u001b[1;36m32\u001b[0m\u001b[1;33m]\u001b[0m\u001b[1;33m)\u001b[0m\u001b[1;33m\u001b[0m\u001b[0m\n\u001b[0m\u001b[0;32m    185\u001b[0m     \u001b[1;31m# unfortunately, it cannot handle 32 or more arguments directly\u001b[0m\u001b[1;33m\u001b[0m\u001b[1;33m\u001b[0m\u001b[0m\n\u001b[0;32m    186\u001b[0m     \u001b[1;32mfor\u001b[0m \u001b[0mpos\u001b[0m \u001b[1;32min\u001b[0m \u001b[0mrange\u001b[0m\u001b[1;33m(\u001b[0m\u001b[1;36m32\u001b[0m\u001b[1;33m,\u001b[0m \u001b[0mlen\u001b[0m\u001b[1;33m(\u001b[0m\u001b[0margs\u001b[0m\u001b[1;33m)\u001b[0m\u001b[1;33m,\u001b[0m \u001b[1;36m31\u001b[0m\u001b[1;33m)\u001b[0m\u001b[1;33m:\u001b[0m\u001b[1;33m\u001b[0m\u001b[0m\n",
      "\u001b[1;31mValueError\u001b[0m: shape mismatch: objects cannot be broadcast to a single shape"
     ]
    },
    {
     "data": {
      "image/png": "[encoded data removed]",
      "text/plain": [
       "<matplotlib.figure.Figure at 0x1ddda8e3d68>"
      ]
     },
     "metadata": {
      "needs_background": "light"
     },
     "output_type": "display_data"
    }
   ],
   "source": [
    "model = best4.best_estimator_.named_steps['classifier']\n",
    "feature_names = data4.columns.tolist()[1:]\n",
    "plot_coefficients(model, feature_names)\n",
    "print_feature_importance(feature_names, model.coef_[0])"
   ]
  },
  {
   "cell_type": "code",
   "execution_count": 36,
   "metadata": {},
   "outputs": [
    {
     "name": "stdout",
     "output_type": "stream",
     "text": [
      "             precision    recall  f1-score   support\n",
      "\n",
      "          0       0.00      0.00      0.00       119\n",
      "          1       0.18      1.00      0.31        27\n",
      "\n",
      "avg / total       0.03      0.18      0.06       146\n",
      "\n"
     ]
    },
    {
     "name": "stderr",
     "output_type": "stream",
     "text": [
      "C:\\Users\\jtbricker\\AppData\\Local\\Continuum\\anaconda3\\lib\\site-packages\\sklearn\\metrics\\classification.py:1135: UndefinedMetricWarning: Precision and F-score are ill-defined and being set to 0.0 in labels with no predicted samples.\n",
      "  'precision', 'predicted', average, warn_for)\n"
     ]
    },
    {
     "data": {
      "image/png": "[encoded data removed]",
      "text/plain": [
       "<matplotlib.figure.Figure at 0x1dddac100f0>"
      ]
     },
     "metadata": {
      "needs_background": "light"
     },
     "output_type": "display_data"
    },
    {
     "name": "stdout",
     "output_type": "stream",
     "text": [
      "0.0 0.037037037037\n",
      "0.0168067226891 0.037037037037\n",
      "0.0252100840336 0.037037037037\n",
      "0.0420168067227 0.037037037037\n",
      "0.0504201680672 0.037037037037\n",
      "0.0840336134454 0.037037037037\n",
      "0.100840336134 0.0740740740741\n",
      "0.126050420168 0.0740740740741\n",
      "0.159663865546 0.0740740740741\n",
      "0.201680672269 0.111111111111\n",
      "0.210084033613 0.111111111111\n",
      "0.226890756303 0.111111111111\n",
      "0.235294117647 0.111111111111\n",
      "0.260504201681 0.111111111111\n",
      "0.268907563025 0.111111111111\n",
      "0.285714285714 0.185185185185\n",
      "0.294117647059 0.185185185185\n",
      "0.310924369748 0.185185185185\n",
      "0.327731092437 0.185185185185\n",
      "0.327731092437 0.222222222222\n",
      "0.336134453782 0.222222222222\n",
      "0.336134453782 0.259259259259\n",
      "0.344537815126 0.259259259259\n",
      "0.386554621849 0.296296296296\n",
      "0.420168067227 0.296296296296\n",
      "0.428571428571 0.296296296296\n",
      "0.428571428571 0.333333333333\n",
      "0.445378151261 0.333333333333\n",
      "0.478991596639 0.37037037037\n",
      "0.487394957983 0.37037037037\n",
      "0.512605042017 0.37037037037\n",
      "0.579831932773 0.37037037037\n",
      "0.596638655462 0.37037037037\n",
      "0.605042016807 0.407407407407\n",
      "0.613445378151 0.407407407407\n",
      "0.63025210084 0.407407407407\n",
      "0.638655462185 0.407407407407\n",
      "0.663865546218 0.444444444444\n",
      "0.680672268908 0.481481481481\n",
      "0.705882352941 0.481481481481\n",
      "0.72268907563 0.481481481481\n",
      "0.731092436975 0.481481481481\n",
      "0.781512605042 0.481481481481\n",
      "0.798319327731 0.518518518519\n",
      "0.806722689076 0.518518518519\n",
      "0.823529411765 0.518518518519\n",
      "0.857142857143 0.518518518519\n",
      "0.857142857143 0.592592592593\n",
      "0.857142857143 0.666666666667\n",
      "0.857142857143 0.740740740741\n",
      "0.882352941176 0.740740740741\n",
      "0.882352941176 0.814814814815\n",
      "0.899159663866 0.814814814815\n",
      "0.899159663866 0.851851851852\n",
      "0.949579831933 0.851851851852\n",
      "0.949579831933 0.888888888889\n",
      "0.966386554622 0.888888888889\n",
      "0.966386554622 0.925925925926\n",
      "0.983193277311 0.925925925926\n",
      "0.983193277311 0.962962962963\n",
      "1.0 0.962962962963\n",
      "1.0 1.0\n"
     ]
    }
   ],
   "source": [
    "plot_roc(best4.best_estimator_, X_test4, Y_test4)"
   ]
  },
  {
   "cell_type": "code",
   "execution_count": null,
   "metadata": {},
   "outputs": [],
   "source": []
  }
 ],
 "metadata": {
  "kernelspec": {
   "display_name": "Python 3",
   "language": "python",
   "name": "python3"
  },
  "language_info": {
   "codemirror_mode": {
    "name": "ipython",
    "version": 3
   },
   "file_extension": ".py",
   "mimetype": "text/x-python",
   "name": "python",
   "nbconvert_exporter": "python",
   "pygments_lexer": "ipython3",
   "version": "3.7.1"
  }
 },
 "nbformat": 4,
 "nbformat_minor": 2
}
