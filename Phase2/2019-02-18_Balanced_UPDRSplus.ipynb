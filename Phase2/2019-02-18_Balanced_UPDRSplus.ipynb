{
 "cells": [
  {
   "cell_type": "markdown",
   "metadata": {},
   "source": [
    "## Calculate balanced machine learning measures, UPDRS/Age/Sex, All 6 analyses\n",
    "\n",
    "From request [Calculate balanced machine learning measures](https://trello.com/c/fGlOzVVt)\n",
    "\n",
    "Weighted accuracy, ppv, npv, specificity, and sensitivity [See Sample Calculated Metrics](Machine_Learning_Metric_Calc.xlsx)"
   ]
  },
  {
   "cell_type": "markdown",
   "metadata": {},
   "source": [
    "## Imports and Function Definitions"
   ]
  },
  {
   "cell_type": "code",
   "execution_count": 27,
   "metadata": {},
   "outputs": [],
   "source": [
    "import pandas as pd\n",
    "import numpy as np\n",
    "\n",
    "import matplotlib.pyplot as plt\n",
    "import itertools\n",
    "\n",
    "from sklearn.decomposition import PCA\n",
    "from sklearn.feature_selection import SelectKBest, chi2\n",
    "from sklearn.preprocessing import StandardScaler, Normalizer\n",
    "from sklearn.metrics import accuracy_score, confusion_matrix, classification_report, precision_recall_fscore_support, roc_curve, make_scorer, accuracy_score, precision_score, recall_score, roc_auc_score\n",
    "from sklearn.model_selection import StratifiedKFold, cross_val_score, KFold, train_test_split, LeaveOneOut, GridSearchCV, cross_validate\n",
    "from sklearn.svm import SVC\n",
    "\n",
    "from imblearn.over_sampling import RandomOverSampler\n",
    "from imblearn.pipeline import Pipeline\n",
    "\n",
    "def plot_confusion_matrix(cm, classes=[0,1],\n",
    "                          normalize=False,\n",
    "                          title='Confusion matrix',\n",
    "                          cmap=plt.cm.Blues):\n",
    "    \"\"\"\n",
    "    This function prints and plots the confusion matrix.\n",
    "    Normalization can be applied by setting `normalize=True`.\n",
    "    \"\"\"\n",
    "    if normalize:\n",
    "        cm = cm.astype('float') / cm.sum(axis=1)[:, np.newaxis]\n",
    "        print(\"Normalized confusion matrix\")\n",
    "    else:\n",
    "        print('Confusion matrix, without normalization')\n",
    "\n",
    "    print(cm)\n",
    "\n",
    "    plt.imshow(cm, interpolation='nearest', cmap=cmap)\n",
    "    plt.title(title)\n",
    "    plt.colorbar()\n",
    "    tick_marks = np.arange(len(classes))\n",
    "    plt.xticks(tick_marks, classes, rotation=45)\n",
    "    plt.yticks(tick_marks, classes)\n",
    "\n",
    "    fmt = '.2f' if normalize else 'd'\n",
    "    thresh = cm.max() / 2.\n",
    "    for i, j in itertools.product(range(cm.shape[0]), range(cm.shape[1])):\n",
    "        plt.text(j, i, format(cm[i, j], fmt),\n",
    "                 horizontalalignment=\"center\",\n",
    "                 color=\"white\" if cm[i, j] > thresh else \"black\")\n",
    "\n",
    "    plt.ylabel('True label')\n",
    "    plt.xlabel('Predicted label')\n",
    "    plt.tight_layout()\n",
    "\n",
    "def grid_search_optimization(model, tuned_parameters, X, y, Xh, yh, cv=5, scoring='accuracy', verbose=False):\n",
    "    print(\"# Tuning hyper-parameters for %s\" %scoring)\n",
    "    print()\n",
    "\n",
    "    clf = GridSearchCV(model, tuned_parameters, cv=cv, n_jobs = -1, scoring=scoring, verbose=1)\n",
    "    clf.fit(X, y)\n",
    "\n",
    "    print(\"Best parameters set found on development set:\")\n",
    "    print()\n",
    "    print(clf.best_params_)\n",
    "    print()\n",
    "    if verbose:\n",
    "        print(\"Grid scores on development set:\")\n",
    "        print()\n",
    "        means = clf.cv_results_['mean_test_score']\n",
    "        stds = clf.cv_results_['std_test_score']\n",
    "        for mean, std, params in zip(means, stds, clf.cv_results_['params']):\n",
    "            print(\"%0.3f (+/-%0.03f) for %r\"\n",
    "                  % (mean, std * 2, params))\n",
    "        print()\n",
    "\n",
    "    print(\"Detailed classification report (holdout):\")\n",
    "    print()\n",
    "    print(\"The model is trained on the full development set.\")\n",
    "    print(\"The scores are computed on the full evaluation set.\")\n",
    "    print()\n",
    "    y_true, y_pred = yh, clf.predict(Xh)\n",
    "    print(classification_report(y_true, y_pred))\n",
    "    print()\n",
    "    plot_confusion_matrix(confusion_matrix(y_true, y_pred)) \n",
    "    print()\n",
    "    get_metrics(clf.best_estimator_, Xh, yh)\n",
    "    \n",
    "    return clf\n",
    "\n",
    "def group_classes(data, grouping):\n",
    "        classes_to_keep = grouping.keys()\n",
    "        data_to_keep = data.loc[data['GroupID'].isin(classes_to_keep)]\n",
    "        classes_to_change = {k:grouping[k] for k in classes_to_keep if k!= grouping[k]}\n",
    "        return data_to_keep.replace(classes_to_change)\n",
    "    \n",
    "def plot_coefficients(classifier, feature_names, top_features=20):\n",
    "     coef = classifier.coef_.ravel()\n",
    "     top_positive_coefficients = np.argsort(coef)[-top_features:]\n",
    "     top_negative_coefficients = np.argsort(coef)[:top_features]\n",
    "     top_coefficients = np.hstack([top_negative_coefficients, top_positive_coefficients])\n",
    "     # create plot\n",
    "     plt.figure(figsize=(15, 5))\n",
    "     colors = ['red' if c < 0 else 'blue' for c in coef[top_coefficients]]\n",
    "     plt.bar(np.arange(2 * top_features), coef[top_coefficients], color=colors)\n",
    "     feature_names = np.array(feature_names)\n",
    "     plt.xticks(np.arange(1, 1 + 2 * top_features), feature_names[top_coefficients], rotation=60, ha='right')\n",
    "     plt.show()\n",
    "        \n",
    "def print_feature_importance(feature_names, coefs):\n",
    "    assert len(feature_names) == len(coefs), \"Arrays have difference lengths. Something went wrong\"\n",
    "    for feature, coef in zip(feature_names, coefs):\n",
    "        print(\"%s\\t%s\" %(feature, coef))\n",
    "        \n",
    "# AKA True Negative Rate\n",
    "def specificity(y_true, y_pred):\n",
    "    cm = confusion_matrix(y_true, y_pred)\n",
    "    return cm[0,0] / cm[0,:].sum()\n",
    "\n",
    "def negative_predictive_value(y_true, y_pred):\n",
    "    cm = confusion_matrix(y_true, y_pred)\n",
    "    return cm[0,0] / cm[:,0].sum()\n",
    "\n",
    "def get_weighted_confusion_matrix(y_true, y_pred):\n",
    "    cm = confusion_matrix(y_true, y_pred)\n",
    "    tn = cm[0,0]\n",
    "    tp = cm[1,1]\n",
    "    fp = cm[0,1]\n",
    "    fn = cm[1,0]\n",
    "    \n",
    "    tnw = tn / (tn + fp)\n",
    "    tpw = tp / (tp + fn)\n",
    "    fpw = fp / (tn + fp)\n",
    "    fnw = fn / (tp + fn)\n",
    "    \n",
    "    return tpw, fpw, fnw, tnw\n",
    "\n",
    "def weighted_accuracy(y_true, y_pred):\n",
    "    tpw, fpw, fnw, tnw = get_weighted_confusion_matrix(y_true, y_pred)\n",
    "    \n",
    "    return (tpw + tnw) / (tpw + fpw + fnw + tnw)\n",
    "    \n",
    "def weighted_sensitivity(y_true, y_pred):\n",
    "    tpw, fpw, fnw, tnw = get_weighted_confusion_matrix(y_true, y_pred)\n",
    "\n",
    "    return tpw / (tpw + fnw)\n",
    "    \n",
    "def weighted_specificity(y_true, y_pred):\n",
    "    tpw, fpw, fnw, tnw = get_weighted_confusion_matrix(y_true, y_pred)\n",
    "\n",
    "    return tnw / (tnw + fpw)\n",
    "    \n",
    "def weighted_ppv(y_true, y_pred):\n",
    "    tpw, fpw, fnw, tnw = get_weighted_confusion_matrix(y_true, y_pred)\n",
    "    \n",
    "    return tpw / (tpw + fpw)\n",
    "\n",
    "def weighted_npv(y_true, y_pred):\n",
    "    tpw, fpw, fnw, tnw = get_weighted_confusion_matrix(y_true, y_pred)\n",
    "    \n",
    "    return tnw / (tnw + fnw)\n",
    "\n",
    "def plot_roc(model, X_test, Y_test):\n",
    "    y_true, y_pred = Y_test, model.predict(X_test)\n",
    "    print(classification_report(y_true, y_pred))\n",
    "\n",
    "    y_pred_prob = model.predict_proba(X_test)[:,1]\n",
    "\n",
    "    fpr, tpr, thresholds = roc_curve(Y_test, y_pred_prob)\n",
    "\n",
    "    plt.plot([0,1],[0,1], 'k--')\n",
    "    plt.plot(fpr, tpr, label='Linear SVC')\n",
    "    plt.xlabel('False Positive Rate')\n",
    "    plt.ylabel('True Positive Rate')\n",
    "    plt.title('Linear SVC ROC Curve')\n",
    "    plt.show()\n",
    "    \n",
    "    for a,b in zip(fpr, tpr):\n",
    "        print(a,b)\n",
    "    \n",
    "def get_metrics(model, X, y):\n",
    "    for metric in _scoring_list:\n",
    "        score = _scoring_list[metric](model, X, y)\n",
    "        print(\"%s\\t%s\" %(metric, score))"
   ]
  },
  {
   "cell_type": "markdown",
   "metadata": {},
   "source": [
    "## Define classifier, pipeline and constants"
   ]
  },
  {
   "cell_type": "code",
   "execution_count": 28,
   "metadata": {},
   "outputs": [],
   "source": [
    "param_grid = {\n",
    "    \"classifier__C\": np.logspace(-5, 2, 20),\n",
    "#     \"PCA__n_components\": range(1,113,10),\n",
    "#     \"fss__k\": range(1,115,3),\n",
    "},\n",
    "\n",
    "clf = Pipeline([\n",
    "#     ('Norm', Normalizer()),\\n\",\n",
    "#     (\"Oversample\", RandomOverSampler()),\n",
    "#     ('PCA', PCA()),\n",
    "    ('Scaler', StandardScaler()),\n",
    "#     ('fss',SelectKBest()),\n",
    "    ('classifier', SVC(kernel='linear', class_weight='balanced', probability=True))\n",
    "])\n",
    "\n",
    "_cv=5\n",
    "_test_size=0.20\n",
    "_scoring_list={\n",
    "    'recall':make_scorer(recall_score),\n",
    "    'precision':make_scorer(precision_score),\n",
    "    'auc':make_scorer(roc_auc_score),\n",
    "    'specificity':make_scorer(specificity),\n",
    "    'npv':make_scorer(negative_predictive_value),\n",
    "    'accuracy':make_scorer(accuracy_score),\n",
    "    'weighted_sensitivity':make_scorer(weighted_sensitivity),\n",
    "    'weighted_ppv':make_scorer(weighted_ppv),\n",
    "    'weighted_specificity':make_scorer(weighted_specificity),\n",
    "    'weighted_npv':make_scorer(weighted_npv),\n",
    "    'weighted_accuracy':make_scorer(weighted_accuracy)\n",
    "}\n",
    "\n",
    "_scoring='f1_micro'\n",
    "_data = pd.read_excel('1002_Data_no_Subj_Site.xlsx')\n",
    "_data = _data[['GroupID', 'Age', 'Sex', 'UPDRS']]\n",
    "_random_seed = 55"
   ]
  },
  {
   "cell_type": "markdown",
   "metadata": {},
   "source": [
    "## 1. Control vs. PD/MSA/PSP"
   ]
  },
  {
   "cell_type": "code",
   "execution_count": 29,
   "metadata": {},
   "outputs": [
    {
     "name": "stdout",
     "output_type": "stream",
     "text": [
      "# Tuning hyper-parameters for f1_micro\n",
      "\n",
      "Fitting 5 folds for each of 20 candidates, totalling 100 fits\n"
     ]
    },
    {
     "name": "stderr",
     "output_type": "stream",
     "text": [
      "[Parallel(n_jobs=-1)]: Done  34 tasks      | elapsed:   15.9s\n",
      "[Parallel(n_jobs=-1)]: Done  85 out of 100 | elapsed:   16.2s remaining:    2.8s\n",
      "[Parallel(n_jobs=-1)]: Done 100 out of 100 | elapsed:   16.7s finished\n"
     ]
    },
    {
     "name": "stdout",
     "output_type": "stream",
     "text": [
      "Best parameters set found on development set:\n",
      "\n",
      "{'classifier__C': 0.26366508987303555}\n",
      "\n",
      "Detailed classification report (holdout):\n",
      "\n",
      "The model is trained on the full development set.\n",
      "The scores are computed on the full evaluation set.\n",
      "\n",
      "             precision    recall  f1-score   support\n",
      "\n",
      "        0.0       0.84      0.95      0.89        55\n",
      "        1.0       0.98      0.93      0.95       146\n",
      "\n",
      "avg / total       0.94      0.94      0.94       201\n",
      "\n",
      "\n",
      "Confusion matrix, without normalization\n",
      "[[ 52   3]\n",
      " [ 10 136]]\n",
      "\n",
      "recall\t0.931506849315\n",
      "precision\t0.978417266187\n",
      "auc\t0.938480697385\n",
      "specificity\t0.945454545455\n",
      "npv\t0.838709677419\n",
      "accuracy\t0.935323383085\n",
      "weighted_sensitivity\t0.931506849315\n",
      "weighted_ppv\t0.944683000758\n",
      "weighted_specificity\t0.945454545455\n",
      "weighted_npv\t0.932449029722\n",
      "weighted_accuracy\t0.938480697385\n"
     ]
    },
    {
     "data": {
      "image/png": "[encoded data removed]",
      "text/plain": [
       "<matplotlib.figure.Figure at 0x1b97c570c18>"
      ]
     },
     "metadata": {
      "needs_background": "light"
     },
     "output_type": "display_data"
    }
   ],
   "source": [
    "# Get the data\n",
    "data1 = group_classes(_data, {0:0, 1:1, 2:1, 3:1})\n",
    "\n",
    "y1 = data1['GroupID']\n",
    "X1 = data1.drop(['GroupID'], axis=1)\n",
    "\n",
    "X_train1, X_test1, Y_train1, Y_test1 = train_test_split(X1, y1, test_size=_test_size, random_state=_random_seed)\n",
    "\n",
    "best1 = grid_search_optimization(clf, param_grid, X_train1, Y_train1, X_test1, Y_test1, cv=_cv, scoring=_scoring)"
   ]
  },
  {
   "cell_type": "code",
   "execution_count": 30,
   "metadata": {},
   "outputs": [
    {
     "name": "stdout",
     "output_type": "stream",
     "text": [
      "fit_time\t0.00939993858337\t0.000800949513566\n",
      "score_time\t0.0109091758728\t0.0012912936329\n",
      "test_recall\t0.956776611694\t0.0144262324184\n",
      "train_recall\t0.952424896917\t0.0038350676308\n",
      "test_precision\t0.989502048912\t0.0101073219706\n",
      "train_precision\t0.989226358129\t0.00258777763245\n",
      "test_auc\t0.964903457362\t0.0070110818047\n",
      "train_auc\t0.962757549206\t0.00344653965836\n",
      "test_specificity\t0.97303030303\t0.0263858801629\n",
      "train_specificity\t0.973090201494\t0.00654236922719\n",
      "test_npv\t0.898533100897\t0.0298998256809\n",
      "train_npv\t0.887615802625\t0.00790729780196\n",
      "test_accuracy\t0.961318801516\t0.0045001622242\n",
      "train_accuracy\t0.958179517134\t0.00299255849198\n",
      "test_weighted_sensitivity\t0.956776611694\t0.0144262324184\n",
      "train_weighted_sensitivity\t0.952424896917\t0.0038350676308\n",
      "test_weighted_ppv\t0.973606543194\t0.0253467335204\n",
      "train_weighted_ppv\t0.972570350359\t0.00649615067371\n",
      "test_weighted_specificity\t0.97303030303\t0.0263858801629\n",
      "train_weighted_specificity\t0.973090201494\t0.00654236922719\n",
      "test_weighted_npv\t0.957959527842\t0.0129763416091\n",
      "train_weighted_npv\t0.953404190047\t0.00355927296922\n",
      "test_weighted_accuracy\t0.964903457362\t0.0070110818047\n",
      "train_weighted_accuracy\t0.962757549206\t0.00344653965836\n"
     ]
    }
   ],
   "source": [
    "scores = cross_validate(best1.best_estimator_, X_train1, Y_train1, cv=_cv, return_train_score=True, scoring=_scoring_list)\n",
    "for score in scores:\n",
    "    print(\"%s\\t%s\\t%s\" %(score, np.mean(scores[score]), np.std(scores[score])))"
   ]
  },
  {
   "cell_type": "code",
   "execution_count": 31,
   "metadata": {},
   "outputs": [
    {
     "name": "stdout",
     "output_type": "stream",
     "text": [
      "Age\t-0.288963779886\n",
      "Sex\t-0.0804164368233\n",
      "UPDRS\t3.11382063017\n"
     ]
    }
   ],
   "source": [
    "model = best1.best_estimator_.named_steps['classifier']\n",
    "feature_names = data1.columns.tolist()[1:]\n",
    "#plot_coefficients(model, feature_names)\n",
    "print_feature_importance(feature_names, model.coef_[0])"
   ]
  },
  {
   "cell_type": "code",
   "execution_count": 32,
   "metadata": {},
   "outputs": [
    {
     "name": "stdout",
     "output_type": "stream",
     "text": [
      "             precision    recall  f1-score   support\n",
      "\n",
      "        0.0       0.84      0.95      0.89        55\n",
      "        1.0       0.98      0.93      0.95       146\n",
      "\n",
      "avg / total       0.94      0.94      0.94       201\n",
      "\n"
     ]
    },
    {
     "data": {
      "image/png": "[encoded data removed]",
      "text/plain": [
       "<matplotlib.figure.Figure at 0x1b97beb3da0>"
      ]
     },
     "metadata": {
      "needs_background": "light"
     },
     "output_type": "display_data"
    },
    {
     "name": "stdout",
     "output_type": "stream",
     "text": [
      "0.0 0.0684931506849\n",
      "0.0 0.787671232877\n",
      "0.0 0.801369863014\n",
      "0.0 0.842465753425\n",
      "0.0181818181818 0.842465753425\n",
      "0.0181818181818 0.856164383562\n",
      "0.0363636363636 0.856164383562\n",
      "0.0363636363636 0.869863013699\n",
      "0.0363636363636 0.883561643836\n",
      "0.0363636363636 0.924657534247\n",
      "0.0545454545455 0.924657534247\n",
      "0.0545454545455 0.945205479452\n",
      "0.0909090909091 0.945205479452\n",
      "0.0909090909091 0.958904109589\n",
      "0.109090909091 0.958904109589\n",
      "0.109090909091 0.965753424658\n",
      "0.145454545455 0.965753424658\n",
      "0.145454545455 0.979452054795\n",
      "0.163636363636 0.979452054795\n",
      "0.2 0.979452054795\n",
      "0.2 0.986301369863\n",
      "0.236363636364 0.986301369863\n",
      "0.254545454545 0.993150684932\n",
      "0.690909090909 0.993150684932\n",
      "0.727272727273 0.993150684932\n",
      "0.818181818182 0.993150684932\n",
      "0.818181818182 1.0\n",
      "0.854545454545 1.0\n",
      "0.872727272727 1.0\n",
      "0.909090909091 1.0\n",
      "1.0 1.0\n"
     ]
    }
   ],
   "source": [
    "plot_roc(best1.best_estimator_, X_test1, Y_test1)"
   ]
  },
  {
   "cell_type": "markdown",
   "metadata": {},
   "source": [
    "## 2. PD vs MSA/PSP"
   ]
  },
  {
   "cell_type": "code",
   "execution_count": 33,
   "metadata": {},
   "outputs": [
    {
     "name": "stdout",
     "output_type": "stream",
     "text": [
      "# Tuning hyper-parameters for f1_micro\n",
      "\n",
      "Fitting 5 folds for each of 20 candidates, totalling 100 fits\n"
     ]
    },
    {
     "name": "stderr",
     "output_type": "stream",
     "text": [
      "[Parallel(n_jobs=-1)]: Done  34 tasks      | elapsed:    8.6s\n",
      "[Parallel(n_jobs=-1)]: Done  85 out of 100 | elapsed:    8.9s remaining:    1.5s\n",
      "[Parallel(n_jobs=-1)]: Done 100 out of 100 | elapsed:    9.6s finished\n"
     ]
    },
    {
     "name": "stdout",
     "output_type": "stream",
     "text": [
      "Best parameters set found on development set:\n",
      "\n",
      "{'classifier__C': 0.001623776739188721}\n",
      "\n",
      "Detailed classification report (holdout):\n",
      "\n",
      "The model is trained on the full development set.\n",
      "The scores are computed on the full evaluation set.\n",
      "\n",
      "             precision    recall  f1-score   support\n",
      "\n",
      "        0.0       0.84      0.66      0.74       105\n",
      "        1.0       0.43      0.68      0.52        40\n",
      "\n",
      "avg / total       0.73      0.66      0.68       145\n",
      "\n",
      "\n",
      "Confusion matrix, without normalization\n",
      "[[69 36]\n",
      " [13 27]]\n",
      "\n",
      "recall\t0.675\n",
      "precision\t0.428571428571\n",
      "auc\t0.666071428571\n",
      "specificity\t0.657142857143\n",
      "npv\t0.841463414634\n",
      "accuracy\t0.662068965517\n",
      "weighted_sensitivity\t0.675\n",
      "weighted_ppv\t0.663157894737\n",
      "weighted_specificity\t0.657142857143\n",
      "weighted_npv\t0.669090909091\n",
      "weighted_accuracy\t0.666071428571\n"
     ]
    },
    {
     "data": {
      "image/png": "[encoded data removed]",
      "text/plain": [
       "<matplotlib.figure.Figure at 0x1b97c100c50>"
      ]
     },
     "metadata": {
      "needs_background": "light"
     },
     "output_type": "display_data"
    }
   ],
   "source": [
    "# Get the data\n",
    "data2 = group_classes(_data, {1:0, 2:1, 3:1})\n",
    "\n",
    "y2 = data2['GroupID']\n",
    "X2 = data2.drop(['GroupID'], axis=1)\n",
    "\n",
    "X_train2, X_test2, Y_train2, Y_test2 = train_test_split(X2, y2, test_size=_test_size, random_state=_random_seed)\n",
    "\n",
    "best2 = grid_search_optimization(clf, param_grid, X_train2, Y_train2, X_test2, Y_test2, cv=_cv, scoring=_scoring)"
   ]
  },
  {
   "cell_type": "code",
   "execution_count": 34,
   "metadata": {},
   "outputs": [
    {
     "name": "stdout",
     "output_type": "stream",
     "text": [
      "fit_time\t0.0146043777466\t0.000801171221673\n",
      "score_time\t0.0128127574921\t0.00175027389367\n",
      "test_recall\t0.415294117647\t0.0985143508584\n",
      "train_recall\t0.432123866124\t0.10824499327\n",
      "test_precision\t0.550094630516\t0.110571631955\n",
      "train_precision\t0.560547145228\t0.0414186556099\n",
      "test_auc\t0.629974670989\t0.0420090671383\n",
      "train_auc\t0.641560508561\t0.029769641805\n",
      "test_specificity\t0.84465522433\t0.0685517497936\n",
      "train_specificity\t0.850997150997\t0.0579173732415\n",
      "test_npv\t0.773584963151\t0.0246730091266\n",
      "train_npv\t0.780743537624\t0.024581265573\n",
      "test_accuracy\t0.716529812017\t0.0395253424351\n",
      "train_accuracy\t0.725801032648\t0.0165199754915\n",
      "test_weighted_sensitivity\t0.415294117647\t0.0985143508584\n",
      "train_weighted_sensitivity\t0.432123866124\t0.10824499327\n",
      "test_weighted_ppv\t0.734713214889\t0.0825367805636\n",
      "train_weighted_ppv\t0.74863872159\t0.0310099648178\n",
      "test_weighted_specificity\t0.84465522433\t0.0685517497936\n",
      "train_weighted_specificity\t0.850997150997\t0.0579173732415\n",
      "test_weighted_npv\t0.593590891507\t0.0368630280747\n",
      "train_weighted_npv\t0.603651672468\t0.0349492252656\n",
      "test_weighted_accuracy\t0.629974670989\t0.0420090671383\n",
      "train_weighted_accuracy\t0.641560508561\t0.029769641805\n"
     ]
    }
   ],
   "source": [
    "scores = cross_validate(best2.best_estimator_, X_train2, Y_train2, cv=_cv, return_train_score=True, scoring=_scoring_list)\n",
    "for score in scores:\n",
    "    print(\"%s\\t%s\\t%s\" %(score, np.mean(scores[score]), np.std(scores[score])))"
   ]
  },
  {
   "cell_type": "code",
   "execution_count": 35,
   "metadata": {},
   "outputs": [
    {
     "name": "stdout",
     "output_type": "stream",
     "text": [
      "Age\t0.185307163756\n",
      "Sex\t0.0\n",
      "UPDRS\t0.35593414589\n"
     ]
    }
   ],
   "source": [
    "model = best2.best_estimator_.named_steps['classifier']\n",
    "feature_names = data2.columns.tolist()[1:]\n",
    "#plot_coefficients(model, feature_names)\n",
    "print_feature_importance(feature_names, model.coef_[0])"
   ]
  },
  {
   "cell_type": "code",
   "execution_count": 36,
   "metadata": {},
   "outputs": [
    {
     "name": "stdout",
     "output_type": "stream",
     "text": [
      "             precision    recall  f1-score   support\n",
      "\n",
      "        0.0       0.84      0.66      0.74       105\n",
      "        1.0       0.43      0.68      0.52        40\n",
      "\n",
      "avg / total       0.73      0.66      0.68       145\n",
      "\n"
     ]
    },
    {
     "data": {
      "image/png": "[encoded data removed]",
      "text/plain": [
       "<matplotlib.figure.Figure at 0x1b902a5ef60>"
      ]
     },
     "metadata": {
      "needs_background": "light"
     },
     "output_type": "display_data"
    },
    {
     "name": "stdout",
     "output_type": "stream",
     "text": [
      "0.0 0.0\n",
      "0.00952380952381 0.0\n",
      "0.00952380952381 0.075\n",
      "0.0190476190476 0.075\n",
      "0.0190476190476 0.15\n",
      "0.047619047619 0.15\n",
      "0.047619047619 0.2\n",
      "0.0666666666667 0.2\n",
      "0.0666666666667 0.25\n",
      "0.0761904761905 0.25\n",
      "0.0761904761905 0.275\n",
      "0.0857142857143 0.275\n",
      "0.0857142857143 0.325\n",
      "0.104761904762 0.325\n",
      "0.104761904762 0.425\n",
      "0.142857142857 0.425\n",
      "0.142857142857 0.45\n",
      "0.161904761905 0.45\n",
      "0.161904761905 0.525\n",
      "0.171428571429 0.525\n",
      "0.171428571429 0.55\n",
      "0.190476190476 0.55\n",
      "0.190476190476 0.6\n",
      "0.228571428571 0.6\n",
      "0.228571428571 0.65\n",
      "0.285714285714 0.65\n",
      "0.285714285714 0.675\n",
      "0.371428571429 0.675\n",
      "0.371428571429 0.7\n",
      "0.409523809524 0.7\n",
      "0.409523809524 0.775\n",
      "0.419047619048 0.775\n",
      "0.428571428571 0.8\n",
      "0.447619047619 0.8\n",
      "0.447619047619 0.875\n",
      "0.47619047619 0.875\n",
      "0.47619047619 0.9\n",
      "0.495238095238 0.9\n",
      "0.495238095238 0.95\n",
      "0.619047619048 0.95\n",
      "0.619047619048 0.975\n",
      "0.628571428571 0.975\n",
      "0.628571428571 1.0\n",
      "0.638095238095 1.0\n",
      "0.657142857143 1.0\n",
      "0.72380952381 1.0\n",
      "0.752380952381 1.0\n",
      "0.895238095238 1.0\n",
      "0.914285714286 1.0\n",
      "1.0 1.0\n"
     ]
    }
   ],
   "source": [
    "plot_roc(best2.best_estimator_, X_test2, Y_test2)"
   ]
  },
  {
   "cell_type": "markdown",
   "metadata": {},
   "source": [
    "## 3. MSA vs PD/PSP"
   ]
  },
  {
   "cell_type": "code",
   "execution_count": 37,
   "metadata": {},
   "outputs": [
    {
     "name": "stdout",
     "output_type": "stream",
     "text": [
      "# Tuning hyper-parameters for f1_micro\n",
      "\n",
      "Fitting 5 folds for each of 20 candidates, totalling 100 fits\n"
     ]
    },
    {
     "name": "stderr",
     "output_type": "stream",
     "text": [
      "[Parallel(n_jobs=-1)]: Done  34 tasks      | elapsed:    8.2s\n",
      "[Parallel(n_jobs=-1)]: Done  85 out of 100 | elapsed:    8.5s remaining:    1.4s\n",
      "[Parallel(n_jobs=-1)]: Done 100 out of 100 | elapsed:    9.2s finished\n"
     ]
    },
    {
     "name": "stdout",
     "output_type": "stream",
     "text": [
      "Best parameters set found on development set:\n",
      "\n",
      "{'classifier__C': 0.001623776739188721}\n",
      "\n",
      "Detailed classification report (holdout):\n",
      "\n",
      "The model is trained on the full development set.\n",
      "The scores are computed on the full evaluation set.\n",
      "\n",
      "             precision    recall  f1-score   support\n",
      "\n",
      "        0.0       0.96      0.73      0.83       131\n",
      "        1.0       0.22      0.71      0.34        14\n",
      "\n",
      "avg / total       0.89      0.73      0.78       145\n",
      "\n",
      "\n",
      "Confusion matrix, without normalization\n",
      "[[96 35]\n",
      " [ 4 10]]\n",
      "\n",
      "recall\t0.714285714286\n",
      "precision\t0.222222222222\n",
      "auc\t0.723555070883\n",
      "specificity\t0.732824427481\n",
      "npv\t0.96\n",
      "accuracy\t0.731034482759\n",
      "weighted_sensitivity\t0.714285714286\n",
      "weighted_ppv\t0.727777777778\n",
      "weighted_specificity\t0.732824427481\n",
      "weighted_npv\t0.71948608137\n",
      "weighted_accuracy\t0.723555070883\n"
     ]
    },
    {
     "data": {
      "image/png": "[encoded data removed]",
      "text/plain": [
       "<matplotlib.figure.Figure at 0x1b97d5d42b0>"
      ]
     },
     "metadata": {
      "needs_background": "light"
     },
     "output_type": "display_data"
    }
   ],
   "source": [
    "# Get the data\n",
    "data3 = group_classes(_data, {1:0, 3:0, 2:1})\n",
    "\n",
    "y3 = data3['GroupID']\n",
    "X3 = data3.drop(['GroupID'], axis=1)\n",
    "\n",
    "X_train3, X_test3, Y_train3, Y_test3 = train_test_split(X3, y3, test_size=_test_size, random_state=_random_seed)\n",
    "\n",
    "best3 = grid_search_optimization(clf, param_grid, X_train3, Y_train3, X_test3, Y_test3, cv=_cv, scoring=_scoring)"
   ]
  },
  {
   "cell_type": "code",
   "execution_count": 38,
   "metadata": {},
   "outputs": [
    {
     "name": "stdout",
     "output_type": "stream",
     "text": [
      "fit_time\t0.0157958507538\t0.00271128479626\n",
      "score_time\t0.0113132953644\t0.000402130818017\n",
      "test_recall\t0.485714285714\t0.193780856661\n",
      "train_recall\t0.535714285714\t0.0822204602373\n",
      "test_precision\t0.318916857361\t0.105131081535\n",
      "train_precision\t0.347858194192\t0.0394311883351\n",
      "test_auc\t0.672123304767\t0.100771504376\n",
      "train_auc\t0.696884097619\t0.0281296820237\n",
      "test_specificity\t0.858532323821\t0.0332165958017\n",
      "train_specificity\t0.858053909524\t0.0408045775009\n",
      "test_npv\t0.924371111999\t0.0273218632805\n",
      "train_npv\t0.931132347721\t0.00935724549593\n",
      "test_accuracy\t0.813418290855\t0.0401979473488\n",
      "train_accuracy\t0.819081887242\t0.0287476485394\n",
      "test_weighted_sensitivity\t0.485714285714\t0.193780856661\n",
      "train_weighted_sensitivity\t0.535714285714\t0.0822204602373\n",
      "test_weighted_ppv\t0.755162581733\t0.0824206748744\n",
      "train_weighted_ppv\t0.792767580782\t0.029092051482\n",
      "test_weighted_specificity\t0.858532323821\t0.0332165958017\n",
      "train_weighted_specificity\t0.858053909524\t0.0408045775009\n",
      "test_weighted_npv\t0.63862337881\t0.0995113838043\n",
      "train_weighted_npv\t0.65161867366\t0.0326272979217\n",
      "test_weighted_accuracy\t0.672123304767\t0.100771504376\n",
      "train_weighted_accuracy\t0.696884097619\t0.0281296820237\n"
     ]
    }
   ],
   "source": [
    "scores = cross_validate(best3.best_estimator_, X_train3, Y_train3, cv=_cv, return_train_score=True, scoring=_scoring_list)\n",
    "for score in scores:\n",
    "    print(\"%s\\t%s\\t%s\" %(score, np.mean(scores[score]), np.std(scores[score])))"
   ]
  },
  {
   "cell_type": "code",
   "execution_count": 39,
   "metadata": {},
   "outputs": [
    {
     "name": "stdout",
     "output_type": "stream",
     "text": [
      "Age\t0.0153615050874\n",
      "Sex\t0.0\n",
      "UPDRS\t0.450545817449\n"
     ]
    }
   ],
   "source": [
    "model = best3.best_estimator_.named_steps['classifier']\n",
    "feature_names = data3.columns.tolist()[1:]\n",
    "#plot_coefficients(model, feature_names)\n",
    "print_feature_importance(feature_names, model.coef_[0])"
   ]
  },
  {
   "cell_type": "code",
   "execution_count": 40,
   "metadata": {},
   "outputs": [
    {
     "name": "stdout",
     "output_type": "stream",
     "text": [
      "             precision    recall  f1-score   support\n",
      "\n",
      "        0.0       0.96      0.73      0.83       131\n",
      "        1.0       0.22      0.71      0.34        14\n",
      "\n",
      "avg / total       0.89      0.73      0.78       145\n",
      "\n"
     ]
    },
    {
     "data": {
      "image/png": "[encoded data removed]",
      "text/plain": [
       "<matplotlib.figure.Figure at 0x1b90268d390>"
      ]
     },
     "metadata": {
      "needs_background": "light"
     },
     "output_type": "display_data"
    },
    {
     "name": "stdout",
     "output_type": "stream",
     "text": [
      "0.0 0.0714285714286\n",
      "0.030534351145 0.0714285714286\n",
      "0.030534351145 0.142857142857\n",
      "0.0381679389313 0.142857142857\n",
      "0.0381679389313 0.214285714286\n",
      "0.12213740458 0.214285714286\n",
      "0.12213740458 0.357142857143\n",
      "0.129770992366 0.357142857143\n",
      "0.129770992366 0.428571428571\n",
      "0.160305343511 0.428571428571\n",
      "0.175572519084 0.428571428571\n",
      "0.175572519084 0.5\n",
      "0.206106870229 0.5\n",
      "0.206106870229 0.571428571429\n",
      "0.259541984733 0.571428571429\n",
      "0.259541984733 0.642857142857\n",
      "0.267175572519 0.642857142857\n",
      "0.267175572519 0.714285714286\n",
      "0.282442748092 0.714285714286\n",
      "0.282442748092 0.785714285714\n",
      "0.351145038168 0.785714285714\n",
      "0.351145038168 0.857142857143\n",
      "0.435114503817 0.857142857143\n",
      "0.435114503817 0.928571428571\n",
      "0.465648854962 0.928571428571\n",
      "0.465648854962 1.0\n",
      "0.480916030534 1.0\n",
      "0.496183206107 1.0\n",
      "0.587786259542 1.0\n",
      "0.603053435115 1.0\n",
      "0.786259541985 1.0\n",
      "0.801526717557 1.0\n",
      "0.809160305344 1.0\n",
      "0.832061068702 1.0\n",
      "1.0 1.0\n"
     ]
    }
   ],
   "source": [
    "plot_roc(best3.best_estimator_, X_test3, Y_test3)"
   ]
  },
  {
   "cell_type": "markdown",
   "metadata": {},
   "source": [
    "## 4. PSP vs PD/MSA"
   ]
  },
  {
   "cell_type": "code",
   "execution_count": 41,
   "metadata": {},
   "outputs": [
    {
     "name": "stdout",
     "output_type": "stream",
     "text": [
      "# Tuning hyper-parameters for f1_micro\n",
      "\n",
      "Fitting 5 folds for each of 20 candidates, totalling 100 fits\n"
     ]
    },
    {
     "name": "stderr",
     "output_type": "stream",
     "text": [
      "[Parallel(n_jobs=-1)]: Done  34 tasks      | elapsed:    8.2s\n",
      "[Parallel(n_jobs=-1)]: Done 100 out of 100 | elapsed:    9.2s finished\n"
     ]
    },
    {
     "name": "stdout",
     "output_type": "stream",
     "text": [
      "Best parameters set found on development set:\n",
      "\n",
      "{'classifier__C': 0.001623776739188721}\n",
      "\n",
      "Detailed classification report (holdout):\n",
      "\n",
      "The model is trained on the full development set.\n",
      "The scores are computed on the full evaluation set.\n",
      "\n",
      "             precision    recall  f1-score   support\n",
      "\n",
      "        0.0       0.91      0.70      0.79       119\n",
      "        1.0       0.33      0.69      0.45        26\n",
      "\n",
      "avg / total       0.81      0.70      0.73       145\n",
      "\n",
      "\n",
      "Confusion matrix, without normalization\n",
      "[[83 36]\n",
      " [ 8 18]]\n",
      "\n",
      "recall\t0.692307692308\n",
      "precision\t0.333333333333\n",
      "auc\t0.694893341952\n",
      "specificity\t0.697478991597\n",
      "npv\t0.912087912088\n",
      "accuracy\t0.696551724138\n",
      "weighted_sensitivity\t0.692307692308\n",
      "weighted_ppv\t0.695906432749\n",
      "weighted_specificity\t0.697478991597\n",
      "weighted_npv\t0.693890675241\n",
      "weighted_accuracy\t0.694893341952\n"
     ]
    },
    {
     "data": {
      "image/png": "[encoded data removed]",
      "text/plain": [
       "<matplotlib.figure.Figure at 0x1b97d60ecc0>"
      ]
     },
     "metadata": {
      "needs_background": "light"
     },
     "output_type": "display_data"
    }
   ],
   "source": [
    "# Get the data\n",
    "data4 = group_classes(_data, {1:0, 2:0, 3:1})\n",
    "\n",
    "y4 = data4['GroupID']\n",
    "X4 = data4.drop(['GroupID'], axis=1)\n",
    "\n",
    "X_train4, X_test4, Y_train4, Y_test4 = train_test_split(X4, y4, test_size=_test_size, random_state=_random_seed)\n",
    "\n",
    "best4 = grid_search_optimization(clf, param_grid, X_train4, Y_train4, X_test4, Y_test4, cv=_cv, scoring=_scoring)"
   ]
  },
  {
   "cell_type": "code",
   "execution_count": 42,
   "metadata": {},
   "outputs": [
    {
     "name": "stdout",
     "output_type": "stream",
     "text": [
      "fit_time\t0.0157105922699\t0.00116552613161\n",
      "score_time\t0.0119016647339\t0.00219474480345\n",
      "test_recall\t0.511428571429\t0.261798246739\n",
      "train_recall\t0.480928592418\t0.221167832567\n",
      "test_precision\t0.274287749288\t0.0764170333797\n",
      "train_precision\t0.260151462932\t0.0358350208701\n",
      "test_auc\t0.596931390977\t0.0554553437964\n",
      "train_auc\t0.577156518892\t0.0198751413238\n",
      "test_specificity\t0.682434210526\t0.213638550022\n",
      "train_specificity\t0.673384445365\t0.230535330258\n",
      "test_npv\t0.885746169632\t0.0601814724188\n",
      "train_npv\t0.866584619016\t0.0278916275826\n",
      "test_accuracy\t0.652737221133\t0.133683742868\n",
      "train_accuracy\t0.638997370582\t0.151107140213\n",
      "test_weighted_sensitivity\t0.511428571429\t0.261798246739\n",
      "train_weighted_sensitivity\t0.480928592418\t0.221167832567\n",
      "test_weighted_ppv\t0.625472056629\t0.0756753036518\n",
      "train_weighted_ppv\t0.615983564919\t0.0456001629906\n",
      "test_weighted_specificity\t0.682434210526\t0.213638550022\n",
      "train_weighted_specificity\t0.673384445365\t0.230535330258\n",
      "test_weighted_npv\t0.652603928672\t0.178478699773\n",
      "train_weighted_npv\t0.588713858961\t0.0641005102633\n",
      "test_weighted_accuracy\t0.596931390977\t0.0554553437964\n",
      "train_weighted_accuracy\t0.577156518892\t0.0198751413238\n"
     ]
    }
   ],
   "source": [
    "scores = cross_validate(best4.best_estimator_, X_train4, Y_train4, cv=_cv, return_train_score=True, scoring=_scoring_list)\n",
    "for score in scores:\n",
    "    print(\"%s\\t%s\\t%s\" %(score, np.mean(scores[score]), np.std(scores[score])))"
   ]
  },
  {
   "cell_type": "code",
   "execution_count": 43,
   "metadata": {},
   "outputs": [
    {
     "name": "stdout",
     "output_type": "stream",
     "text": [
      "Age\t0.259272736023\n",
      "Sex\t0.0\n",
      "UPDRS\t0.15470416631\n"
     ]
    }
   ],
   "source": [
    "model = best4.best_estimator_.named_steps['classifier']\n",
    "feature_names = data4.columns.tolist()[1:]\n",
    "#plot_coefficients(model, feature_names)\n",
    "print_feature_importance(feature_names, model.coef_[0])"
   ]
  },
  {
   "cell_type": "code",
   "execution_count": 44,
   "metadata": {},
   "outputs": [
    {
     "name": "stdout",
     "output_type": "stream",
     "text": [
      "             precision    recall  f1-score   support\n",
      "\n",
      "        0.0       0.91      0.70      0.79       119\n",
      "        1.0       0.33      0.69      0.45        26\n",
      "\n",
      "avg / total       0.81      0.70      0.73       145\n",
      "\n"
     ]
    },
    {
     "data": {
      "image/png": "[encoded data removed]",
      "text/plain": [
       "<matplotlib.figure.Figure at 0x1b9028372b0>"
      ]
     },
     "metadata": {
      "needs_background": "light"
     },
     "output_type": "display_data"
    },
    {
     "name": "stdout",
     "output_type": "stream",
     "text": [
      "0.0 0.0\n",
      "0.00840336134454 0.0\n",
      "0.0588235294118 0.0\n",
      "0.0756302521008 0.0\n",
      "0.252100840336 0.0\n",
      "0.268907563025 0.0\n",
      "0.268907563025 0.0384615384615\n",
      "0.294117647059 0.0384615384615\n",
      "0.319327731092 0.0384615384615\n",
      "0.487394957983 0.0384615384615\n",
      "0.487394957983 0.0769230769231\n",
      "0.512605042017 0.0769230769231\n",
      "0.512605042017 0.115384615385\n",
      "0.53781512605 0.115384615385\n",
      "0.53781512605 0.153846153846\n",
      "0.554621848739 0.153846153846\n",
      "0.554621848739 0.230769230769\n",
      "0.579831932773 0.230769230769\n",
      "0.588235294118 0.269230769231\n",
      "0.697478991597 0.269230769231\n",
      "0.697478991597 0.307692307692\n",
      "0.714285714286 0.307692307692\n",
      "0.714285714286 0.346153846154\n",
      "0.731092436975 0.346153846154\n",
      "0.731092436975 0.384615384615\n",
      "0.798319327731 0.384615384615\n",
      "0.798319327731 0.423076923077\n",
      "0.823529411765 0.423076923077\n",
      "0.823529411765 0.461538461538\n",
      "0.831932773109 0.461538461538\n",
      "0.831932773109 0.5\n",
      "0.848739495798 0.5\n",
      "0.848739495798 0.538461538462\n",
      "0.857142857143 0.538461538462\n",
      "0.857142857143 0.653846153846\n",
      "0.865546218487 0.653846153846\n",
      "0.865546218487 0.769230769231\n",
      "0.899159663866 0.769230769231\n",
      "0.899159663866 0.807692307692\n",
      "0.90756302521 0.807692307692\n",
      "0.90756302521 0.846153846154\n",
      "0.949579831933 0.846153846154\n",
      "0.949579831933 0.884615384615\n",
      "0.983193277311 0.884615384615\n",
      "0.983193277311 0.961538461538\n",
      "0.991596638655 0.961538461538\n",
      "0.991596638655 1.0\n",
      "1.0 1.0\n"
     ]
    }
   ],
   "source": [
    "plot_roc(best4.best_estimator_, X_test4, Y_test4)"
   ]
  },
  {
   "cell_type": "markdown",
   "metadata": {},
   "source": [
    "## 5. PSP (positive) vs MSA (negative)"
   ]
  },
  {
   "cell_type": "code",
   "execution_count": 45,
   "metadata": {},
   "outputs": [
    {
     "name": "stdout",
     "output_type": "stream",
     "text": [
      "# Tuning hyper-parameters for f1_micro\n",
      "\n",
      "Fitting 5 folds for each of 20 candidates, totalling 100 fits\n"
     ]
    },
    {
     "name": "stderr",
     "output_type": "stream",
     "text": [
      "[Parallel(n_jobs=-1)]: Done  34 tasks      | elapsed:    8.2s\n",
      "[Parallel(n_jobs=-1)]: Done  85 out of 100 | elapsed:    8.3s remaining:    1.4s\n",
      "[Parallel(n_jobs=-1)]: Done 100 out of 100 | elapsed:    8.7s finished\n"
     ]
    },
    {
     "name": "stdout",
     "output_type": "stream",
     "text": [
      "Best parameters set found on development set:\n",
      "\n",
      "{'classifier__C': 0.048329302385717518}\n",
      "\n",
      "Detailed classification report (holdout):\n",
      "\n",
      "The model is trained on the full development set.\n",
      "The scores are computed on the full evaluation set.\n",
      "\n",
      "             precision    recall  f1-score   support\n",
      "\n",
      "        0.0       0.31      0.38      0.34        13\n",
      "        1.0       0.70      0.63      0.67        30\n",
      "\n",
      "avg / total       0.59      0.56      0.57        43\n",
      "\n",
      "\n",
      "Confusion matrix, without normalization\n",
      "[[ 5  8]\n",
      " [11 19]]\n",
      "\n",
      "recall\t0.633333333333\n",
      "precision\t0.703703703704\n",
      "auc\t0.508974358974\n",
      "specificity\t0.384615384615\n",
      "npv\t0.3125\n",
      "accuracy\t0.558139534884\n",
      "weighted_sensitivity\t0.633333333333\n",
      "weighted_ppv\t0.507186858316\n",
      "weighted_specificity\t0.384615384615\n",
      "weighted_npv\t0.511945392491\n",
      "weighted_accuracy\t0.508974358974\n"
     ]
    },
    {
     "data": {
      "image/png": "[encoded data removed]",
      "text/plain": [
       "<matplotlib.figure.Figure at 0x1b900fda0b8>"
      ]
     },
     "metadata": {
      "needs_background": "light"
     },
     "output_type": "display_data"
    }
   ],
   "source": [
    "# Get the data\n",
    "data5 = group_classes(_data, {2:0, 3:1})\n",
    "\n",
    "y5 = data5['GroupID']\n",
    "X5 = data5.drop(['GroupID'], axis=1)\n",
    "\n",
    "X_train5, X_test5, Y_train5, Y_test5 = train_test_split(X5, y5, test_size=_test_size, random_state=_random_seed)\n",
    "\n",
    "best5 = grid_search_optimization(clf, param_grid, X_train5, Y_train5, X_test5, Y_test5, cv=_cv, scoring=_scoring)"
   ]
  },
  {
   "cell_type": "code",
   "execution_count": 46,
   "metadata": {},
   "outputs": [
    {
     "name": "stdout",
     "output_type": "stream",
     "text": [
      "fit_time\t0.0035952091217\t0.00185556409292\n",
      "score_time\t0.00769958496094\t0.00222428955849\n",
      "test_recall\t0.667894736842\t0.105215778811\n",
      "train_recall\t0.676803797468\t0.0228873396369\n",
      "test_precision\t0.781764507422\t0.0957109683723\n",
      "train_precision\t0.782399129074\t0.0346019059782\n",
      "test_auc\t0.699661654135\t0.0901241911717\n",
      "train_auc\t0.706290369912\t0.0301353128205\n",
      "test_specificity\t0.731428571429\t0.124343172269\n",
      "train_specificity\t0.735776942356\t0.0491779203385\n",
      "test_npv\t0.616666666667\t0.104436724759\n",
      "train_npv\t0.619871740064\t0.0277935226111\n",
      "test_accuracy\t0.693868092692\t0.0887190398129\n",
      "train_accuracy\t0.701463591114\t0.0277940644804\n",
      "test_weighted_sensitivity\t0.667894736842\t0.105215778811\n",
      "train_weighted_sensitivity\t0.676803797468\t0.0228873396369\n",
      "test_weighted_ppv\t0.723503060295\t0.116868020371\n",
      "train_weighted_ppv\t0.720987818774\t0.042248042129\n",
      "test_weighted_specificity\t0.731428571429\t0.124343172269\n",
      "train_weighted_specificity\t0.735776942356\t0.0491779203385\n",
      "test_weighted_npv\t0.689550608599\t0.0890769851567\n",
      "train_weighted_npv\t0.694379732014\t0.0237398421176\n",
      "test_weighted_accuracy\t0.699661654135\t0.0901241911717\n",
      "train_weighted_accuracy\t0.706290369912\t0.0301353128205\n"
     ]
    }
   ],
   "source": [
    "scores = cross_validate(best5.best_estimator_, X_train5, Y_train5, cv=_cv, return_train_score=True, scoring=_scoring_list)\n",
    "for score in scores:\n",
    "    print(\"%s\\t%s\\t%s\" %(score, np.mean(scores[score]), np.std(scores[score])))"
   ]
  },
  {
   "cell_type": "code",
   "execution_count": 47,
   "metadata": {},
   "outputs": [
    {
     "name": "stdout",
     "output_type": "stream",
     "text": [
      "Age\t0.259272736023\n",
      "Sex\t0.0\n",
      "UPDRS\t0.15470416631\n"
     ]
    }
   ],
   "source": [
    "model = best4.best_estimator_.named_steps['classifier']\n",
    "feature_names = data4.columns.tolist()[1:]\n",
    "#plot_coefficients(model, feature_names)\n",
    "print_feature_importance(feature_names, model.coef_[0])"
   ]
  },
  {
   "cell_type": "code",
   "execution_count": 48,
   "metadata": {},
   "outputs": [
    {
     "name": "stdout",
     "output_type": "stream",
     "text": [
      "             precision    recall  f1-score   support\n",
      "\n",
      "        0.0       0.31      0.38      0.34        13\n",
      "        1.0       0.70      0.63      0.67        30\n",
      "\n",
      "avg / total       0.59      0.56      0.57        43\n",
      "\n"
     ]
    },
    {
     "data": {
      "image/png": "[encoded data removed]",
      "text/plain": [
       "<matplotlib.figure.Figure at 0x1b97f134a58>"
      ]
     },
     "metadata": {
      "needs_background": "light"
     },
     "output_type": "display_data"
    },
    {
     "name": "stdout",
     "output_type": "stream",
     "text": [
      "0.0 0.0333333333333\n",
      "0.0769230769231 0.0333333333333\n",
      "0.0769230769231 0.233333333333\n",
      "0.153846153846 0.233333333333\n",
      "0.153846153846 0.266666666667\n",
      "0.230769230769 0.266666666667\n",
      "0.230769230769 0.3\n",
      "0.307692307692 0.3\n",
      "0.307692307692 0.5\n",
      "0.384615384615 0.5\n",
      "0.384615384615 0.566666666667\n",
      "0.538461538462 0.566666666667\n",
      "0.538461538462 0.6\n",
      "0.615384615385 0.6\n",
      "0.615384615385 0.666666666667\n",
      "0.692307692308 0.666666666667\n",
      "0.692307692308 0.9\n",
      "0.769230769231 0.9\n",
      "0.769230769231 0.966666666667\n",
      "0.923076923077 0.966666666667\n",
      "0.923076923077 1.0\n",
      "1.0 1.0\n"
     ]
    }
   ],
   "source": [
    "plot_roc(best5.best_estimator_, X_test5, Y_test5)"
   ]
  },
  {
   "cell_type": "markdown",
   "metadata": {},
   "source": [
    "## 6. MSA (positive) vs PSP (negative)"
   ]
  },
  {
   "cell_type": "code",
   "execution_count": 49,
   "metadata": {},
   "outputs": [
    {
     "name": "stdout",
     "output_type": "stream",
     "text": [
      "# Tuning hyper-parameters for f1_micro\n",
      "\n",
      "Fitting 5 folds for each of 20 candidates, totalling 100 fits\n"
     ]
    },
    {
     "name": "stderr",
     "output_type": "stream",
     "text": [
      "[Parallel(n_jobs=-1)]: Done  34 tasks      | elapsed:    8.1s\n",
      "[Parallel(n_jobs=-1)]: Done 100 out of 100 | elapsed:    8.4s finished\n"
     ]
    },
    {
     "name": "stdout",
     "output_type": "stream",
     "text": [
      "Best parameters set found on development set:\n",
      "\n",
      "{'classifier__C': 0.048329302385717518}\n",
      "\n",
      "Detailed classification report (holdout):\n",
      "\n",
      "The model is trained on the full development set.\n",
      "The scores are computed on the full evaluation set.\n",
      "\n",
      "             precision    recall  f1-score   support\n",
      "\n",
      "        0.0       0.70      0.63      0.67        30\n",
      "        1.0       0.31      0.38      0.34        13\n",
      "\n",
      "avg / total       0.59      0.56      0.57        43\n",
      "\n",
      "\n",
      "Confusion matrix, without normalization\n",
      "[[19 11]\n",
      " [ 8  5]]\n",
      "\n",
      "recall\t0.384615384615\n",
      "precision\t0.3125\n",
      "auc\t0.508974358974\n",
      "specificity\t0.633333333333\n",
      "npv\t0.703703703704\n",
      "accuracy\t0.558139534884\n",
      "weighted_sensitivity\t0.384615384615\n",
      "weighted_ppv\t0.511945392491\n",
      "weighted_specificity\t0.633333333333\n",
      "weighted_npv\t0.507186858316\n",
      "weighted_accuracy\t0.508974358974\n"
     ]
    },
    {
     "data": {
      "image/png": "[encoded data removed]",
      "text/plain": [
       "<matplotlib.figure.Figure at 0x1b97beb3a90>"
      ]
     },
     "metadata": {
      "needs_background": "light"
     },
     "output_type": "display_data"
    }
   ],
   "source": [
    "# Get the data\n",
    "data6 = group_classes(_data, {2:1, 3:0})\n",
    "\n",
    "y6 = data6['GroupID']\n",
    "X6 = data6.drop(['GroupID'], axis=1)\n",
    "\n",
    "X_train6, X_test6, Y_train6, Y_test6 = train_test_split(X6, y6, test_size=_test_size, random_state=_random_seed)\n",
    "\n",
    "best6 = grid_search_optimization(clf, param_grid, X_train6, Y_train6, X_test6, Y_test6, cv=_cv, scoring=_scoring)"
   ]
  },
  {
   "cell_type": "code",
   "execution_count": 50,
   "metadata": {},
   "outputs": [
    {
     "name": "stdout",
     "output_type": "stream",
     "text": [
      "fit_time\t0.00400161743164\t0.000632356083131\n",
      "score_time\t0.00880007743835\t0.00171975834175\n",
      "test_recall\t0.2\t0.4\n",
      "train_recall\t0.2\t0.4\n",
      "test_precision\t0.0848484848485\t0.169696969697\n",
      "train_precision\t0.0832116788321\t0.166423357664\n",
      "test_auc\t0.5\t0.0\n",
      "train_auc\t0.5\t0.0\n",
      "test_specificity\t0.8\t0.4\n",
      "train_specificity\t0.8\t0.4\n",
      "test_npv\tnan\tnan\n",
      "train_npv\tnan\tnan\n",
      "test_accuracy\t0.552075375605\t0.064247068047\n",
      "train_accuracy\t0.548778127634\t0.0663807883962\n",
      "test_weighted_sensitivity\t0.2\t0.4\n",
      "train_weighted_sensitivity\t0.2\t0.4\n",
      "test_weighted_ppv\tnan\tnan\n",
      "train_weighted_ppv\tnan\tnan\n",
      "test_weighted_specificity\t0.8\t0.4\n",
      "train_weighted_specificity\t0.8\t0.4\n",
      "test_weighted_npv\tnan\tnan\n",
      "train_weighted_npv\tnan\tnan\n",
      "test_weighted_accuracy\t0.5\t0.0\n",
      "train_weighted_accuracy\t0.5\t0.0\n"
     ]
    },
    {
     "name": "stderr",
     "output_type": "stream",
     "text": [
      "C:\\Users\\jtbricker\\AppData\\Local\\Continuum\\anaconda3\\lib\\site-packages\\sklearn\\metrics\\classification.py:1135: UndefinedMetricWarning: Precision is ill-defined and being set to 0.0 due to no predicted samples.\n",
      "  'precision', 'predicted', average, warn_for)\n",
      "C:\\Users\\jtbricker\\AppData\\Local\\Continuum\\anaconda3\\lib\\site-packages\\ipykernel_launcher.py:151: RuntimeWarning: invalid value encountered in double_scalars\n",
      "C:\\Users\\jtbricker\\AppData\\Local\\Continuum\\anaconda3\\lib\\site-packages\\sklearn\\metrics\\classification.py:1135: UndefinedMetricWarning: Precision is ill-defined and being set to 0.0 due to no predicted samples.\n",
      "  'precision', 'predicted', average, warn_for)\n",
      "C:\\Users\\jtbricker\\AppData\\Local\\Continuum\\anaconda3\\lib\\site-packages\\ipykernel_launcher.py:151: RuntimeWarning: invalid value encountered in double_scalars\n",
      "C:\\Users\\jtbricker\\AppData\\Local\\Continuum\\anaconda3\\lib\\site-packages\\sklearn\\metrics\\classification.py:1135: UndefinedMetricWarning: Precision is ill-defined and being set to 0.0 due to no predicted samples.\n",
      "  'precision', 'predicted', average, warn_for)\n",
      "C:\\Users\\jtbricker\\AppData\\Local\\Continuum\\anaconda3\\lib\\site-packages\\ipykernel_launcher.py:151: RuntimeWarning: invalid value encountered in double_scalars\n",
      "C:\\Users\\jtbricker\\AppData\\Local\\Continuum\\anaconda3\\lib\\site-packages\\sklearn\\metrics\\classification.py:1135: UndefinedMetricWarning: Precision is ill-defined and being set to 0.0 due to no predicted samples.\n",
      "  'precision', 'predicted', average, warn_for)\n",
      "C:\\Users\\jtbricker\\AppData\\Local\\Continuum\\anaconda3\\lib\\site-packages\\ipykernel_launcher.py:151: RuntimeWarning: invalid value encountered in double_scalars\n",
      "C:\\Users\\jtbricker\\AppData\\Local\\Continuum\\anaconda3\\lib\\site-packages\\ipykernel_launcher.py:117: RuntimeWarning: invalid value encountered in longlong_scalars\n",
      "C:\\Users\\jtbricker\\AppData\\Local\\Continuum\\anaconda3\\lib\\site-packages\\ipykernel_launcher.py:156: RuntimeWarning: invalid value encountered in double_scalars\n"
     ]
    }
   ],
   "source": [
    "scores = cross_validate(best4.best_estimator_, X_train6, Y_train6, cv=_cv, return_train_score=True, scoring=_scoring_list)\n",
    "for score in scores:\n",
    "    print(\"%s\\t%s\\t%s\" %(score, np.mean(scores[score]), np.std(scores[score])))"
   ]
  },
  {
   "cell_type": "code",
   "execution_count": 51,
   "metadata": {},
   "outputs": [
    {
     "name": "stdout",
     "output_type": "stream",
     "text": [
      "Age\t-0.591393122754\n",
      "Sex\t-0.18840053372\n",
      "UPDRS\t0.661648238171\n"
     ]
    }
   ],
   "source": [
    "model = best6.best_estimator_.named_steps['classifier']\n",
    "feature_names = data6.columns.tolist()[1:]\n",
    "#plot_coefficients(model, feature_names)\n",
    "print_feature_importance(feature_names, model.coef_[0])"
   ]
  },
  {
   "cell_type": "code",
   "execution_count": 52,
   "metadata": {},
   "outputs": [
    {
     "name": "stdout",
     "output_type": "stream",
     "text": [
      "             precision    recall  f1-score   support\n",
      "\n",
      "        0.0       0.70      0.63      0.67        30\n",
      "        1.0       0.31      0.38      0.34        13\n",
      "\n",
      "avg / total       0.59      0.56      0.57        43\n",
      "\n"
     ]
    },
    {
     "data": {
      "image/png": "[encoded data removed]",
      "text/plain": [
       "<matplotlib.figure.Figure at 0x1b97f1c3d68>"
      ]
     },
     "metadata": {
      "needs_background": "light"
     },
     "output_type": "display_data"
    },
    {
     "name": "stdout",
     "output_type": "stream",
     "text": [
      "0.0 0.0769230769231\n",
      "0.0333333333333 0.0769230769231\n",
      "0.0333333333333 0.230769230769\n",
      "0.1 0.230769230769\n",
      "0.1 0.307692307692\n",
      "0.333333333333 0.307692307692\n",
      "0.333333333333 0.384615384615\n",
      "0.4 0.384615384615\n",
      "0.4 0.461538461538\n",
      "0.433333333333 0.461538461538\n",
      "0.433333333333 0.615384615385\n",
      "0.5 0.615384615385\n",
      "0.5 0.692307692308\n",
      "0.7 0.692307692308\n",
      "0.7 0.769230769231\n",
      "0.733333333333 0.769230769231\n",
      "0.733333333333 0.846153846154\n",
      "0.766666666667 0.846153846154\n",
      "0.766666666667 0.923076923077\n",
      "0.966666666667 0.923076923077\n",
      "0.966666666667 1.0\n",
      "1.0 1.0\n"
     ]
    }
   ],
   "source": [
    "plot_roc(best6.best_estimator_, X_test6, Y_test6)"
   ]
  }
 ],
 "metadata": {
  "kernelspec": {
   "display_name": "Python 3",
   "language": "python",
   "name": "python3"
  },
  "language_info": {
   "codemirror_mode": {
    "name": "ipython",
    "version": 3
   },
   "file_extension": ".py",
   "mimetype": "text/x-python",
   "name": "python",
   "nbconvert_exporter": "python",
   "pygments_lexer": "ipython3",
   "version": "3.6.3"
  }
 },
 "nbformat": 4,
 "nbformat_minor": 2
}
