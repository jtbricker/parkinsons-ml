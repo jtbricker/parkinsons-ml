{
 "cells": [
  {
   "cell_type": "markdown",
   "metadata": {},
   "source": [
    "# Model Optimization- SVC Linear"
   ]
  },
  {
   "cell_type": "markdown",
   "metadata": {},
   "source": [
    "Lets first see what parameters could possibly be tuned"
   ]
  },
  {
   "cell_type": "code",
   "execution_count": 1,
   "metadata": {},
   "outputs": [
    {
     "name": "stdout",
     "output_type": "stream",
     "text": [
      "There are 14 parameters for the Logistic Model.  The Default values are:\n",
      "                        C:   1.0\n",
      "               cache_size:   200\n",
      "             class_weight:   None\n",
      "                    coef0:   0.0\n",
      "  decision_function_shape:   ovr\n",
      "                   degree:   3\n",
      "                    gamma:   auto\n",
      "                   kernel:   rbf\n",
      "                 max_iter:   -1\n",
      "              probability:   False\n",
      "             random_state:   None\n",
      "                shrinking:   True\n",
      "                      tol:   0.001\n",
      "                  verbose:   False\n"
     ]
    }
   ],
   "source": [
    "from sklearn.svm import SVC\n",
    "\n",
    "clf = SVC()\n",
    "params = clf.get_params()\n",
    "print(\"There are %d parameters for the Logistic Model.  The Default values are:\" %len(params.keys()))\n",
    "for key in params.keys():\n",
    "    print(\"%25s:   %s\" %(key,params[key]))"
   ]
  },
  {
   "cell_type": "code",
   "execution_count": 4,
   "metadata": {},
   "outputs": [],
   "source": [
    "# get the data \n",
    "import ml_utils as mu\n",
    "\n",
    "with mu.HiddenPrints():\n",
    "    X, y , Xh, yh, Xv, yv = mu.get_training_holdout_validation_data()"
   ]
  },
  {
   "cell_type": "code",
   "execution_count": 10,
   "metadata": {},
   "outputs": [
    {
     "name": "stdout",
     "output_type": "stream",
     "text": [
      "[2018-07-09 22:43:45.413377] Starting tuning classifier__C\n",
      "# Tuning hyper-parameters for accuracy\n",
      "\n",
      "Fitting 5 folds for each of 60 candidates, totalling 300 fits\n"
     ]
    },
    {
     "name": "stderr",
     "output_type": "stream",
     "text": [
      "[Parallel(n_jobs=-1)]: Done  34 tasks      | elapsed:    6.7s\n",
      "[Parallel(n_jobs=-1)]: Done 300 out of 300 | elapsed:    9.5s finished\n"
     ]
    },
    {
     "name": "stdout",
     "output_type": "stream",
     "text": [
      "Best parameters set found on development set:\n",
      "\n",
      "{'classifier__C': 1.4630333879366948}\n"
     ]
    },
    {
     "data": {
      "image/png": "[encoded data removed]",
      "text/plain": [
       "<matplotlib.figure.Figure at 0x1fd76b89518>"
      ]
     },
     "metadata": {},
     "output_type": "display_data"
    },
    {
     "name": "stdout",
     "output_type": "stream",
     "text": [
      "[2018-07-09 22:43:55.315831] Done with tuning classifier__C (Took 0.150 minutes)\n"
     ]
    }
   ],
   "source": [
    "from imblearn.pipeline import Pipeline\n",
    "from sklearn.preprocessing import StandardScaler\n",
    "from imblearn.over_sampling import RandomOverSampler\n",
    "from sklearn.svm import SVC\n",
    "import numpy as np\n",
    "\n",
    "# parameters and ranges to plot\n",
    "param_grid = {\n",
    "    \"classifier__C\": np.logspace(0, 0.75, 60)\n",
    "}\n",
    "\n",
    "clf = Pipeline([\n",
    "    ('standardization', StandardScaler()),\n",
    "    ('oversampler', RandomOverSampler()),\n",
    "    ('classifier', SVC(random_state = 84))\n",
    "])\n",
    "\n",
    "for parameter, param_range in dict.items(param_grid):\n",
    "    with mu.Timer(\"tuning %s\" %parameter) as timer:\n",
    "        mu.unidirectional_grid_search_optimization(clf, parameter, param_range, X, y)"
   ]
  },
  {
   "cell_type": "code",
   "execution_count": null,
   "metadata": {},
   "outputs": [],
   "source": []
  }
 ],
 "metadata": {
  "kernelspec": {
   "display_name": "Python 3",
   "language": "python",
   "name": "python3"
  },
  "language_info": {
   "codemirror_mode": {
    "name": "ipython",
    "version": 3
   },
   "file_extension": ".py",
   "mimetype": "text/x-python",
   "name": "python",
   "nbconvert_exporter": "python",
   "pygments_lexer": "ipython3",
   "version": "3.6.3"
  }
 },
 "nbformat": 4,
 "nbformat_minor": 2
}
